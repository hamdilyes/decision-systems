{
 "cells": [
  {
   "cell_type": "markdown",
   "metadata": {},
   "source": [
    "# Import Libraries"
   ]
  },
  {
   "cell_type": "code",
   "execution_count": 438,
   "metadata": {},
   "outputs": [],
   "source": [
    "import gurobipy as grb\n",
    "import pandas as pd\n",
    "from gurobipy import GRB\n",
    "import numpy as np"
   ]
  },
  {
   "cell_type": "markdown",
   "metadata": {},
   "source": [
    "# Model"
   ]
  },
  {
   "cell_type": "code",
   "execution_count": 439,
   "metadata": {},
   "outputs": [],
   "source": [
    " # Create a model\n",
    "model = grb.Model(\"Model\")"
   ]
  },
  {
   "cell_type": "markdown",
   "metadata": {},
   "source": [
    "# Get data from json"
   ]
  },
  {
   "cell_type": "code",
   "execution_count": 440,
   "metadata": {},
   "outputs": [],
   "source": [
    "# get the  data from the json file small.json\n",
    "import json\n",
    "with open('small.json') as f:\n",
    "    data = json.load(f)\n",
    "# data"
   ]
  },
  {
   "cell_type": "markdown",
   "metadata": {},
   "source": [
    "## Constants from data"
   ]
  },
  {
   "cell_type": "code",
   "execution_count": 441,
   "metadata": {},
   "outputs": [],
   "source": [
    "horizon= data['horizon']\n",
    "qualifications=data['qualifications']\n",
    "staff_names=[i['name'] for i in data['staff']]\n",
    "staff_qualifications=[i['qualifications'] for i in data['staff']]\n",
    "job_list=[i['name'] for i in data['jobs']]\n",
    "jour_list=[i for i in range(1,horizon+1)]\n",
    "job_penality=[i['daily_penalty'] for i in data['jobs']] \n",
    "job_qualifications= [i['working_days_per_qualification'] for i in data['jobs']]\n",
    "job_gain=[i['gain'] for i in data['jobs']]\n",
    "due_dates=[i['due_date'] for i in data['jobs']]\n",
    "vacation_staff=[i['vacations'] for i in data['staff']]"
   ]
  },
  {
   "cell_type": "markdown",
   "metadata": {},
   "source": [
    "# Model's parameters"
   ]
  },
  {
   "attachments": {},
   "cell_type": "markdown",
   "metadata": {},
   "source": [
    "#### Objective 1\n",
    "H : days\n",
    "\n",
    "Q : qualifications\n",
    "\n",
    "S : staff\n",
    "\n",
    "J : jobs\n",
    "\n",
    "qi : qualifications of i\n",
    "\n",
    "qj : qualifications of j\n",
    "\n",
    "vi : vacation days of i\n",
    "\n",
    "njk : required work load for j with k\n",
    "\n",
    "cj : daily penalty of j\n",
    "\n",
    "gj : gain of j\n",
    "\n",
    "dj : due date of j\n",
    "\n",
    "yj : is j completely done\n",
    "\n",
    "lj : delay in days for j\n",
    "\n",
    "ej : end date of j\n",
    "\n",
    "pi_j_k_t : work is done by i with k for j on t"
   ]
  },
  {
   "attachments": {},
   "cell_type": "markdown",
   "metadata": {},
   "source": [
    "#### Objective 2\n",
    "aij : j is assigned to i\n",
    "\n",
    "ni : number of jobs i works on\n",
    "\n",
    "max_i : max of ni"
   ]
  },
  {
   "attachments": {},
   "cell_type": "markdown",
   "metadata": {},
   "source": [
    "### Objective 3\n",
    "sj : start date for j\n",
    "\n",
    "nj : length in days for j\n",
    "\n",
    "max_j : maximum of nj"
   ]
  },
  {
   "cell_type": "code",
   "execution_count": 442,
   "metadata": {},
   "outputs": [],
   "source": [
    "H = [i for i in range(1,horizon+1)]\n",
    "Q = qualifications\n",
    "S = staff_names\n",
    "J = job_list\n",
    "# Parameters for each staff\n",
    "\n",
    "qi = {}\n",
    "for i in range(len(staff_names)) :\n",
    "    k = staff_names[i]\n",
    "    qi[k] = []\n",
    "    for c in qualifications:\n",
    "        if c in data['staff'][i]['qualifications']:\n",
    "            qi[k].append(c)\n",
    "vi={}\n",
    "for ind,i in enumerate(staff_names):\n",
    "    vi[i] = []\n",
    "    for j in jour_list:\n",
    "        if j in vacation_staff[ind]:\n",
    "            vi[i].append(j)\n",
    "#vi=staff_in_vacation.to_dict(orient='index')\n",
    "\n",
    "# Parameters for each job\n",
    "qj = dict()\n",
    "for ind, j in enumerate(job_list):\n",
    "    qj[j] = list(job_qualifications[ind].keys())\n",
    "njk = dict(zip(job_list,job_qualifications))\n",
    "cj=job_penality_dict=dict(zip(job_list,job_penality))\n",
    "gj=job_gain_dict=dict(zip(job_list,job_gain))\n",
    "dj = dict(zip(job_list,due_dates))\n"
   ]
  },
  {
   "cell_type": "markdown",
   "metadata": {},
   "source": [
    "# Decision variables"
   ]
  },
  {
   "cell_type": "code",
   "execution_count": 443,
   "metadata": {},
   "outputs": [],
   "source": [
    "# Objective 1\n",
    "pi_j_k_t = model.addVars(staff_names,job_list,qualifications,jour_list, vtype=GRB.BINARY, name=\"pi_k_j_c\")\n",
    "\n",
    "yj = model.addVars(job_list, vtype=GRB.BINARY, name=\"yj\")\n",
    "lj = model.addVars(job_list, vtype=GRB.INTEGER, name=\"lj\")\n",
    "ej = model.addVars(job_list, vtype=GRB.INTEGER, name=\"ej\")\n",
    "\n",
    "# Objective 2\n",
    "max_i = model.addVar(vtype=GRB.INTEGER, name=\"max_i\")\n",
    "ni = model.addVars(S, vtype=GRB.INTEGER, name=\"ni\")\n",
    "aij = model.addVars(S, J, vtype=GRB.BINARY, name=\"aij\")\n",
    "\n",
    "# Objective 3\n",
    "sj = model.addVars(J, vtype=GRB.INTEGER, name=\"sj\")\n",
    "nj = model.addVars(J, vtype=GRB.INTEGER, name=\"nj\")\n",
    "max_j = model.addVar(vtype=GRB.INTEGER, name=\"max_j\")"
   ]
  },
  {
   "cell_type": "markdown",
   "metadata": {},
   "source": [
    "# Constraints"
   ]
  },
  {
   "attachments": {},
   "cell_type": "markdown",
   "metadata": {},
   "source": [
    "### Objective 1"
   ]
  },
  {
   "cell_type": "code",
   "execution_count": 444,
   "metadata": {},
   "outputs": [],
   "source": [
    "constr1 = {f'constr1{i}_{t}':model.addConstr( grb.quicksum(pi_j_k_t[i,j,k,t] for j in J for k in Q) <= 1 , name=f\"constr1{i}_{t}\")\n",
    "  for i in S\n",
    "  for t in H}\n",
    "\n",
    "constr2 = {f'constr2{i}_{t}':model.addConstr( grb.quicksum(pi_j_k_t[i,j,k,t] for j in J for k in Q) == 0 , name=f\"constr2{i}_{t}\")\n",
    "  for i in S\n",
    "  for t in vi[i]}\n",
    "\n",
    "constr3 = {f'constr3{i}_{j}_{k}_{t}':model.addConstr( pi_j_k_t[i,j,k,t] == 0 , name=f\"constr3{i}_{j}_{k}_{t}\")\n",
    "  for i in S\n",
    "  for j in J\n",
    "  for k in Q if k not in qj[j] or k not in qi[i]\n",
    "  for t in H}\n",
    "\n",
    "constr4 = {f'constr4{j}_{k}': model.addConstr( yj[j]*njk[j][k] <= grb.quicksum(pi_j_k_t[i,j,k,t] for i in S for t in H) , name=f\"constr4{j}_{k}\")\n",
    "  for j in J\n",
    "  for k in qj[j]}\n",
    "\n",
    "constr5 = {f'constr5{j}_{k}': model.addConstr( grb.quicksum(pi_j_k_t[i,j,k,t] for i in S for t in H) <= njk[j][k] , name=f\"constr5{j}_{k}\")\n",
    "  for j in J\n",
    "  for k in qj[j]}\n",
    "\n",
    "constr6 = {f'constr6{i}_{j}_{k}_{t}':model.addConstr( pi_j_k_t[i,j,k,t]*t <= ej[j] , name=f\"constr6{i}_{j}_{k}_{t}\")\n",
    "  for i in S\n",
    "  for j in J\n",
    "  for k in Q\n",
    "  for t in H}\n",
    "\n",
    "constr7 = {f'constr7{j}' : model.addConstr( ej[j] - dj[j] <= lj[j] , name =f\"constr7{j}\")\n",
    "  for j in J}\n",
    "\n",
    "constr8 = {f'constr8{j}' : model.addConstr( 1 <= ej[j] , name =f\"constr8{j}\")\n",
    "  for j in J}\n",
    "\n",
    "constr9 = {f'constr9{j}' : model.addConstr( ej[j] <= H[-1] , name =f\"constr9{j}\")\n",
    "  for j in J}"
   ]
  },
  {
   "attachments": {},
   "cell_type": "markdown",
   "metadata": {},
   "source": [
    "### Objective 2"
   ]
  },
  {
   "cell_type": "code",
   "execution_count": 445,
   "metadata": {},
   "outputs": [],
   "source": [
    "# assigned jobs to a staff member i is aij[i, j]\n",
    "constr10 = {f'constr10{i}_{j}_{k}_{t}' : model.addConstr( pi_j_k_t[i,j,k,t] <= aij[i, j] , name = f\"constr10{i}_{j}_{k}_{t}\")\n",
    "    for i in S\n",
    "    for j in J\n",
    "    for k in Q\n",
    "    for t in H}\n",
    "\n",
    "# number of jobs assigned to a staff member i is ni[i]\n",
    "constr11 = {f'constr11{i}' : model.addConstr( grb.quicksum(aij[i, j] for j in J) <= ni[i] , name = f\"constr11{i}\")\n",
    "    for i in S}\n",
    "\n",
    "# max_i max number of jobs assigned to a staff member\n",
    "# for all staff i, number of jobs assigned to i is less than or equal to max_i\n",
    "constr12 = {f'constr12{i}' : model.addConstr( ni[i] <= max_i , name = f\"constr12{i}\")\n",
    "    for i in S}"
   ]
  },
  {
   "attachments": {},
   "cell_type": "markdown",
   "metadata": {},
   "source": [
    "### Objective 3"
   ]
  },
  {
   "cell_type": "code",
   "execution_count": 446,
   "metadata": {},
   "outputs": [],
   "source": [
    "# start date of a job j is sj[j]\n",
    "constr13 = {f'constr13{i}_{j}_{k}_{t}' : model.addConstr( sj[j] <= t*pi_j_k_t[i,j,k,t] + horizon*(1-pi_j_k_t[i,j,k,t]) , name = f\"constr13{i}_{j}_{k}_{t}\")\n",
    "    for j in J\n",
    "    for i in S\n",
    "    for k in Q\n",
    "    for t in H}\n",
    "\n",
    "# start date is at least 1\n",
    "constr14 = {f'constr14{j}' : model.addConstr( 1 <= sj[j] , name = f\"constr14{j}\")\n",
    "    for j in J}\n",
    "\n",
    "# length of a job j is nj[j]\n",
    "constr15 = {f'constr15{j}' : model.addConstr( sj[j] + 1 - ej[j] <= nj[j] , name = f\"constr15{j}\")\n",
    "    for j in J}\n",
    "\n",
    "# max_j max of nj[j]\n",
    "constr16 = {f'constr16{j}' : model.addConstr( nj[j] <= max_j , name = f\"constr16{j}\")\n",
    "    for j in J}"
   ]
  },
  {
   "attachments": {},
   "cell_type": "markdown",
   "metadata": {},
   "source": [
    "# Objectives"
   ]
  },
  {
   "cell_type": "code",
   "execution_count": 447,
   "metadata": {},
   "outputs": [],
   "source": [
    "# Objective 1\n",
    "# model.setObjective( grb.quicksum((gj[j]*yj[j] - lj[j]*cj[j]) for j in J) , GRB.MAXIMIZE)\n",
    "\n",
    "# Objective 1 & 2\n",
    "# model.setObjective( grb.quicksum((gj[j]*yj[j] - lj[j]*cj[j]) for j in J) - max_i , GRB.MAXIMIZE)\n",
    "\n",
    "# Objective 1 & 2 & 3\n",
    "model.setObjective( grb.quicksum((gj[j]*yj[j] - lj[j]*cj[j]) for j in J) - max_i - max_j , GRB.MAXIMIZE)\n",
    "\n",
    "# setObjectiveN doesn't work\n",
    "# model.setObjectiveN( grb.quicksum((gj[j]*yj[j] - lj[j]*cj[j]) for j in J) , 0, GRB.MAXIMIZE)\n",
    "# model.setObjectiveN( max_i , 1, GRB.MINIMIZE)\n",
    "\n",
    "# Paramétrage (mode mute)\n",
    "model.params.outputflag = 0\n",
    "# Résolution du PL\n",
    "model.optimize()"
   ]
  },
  {
   "cell_type": "code",
   "execution_count": 456,
   "metadata": {},
   "outputs": [
    {
     "data": {
      "text/plain": [
       "{'Job1': <gurobi.Var nj[Job1] (value 0.0)>,\n",
       " 'Job2': <gurobi.Var nj[Job2] (value 0.0)>,\n",
       " 'Job3': <gurobi.Var nj[Job3] (value 0.0)>,\n",
       " 'Job4': <gurobi.Var nj[Job4] (value 0.0)>,\n",
       " 'Job5': <gurobi.Var nj[Job5] (value -0.0)>}"
      ]
     },
     "execution_count": 456,
     "metadata": {},
     "output_type": "execute_result"
    }
   ],
   "source": []
  },
  {
   "cell_type": "code",
   "execution_count": 449,
   "metadata": {},
   "outputs": [],
   "source": [
    "#model.computeIIS()\n",
    "model.write(\"model.lp\")"
   ]
  },
  {
   "cell_type": "code",
   "execution_count": 450,
   "metadata": {},
   "outputs": [
    {
     "data": {
      "text/plain": [
       "63.0"
      ]
     },
     "execution_count": 450,
     "metadata": {},
     "output_type": "execute_result"
    }
   ],
   "source": [
    "model.ObjVal"
   ]
  },
  {
   "cell_type": "code",
   "execution_count": 451,
   "metadata": {},
   "outputs": [],
   "source": [
    "values= []\n",
    "for k, v in pi_j_k_t.items():\n",
    "    values.append(v.x)"
   ]
  },
  {
   "cell_type": "code",
   "execution_count": 452,
   "metadata": {},
   "outputs": [
    {
     "data": {
      "text/html": [
       "<div>\n",
       "<style scoped>\n",
       "    .dataframe tbody tr th:only-of-type {\n",
       "        vertical-align: middle;\n",
       "    }\n",
       "\n",
       "    .dataframe tbody tr th {\n",
       "        vertical-align: top;\n",
       "    }\n",
       "\n",
       "    .dataframe thead th {\n",
       "        text-align: right;\n",
       "    }\n",
       "</style>\n",
       "<table border=\"1\" class=\"dataframe\">\n",
       "  <thead>\n",
       "    <tr style=\"text-align: right;\">\n",
       "      <th></th>\n",
       "      <th>0</th>\n",
       "      <th>1</th>\n",
       "      <th>2</th>\n",
       "      <th>3</th>\n",
       "      <th>4</th>\n",
       "    </tr>\n",
       "  </thead>\n",
       "  <tbody>\n",
       "    <tr>\n",
       "      <th>1</th>\n",
       "      <td>Olivia</td>\n",
       "      <td>Job1</td>\n",
       "      <td>A</td>\n",
       "      <td>2</td>\n",
       "      <td>1.0</td>\n",
       "    </tr>\n",
       "    <tr>\n",
       "      <th>7</th>\n",
       "      <td>Olivia</td>\n",
       "      <td>Job1</td>\n",
       "      <td>B</td>\n",
       "      <td>3</td>\n",
       "      <td>1.0</td>\n",
       "    </tr>\n",
       "    <tr>\n",
       "      <th>10</th>\n",
       "      <td>Olivia</td>\n",
       "      <td>Job1</td>\n",
       "      <td>C</td>\n",
       "      <td>1</td>\n",
       "      <td>1.0</td>\n",
       "    </tr>\n",
       "    <tr>\n",
       "      <th>73</th>\n",
       "      <td>Olivia</td>\n",
       "      <td>Job5</td>\n",
       "      <td>C</td>\n",
       "      <td>4</td>\n",
       "      <td>1.0</td>\n",
       "    </tr>\n",
       "    <tr>\n",
       "      <th>74</th>\n",
       "      <td>Olivia</td>\n",
       "      <td>Job5</td>\n",
       "      <td>C</td>\n",
       "      <td>5</td>\n",
       "      <td>1.0</td>\n",
       "    </tr>\n",
       "    <tr>\n",
       "      <th>108</th>\n",
       "      <td>Liam</td>\n",
       "      <td>Job3</td>\n",
       "      <td>A</td>\n",
       "      <td>4</td>\n",
       "      <td>1.0</td>\n",
       "    </tr>\n",
       "    <tr>\n",
       "      <th>126</th>\n",
       "      <td>Liam</td>\n",
       "      <td>Job4</td>\n",
       "      <td>B</td>\n",
       "      <td>2</td>\n",
       "      <td>1.0</td>\n",
       "    </tr>\n",
       "    <tr>\n",
       "      <th>127</th>\n",
       "      <td>Liam</td>\n",
       "      <td>Job4</td>\n",
       "      <td>B</td>\n",
       "      <td>3</td>\n",
       "      <td>1.0</td>\n",
       "    </tr>\n",
       "    <tr>\n",
       "      <th>190</th>\n",
       "      <td>Emma</td>\n",
       "      <td>Job3</td>\n",
       "      <td>C</td>\n",
       "      <td>1</td>\n",
       "      <td>1.0</td>\n",
       "    </tr>\n",
       "    <tr>\n",
       "      <th>193</th>\n",
       "      <td>Emma</td>\n",
       "      <td>Job3</td>\n",
       "      <td>C</td>\n",
       "      <td>4</td>\n",
       "      <td>1.0</td>\n",
       "    </tr>\n",
       "    <tr>\n",
       "      <th>207</th>\n",
       "      <td>Emma</td>\n",
       "      <td>Job4</td>\n",
       "      <td>C</td>\n",
       "      <td>3</td>\n",
       "      <td>1.0</td>\n",
       "    </tr>\n",
       "  </tbody>\n",
       "</table>\n",
       "</div>"
      ],
      "text/plain": [
       "          0     1  2  3    4\n",
       "1    Olivia  Job1  A  2  1.0\n",
       "7    Olivia  Job1  B  3  1.0\n",
       "10   Olivia  Job1  C  1  1.0\n",
       "73   Olivia  Job5  C  4  1.0\n",
       "74   Olivia  Job5  C  5  1.0\n",
       "108    Liam  Job3  A  4  1.0\n",
       "126    Liam  Job4  B  2  1.0\n",
       "127    Liam  Job4  B  3  1.0\n",
       "190    Emma  Job3  C  1  1.0\n",
       "193    Emma  Job3  C  4  1.0\n",
       "207    Emma  Job4  C  3  1.0"
      ]
     },
     "execution_count": 452,
     "metadata": {},
     "output_type": "execute_result"
    }
   ],
   "source": [
    "res = pd.DataFrame(list(pi_j_k_t.keys()))\n",
    "res[4] = values\n",
    "result = res[res[4] == 1]\n",
    "result"
   ]
  },
  {
   "cell_type": "markdown",
   "metadata": {},
   "source": [
    "## Result Table"
   ]
  },
  {
   "cell_type": "code",
   "execution_count": 453,
   "metadata": {},
   "outputs": [],
   "source": [
    "def color_table(x):\n",
    "    if pd.isna(x):\n",
    "        return \"background-color: white\"\n",
    "    else:\n",
    "        if \"Job1\" in x :\n",
    "            return \"background-color: blue\"\n",
    "        elif \"Job2\" in x:\n",
    "            return \"background-color: pink\"\n",
    "        elif \"Job3\" in x:\n",
    "            return \"background-color: orange\"\n",
    "        elif \"Job4\" in x:\n",
    "           return \"background-color: yellow\"\n",
    "        elif \"Job5\" in x:\n",
    "           return \"background-color: green\"\n",
    "        else:\n",
    "           return  \"background-color: red\""
   ]
  },
  {
   "cell_type": "code",
   "execution_count": 454,
   "metadata": {},
   "outputs": [
    {
     "data": {
      "text/html": [
       "<style type=\"text/css\">\n",
       "#T_8cb47_row0_col0, #T_8cb47_row0_col1, #T_8cb47_row0_col2 {\n",
       "  background-color: blue;\n",
       "}\n",
       "#T_8cb47_row0_col3, #T_8cb47_row0_col4 {\n",
       "  background-color: green;\n",
       "}\n",
       "#T_8cb47_row1_col0, #T_8cb47_row2_col1 {\n",
       "  background-color: red;\n",
       "}\n",
       "#T_8cb47_row1_col1, #T_8cb47_row1_col2, #T_8cb47_row2_col2 {\n",
       "  background-color: yellow;\n",
       "}\n",
       "#T_8cb47_row1_col3, #T_8cb47_row2_col0, #T_8cb47_row2_col3 {\n",
       "  background-color: orange;\n",
       "}\n",
       "#T_8cb47_row1_col4, #T_8cb47_row2_col4 {\n",
       "  background-color: white;\n",
       "}\n",
       "</style>\n",
       "<table id=\"T_8cb47\">\n",
       "  <thead>\n",
       "    <tr>\n",
       "      <th class=\"blank level0\" >&nbsp;</th>\n",
       "      <th id=\"T_8cb47_level0_col0\" class=\"col_heading level0 col0\" >1</th>\n",
       "      <th id=\"T_8cb47_level0_col1\" class=\"col_heading level0 col1\" >2</th>\n",
       "      <th id=\"T_8cb47_level0_col2\" class=\"col_heading level0 col2\" >3</th>\n",
       "      <th id=\"T_8cb47_level0_col3\" class=\"col_heading level0 col3\" >4</th>\n",
       "      <th id=\"T_8cb47_level0_col4\" class=\"col_heading level0 col4\" >5</th>\n",
       "    </tr>\n",
       "  </thead>\n",
       "  <tbody>\n",
       "    <tr>\n",
       "      <th id=\"T_8cb47_level0_row0\" class=\"row_heading level0 row0\" >Olivia</th>\n",
       "      <td id=\"T_8cb47_row0_col0\" class=\"data row0 col0\" >Job1 C</td>\n",
       "      <td id=\"T_8cb47_row0_col1\" class=\"data row0 col1\" >Job1 A</td>\n",
       "      <td id=\"T_8cb47_row0_col2\" class=\"data row0 col2\" >Job1 B</td>\n",
       "      <td id=\"T_8cb47_row0_col3\" class=\"data row0 col3\" >Job5 C</td>\n",
       "      <td id=\"T_8cb47_row0_col4\" class=\"data row0 col4\" >Job5 C</td>\n",
       "    </tr>\n",
       "    <tr>\n",
       "      <th id=\"T_8cb47_level0_row1\" class=\"row_heading level0 row1\" >Liam</th>\n",
       "      <td id=\"T_8cb47_row1_col0\" class=\"data row1 col0\" >X</td>\n",
       "      <td id=\"T_8cb47_row1_col1\" class=\"data row1 col1\" >Job4 B</td>\n",
       "      <td id=\"T_8cb47_row1_col2\" class=\"data row1 col2\" >Job4 B</td>\n",
       "      <td id=\"T_8cb47_row1_col3\" class=\"data row1 col3\" >Job3 A</td>\n",
       "      <td id=\"T_8cb47_row1_col4\" class=\"data row1 col4\" >nan</td>\n",
       "    </tr>\n",
       "    <tr>\n",
       "      <th id=\"T_8cb47_level0_row2\" class=\"row_heading level0 row2\" >Emma</th>\n",
       "      <td id=\"T_8cb47_row2_col0\" class=\"data row2 col0\" >Job3 C</td>\n",
       "      <td id=\"T_8cb47_row2_col1\" class=\"data row2 col1\" >X</td>\n",
       "      <td id=\"T_8cb47_row2_col2\" class=\"data row2 col2\" >Job4 C</td>\n",
       "      <td id=\"T_8cb47_row2_col3\" class=\"data row2 col3\" >Job3 C</td>\n",
       "      <td id=\"T_8cb47_row2_col4\" class=\"data row2 col4\" >nan</td>\n",
       "    </tr>\n",
       "  </tbody>\n",
       "</table>\n"
      ],
      "text/plain": [
       "<pandas.io.formats.style.Styler at 0x2edc512ac10>"
      ]
     },
     "execution_count": 454,
     "metadata": {},
     "output_type": "execute_result"
    }
   ],
   "source": [
    "df = pd.DataFrame(columns = [i for i in range(1,6)], index = staff_names)\n",
    "\n",
    "for ind, val in result.iterrows():\n",
    "    col = val[3]\n",
    "    row = val[0]\n",
    "    v = val[1] + \" \" + val[2]\n",
    "    df.loc[row,col] = v\n",
    "    # vacation\n",
    "    for staff in staff_names:\n",
    "        for day in jour_list:\n",
    "            if day in vi[staff]:\n",
    "                df.loc[staff,day] = 'X'\n",
    "df.style.applymap(color_table)"
   ]
  },
  {
   "cell_type": "code",
   "execution_count": null,
   "metadata": {},
   "outputs": [],
   "source": []
  }
 ],
 "metadata": {
  "kernelspec": {
   "display_name": "Python 3 (ipykernel)",
   "language": "python",
   "name": "python3"
  },
  "language_info": {
   "codemirror_mode": {
    "name": "ipython",
    "version": 3
   },
   "file_extension": ".py",
   "mimetype": "text/x-python",
   "name": "python",
   "nbconvert_exporter": "python",
   "pygments_lexer": "ipython3",
   "version": "3.9.13"
  },
  "vscode": {
   "interpreter": {
    "hash": "992fe7c5fc85bbb99cdbb1a7127f4f04531c143f133625dff1af063a39de0f81"
   }
  }
 },
 "nbformat": 4,
 "nbformat_minor": 2
}
