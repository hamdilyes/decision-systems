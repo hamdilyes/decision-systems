{
 "cells": [
  {
   "attachments": {},
   "cell_type": "markdown",
   "metadata": {},
   "source": [
    "# Import Libraries"
   ]
  },
  {
   "cell_type": "code",
   "execution_count": 16,
   "metadata": {},
   "outputs": [],
   "source": [
    "import gurobipy as grb\n",
    "import pandas as pd\n",
    "from gurobipy import GRB\n",
    "import numpy as np"
   ]
  },
  {
   "attachments": {},
   "cell_type": "markdown",
   "metadata": {},
   "source": [
    "# Model"
   ]
  },
  {
   "cell_type": "code",
   "execution_count": 17,
   "metadata": {},
   "outputs": [],
   "source": [
    " # Create a model\n",
    "model = grb.Model(\"Model\")"
   ]
  },
  {
   "cell_type": "markdown",
   "metadata": {},
   "source": [
    "# Get data from json"
   ]
  },
  {
   "cell_type": "code",
   "execution_count": 18,
   "metadata": {},
   "outputs": [],
   "source": [
    "# get the  data from the json file small.json\n",
    "import json\n",
    "with open('small.json') as f:\n",
    "    data = json.load(f)"
   ]
  },
  {
   "cell_type": "markdown",
   "metadata": {},
   "source": [
    "## Constants from data"
   ]
  },
  {
   "cell_type": "code",
   "execution_count": 19,
   "metadata": {},
   "outputs": [],
   "source": [
    "horizon = data['horizon']\n",
    "qualifications = data['qualifications']\n",
    "staff_names = [i['name'] for i in data['staff']]\n",
    "staff_qualifications = [i['qualifications'] for i in data['staff']]\n",
    "job_list = [i['name'] for i in data['jobs']]\n",
    "jour_list = [i for i in range(1,horizon+1)]\n",
    "job_penalty = [i['daily_penalty'] for i in data['jobs']] \n",
    "job_qualifications = [i['working_days_per_qualification'] for i in data['jobs']]\n",
    "job_gain = [i['gain'] for i in data['jobs']]\n",
    "due_dates = [i['due_date'] for i in data['jobs']]\n",
    "vacation_staff = [i['vacations'] for i in data['staff']]"
   ]
  },
  {
   "cell_type": "markdown",
   "metadata": {},
   "source": [
    "# Model's parameters"
   ]
  },
  {
   "cell_type": "code",
   "execution_count": 20,
   "metadata": {},
   "outputs": [],
   "source": [
    "# create a function that converts a dictionary to a matrix\n",
    "def get_matrix(liste):\n",
    "    test=pd.DataFrame.from_dict(liste,orient='index')\n",
    "    test.fillna(0,inplace=True)\n",
    "    return test.to_dict(orient='index')"
   ]
  },
  {
   "cell_type": "code",
   "execution_count": 21,
   "metadata": {},
   "outputs": [],
   "source": [
    "# create dictionaries with job_list as key and job_penality, job_gain ans due_dates as values\n",
    "job_penalty_dict = dict(zip(job_list,job_penalty))\n",
    "job_gain_dict = dict(zip(job_list,job_gain))\n",
    "due_dates_dict = dict(zip(job_list,due_dates))\n",
    "\n",
    "# create a dictionary for staff qualifications\n",
    "pi_c = {}\n",
    "for i in range(len(staff_names)) :\n",
    "    k = staff_names[i]\n",
    "    pi_c[k] = {}\n",
    "    for c in qualifications:\n",
    "        if c in data['staff'][i]['qualifications']:\n",
    "            pi_c[k][c] = 1\n",
    "        else:\n",
    "            pi_c[k][c] = 0\n",
    "\n",
    "qk_c = get_matrix(dict(zip(job_list, job_qualifications)))\n",
    "\n",
    "# get pi_j : 0 if vacation\n",
    "staff_in_vacation = pd.DataFrame(index=staff_names,columns=jour_list)\n",
    "# fill the dataframe staff_in_vacation with the values of the dictionary\n",
    "for i in staff_names:\n",
    "    for j in jour_list:\n",
    "        staff_in_vacation.loc[i,j]=0 if j in dict(zip(staff_names,vacation_staff))[i] else 1\n",
    "pi_j=staff_in_vacation.to_dict(orient='index')"
   ]
  },
  {
   "attachments": {},
   "cell_type": "markdown",
   "metadata": {},
   "source": [
    "# Sets"
   ]
  },
  {
   "cell_type": "code",
   "execution_count": 22,
   "metadata": {},
   "outputs": [],
   "source": [
    "H = jour_list # t\n",
    "Q = qualifications # k\n",
    "S = staff_names # i\n",
    "J = job_list # j\n",
    "\n",
    "Qi, Qj, Vi = {}, {}, {}\n",
    "\n",
    "# qualifications of staff i\n",
    "for i in S:\n",
    "    Qi[i] = [c for c in qualifications if pi_c[i][c] == 1]\n",
    "# vacation of staff i\n",
    "for i in S:\n",
    "    Vi[i] = [j for j in jour_list if pi_j[i][j] == 0]\n",
    "# qualifications of job j\n",
    "for j in J:\n",
    "    Qj[j] = [c for c in qualifications if qk_c[j][c] == 1]\n",
    "# work load for job j with qualification k\n",
    "# qk_c[j][k]\n",
    "\n",
    "# gains\n",
    "Gj = [job_gain_dict[j] for j in J]\n",
    "# penalties\n",
    "Pj = [job_penalty_dict[j] for j in J]\n",
    "# due dates\n",
    "Dj = [due_dates_dict[j] for j in J]"
   ]
  },
  {
   "cell_type": "markdown",
   "metadata": {},
   "source": [
    "# Decision variables"
   ]
  },
  {
   "cell_type": "code",
   "execution_count": 23,
   "metadata": {},
   "outputs": [],
   "source": [
    "X_i_j_k_t = model.addVars(staff_names, job_list, qualifications, jour_list, vtype=GRB.BINARY, name=\"X_i_j_k_t\")\n",
    "\n",
    "Y_j = model.addVars(job_list, vtype=GRB.BINARY, name=\"Y_j\")\n",
    "\n",
    "L_j = model.addVars(job_list, vtype=GRB.INTEGER, name=\"L_j\")\n",
    "\n",
    "E_j = model.addVars(job_list, vtype=GRB.INTEGER, name=\"E_j\")"
   ]
  },
  {
   "cell_type": "markdown",
   "metadata": {},
   "source": [
    "# Constraints"
   ]
  },
  {
   "cell_type": "code",
   "execution_count": 24,
   "metadata": {},
   "outputs": [
    {
     "ename": "KeyError",
     "evalue": "('Olivia', 'Job1', 1, 'A')",
     "output_type": "error",
     "traceback": [
      "\u001b[1;31m---------------------------------------------------------------------------\u001b[0m",
      "\u001b[1;31mKeyError\u001b[0m                                  Traceback (most recent call last)",
      "\u001b[1;32m~\\AppData\\Local\\Temp\\ipykernel_62708\\3327063806.py\u001b[0m in \u001b[0;36m<module>\u001b[1;34m\u001b[0m\n\u001b[1;32m----> 1\u001b[1;33m constr3={f'p{i}_{k}_{j}_{c}':model.addConstr(X_i_j_k_t[i,k,j,c]  + (1-pi_c[i][c]) <=1, name=f\"contrainte3{i}_{k}_{j}_{c}\")\n\u001b[0m\u001b[0;32m      2\u001b[0m     \u001b[1;32mfor\u001b[0m \u001b[0mi\u001b[0m \u001b[1;32min\u001b[0m \u001b[0mstaff_names\u001b[0m \u001b[1;32mfor\u001b[0m \u001b[0mk\u001b[0m \u001b[1;32min\u001b[0m \u001b[0mjob_list\u001b[0m\u001b[1;33m\u001b[0m\u001b[1;33m\u001b[0m\u001b[0m\n\u001b[0;32m      3\u001b[0m        for j in jour_list  for c in qualifications}\n",
      "\u001b[1;32m~\\AppData\\Local\\Temp\\ipykernel_62708\\3327063806.py\u001b[0m in \u001b[0;36m<dictcomp>\u001b[1;34m(.0)\u001b[0m\n\u001b[1;32m----> 1\u001b[1;33m constr3={f'p{i}_{k}_{j}_{c}':model.addConstr(X_i_j_k_t[i,k,j,c]  + (1-pi_c[i][c]) <=1, name=f\"contrainte3{i}_{k}_{j}_{c}\")\n\u001b[0m\u001b[0;32m      2\u001b[0m     \u001b[1;32mfor\u001b[0m \u001b[0mi\u001b[0m \u001b[1;32min\u001b[0m \u001b[0mstaff_names\u001b[0m \u001b[1;32mfor\u001b[0m \u001b[0mk\u001b[0m \u001b[1;32min\u001b[0m \u001b[0mjob_list\u001b[0m\u001b[1;33m\u001b[0m\u001b[1;33m\u001b[0m\u001b[0m\n\u001b[0;32m      3\u001b[0m        for j in jour_list  for c in qualifications}\n",
      "\u001b[1;31mKeyError\u001b[0m: ('Olivia', 'Job1', 1, 'A')"
     ]
    }
   ],
   "source": [
    "constr1={f'constr1{i}_{t}':model.addConstr( grb.quicksum(X_i_j_k_t for j in J for k in Q) <= 1 , name=f\"constr1{i}_{t}\")\n",
    "    for i in S\n",
    "    for t in H}\n",
    "\n",
    "constr2={f'constr2{i}_{t}':model.addConstr( grb.quicksum(X_i_j_k_t for j in J for k in Q) <= 0 , name=f\"constr2{i}_{t}\")\n",
    "    for i in S\n",
    "    for t in Vi[i]}\n",
    "\n",
    "# Xijkt =0 if wrong qualifications\n",
    "constr3={f'constr3{i}_{j}_{t}':model.addConstr( grb.quicksum(X_i_j_k_t for k in Q if k not in Qj[j]) <= 0 , name=f\"constr3{i}_{j}_{t}\")\n",
    "    for i in S\n",
    "    for j in J\n",
    "    for t in H}"
   ]
  },
  {
   "cell_type": "code",
   "execution_count": null,
   "metadata": {},
   "outputs": [],
   "source": []
  },
  {
   "cell_type": "code",
   "execution_count": null,
   "metadata": {},
   "outputs": [],
   "source": [
    "contr12={f'contr12{j}':model.addConstr( E_j[k] >= X_i_j_k_t[i,j,k,t]*t , name=f\"contr12{j}\")\n",
    "    for i in S\n",
    "    for t in H \n",
    "    for j in J\n",
    "    for k in Q}\n",
    "\n",
    "contr13={f'contr13{j}':model.addConstr( E_j[j] - Dj[j] <= L_j[j] , name=f\"contr13{j}\")\n",
    "    for j in J}"
   ]
  },
  {
   "cell_type": "code",
   "execution_count": null,
   "metadata": {},
   "outputs": [],
   "source": [
    "# Fonction Objectif\n",
    "model.setObjective(grb.quicksum((Gj[j]*Y_j[j]) - L_j[j]*Pj[j] for j in J) , GRB.MAXIMIZE)\n",
    "\n",
    "# Paramétrage (mode mute)\n",
    "# model.params.outputflag = 0\n",
    "# Résolution du PL\n",
    "model.optimize()"
   ]
  },
  {
   "cell_type": "code",
   "execution_count": null,
   "metadata": {},
   "outputs": [],
   "source": [
    "#model.computeIIS()\n",
    "model.write(\"model.lp\")\n",
    "#  print constraints of the gurobipy.Model"
   ]
  },
  {
   "cell_type": "code",
   "execution_count": null,
   "metadata": {},
   "outputs": [
    {
     "data": {
      "text/plain": [
       "80.0"
      ]
     },
     "execution_count": 124,
     "metadata": {},
     "output_type": "execute_result"
    }
   ],
   "source": [
    "model.ObjVal"
   ]
  },
  {
   "cell_type": "code",
   "execution_count": null,
   "metadata": {},
   "outputs": [],
   "source": [
    "values= []\n",
    "for k, v in X_i_j_k_t.items():\n",
    "    values.append(v.x)"
   ]
  },
  {
   "cell_type": "code",
   "execution_count": null,
   "metadata": {},
   "outputs": [
    {
     "data": {
      "text/html": [
       "<div>\n",
       "<style scoped>\n",
       "    .dataframe tbody tr th:only-of-type {\n",
       "        vertical-align: middle;\n",
       "    }\n",
       "\n",
       "    .dataframe tbody tr th {\n",
       "        vertical-align: top;\n",
       "    }\n",
       "\n",
       "    .dataframe thead th {\n",
       "        text-align: right;\n",
       "    }\n",
       "</style>\n",
       "<table border=\"1\" class=\"dataframe\">\n",
       "  <thead>\n",
       "    <tr style=\"text-align: right;\">\n",
       "      <th></th>\n",
       "      <th>0</th>\n",
       "      <th>1</th>\n",
       "      <th>2</th>\n",
       "      <th>3</th>\n",
       "      <th>4</th>\n",
       "    </tr>\n",
       "  </thead>\n",
       "  <tbody>\n",
       "  </tbody>\n",
       "</table>\n",
       "</div>"
      ],
      "text/plain": [
       "Empty DataFrame\n",
       "Columns: [0, 1, 2, 3, 4]\n",
       "Index: []"
      ]
     },
     "execution_count": 126,
     "metadata": {},
     "output_type": "execute_result"
    }
   ],
   "source": [
    "res = pd.DataFrame(list(X_i_j_k_t.keys()))\n",
    "res[4] = values\n",
    "result = res[res[4] == 1]\n",
    "result"
   ]
  },
  {
   "cell_type": "markdown",
   "metadata": {},
   "source": [
    "## Result Table"
   ]
  },
  {
   "cell_type": "code",
   "execution_count": null,
   "metadata": {},
   "outputs": [],
   "source": [
    "def color_table(x):\n",
    "    if pd.isna(x):\n",
    "        return \"background-color: white\"\n",
    "    else:\n",
    "        if \"Job1\" in x :\n",
    "            return \"background-color: blue\"\n",
    "        elif \"Job2\" in x:\n",
    "            return \"background-color: black\"\n",
    "        elif \"Job3\" in x:\n",
    "            return \"background-color: orange\"\n",
    "        elif \"Job4\" in x:\n",
    "           return \"background-color: grey\"\n",
    "        elif \"Job5\" in x:\n",
    "           return \"background-color: green\"\n",
    "        else:\n",
    "           return  \"background-color: red\""
   ]
  },
  {
   "cell_type": "code",
   "execution_count": null,
   "metadata": {},
   "outputs": [
    {
     "data": {
      "text/html": [
       "<style type=\"text/css\">\n",
       "#T_7fe32_row0_col0, #T_7fe32_row0_col1, #T_7fe32_row0_col2, #T_7fe32_row0_col3, #T_7fe32_row0_col4, #T_7fe32_row1_col0, #T_7fe32_row1_col1, #T_7fe32_row1_col2, #T_7fe32_row1_col3, #T_7fe32_row1_col4, #T_7fe32_row2_col0, #T_7fe32_row2_col1, #T_7fe32_row2_col2, #T_7fe32_row2_col3, #T_7fe32_row2_col4 {\n",
       "  background-color: white;\n",
       "}\n",
       "</style>\n",
       "<table id=\"T_7fe32\">\n",
       "  <thead>\n",
       "    <tr>\n",
       "      <th class=\"blank level0\" >&nbsp;</th>\n",
       "      <th id=\"T_7fe32_level0_col0\" class=\"col_heading level0 col0\" >1</th>\n",
       "      <th id=\"T_7fe32_level0_col1\" class=\"col_heading level0 col1\" >2</th>\n",
       "      <th id=\"T_7fe32_level0_col2\" class=\"col_heading level0 col2\" >3</th>\n",
       "      <th id=\"T_7fe32_level0_col3\" class=\"col_heading level0 col3\" >4</th>\n",
       "      <th id=\"T_7fe32_level0_col4\" class=\"col_heading level0 col4\" >5</th>\n",
       "    </tr>\n",
       "  </thead>\n",
       "  <tbody>\n",
       "    <tr>\n",
       "      <th id=\"T_7fe32_level0_row0\" class=\"row_heading level0 row0\" >Olivia</th>\n",
       "      <td id=\"T_7fe32_row0_col0\" class=\"data row0 col0\" >nan</td>\n",
       "      <td id=\"T_7fe32_row0_col1\" class=\"data row0 col1\" >nan</td>\n",
       "      <td id=\"T_7fe32_row0_col2\" class=\"data row0 col2\" >nan</td>\n",
       "      <td id=\"T_7fe32_row0_col3\" class=\"data row0 col3\" >nan</td>\n",
       "      <td id=\"T_7fe32_row0_col4\" class=\"data row0 col4\" >nan</td>\n",
       "    </tr>\n",
       "    <tr>\n",
       "      <th id=\"T_7fe32_level0_row1\" class=\"row_heading level0 row1\" >Liam</th>\n",
       "      <td id=\"T_7fe32_row1_col0\" class=\"data row1 col0\" >nan</td>\n",
       "      <td id=\"T_7fe32_row1_col1\" class=\"data row1 col1\" >nan</td>\n",
       "      <td id=\"T_7fe32_row1_col2\" class=\"data row1 col2\" >nan</td>\n",
       "      <td id=\"T_7fe32_row1_col3\" class=\"data row1 col3\" >nan</td>\n",
       "      <td id=\"T_7fe32_row1_col4\" class=\"data row1 col4\" >nan</td>\n",
       "    </tr>\n",
       "    <tr>\n",
       "      <th id=\"T_7fe32_level0_row2\" class=\"row_heading level0 row2\" >Emma</th>\n",
       "      <td id=\"T_7fe32_row2_col0\" class=\"data row2 col0\" >nan</td>\n",
       "      <td id=\"T_7fe32_row2_col1\" class=\"data row2 col1\" >nan</td>\n",
       "      <td id=\"T_7fe32_row2_col2\" class=\"data row2 col2\" >nan</td>\n",
       "      <td id=\"T_7fe32_row2_col3\" class=\"data row2 col3\" >nan</td>\n",
       "      <td id=\"T_7fe32_row2_col4\" class=\"data row2 col4\" >nan</td>\n",
       "    </tr>\n",
       "  </tbody>\n",
       "</table>\n"
      ],
      "text/plain": [
       "<pandas.io.formats.style.Styler at 0x276c3e59ee0>"
      ]
     },
     "execution_count": 128,
     "metadata": {},
     "output_type": "execute_result"
    }
   ],
   "source": [
    "df = pd.DataFrame(columns = [i for i in range(1,horizon+1)], index = staff_names)\n",
    "\n",
    "for ind, val in result.iterrows():\n",
    "    col = val[2]\n",
    "    row = val[0]\n",
    "    v = val[3] + \" \" + val[1]\n",
    "    df.loc[row,col] = v\n",
    "    # vacation\n",
    "    for staff in staff_names:\n",
    "        for day in jour_list:\n",
    "            if pi_j[staff][day] == 0:\n",
    "                df.loc[staff,day] = 'X'\n",
    "\n",
    "df.style.applymap(color_table)"
   ]
  },
  {
   "cell_type": "code",
   "execution_count": null,
   "metadata": {},
   "outputs": [
    {
     "data": {
      "text/plain": [
       "{'Job1': <gurobi.Var end_k[Job1] (value -0.0)>,\n",
       " 'Job2': <gurobi.Var end_k[Job2] (value -0.0)>,\n",
       " 'Job3': <gurobi.Var end_k[Job3] (value -0.0)>,\n",
       " 'Job4': <gurobi.Var end_k[Job4] (value -0.0)>,\n",
       " 'Job5': <gurobi.Var end_k[Job5] (value -0.0)>}"
      ]
     },
     "execution_count": 129,
     "metadata": {},
     "output_type": "execute_result"
    }
   ],
   "source": [
    "end_k"
   ]
  },
  {
   "cell_type": "code",
   "execution_count": null,
   "metadata": {},
   "outputs": [
    {
     "data": {
      "text/plain": [
       "{'Job1': <gurobi.Var delay_k[Job1] (value -0.0)>,\n",
       " 'Job2': <gurobi.Var delay_k[Job2] (value -0.0)>,\n",
       " 'Job3': <gurobi.Var delay_k[Job3] (value -0.0)>,\n",
       " 'Job4': <gurobi.Var delay_k[Job4] (value -0.0)>,\n",
       " 'Job5': <gurobi.Var delay_k[Job5] (value -0.0)>}"
      ]
     },
     "execution_count": 130,
     "metadata": {},
     "output_type": "execute_result"
    }
   ],
   "source": [
    "delay_k"
   ]
  },
  {
   "cell_type": "code",
   "execution_count": null,
   "metadata": {},
   "outputs": [
    {
     "data": {
      "text/plain": [
       "{('Job1', 1): <gurobi.Var zk_j[Job1,1] (value -0.0)>,\n",
       " ('Job1', 2): <gurobi.Var zk_j[Job1,2] (value -0.0)>,\n",
       " ('Job1', 3): <gurobi.Var zk_j[Job1,3] (value -0.0)>,\n",
       " ('Job1', 4): <gurobi.Var zk_j[Job1,4] (value -0.0)>,\n",
       " ('Job1', 5): <gurobi.Var zk_j[Job1,5] (value -0.0)>,\n",
       " ('Job2', 1): <gurobi.Var zk_j[Job2,1] (value -0.0)>,\n",
       " ('Job2', 2): <gurobi.Var zk_j[Job2,2] (value -0.0)>,\n",
       " ('Job2', 3): <gurobi.Var zk_j[Job2,3] (value -0.0)>,\n",
       " ('Job2', 4): <gurobi.Var zk_j[Job2,4] (value -0.0)>,\n",
       " ('Job2', 5): <gurobi.Var zk_j[Job2,5] (value -0.0)>,\n",
       " ('Job3', 1): <gurobi.Var zk_j[Job3,1] (value -0.0)>,\n",
       " ('Job3', 2): <gurobi.Var zk_j[Job3,2] (value -0.0)>,\n",
       " ('Job3', 3): <gurobi.Var zk_j[Job3,3] (value -0.0)>,\n",
       " ('Job3', 4): <gurobi.Var zk_j[Job3,4] (value -0.0)>,\n",
       " ('Job3', 5): <gurobi.Var zk_j[Job3,5] (value -0.0)>,\n",
       " ('Job4', 1): <gurobi.Var zk_j[Job4,1] (value -0.0)>,\n",
       " ('Job4', 2): <gurobi.Var zk_j[Job4,2] (value -0.0)>,\n",
       " ('Job4', 3): <gurobi.Var zk_j[Job4,3] (value -0.0)>,\n",
       " ('Job4', 4): <gurobi.Var zk_j[Job4,4] (value -0.0)>,\n",
       " ('Job4', 5): <gurobi.Var zk_j[Job4,5] (value -0.0)>,\n",
       " ('Job5', 1): <gurobi.Var zk_j[Job5,1] (value -0.0)>,\n",
       " ('Job5', 2): <gurobi.Var zk_j[Job5,2] (value -0.0)>,\n",
       " ('Job5', 3): <gurobi.Var zk_j[Job5,3] (value -0.0)>,\n",
       " ('Job5', 4): <gurobi.Var zk_j[Job5,4] (value -0.0)>,\n",
       " ('Job5', 5): <gurobi.Var zk_j[Job5,5] (value -0.0)>}"
      ]
     },
     "execution_count": 131,
     "metadata": {},
     "output_type": "execute_result"
    }
   ],
   "source": [
    "zk_j"
   ]
  },
  {
   "cell_type": "code",
   "execution_count": null,
   "metadata": {},
   "outputs": [
    {
     "name": "stdout",
     "output_type": "stream",
     "text": [
      "<gurobi.Var zk_j[Job5,1] (value -0.0)>\n",
      "<gurobi.Var zk_j[Job5,2] (value -0.0)>\n",
      "<gurobi.Var zk_j[Job5,3] (value -0.0)>\n",
      "<gurobi.Var zk_j[Job5,4] (value -0.0)>\n",
      "<gurobi.Var zk_j[Job5,5] (value -0.0)>\n"
     ]
    }
   ],
   "source": [
    "# for k in job_list:\n",
    "for j in jour_list:\n",
    "    print(zk_j['Job5',j])"
   ]
  },
  {
   "cell_type": "code",
   "execution_count": null,
   "metadata": {},
   "outputs": [
    {
     "name": "stdout",
     "output_type": "stream",
     "text": [
      "<gurobi.Var pi_k_j_c[Olivia,Job1,1,A] (value -0.0)>\n",
      "<gurobi.Var pi_k_j_c[Olivia,Job1,1,B] (value -0.0)>\n",
      "<gurobi.Var pi_k_j_c[Olivia,Job1,1,C] (value -0.0)>\n",
      "<gurobi.Var pi_k_j_c[Liam,Job1,1,A] (value -0.0)>\n",
      "<gurobi.Var pi_k_j_c[Liam,Job1,1,B] (value -0.0)>\n",
      "<gurobi.Var pi_k_j_c[Liam,Job1,1,C] (value -0.0)>\n",
      "<gurobi.Var pi_k_j_c[Emma,Job1,1,A] (value -0.0)>\n",
      "<gurobi.Var pi_k_j_c[Emma,Job1,1,B] (value -0.0)>\n",
      "<gurobi.Var pi_k_j_c[Emma,Job1,1,C] (value -0.0)>\n",
      "<gurobi.Var pi_k_j_c[Olivia,Job1,2,A] (value -0.0)>\n",
      "<gurobi.Var pi_k_j_c[Olivia,Job1,2,B] (value -0.0)>\n",
      "<gurobi.Var pi_k_j_c[Olivia,Job1,2,C] (value -0.0)>\n",
      "<gurobi.Var pi_k_j_c[Liam,Job1,2,A] (value -0.0)>\n",
      "<gurobi.Var pi_k_j_c[Liam,Job1,2,B] (value -0.0)>\n",
      "<gurobi.Var pi_k_j_c[Liam,Job1,2,C] (value -0.0)>\n",
      "<gurobi.Var pi_k_j_c[Emma,Job1,2,A] (value -0.0)>\n",
      "<gurobi.Var pi_k_j_c[Emma,Job1,2,B] (value -0.0)>\n",
      "<gurobi.Var pi_k_j_c[Emma,Job1,2,C] (value -0.0)>\n",
      "<gurobi.Var pi_k_j_c[Olivia,Job1,3,A] (value -0.0)>\n",
      "<gurobi.Var pi_k_j_c[Olivia,Job1,3,B] (value -0.0)>\n",
      "<gurobi.Var pi_k_j_c[Olivia,Job1,3,C] (value -0.0)>\n",
      "<gurobi.Var pi_k_j_c[Liam,Job1,3,A] (value -0.0)>\n",
      "<gurobi.Var pi_k_j_c[Liam,Job1,3,B] (value -0.0)>\n",
      "<gurobi.Var pi_k_j_c[Liam,Job1,3,C] (value -0.0)>\n",
      "<gurobi.Var pi_k_j_c[Emma,Job1,3,A] (value -0.0)>\n",
      "<gurobi.Var pi_k_j_c[Emma,Job1,3,B] (value -0.0)>\n",
      "<gurobi.Var pi_k_j_c[Emma,Job1,3,C] (value -0.0)>\n",
      "<gurobi.Var pi_k_j_c[Olivia,Job1,4,A] (value -0.0)>\n",
      "<gurobi.Var pi_k_j_c[Olivia,Job1,4,B] (value -0.0)>\n",
      "<gurobi.Var pi_k_j_c[Olivia,Job1,4,C] (value -0.0)>\n",
      "<gurobi.Var pi_k_j_c[Liam,Job1,4,A] (value -0.0)>\n",
      "<gurobi.Var pi_k_j_c[Liam,Job1,4,B] (value -0.0)>\n",
      "<gurobi.Var pi_k_j_c[Liam,Job1,4,C] (value -0.0)>\n",
      "<gurobi.Var pi_k_j_c[Emma,Job1,4,A] (value -0.0)>\n",
      "<gurobi.Var pi_k_j_c[Emma,Job1,4,B] (value -0.0)>\n",
      "<gurobi.Var pi_k_j_c[Emma,Job1,4,C] (value -0.0)>\n",
      "<gurobi.Var pi_k_j_c[Olivia,Job1,5,A] (value -0.0)>\n",
      "<gurobi.Var pi_k_j_c[Olivia,Job1,5,B] (value -0.0)>\n",
      "<gurobi.Var pi_k_j_c[Olivia,Job1,5,C] (value -0.0)>\n",
      "<gurobi.Var pi_k_j_c[Liam,Job1,5,A] (value -0.0)>\n",
      "<gurobi.Var pi_k_j_c[Liam,Job1,5,B] (value -0.0)>\n",
      "<gurobi.Var pi_k_j_c[Liam,Job1,5,C] (value -0.0)>\n",
      "<gurobi.Var pi_k_j_c[Emma,Job1,5,A] (value -0.0)>\n",
      "<gurobi.Var pi_k_j_c[Emma,Job1,5,B] (value -0.0)>\n",
      "<gurobi.Var pi_k_j_c[Emma,Job1,5,C] (value -0.0)>\n"
     ]
    }
   ],
   "source": [
    "for j in jour_list:\n",
    "    for s in staff_names:\n",
    "        for c in  qualifications:\n",
    "            print(X_i_j_k_t[s,'Job1',j,c])"
   ]
  },
  {
   "cell_type": "code",
   "execution_count": null,
   "metadata": {},
   "outputs": [],
   "source": []
  }
 ],
 "metadata": {
  "kernelspec": {
   "display_name": "base",
   "language": "python",
   "name": "python3"
  },
  "language_info": {
   "codemirror_mode": {
    "name": "ipython",
    "version": 3
   },
   "file_extension": ".py",
   "mimetype": "text/x-python",
   "name": "python",
   "nbconvert_exporter": "python",
   "pygments_lexer": "ipython3",
   "version": "3.9.13"
  },
  "vscode": {
   "interpreter": {
    "hash": "992fe7c5fc85bbb99cdbb1a7127f4f04531c143f133625dff1af063a39de0f81"
   }
  }
 },
 "nbformat": 4,
 "nbformat_minor": 2
}
