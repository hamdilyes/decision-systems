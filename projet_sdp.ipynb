{
 "cells": [
  {
   "attachments": {},
   "cell_type": "markdown",
   "metadata": {},
   "source": [
    "# Import Libraries"
   ]
  },
  {
   "cell_type": "code",
   "execution_count": 4,
   "metadata": {},
   "outputs": [],
   "source": [
    "import gurobipy as grb\n",
    "import pandas as pd\n",
    "from gurobipy import GRB\n",
    "import numpy as np"
   ]
  },
  {
   "attachments": {},
   "cell_type": "markdown",
   "metadata": {},
   "source": [
    "# Model"
   ]
  },
  {
   "cell_type": "code",
   "execution_count": 5,
   "metadata": {},
   "outputs": [
    {
     "name": "stdout",
     "output_type": "stream",
     "text": [
      "Restricted license - for non-production use only - expires 2024-10-28\n"
     ]
    }
   ],
   "source": [
    " # Create a model\n",
    "model = grb.Model(\"Model\")"
   ]
  },
  {
   "cell_type": "markdown",
   "metadata": {},
   "source": [
    "# Get data from json"
   ]
  },
  {
   "cell_type": "code",
   "execution_count": 6,
   "metadata": {},
   "outputs": [
    {
     "data": {
      "text/plain": [
       "{'horizon': 5,\n",
       " 'qualifications': ['A', 'B', 'C'],\n",
       " 'staff': [{'name': 'Olivia',\n",
       "   'qualifications': ['A', 'B', 'C'],\n",
       "   'vacations': []},\n",
       "  {'name': 'Liam', 'qualifications': ['A', 'B'], 'vacations': [1]},\n",
       "  {'name': 'Emma', 'qualifications': ['C'], 'vacations': [2]}],\n",
       " 'jobs': [{'name': 'Job1',\n",
       "   'gain': 20,\n",
       "   'due_date': 3,\n",
       "   'daily_penalty': 3,\n",
       "   'working_days_per_qualification': {'A': 1, 'B': 1, 'C': 1}},\n",
       "  {'name': 'Job2',\n",
       "   'gain': 15,\n",
       "   'due_date': 3,\n",
       "   'daily_penalty': 3,\n",
       "   'working_days_per_qualification': {'A': 1, 'B': 2}},\n",
       "  {'name': 'Job3',\n",
       "   'gain': 15,\n",
       "   'due_date': 4,\n",
       "   'daily_penalty': 3,\n",
       "   'working_days_per_qualification': {'A': 1, 'C': 2}},\n",
       "  {'name': 'Job4',\n",
       "   'gain': 20,\n",
       "   'due_date': 3,\n",
       "   'daily_penalty': 3,\n",
       "   'working_days_per_qualification': {'B': 2, 'C': 1}},\n",
       "  {'name': 'Job5',\n",
       "   'gain': 10,\n",
       "   'due_date': 5,\n",
       "   'daily_penalty': 3,\n",
       "   'working_days_per_qualification': {'C': 2}}]}"
      ]
     },
     "execution_count": 6,
     "metadata": {},
     "output_type": "execute_result"
    }
   ],
   "source": [
    "# get the  data from the json file small.json\n",
    "import json\n",
    "with open('small.json') as f:\n",
    "    data = json.load(f)\n",
    "data"
   ]
  },
  {
   "cell_type": "markdown",
   "metadata": {},
   "source": [
    "## Constants from data"
   ]
  },
  {
   "cell_type": "code",
   "execution_count": 7,
   "metadata": {},
   "outputs": [],
   "source": [
    "horizon= 6 # data['horizon']\n",
    "qualifications=data['qualifications']\n",
    "staff_names=[i['name'] for i in data['staff']]\n",
    "staff_qualifications=[i['qualifications'] for i in data['staff']]\n",
    "job_list=[i['name'] for i in data['jobs']]\n",
    "jour_list=[i for i in range(1,horizon+1)]\n",
    "job_penality=[i['daily_penalty'] for i in data['jobs']] \n",
    "job_qualifications= [i['working_days_per_qualification'] for i in data['jobs']]\n",
    "job_gain=[i['gain'] for i in data['jobs']]\n",
    "due_dates=[i['due_date'] for i in data['jobs']]\n",
    "vacation_staff=[i['vacations'] for i in data['staff']]"
   ]
  },
  {
   "cell_type": "markdown",
   "metadata": {},
   "source": [
    "# Model's parameters"
   ]
  },
  {
   "attachments": {
    "image.png": {
     "image/png": "[encoded data removed]"
    }
   },
   "cell_type": "markdown",
   "metadata": {},
   "source": [
    "![image.png](attachment:image.png)"
   ]
  },
  {
   "cell_type": "code",
   "execution_count": 8,
   "metadata": {},
   "outputs": [],
   "source": [
    "# create a function that converts a dictionary to a matrix\n",
    "def get_matrix(liste):\n",
    "    test=pd.DataFrame.from_dict(liste,orient='index')\n",
    "    test.fillna(0,inplace=True)\n",
    "    return test.to_dict(orient='index')"
   ]
  },
  {
   "cell_type": "code",
   "execution_count": 9,
   "metadata": {},
   "outputs": [],
   "source": [
    "# create dictionaries with job_list as key and job_penality, job_gain ans due_dates as values\n",
    "gammak=job_penality_dict=dict(zip(job_list,job_penality))\n",
    "gk=job_gain_dict=dict(zip(job_list,job_gain))\n",
    "lk=due_dates_dict=dict(zip(job_list,due_dates))\n",
    "\n",
    "# create a dictionary for staff qualifications\n",
    "pi_c = {}\n",
    "for i in range(len(staff_names)) :\n",
    "    k = staff_names[i]\n",
    "    pi_c[k] = {}\n",
    "    for c in qualifications:\n",
    "        if c in data['staff'][i]['qualifications']:\n",
    "            pi_c[k][c] = 1\n",
    "        else:\n",
    "            pi_c[k][c] = 0\n",
    "qk_c=get_matrix(dict(zip(job_list,job_qualifications)))\n",
    "# get pi_j\n",
    "staff_in_vacation=pd.DataFrame(index=staff_names,columns=jour_list)\n",
    "# fill the dataframe staff_in_vacation with the svalues of the dictionary\n",
    "for i in staff_names:\n",
    "    for j in jour_list:\n",
    "        staff_in_vacation.loc[i,j]=0 if j in dict(zip(staff_names,vacation_staff))[i] else 1\n",
    "pi_j=staff_in_vacation.to_dict(orient='index')"
   ]
  },
  {
   "cell_type": "markdown",
   "metadata": {},
   "source": [
    "# Decision variables"
   ]
  },
  {
   "attachments": {
    "image.png": {
     "image/png": "[encoded data removed]"
    }
   },
   "cell_type": "markdown",
   "metadata": {},
   "source": [
    "![image.png](attachment:image.png)"
   ]
  },
  {
   "cell_type": "code",
   "execution_count": 10,
   "metadata": {},
   "outputs": [
    {
     "data": {
      "text/plain": [
       "<gurobi.Model Continuous instance Model: 0 constrs, 0 vars, No parameter changes>"
      ]
     },
     "execution_count": 10,
     "metadata": {},
     "output_type": "execute_result"
    }
   ],
   "source": [
    "# Add decision variables\n",
    "# pi_k_j_c: Le personnel i est affecté au projet k sur la compétence c pour le jour j\n",
    "pi_k_j_c = model.addVars(staff_names,job_list,jour_list,qualifications, vtype=GRB.BINARY, name=\"pi_k_j_c\")\n",
    "# pk_j : 1 si on travaille sur le projet k le jour j sinon 0\n",
    "#pk_j = model.addVars(job_list,jour_list,vtype=GRB.BINARY, name=\"pk_j\")\n",
    "# rk : 1 si le projet k est réalisé 0 sinon\n",
    "rk = model.addVars( job_list,vtype=GRB.BINARY, name=\"rk\")\n",
    "rk_c = model.addVars(job_list,qualifications,vtype=GRB.BINARY, name=\"rk_c\")\n",
    "deltak = model.addVars( job_list,vtype=GRB.BINARY, name=\"deltak\")\n",
    "deltak_c = model.addVars(job_list,qualifications,vtype=GRB.BINARY, name=\"deltak_c\")\n",
    "# pi_k : 1 si le personnel i est affecté au projet k 0 sinon\n",
    "#pi_k = model.addVars( staff_names,job_list,vtype=GRB.BINARY, name=\"dk\")\n",
    "model"
   ]
  },
  {
   "cell_type": "markdown",
   "metadata": {},
   "source": [
    "# Constraints"
   ]
  },
  {
   "attachments": {
    "image.png": {
     "image/png": "[encoded data removed]"
    }
   },
   "cell_type": "markdown",
   "metadata": {},
   "source": [
    "![image.png](attachment:image.png)"
   ]
  },
  {
   "cell_type": "code",
   "execution_count": 11,
   "metadata": {},
   "outputs": [
    {
     "data": {
      "text/plain": [
       "'constr1={\\'pi_k_j_c\\':model.addConstr(pi_k_j_c[i,k,j,c]  + (1-pi_c[i][c]) <=1, name=\"contrainte1\")\\n    for k,j in zip(job_list,jour_list) \\n    for i,c in zip(staff_names,qualifications) }\\nconstr2={\\'pi_k_j_c\\':model.addConstr(grb.quicksum(pi_k_j_c[i,k,j,c] for k,c in zip(job_list,qualifications)) <=1, name=\"contrainte2\")\\n    for i,j in zip(staff_names,jour_list)}\\nconstr3={\\'pi_k_j_c\\':model.addConstr(pi_k_j_c[i,k,j,c]  + (1-pi_j[i][j]) <=1, name=\"contrainte3\")\\n    for k,j in zip(job_list,jour_list) \\n    for i,c in zip(staff_names,qualifications) }\\nconstr4={\\'pi_k_j_c\\':model.addConstr(deltak[f\\'Job{i+1}\\'] - (1 - rk[f\\'Job{i+1}\\']) <=0, name = \"contrainte4\")\\n        for i in range(5)} \\nconstr5 = {\\'pi_k_j_c\\':model.addConstr(grb.quicksum(pi_k_j_c[i,k,j,c] for i,j in zip(staff_names,jour_list)) - qk_c[k][c] + 1 <= 1 - deltak[k] , name = \"contrainte5\")\\n        for k in job_list\\n          for c in qualifications} \\nconstr6 = {\\'pi_k_j_c\\':model.addConstr(grb.quicksum(pi_k_j_c[i,k,j,c] for i,j in zip(staff_names,jour_list)) - qk_c[k][c] + 1 >= -0.99  , name = \"contrainte6\")\\n        for k in job_list\\n          for c in qualifications} '"
      ]
     },
     "execution_count": 11,
     "metadata": {},
     "output_type": "execute_result"
    }
   ],
   "source": [
    "#Un personnel i peut être associé au projet k que s’il possède la compétence c nécessaire pour le projet :\n",
    "\"\"\"constr1={'pi_k_j_c':model.addConstr(pi_k_j_c[i,k,j,c]  + (1-pi_c[i][c]) <=1, name=\"contrainte1\")\n",
    "    for k,j in zip(job_list,jour_list) \n",
    "    for i,c in zip(staff_names,qualifications) }\n",
    "constr2={'pi_k_j_c':model.addConstr(grb.quicksum(pi_k_j_c[i,k,j,c] for k,c in zip(job_list,qualifications)) <=1, name=\"contrainte2\")\n",
    "    for i,j in zip(staff_names,jour_list)}\n",
    "constr3={'pi_k_j_c':model.addConstr(pi_k_j_c[i,k,j,c]  + (1-pi_j[i][j]) <=1, name=\"contrainte3\")\n",
    "    for k,j in zip(job_list,jour_list) \n",
    "    for i,c in zip(staff_names,qualifications) }\n",
    "constr4={'pi_k_j_c':model.addConstr(deltak[f'Job{i+1}'] - (1 - rk[f'Job{i+1}']) <=0, name = \"contrainte4\")\n",
    "        for i in range(5)} \n",
    "constr5 = {'pi_k_j_c':model.addConstr(grb.quicksum(pi_k_j_c[i,k,j,c] for i,j in zip(staff_names,jour_list)) - qk_c[k][c] + 1 <= 1 - deltak[k] , name = \"contrainte5\")\n",
    "        for k in job_list\n",
    "          for c in qualifications} \n",
    "constr6 = {'pi_k_j_c':model.addConstr(grb.quicksum(pi_k_j_c[i,k,j,c] for i,j in zip(staff_names,jour_list)) - qk_c[k][c] + 1 >= -0.99  , name = \"contrainte6\")\n",
    "        for k in job_list\n",
    "          for c in qualifications} \"\"\""
   ]
  },
  {
   "cell_type": "code",
   "execution_count": 12,
   "metadata": {},
   "outputs": [],
   "source": [
    "#Un personnel i peut être associé au projet k que s’il possède la compétence c nécessaire pour le projet :\n",
    "constr1={f'p{i}_{k}_{j}_{c}':model.addConstr(pi_k_j_c[i,k,j,c]  + (1-pi_c[i][c]) <=1, name=f\"contrainte1{i}_{k}_{j}_{c}\")\n",
    "    for i in staff_names for k in job_list \n",
    "       for j in jour_list  for c in qualifications }\n",
    "constr2={f'p{i}_{j}':model.addConstr(grb.quicksum(pi_k_j_c[i,k,j,c] for k in job_list for c in qualifications) <=1, name=f\"contrainte2{i}_{j}\")\n",
    "    for i in staff_names for j in jour_list}\n",
    "constr3={f'2p{i}_{k}_{j}_{c}':model.addConstr(pi_k_j_c[i,k,j,c]  + (1-pi_j[i][j]) <=1, name=f\"contrainte3{i}_{k}_{j}_{c}\")\n",
    "    for i in staff_names for k in job_list \n",
    "       for j in jour_list  for c in qualifications }\n",
    "constr4={f'p{i}':model.addConstr(deltak[f'Job{i+1}'] - (1 - rk[f'Job{i+1}']) <=0, name = f\"contrainte4{i}\")\n",
    "        for i in range(5)\n",
    "        } \n",
    "\n",
    "constr5 = {f'p{k}_{c}':model.addConstr(grb.quicksum(pi_k_j_c[i,k,j,c] for i in staff_names for j in jour_list) - qk_c[k][c] + 1 <= (1 - deltak_c[k,c]) , name = f\"contrainte5{k}_{c}\")\n",
    "        for k in job_list\n",
    "          for c in qualifications}\n",
    "\n",
    "constr6 = {f'p2{k}_{c}':model.addConstr( -deltak_c[k,c] + 0.01 <= grb.quicksum(pi_k_j_c[i,k,j,c] for i in staff_names for j in jour_list) - qk_c[k][c] + 1   , name = f\"contrainte6{k}_{c}\")\n",
    "        for k in job_list\n",
    "          for c in qualifications} \n",
    "constr7 = {f'p{k}':model.addConstr(deltak[f'Job{i+1}']  >= deltak_c[f'Job{i+1}',c], name = f\"contrainte7{i}\")\n",
    "        for i in range(5)\n",
    "           for c in qualifications\n",
    "        }"
   ]
  },
  {
   "cell_type": "code",
   "execution_count": 13,
   "metadata": {},
   "outputs": [],
   "source": [
    "# Fonction Objectif\n",
    "model.setObjective(grb.quicksum((job_gain[i]*rk[f'Job{i+1}'])  for i in range(5)), GRB.MAXIMIZE)         \n",
    "# Paramétrage (mode mute)\n",
    "model.params.outputflag = 0\n",
    "# Résolution du PL\n",
    "model.optimize()"
   ]
  },
  {
   "cell_type": "code",
   "execution_count": 14,
   "metadata": {},
   "outputs": [],
   "source": [
    "#model.computeIIS()\n",
    "model.write(\"model.lp\")"
   ]
  },
  {
   "cell_type": "code",
   "execution_count": 15,
   "metadata": {},
   "outputs": [
    {
     "data": {
      "text/plain": [
       "80.0"
      ]
     },
     "execution_count": 15,
     "metadata": {},
     "output_type": "execute_result"
    }
   ],
   "source": [
    "model.ObjVal"
   ]
  },
  {
   "cell_type": "code",
   "execution_count": 16,
   "metadata": {},
   "outputs": [],
   "source": [
    "values= []\n",
    "for k, v in pi_k_j_c.items():\n",
    "    values.append(v.x)"
   ]
  },
  {
   "cell_type": "code",
   "execution_count": 17,
   "metadata": {},
   "outputs": [
    {
     "data": {
      "text/html": [
       "<div>\n",
       "<style scoped>\n",
       "    .dataframe tbody tr th:only-of-type {\n",
       "        vertical-align: middle;\n",
       "    }\n",
       "\n",
       "    .dataframe tbody tr th {\n",
       "        vertical-align: top;\n",
       "    }\n",
       "\n",
       "    .dataframe thead th {\n",
       "        text-align: right;\n",
       "    }\n",
       "</style>\n",
       "<table border=\"1\" class=\"dataframe\">\n",
       "  <thead>\n",
       "    <tr style=\"text-align: right;\">\n",
       "      <th></th>\n",
       "      <th>0</th>\n",
       "      <th>1</th>\n",
       "      <th>2</th>\n",
       "      <th>3</th>\n",
       "      <th>4</th>\n",
       "    </tr>\n",
       "  </thead>\n",
       "  <tbody>\n",
       "    <tr>\n",
       "      <th>0</th>\n",
       "      <td>Olivia</td>\n",
       "      <td>Job1</td>\n",
       "      <td>1</td>\n",
       "      <td>A</td>\n",
       "      <td>1.0</td>\n",
       "    </tr>\n",
       "    <tr>\n",
       "      <th>8</th>\n",
       "      <td>Olivia</td>\n",
       "      <td>Job1</td>\n",
       "      <td>3</td>\n",
       "      <td>C</td>\n",
       "      <td>1.0</td>\n",
       "    </tr>\n",
       "    <tr>\n",
       "      <th>28</th>\n",
       "      <td>Olivia</td>\n",
       "      <td>Job2</td>\n",
       "      <td>4</td>\n",
       "      <td>B</td>\n",
       "      <td>1.0</td>\n",
       "    </tr>\n",
       "    <tr>\n",
       "      <th>30</th>\n",
       "      <td>Olivia</td>\n",
       "      <td>Job2</td>\n",
       "      <td>5</td>\n",
       "      <td>A</td>\n",
       "      <td>1.0</td>\n",
       "    </tr>\n",
       "    <tr>\n",
       "      <th>70</th>\n",
       "      <td>Olivia</td>\n",
       "      <td>Job4</td>\n",
       "      <td>6</td>\n",
       "      <td>B</td>\n",
       "      <td>1.0</td>\n",
       "    </tr>\n",
       "    <tr>\n",
       "      <th>77</th>\n",
       "      <td>Olivia</td>\n",
       "      <td>Job5</td>\n",
       "      <td>2</td>\n",
       "      <td>C</td>\n",
       "      <td>1.0</td>\n",
       "    </tr>\n",
       "    <tr>\n",
       "      <th>97</th>\n",
       "      <td>Liam</td>\n",
       "      <td>Job1</td>\n",
       "      <td>3</td>\n",
       "      <td>B</td>\n",
       "      <td>1.0</td>\n",
       "    </tr>\n",
       "    <tr>\n",
       "      <th>124</th>\n",
       "      <td>Liam</td>\n",
       "      <td>Job2</td>\n",
       "      <td>6</td>\n",
       "      <td>B</td>\n",
       "      <td>1.0</td>\n",
       "    </tr>\n",
       "    <tr>\n",
       "      <th>135</th>\n",
       "      <td>Liam</td>\n",
       "      <td>Job3</td>\n",
       "      <td>4</td>\n",
       "      <td>A</td>\n",
       "      <td>1.0</td>\n",
       "    </tr>\n",
       "    <tr>\n",
       "      <th>157</th>\n",
       "      <td>Liam</td>\n",
       "      <td>Job4</td>\n",
       "      <td>5</td>\n",
       "      <td>B</td>\n",
       "      <td>1.0</td>\n",
       "    </tr>\n",
       "    <tr>\n",
       "      <th>227</th>\n",
       "      <td>Emma</td>\n",
       "      <td>Job3</td>\n",
       "      <td>4</td>\n",
       "      <td>C</td>\n",
       "      <td>1.0</td>\n",
       "    </tr>\n",
       "    <tr>\n",
       "      <th>233</th>\n",
       "      <td>Emma</td>\n",
       "      <td>Job3</td>\n",
       "      <td>6</td>\n",
       "      <td>C</td>\n",
       "      <td>1.0</td>\n",
       "    </tr>\n",
       "    <tr>\n",
       "      <th>236</th>\n",
       "      <td>Emma</td>\n",
       "      <td>Job4</td>\n",
       "      <td>1</td>\n",
       "      <td>C</td>\n",
       "      <td>1.0</td>\n",
       "    </tr>\n",
       "    <tr>\n",
       "      <th>260</th>\n",
       "      <td>Emma</td>\n",
       "      <td>Job5</td>\n",
       "      <td>3</td>\n",
       "      <td>C</td>\n",
       "      <td>1.0</td>\n",
       "    </tr>\n",
       "  </tbody>\n",
       "</table>\n",
       "</div>"
      ],
      "text/plain": [
       "          0     1  2  3    4\n",
       "0    Olivia  Job1  1  A  1.0\n",
       "8    Olivia  Job1  3  C  1.0\n",
       "28   Olivia  Job2  4  B  1.0\n",
       "30   Olivia  Job2  5  A  1.0\n",
       "70   Olivia  Job4  6  B  1.0\n",
       "77   Olivia  Job5  2  C  1.0\n",
       "97     Liam  Job1  3  B  1.0\n",
       "124    Liam  Job2  6  B  1.0\n",
       "135    Liam  Job3  4  A  1.0\n",
       "157    Liam  Job4  5  B  1.0\n",
       "227    Emma  Job3  4  C  1.0\n",
       "233    Emma  Job3  6  C  1.0\n",
       "236    Emma  Job4  1  C  1.0\n",
       "260    Emma  Job5  3  C  1.0"
      ]
     },
     "execution_count": 17,
     "metadata": {},
     "output_type": "execute_result"
    }
   ],
   "source": [
    "res = pd.DataFrame(list(pi_k_j_c.keys()))\n",
    "res[4] = values\n",
    "result = res[res[4] == 1]\n",
    "result"
   ]
  },
  {
   "cell_type": "markdown",
   "metadata": {},
   "source": [
    "## Result Table"
   ]
  },
  {
   "cell_type": "code",
   "execution_count": 18,
   "metadata": {},
   "outputs": [],
   "source": [
    "def color_table(x):\n",
    "    if pd.isna(x):\n",
    "        return \"background-color: white\"\n",
    "    else:\n",
    "        if \"Job1\" in x :\n",
    "            return \"background-color: blue\"\n",
    "        elif \"Job2\" in x:\n",
    "            return \"background-color: pink\"\n",
    "        elif \"Job3\" in x:\n",
    "            return \"background-color: orange\"\n",
    "        elif \"Job4\" in x:\n",
    "           return \"background-color: yellow\"\n",
    "        elif \"Job5\" in x:\n",
    "           return \"background-color: green\"\n",
    "        else:\n",
    "           return  \"background-color: red\""
   ]
  },
  {
   "cell_type": "code",
   "execution_count": 19,
   "metadata": {},
   "outputs": [
    {
     "data": {
      "text/html": [
       "<style type=\"text/css\">\n",
       "#T_904ae_row0_col0, #T_904ae_row0_col2, #T_904ae_row1_col2 {\n",
       "  background-color: blue;\n",
       "}\n",
       "#T_904ae_row0_col1, #T_904ae_row2_col2 {\n",
       "  background-color: green;\n",
       "}\n",
       "#T_904ae_row0_col3, #T_904ae_row0_col4, #T_904ae_row1_col5 {\n",
       "  background-color: pink;\n",
       "}\n",
       "#T_904ae_row0_col5, #T_904ae_row1_col4, #T_904ae_row2_col0 {\n",
       "  background-color: yellow;\n",
       "}\n",
       "#T_904ae_row1_col0, #T_904ae_row2_col1 {\n",
       "  background-color: red;\n",
       "}\n",
       "#T_904ae_row1_col1, #T_904ae_row2_col4 {\n",
       "  background-color: white;\n",
       "}\n",
       "#T_904ae_row1_col3, #T_904ae_row2_col3, #T_904ae_row2_col5 {\n",
       "  background-color: orange;\n",
       "}\n",
       "</style>\n",
       "<table id=\"T_904ae\">\n",
       "  <thead>\n",
       "    <tr>\n",
       "      <th class=\"blank level0\" >&nbsp;</th>\n",
       "      <th id=\"T_904ae_level0_col0\" class=\"col_heading level0 col0\" >1</th>\n",
       "      <th id=\"T_904ae_level0_col1\" class=\"col_heading level0 col1\" >2</th>\n",
       "      <th id=\"T_904ae_level0_col2\" class=\"col_heading level0 col2\" >3</th>\n",
       "      <th id=\"T_904ae_level0_col3\" class=\"col_heading level0 col3\" >4</th>\n",
       "      <th id=\"T_904ae_level0_col4\" class=\"col_heading level0 col4\" >5</th>\n",
       "      <th id=\"T_904ae_level0_col5\" class=\"col_heading level0 col5\" >6</th>\n",
       "    </tr>\n",
       "  </thead>\n",
       "  <tbody>\n",
       "    <tr>\n",
       "      <th id=\"T_904ae_level0_row0\" class=\"row_heading level0 row0\" >Olivia</th>\n",
       "      <td id=\"T_904ae_row0_col0\" class=\"data row0 col0\" >A Job1</td>\n",
       "      <td id=\"T_904ae_row0_col1\" class=\"data row0 col1\" >C Job5</td>\n",
       "      <td id=\"T_904ae_row0_col2\" class=\"data row0 col2\" >C Job1</td>\n",
       "      <td id=\"T_904ae_row0_col3\" class=\"data row0 col3\" >B Job2</td>\n",
       "      <td id=\"T_904ae_row0_col4\" class=\"data row0 col4\" >A Job2</td>\n",
       "      <td id=\"T_904ae_row0_col5\" class=\"data row0 col5\" >B Job4</td>\n",
       "    </tr>\n",
       "    <tr>\n",
       "      <th id=\"T_904ae_level0_row1\" class=\"row_heading level0 row1\" >Liam</th>\n",
       "      <td id=\"T_904ae_row1_col0\" class=\"data row1 col0\" >X</td>\n",
       "      <td id=\"T_904ae_row1_col1\" class=\"data row1 col1\" >nan</td>\n",
       "      <td id=\"T_904ae_row1_col2\" class=\"data row1 col2\" >B Job1</td>\n",
       "      <td id=\"T_904ae_row1_col3\" class=\"data row1 col3\" >A Job3</td>\n",
       "      <td id=\"T_904ae_row1_col4\" class=\"data row1 col4\" >B Job4</td>\n",
       "      <td id=\"T_904ae_row1_col5\" class=\"data row1 col5\" >B Job2</td>\n",
       "    </tr>\n",
       "    <tr>\n",
       "      <th id=\"T_904ae_level0_row2\" class=\"row_heading level0 row2\" >Emma</th>\n",
       "      <td id=\"T_904ae_row2_col0\" class=\"data row2 col0\" >C Job4</td>\n",
       "      <td id=\"T_904ae_row2_col1\" class=\"data row2 col1\" >X</td>\n",
       "      <td id=\"T_904ae_row2_col2\" class=\"data row2 col2\" >C Job5</td>\n",
       "      <td id=\"T_904ae_row2_col3\" class=\"data row2 col3\" >C Job3</td>\n",
       "      <td id=\"T_904ae_row2_col4\" class=\"data row2 col4\" >nan</td>\n",
       "      <td id=\"T_904ae_row2_col5\" class=\"data row2 col5\" >C Job3</td>\n",
       "    </tr>\n",
       "  </tbody>\n",
       "</table>\n"
      ],
      "text/plain": [
       "<pandas.io.formats.style.Styler at 0x1d1971dc8e0>"
      ]
     },
     "execution_count": 19,
     "metadata": {},
     "output_type": "execute_result"
    }
   ],
   "source": [
    "df = pd.DataFrame(columns = [i for i in range(1,6)], index = staff_names)\n",
    "\n",
    "for ind, val in result.iterrows():\n",
    "    col = val[2]\n",
    "    row = val[0]\n",
    "    v = val[3] + \" \" + val[1]\n",
    "    df.loc[row,col] = v\n",
    "    # vacation\n",
    "    for staff in staff_names:\n",
    "        for day in jour_list:\n",
    "            if pi_j[staff][day] == 0:\n",
    "                df.loc[staff,day] = 'X'\n",
    "df.style.applymap(color_table)"
   ]
  },
  {
   "cell_type": "code",
   "execution_count": 20,
   "metadata": {},
   "outputs": [
    {
     "data": {
      "text/plain": [
       "{('Job1', 'A'): <gurobi.Var deltak_c[Job1,A] (value 0.0)>,\n",
       " ('Job1', 'B'): <gurobi.Var deltak_c[Job1,B] (value 0.0)>,\n",
       " ('Job1', 'C'): <gurobi.Var deltak_c[Job1,C] (value 0.0)>,\n",
       " ('Job2', 'A'): <gurobi.Var deltak_c[Job2,A] (value 0.0)>,\n",
       " ('Job2', 'B'): <gurobi.Var deltak_c[Job2,B] (value 0.0)>,\n",
       " ('Job2', 'C'): <gurobi.Var deltak_c[Job2,C] (value 0.0)>,\n",
       " ('Job3', 'A'): <gurobi.Var deltak_c[Job3,A] (value 0.0)>,\n",
       " ('Job3', 'B'): <gurobi.Var deltak_c[Job3,B] (value 0.0)>,\n",
       " ('Job3', 'C'): <gurobi.Var deltak_c[Job3,C] (value 0.0)>,\n",
       " ('Job4', 'A'): <gurobi.Var deltak_c[Job4,A] (value 0.0)>,\n",
       " ('Job4', 'B'): <gurobi.Var deltak_c[Job4,B] (value 0.0)>,\n",
       " ('Job4', 'C'): <gurobi.Var deltak_c[Job4,C] (value 0.0)>,\n",
       " ('Job5', 'A'): <gurobi.Var deltak_c[Job5,A] (value 0.0)>,\n",
       " ('Job5', 'B'): <gurobi.Var deltak_c[Job5,B] (value 0.0)>,\n",
       " ('Job5', 'C'): <gurobi.Var deltak_c[Job5,C] (value 0.0)>}"
      ]
     },
     "execution_count": 20,
     "metadata": {},
     "output_type": "execute_result"
    }
   ],
   "source": [
    "deltak_c"
   ]
  },
  {
   "cell_type": "code",
   "execution_count": 21,
   "metadata": {},
   "outputs": [
    {
     "data": {
      "text/plain": [
       "{'Job1': <gurobi.Var rk[Job1] (value 1.0)>,\n",
       " 'Job2': <gurobi.Var rk[Job2] (value 1.0)>,\n",
       " 'Job3': <gurobi.Var rk[Job3] (value 1.0)>,\n",
       " 'Job4': <gurobi.Var rk[Job4] (value 1.0)>,\n",
       " 'Job5': <gurobi.Var rk[Job5] (value 1.0)>}"
      ]
     },
     "execution_count": 21,
     "metadata": {},
     "output_type": "execute_result"
    }
   ],
   "source": [
    "rk"
   ]
  },
  {
   "cell_type": "code",
   "execution_count": null,
   "metadata": {},
   "outputs": [],
   "source": []
  }
 ],
 "metadata": {
  "kernelspec": {
   "display_name": "base",
   "language": "python",
   "name": "python3"
  },
  "language_info": {
   "codemirror_mode": {
    "name": "ipython",
    "version": 3
   },
   "file_extension": ".py",
   "mimetype": "text/x-python",
   "name": "python",
   "nbconvert_exporter": "python",
   "pygments_lexer": "ipython3",
   "version": "3.9.13"
  },
  "vscode": {
   "interpreter": {
    "hash": "992fe7c5fc85bbb99cdbb1a7127f4f04531c143f133625dff1af063a39de0f81"
   }
  }
 },
 "nbformat": 4,
 "nbformat_minor": 2
}
