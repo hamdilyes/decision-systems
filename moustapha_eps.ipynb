{
 "cells": [
  {
   "cell_type": "markdown",
   "metadata": {},
   "source": [
    "# Import Libraries"
   ]
  },
  {
   "cell_type": "code",
   "execution_count": 19,
   "metadata": {},
   "outputs": [],
   "source": [
    "import gurobipy as grb\n",
    "import pandas as pd\n",
    "from gurobipy import GRB\n",
    "import numpy as np"
   ]
  },
  {
   "cell_type": "markdown",
   "metadata": {},
   "source": [
    "# Model"
   ]
  },
  {
   "cell_type": "code",
   "execution_count": 20,
   "metadata": {},
   "outputs": [],
   "source": [
    " # Create a model\n",
    "model = grb.Model(\"Model\")"
   ]
  },
  {
   "cell_type": "markdown",
   "metadata": {},
   "source": [
    "# Get data from json"
   ]
  },
  {
   "cell_type": "code",
   "execution_count": 21,
   "metadata": {},
   "outputs": [
    {
     "data": {
      "text/plain": [
       "{'horizon': 5,\n",
       " 'qualifications': ['A', 'B', 'C'],\n",
       " 'staff': [{'name': 'Olivia',\n",
       "   'qualifications': ['A', 'B', 'C'],\n",
       "   'vacations': []},\n",
       "  {'name': 'Liam', 'qualifications': ['A', 'B'], 'vacations': [1]},\n",
       "  {'name': 'Emma', 'qualifications': ['C'], 'vacations': [2]}],\n",
       " 'jobs': [{'name': 'Job1',\n",
       "   'gain': 20,\n",
       "   'due_date': 3,\n",
       "   'daily_penalty': 3,\n",
       "   'working_days_per_qualification': {'A': 1, 'B': 1, 'C': 1}},\n",
       "  {'name': 'Job2',\n",
       "   'gain': 15,\n",
       "   'due_date': 3,\n",
       "   'daily_penalty': 3,\n",
       "   'working_days_per_qualification': {'A': 1, 'B': 2}},\n",
       "  {'name': 'Job3',\n",
       "   'gain': 15,\n",
       "   'due_date': 4,\n",
       "   'daily_penalty': 3,\n",
       "   'working_days_per_qualification': {'A': 1, 'C': 2}},\n",
       "  {'name': 'Job4',\n",
       "   'gain': 20,\n",
       "   'due_date': 3,\n",
       "   'daily_penalty': 3,\n",
       "   'working_days_per_qualification': {'B': 2, 'C': 1}},\n",
       "  {'name': 'Job5',\n",
       "   'gain': 10,\n",
       "   'due_date': 5,\n",
       "   'daily_penalty': 3,\n",
       "   'working_days_per_qualification': {'C': 2}}]}"
      ]
     },
     "execution_count": 21,
     "metadata": {},
     "output_type": "execute_result"
    }
   ],
   "source": [
    "# get the  data from the json file small.json\n",
    "import json\n",
    "with open('small.json') as f:\n",
    "    data = json.load(f)\n",
    "# data"
   ]
  },
  {
   "cell_type": "markdown",
   "metadata": {},
   "source": [
    "## Constants from data"
   ]
  },
  {
   "cell_type": "code",
   "execution_count": 22,
   "metadata": {},
   "outputs": [],
   "source": [
    "horizon= data['horizon']\n",
    "qualifications=data['qualifications']\n",
    "staff_names=[i['name'] for i in data['staff']]\n",
    "staff_qualifications=[i['qualifications'] for i in data['staff']]\n",
    "job_list=[i['name'] for i in data['jobs']]\n",
    "jour_list=[i for i in range(1,horizon+1)]\n",
    "job_penality=[i['daily_penalty'] for i in data['jobs']] \n",
    "job_qualifications= [i['working_days_per_qualification'] for i in data['jobs']]\n",
    "job_gain=[i['gain'] for i in data['jobs']]\n",
    "due_dates=[i['due_date'] for i in data['jobs']]\n",
    "vacation_staff=[i['vacations'] for i in data['staff']]"
   ]
  },
  {
   "cell_type": "code",
   "execution_count": 23,
   "metadata": {},
   "outputs": [
    {
     "data": {
      "text/plain": [
       "{'horizon': 5,\n",
       " 'qualifications': ['A', 'B', 'C'],\n",
       " 'staff': [{'name': 'Olivia',\n",
       "   'qualifications': ['A', 'B', 'C'],\n",
       "   'vacations': []},\n",
       "  {'name': 'Liam', 'qualifications': ['A', 'B'], 'vacations': [1]},\n",
       "  {'name': 'Emma', 'qualifications': ['C'], 'vacations': [2]}],\n",
       " 'jobs': [{'name': 'Job1',\n",
       "   'gain': 20,\n",
       "   'due_date': 3,\n",
       "   'daily_penalty': 3,\n",
       "   'working_days_per_qualification': {'A': 1, 'B': 1, 'C': 1}},\n",
       "  {'name': 'Job2',\n",
       "   'gain': 15,\n",
       "   'due_date': 3,\n",
       "   'daily_penalty': 3,\n",
       "   'working_days_per_qualification': {'A': 1, 'B': 2}},\n",
       "  {'name': 'Job3',\n",
       "   'gain': 15,\n",
       "   'due_date': 4,\n",
       "   'daily_penalty': 3,\n",
       "   'working_days_per_qualification': {'A': 1, 'C': 2}},\n",
       "  {'name': 'Job4',\n",
       "   'gain': 20,\n",
       "   'due_date': 3,\n",
       "   'daily_penalty': 3,\n",
       "   'working_days_per_qualification': {'B': 2, 'C': 1}},\n",
       "  {'name': 'Job5',\n",
       "   'gain': 10,\n",
       "   'due_date': 5,\n",
       "   'daily_penalty': 3,\n",
       "   'working_days_per_qualification': {'C': 2}}]}"
      ]
     },
     "execution_count": 23,
     "metadata": {},
     "output_type": "execute_result"
    }
   ],
   "source": [
    "data"
   ]
  },
  {
   "cell_type": "markdown",
   "metadata": {},
   "source": [
    "# Model's parameters"
   ]
  },
  {
   "cell_type": "markdown",
   "metadata": {},
   "source": [
    "#### Objective 1\n",
    "H : days\n",
    "\n",
    "Q : qualifications\n",
    "\n",
    "S : staff\n",
    "\n",
    "J : jobs\n",
    "\n",
    "qi : qualifications of i\n",
    "\n",
    "qj : qualifications of j\n",
    "\n",
    "vi : vacation days of i\n",
    "\n",
    "njk : required work load for j with k\n",
    "\n",
    "cj : daily penalty of j\n",
    "\n",
    "gj : gain of j\n",
    "\n",
    "dj : due date of j\n",
    "\n",
    "yj : is j completely done\n",
    "\n",
    "lj : delay in days for j\n",
    "\n",
    "ej : end date of j\n",
    "\n",
    "pi_j_k_t : work is done by i with k for j on t"
   ]
  },
  {
   "cell_type": "markdown",
   "metadata": {},
   "source": [
    "#### Objective 2\n",
    "aij : j is assigned to i\n",
    "\n",
    "ni : number of jobs i works on\n",
    "\n",
    "max_i : max of ni"
   ]
  },
  {
   "cell_type": "markdown",
   "metadata": {},
   "source": [
    "### Objective 3\n",
    "sj : start date for j\n",
    "\n",
    "nj : length in days for j\n",
    "\n",
    "max_j : maximum of nj"
   ]
  },
  {
   "cell_type": "code",
   "execution_count": 24,
   "metadata": {},
   "outputs": [],
   "source": [
    "H = [i for i in range(1,horizon+1)]\n",
    "Q = qualifications\n",
    "S = staff_names\n",
    "J = job_list\n",
    "# Parameters for each staff\n",
    "\n",
    "qi = {}\n",
    "for i in range(len(staff_names)) :\n",
    "    k = staff_names[i]\n",
    "    qi[k] = []\n",
    "    for c in qualifications:\n",
    "        if c in data['staff'][i]['qualifications']:\n",
    "            qi[k].append(c)\n",
    "vi={}\n",
    "for ind,i in enumerate(staff_names):\n",
    "    vi[i] = []\n",
    "    for j in jour_list:\n",
    "        if j in vacation_staff[ind]:\n",
    "            vi[i].append(j)\n",
    "#vi=staff_in_vacation.to_dict(orient='index')\n",
    "\n",
    "# Parameters for each job\n",
    "qj = dict()\n",
    "for ind, j in enumerate(job_list):\n",
    "    qj[j] = list(job_qualifications[ind].keys())\n",
    "njk = dict(zip(job_list,job_qualifications))\n",
    "cj=job_penality_dict=dict(zip(job_list,job_penality))\n",
    "gj=job_gain_dict=dict(zip(job_list,job_gain))\n",
    "dj = dict(zip(job_list,due_dates))\n"
   ]
  },
  {
   "cell_type": "markdown",
   "metadata": {},
   "source": [
    "# Decision variables"
   ]
  },
  {
   "cell_type": "code",
   "execution_count": 25,
   "metadata": {},
   "outputs": [],
   "source": [
    "# Objective 1\n",
    "pijkt = model.addVars(staff_names,job_list,qualifications,jour_list, vtype=GRB.BINARY, name=\"pijkt\")\n",
    "\n",
    "yj = model.addVars(job_list, vtype=GRB.BINARY, name=\"yj\")\n",
    "lj = model.addVars(job_list, vtype=GRB.INTEGER, name=\"lj\")\n",
    "ej = model.addVars(job_list, vtype=GRB.INTEGER, name=\"ej\")\n",
    "\n",
    "# Objective 2\n",
    "max_i = model.addVar(vtype=GRB.INTEGER, name=\"max_i\")\n",
    "ni = model.addVars(S, vtype=GRB.INTEGER, name=\"ni\")\n",
    "aij = model.addVars(S, J, vtype=GRB.BINARY, name=\"aij\")\n",
    "\n",
    "# Objective 3\n",
    "sj = model.addVars(J, vtype=GRB.INTEGER, name=\"sj\")\n",
    "nj = model.addVars(J, vtype=GRB.INTEGER, name=\"nj\")\n",
    "max_j = model.addVar(vtype=GRB.INTEGER, name=\"max_j\")"
   ]
  },
  {
   "cell_type": "markdown",
   "metadata": {},
   "source": [
    "# Constraints"
   ]
  },
  {
   "cell_type": "markdown",
   "metadata": {},
   "source": [
    "### Objective 1"
   ]
  },
  {
   "cell_type": "code",
   "execution_count": 26,
   "metadata": {},
   "outputs": [],
   "source": [
    "constr1 = {f'constr1{i}_{t}':model.addConstr( grb.quicksum(pijkt[i,j,k,t] for j in J for k in Q) <= 1 , name=f\"constr1{i}_{t}\")\n",
    "  for i in S\n",
    "  for t in H}\n",
    "\n",
    "constr2 = {f'constr2{i}_{t}':model.addConstr( grb.quicksum(pijkt[i,j,k,t] for j in J for k in Q) == 0 , name=f\"constr2{i}_{t}\")\n",
    "  for i in S\n",
    "  for t in vi[i]}\n",
    "\n",
    "constr3 = {f'constr3{i}_{j}_{k}_{t}':model.addConstr( pijkt[i,j,k,t] == 0 , name=f\"constr3{i}_{j}_{k}_{t}\")\n",
    "  for i in S\n",
    "  for j in J\n",
    "  for k in Q if k not in qj[j] or k not in qi[i]\n",
    "  for t in H}\n",
    "\n",
    "constr4 = {f'constr4{j}_{k}': model.addConstr( yj[j]*njk[j][k] <= grb.quicksum(pijkt[i,j,k,t] for i in S for t in H) , name=f\"constr4{j}_{k}\")\n",
    "  for j in J\n",
    "  for k in qj[j]}\n",
    "\n",
    "constr5 = {f'constr5{j}_{k}': model.addConstr( grb.quicksum(pijkt[i,j,k,t] for i in S for t in H) <= njk[j][k] , name=f\"constr5{j}_{k}\")\n",
    "  for j in J\n",
    "  for k in qj[j]}\n",
    "\n",
    "constr6 = {f'constr6{i}_{j}_{k}_{t}':model.addConstr( pijkt[i,j,k,t]*t <= ej[j] , name=f\"constr6{i}_{j}_{k}_{t}\")\n",
    "  for i in S\n",
    "  for j in J\n",
    "  for k in Q\n",
    "  for t in H}\n",
    "\n",
    "constr7 = {f'constr7{j}' : model.addConstr( ej[j] - dj[j] <= lj[j] , name =f\"constr7{j}\")\n",
    "  for j in J}\n",
    "\n",
    "constr8 = {f'constr8{j}' : model.addConstr( 1 <= ej[j] , name =f\"constr8{j}\")\n",
    "  for j in J}\n",
    "\n",
    "constr9 = {f'constr9{j}' : model.addConstr( ej[j] <= H[-1] , name =f\"constr9{j}\")\n",
    "  for j in J}"
   ]
  },
  {
   "cell_type": "markdown",
   "metadata": {},
   "source": [
    "### Objective 2"
   ]
  },
  {
   "cell_type": "code",
   "execution_count": 27,
   "metadata": {},
   "outputs": [],
   "source": [
    "# assigned jobs to a staff member i is aij[i, j]\n",
    "constr10 = {f'constr10{i}_{j}_{k}_{t}' : model.addConstr( pijkt[i,j,k,t] <= aij[i, j] , name = f\"constr10{i}_{j}_{k}_{t}\")\n",
    "    for i in S\n",
    "    for j in J\n",
    "    for k in Q\n",
    "    for t in H}\n",
    "\n",
    "# number of jobs assigned to a staff member i is ni[i]\n",
    "constr11 = {f'constr11{i}' : model.addConstr( grb.quicksum(aij[i, j] for j in J) <= ni[i] , name = f\"constr11{i}\")\n",
    "    for i in S}\n",
    "\n",
    "# max_i max number of jobs assigned to a staff member\n",
    "# for all staff i, number of jobs assigned to i is less than or equal to max_i\n",
    "constr12 = {f'constr12{i}' : model.addConstr( ni[i] <= max_i , name = f\"constr12{i}\")\n",
    "    for i in S}"
   ]
  },
  {
   "cell_type": "markdown",
   "metadata": {},
   "source": [
    "### Objective 3"
   ]
  },
  {
   "cell_type": "code",
   "execution_count": 28,
   "metadata": {},
   "outputs": [],
   "source": [
    "# start date is at least 1\n",
    "constr14 = {f'constr14_{j}' : model.addConstr( 1 <= sj[j] , name = f\"constr14_{j}\")\n",
    "    for j in J}\n",
    "\n",
    "# start date of j is sj[j]\n",
    "constr15 = {f'constr15{i}_{j}_{k}_{t}' : model.addConstr( sj[j] <= t*pijkt[i,j,k,t] + H[-1]*(1-pijkt[i,j,k,t]) , name = f\"constr15{i}_{j}_{k}_{t}\")\n",
    "    for i in S\n",
    "    for j in J\n",
    "    for k in Q\n",
    "    for t in H}\n",
    "\n",
    "# length of a job j is nj[j]\n",
    "constr16 = {f'constr16{j}' : model.addConstr( ej[j] + 1 - sj[j] <= nj[j] , name = f\"constr16{j}\")\n",
    "    for j in J}\n",
    "\n",
    "# max_j max of nj[j]\n",
    "constr17 = {f'constr17{j}' : model.addConstr( nj[j]  <= max_j , name = f\"constr17{j}\")\n",
    "  for j in J  }"
   ]
  },
  {
   "cell_type": "code",
   "execution_count": 37,
   "metadata": {},
   "outputs": [
    {
     "data": {
      "text/plain": [
       "[2, 3]"
      ]
     },
     "execution_count": 37,
     "metadata": {},
     "output_type": "execute_result"
    }
   ],
   "source": [
    "l = [1,2,3]\n",
    "l.remove(1)\n",
    "l"
   ]
  },
  {
   "cell_type": "markdown",
   "metadata": {},
   "source": [
    "# Objectives"
   ]
  },
  {
   "cell_type": "code",
   "execution_count": 56,
   "metadata": {},
   "outputs": [],
   "source": [
    "def filter_dominated_solutions(pareto, curr):\n",
    "    \n",
    "    #print(pareto)\n",
    "    for sol in pareto:\n",
    "        if all(curr[v] <= sol[v] for v in range(3)):\n",
    "            return pareto\n",
    "        elif all(curr[v] >= sol[v] for v in range(3)):\n",
    "            pareto.remove(sol)\n",
    "\n",
    "    pareto.append((curr[0],curr[1],curr[2]))\n",
    "    return pareto"
   ]
  },
  {
   "cell_type": "code",
   "execution_count": 57,
   "metadata": {},
   "outputs": [],
   "source": [
    "#model.optimize(filter_dominated_solutions)"
   ]
  },
  {
   "cell_type": "code",
   "execution_count": 58,
   "metadata": {},
   "outputs": [],
   "source": [
    "eps2s = [i for i in range(len(J), 0, -1)]\n",
    "eps3s = [i for i in range(len(H), 0, -1)]\n",
    "pareto = []\n",
    "\n",
    "for eps2 in eps2s:\n",
    "    for eps3 in eps3s:\n",
    "        # constraint for objective 2\n",
    "        constrobj2 = model.addConstr( max_i <= eps2 , name = \"constrobj2\")\n",
    "        constrobj4 = model.addConstr( max_i >= eps2 , name = \"constrobj4\")\n",
    "        # constraint for objective 3\n",
    "        constrobj3 = model.addConstr( max_j <= eps3 , name = \"constrobj3\")\n",
    "        constrobj5 = model.addConstr( max_j >= eps3 , name = \"constrobj5\")\n",
    "\n",
    "        # Objective 1\n",
    "        model.setObjective( grb.quicksum((gj[j]*yj[j] - lj[j]*cj[j]) for j in J) , GRB.MAXIMIZE)\n",
    "\n",
    "        # Paramétrage (mode mute)\n",
    "        model.params.outputflag = 0\n",
    "        # Résolution du PL\n",
    "        \n",
    "        try :\n",
    "            model.optimize()\n",
    "            #print(max_i,max_j,eps2,eps3)\n",
    "            #print('parzeto',pareto)\n",
    "            pareto = filter_dominated_solutions(pareto,(model.objVal, -eps2, -eps3))\n",
    "            #pareto.append((model.objVal, eps2, eps3))\n",
    "            model.remove(constrobj2)\n",
    "            model.remove(constrobj3)\n",
    "            model.remove(constrobj4)\n",
    "            model.remove(constrobj5)\n",
    "        except :\n",
    "            print(eps2,eps3)"
   ]
  },
  {
   "cell_type": "code",
   "execution_count": 70,
   "metadata": {},
   "outputs": [
    {
     "data": {
      "text/plain": [
       "[(59.0, 4, 1),\n",
       " (65.0, 3, 2),\n",
       " (49.0, 3, 1),\n",
       " (65.0, 2, 3),\n",
       " (55.0, 2, 2),\n",
       " (37.0, 2, 1),\n",
       " (42.0, 1, 3),\n",
       " (30.0, 1, 2),\n",
       " (20.0, 1, 1)]"
      ]
     },
     "execution_count": 70,
     "metadata": {},
     "output_type": "execute_result"
    }
   ],
   "source": [
    "for ind,val in enumerate(pareto) :\n",
    "    pareto[ind] = (val[0],-val[1],-val[2])\n",
    "pareto"
   ]
  },
  {
   "cell_type": "code",
   "execution_count": 79,
   "metadata": {},
   "outputs": [
    {
     "data": {
      "image/png": "[encoded data removed]",
      "text/plain": [
       "<Figure size 640x480 with 1 Axes>"
      ]
     },
     "metadata": {},
     "output_type": "display_data"
    }
   ],
   "source": [
    "import matplotlib.pyplot as plt\n",
    "# plot a 3d scatter with the pareto list print the labels of each point and set a different color for each point\n",
    "\n",
    "# Create the scatter plot\n",
    "plt.scatter([i[1] for i in pareto], [i[2] for i in pareto],s = [i[0] for i in pareto])\n",
    "# Add a title and labels for the x and y axes\n",
    "for i in pareto:\n",
    "    plt.text(i[1] + 0.01, i[2]+0.01,  '%s' % (str(i)), size=10, zorder=1, color='k')\n",
    "plt.title(\"Scatter Plot with Weights\")\n",
    "plt.xlabel(\"Number of projects per personal\")\n",
    "plt.ylabel(\"Length of a project in days\")\n",
    "\n",
    "# Show the plot\n",
    "plt.show()\n"
   ]
  },
  {
   "cell_type": "code",
   "execution_count": null,
   "metadata": {},
   "outputs": [],
   "source": [
    "# Objective 1\n",
    "#model.setObjective( grb.quicksum((gj[j]*yj[j] - lj[j]*cj[j]) for j in J) , GRB.MAXIMIZE)\n",
    "\n",
    "# Objective 1 & 2\n",
    "# model.setObjective( grb.quicksum((gj[j]*yj[j] - lj[j]*cj[j]) for j in J) - max_i , GRB.MAXIMIZE)\n",
    "\n",
    "# Objective 1 & 2 & 3\n",
    "#model.setObjective(  max_j , GRB.MAXIMIZE)\n",
    "\n",
    "# setObjectiveN\n",
    "model.ModelSense = GRB.MAXIMIZE\n",
    "model.setObjectiveN( grb.quicksum((gj[j]*yj[j] - lj[j]*cj[j]) for j in J) , 0, 3)\n",
    "model.setObjectiveN( - max_i , 1, 2)\n",
    "model.setObjectiveN( - 100*max_j -grb.quicksum(nj[j] for j in J) , 2, 2)\n",
    "\n",
    "# Paramétrage (mode mute)\n",
    "model.params.outputflag = 1\n",
    "# Résolution du PL\n",
    "model.optimize()"
   ]
  },
  {
   "cell_type": "code",
   "execution_count": null,
   "metadata": {},
   "outputs": [],
   "source": [
    "model.display()"
   ]
  },
  {
   "cell_type": "code",
   "execution_count": null,
   "metadata": {},
   "outputs": [],
   "source": [
    "#model.computeIIS()\n",
    "model.write(\"model.lp\")"
   ]
  },
  {
   "cell_type": "code",
   "execution_count": null,
   "metadata": {},
   "outputs": [],
   "source": [
    "# Query number of multiple objectives, and number of solutions\n",
    "nSolutions  = model.SolCount\n",
    "nObjectives = model.NumObj\n",
    "print('Problem has', nObjectives, 'objectives')\n",
    "print('Gurobi found', nSolutions, 'solutions')"
   ]
  },
  {
   "cell_type": "code",
   "execution_count": null,
   "metadata": {},
   "outputs": [],
   "source": [
    "model.ObjVal"
   ]
  },
  {
   "cell_type": "code",
   "execution_count": null,
   "metadata": {},
   "outputs": [],
   "source": [
    "solutions = []\n",
    "for s in range(nSolutions):\n",
    "  # Set which solution we will query from now on\n",
    "    model.params.SolutionNumber = s\n",
    "\n",
    "  # Print objective value of this solution in each objective\n",
    "    print('Solution', s, ':', end='')\n",
    "    for o in range(nObjectives):\n",
    "        # Set which objective we will query\n",
    "        model.params.ObjNumber = o\n",
    "        # Query the o-th objective value\n",
    "        print(' ',model.ObjNVal, end='')\n",
    "    print('\\n')"
   ]
  },
  {
   "cell_type": "code",
   "execution_count": null,
   "metadata": {},
   "outputs": [],
   "source": [
    "# Choix de la solution et de la fonction objective\n",
    "model.params.SolutionNumber = 0\n",
    "model.params.ObjNumber = 0\n",
    "model.ObjNVal"
   ]
  },
  {
   "cell_type": "code",
   "execution_count": null,
   "metadata": {},
   "outputs": [],
   "source": [
    "\n",
    "values= []\n",
    "for k, v in pijkt.items():\n",
    "    values.append(v.Xn)"
   ]
  },
  {
   "cell_type": "code",
   "execution_count": null,
   "metadata": {},
   "outputs": [],
   "source": [
    "res = pd.DataFrame(list(pijkt.keys()))\n",
    "res[4] = values\n",
    "result = res[res[4] == 1]\n",
    "result"
   ]
  },
  {
   "cell_type": "code",
   "execution_count": null,
   "metadata": {},
   "outputs": [],
   "source": [
    "import matplotlib.pyplot as plt\n",
    "from matplotlib import colors as mcolors\n",
    "\n",
    "\n",
    "colors = dict(mcolors.BASE_COLORS, **mcolors.CSS4_COLORS)\n",
    "\n",
    "# Sort colors by hue, saturation, value and name.\n",
    "by_hsv = sorted((tuple(mcolors.rgb_to_hsv(mcolors.to_rgba(color)[:3])), name)\n",
    "                for name, color in colors.items())\n",
    "sorted_names = [name for hsv, name in by_hsv]"
   ]
  },
  {
   "cell_type": "code",
   "execution_count": null,
   "metadata": {},
   "outputs": [],
   "source": [
    "color_list = np.random.choice(sorted_names,15)\n",
    "color_dict = dict(zip(job_list,color_list))\n",
    "color_dict"
   ]
  },
  {
   "cell_type": "markdown",
   "metadata": {},
   "source": [
    "## Result Table"
   ]
  },
  {
   "cell_type": "code",
   "execution_count": null,
   "metadata": {},
   "outputs": [],
   "source": [
    "def color_table(x):\n",
    "    \n",
    "    if pd.isna(x):\n",
    "        return \"background-color: white\"\n",
    "    \n",
    "    else:\n",
    "        x = x.split(\" \")[0]\n",
    "        if x in color_dict.keys():\n",
    "            color = color_dict[x]\n",
    "            return \"background-color: \" + color\n",
    "        else:\n",
    "           return  \"background-color: red\""
   ]
  },
  {
   "cell_type": "code",
   "execution_count": null,
   "metadata": {},
   "outputs": [],
   "source": []
  },
  {
   "cell_type": "code",
   "execution_count": null,
   "metadata": {},
   "outputs": [],
   "source": [
    "df = pd.DataFrame(columns = [i for i in range(1,len(jour_list)+1)], index = staff_names)\n",
    "\n",
    "for ind, val in result.iterrows():\n",
    "    col = val[3]\n",
    "    row = val[0]\n",
    "    v = val[1] + \" \" + val[2]\n",
    "    df.loc[row,col] = v\n",
    "    # vacation\n",
    "    for staff in staff_names:\n",
    "        for day in jour_list:\n",
    "            if day in vi[staff]:\n",
    "                df.loc[staff,day] = 'X'\n",
    "df.style.applymap(color_table)"
   ]
  },
  {
   "cell_type": "code",
   "execution_count": null,
   "metadata": {},
   "outputs": [],
   "source": [
    "nj"
   ]
  },
  {
   "cell_type": "code",
   "execution_count": null,
   "metadata": {},
   "outputs": [],
   "source": [
    "\n",
    "# start date\n",
    "sj"
   ]
  },
  {
   "cell_type": "code",
   "execution_count": null,
   "metadata": {},
   "outputs": [],
   "source": [
    "# end date\n",
    "ej"
   ]
  },
  {
   "cell_type": "code",
   "execution_count": null,
   "metadata": {},
   "outputs": [],
   "source": [
    "# length\n",
    "nj"
   ]
  },
  {
   "cell_type": "code",
   "execution_count": null,
   "metadata": {},
   "outputs": [],
   "source": []
  }
 ],
 "metadata": {
  "kernelspec": {
   "display_name": "Python 3 (ipykernel)",
   "language": "python",
   "name": "python3"
  },
  "language_info": {
   "codemirror_mode": {
    "name": "ipython",
    "version": 3
   },
   "file_extension": ".py",
   "mimetype": "text/x-python",
   "name": "python",
   "nbconvert_exporter": "python",
   "pygments_lexer": "ipython3",
   "version": "3.9.13 (main, Aug 25 2022, 23:51:50) [MSC v.1916 64 bit (AMD64)]"
  },
  "vscode": {
   "interpreter": {
    "hash": "992fe7c5fc85bbb99cdbb1a7127f4f04531c143f133625dff1af063a39de0f81"
   }
  }
 },
 "nbformat": 4,
 "nbformat_minor": 2
}
