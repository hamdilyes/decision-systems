{
 "cells": [
  {
   "attachments": {},
   "cell_type": "markdown",
   "metadata": {},
   "source": [
    "# Import Libraries"
   ]
  },
  {
   "cell_type": "code",
   "execution_count": 2,
   "metadata": {},
   "outputs": [],
   "source": [
    "import gurobipy as grb\n",
    "import pandas as pd\n",
    "from gurobipy import GRB\n",
    "import numpy as np"
   ]
  },
  {
   "attachments": {},
   "cell_type": "markdown",
   "metadata": {},
   "source": [
    "# Model"
   ]
  },
  {
   "cell_type": "code",
   "execution_count": 3,
   "metadata": {},
   "outputs": [
    {
     "name": "stdout",
     "output_type": "stream",
     "text": [
      "Set parameter Username\n",
      "Academic license - for non-commercial use only - expires 2024-01-11\n"
     ]
    }
   ],
   "source": [
    " # Create a model\n",
    "model = grb.Model(\"Model\")"
   ]
  },
  {
   "cell_type": "markdown",
   "metadata": {},
   "source": [
    "# Get data from json"
   ]
  },
  {
   "cell_type": "code",
   "execution_count": 4,
   "metadata": {},
   "outputs": [],
   "source": [
    "# get the  data from the json file small.json\n",
    "import json\n",
    "with open('small.json') as f:\n",
    "    data = json.load(f)\n"
   ]
  },
  {
   "cell_type": "markdown",
   "metadata": {},
   "source": [
    "## Constants from data"
   ]
  },
  {
   "cell_type": "code",
   "execution_count": 5,
   "metadata": {},
   "outputs": [],
   "source": [
    "horizon= data['horizon']\n",
    "qualifications=data['qualifications']\n",
    "staff_names=[i['name'] for i in data['staff']]\n",
    "staff_qualifications={i['name']:i['qualifications'] for i in data['staff']}\n",
    "job_list=[i['name'] for i in data['jobs']]\n",
    "jour_list=[i for i in range(1,horizon+1)]\n",
    "job_penality=dict(zip(job_list,[i['daily_penalty'] for i in data['jobs']]))\n",
    "job_qualifications=dict(zip(job_list,[i['working_days_per_qualification'] for i in data['jobs']]))\n",
    "job_gain=dict(zip(job_list,[i['gain'] for i in data['jobs']]))\n",
    "due_dates=dict(zip(job_list,[i['due_date'] for i in data['jobs']]))\n",
    "vocation_staff=dict(zip(staff_names,[i['vacations'] for i in data['staff']]))\n",
    "staff_off={i:{j:1-vocation_staff[i].count(j) for j in jour_list} for i in staff_names}\n"
   ]
  },
  {
   "cell_type": "markdown",
   "metadata": {},
   "source": [
    "# Model's parameters"
   ]
  },
  {
   "cell_type": "code",
   "execution_count": 6,
   "metadata": {},
   "outputs": [],
   "source": [
    "gammak=job_penality\n",
    "gk=job_gain\n",
    "lk=due_dates\n",
    "pi_c = {i:{c:staff_qualifications[i].count(c) for c in qualifications} for i in staff_names}\n",
    "\n",
    "qk_c={k:{c:job_qualifications[k][c] if c in job_qualifications[k].keys() else 0 for c in qualifications} for k in job_list}\n",
    "pi_j=staff_off"
   ]
  },
  {
   "cell_type": "markdown",
   "metadata": {},
   "source": [
    "# Decision variables"
   ]
  },
  {
   "attachments": {
    "image.png": {
     "image/png": "[encoded data removed]"
    }
   },
   "cell_type": "markdown",
   "metadata": {},
   "source": [
    "![image.png](attachment:image.png)"
   ]
  },
  {
   "cell_type": "code",
   "execution_count": null,
   "metadata": {},
   "outputs": [],
   "source": [
    "# constraint M1 and M2\n",
    "M2=len(qualifications)*len(job_list)\n",
    "M1=horizon*len(qualifications)\n",
    "M3 = len(staff_names)\n",
    "M4=horizon\n",
    "M5=horizon"
   ]
  },
  {
   "cell_type": "code",
   "execution_count": null,
   "metadata": {},
   "outputs": [],
   "source": [
    "# Add decision variables\n",
    "# pi_k_j_c: Le personnel i est affecté au projet k sur la compétence c pour le jour j\n",
    "pi_k_j_c = model.addVars(staff_names,job_list,jour_list,qualifications, vtype=GRB.BINARY, name=\"pi_k_j_c\")\n",
    "\n",
    "# pk_j : 1 si on travaille sur le projet k le jour j sinon 0\n",
    "zk_j = model.addVars(job_list,jour_list,vtype=GRB.BINARY, name=\"zk_j\")\n",
    "\n",
    "# rk : 1 si le projet k est réalisé 0 sinon\n",
    "rk = model.addVars( job_list,vtype=GRB.BINARY, name=\"rk\")\n",
    "# worked days per day and per qualification\n",
    "wk_c=model.addVars(job_list,qualifications,vtype=GRB.INTEGER, name=\"wk_c\")\n",
    "\n",
    "# end_k : date de fin du projet k\n",
    "end_k=model.addVars(job_list,vtype=GRB.INTEGER, name=\"end_k\")\n",
    "\n",
    "# delay_k: le nombre de jours en retard du projet k\n",
    "delay_k=model.addVars(job_list,vtype=GRB.INTEGER, name=\"delay_k\")\n",
    "\n",
    "# start_k le jour auquel on commence le projet k\n",
    "start_k=model.addVars(job_list,vtype=GRB.INTEGER, name=\"start_k\")"
   ]
  },
  {
   "cell_type": "markdown",
   "metadata": {},
   "source": [
    "# Constraints"
   ]
  },
  {
   "cell_type": "code",
   "execution_count": null,
   "metadata": {},
   "outputs": [],
   "source": [
    "\n",
    "# for i in staff_names: \n",
    "#     for j in jour_list :\n",
    "#         model.addConstr(grb.quicksum(pi_k_j_c[i,k,j,c] for k in job_list for c in qualifications) <=1, name=f\"contrainte2{i}_{j}\")\n",
    "#         for k in job_list :\n",
    "#             for c in qualifications:\n",
    "#                 model.addConstr(pi_k_j_c[i,k,j,c]  + (1-pi_c[i][c]) <=1, name=f\"contrainte1{i}_{k}_{j}_{c}\")\n",
    "#                 model.addConstr(pi_k_j_c[i,k,j,c]  + (1-pi_j[i][j]) <=1, name=f\"contrainte3{i}_{k}_{j}_{c}\")\n",
    "#                 model.addConstr(end_k[k]>= pi_k_j_c[i,k,j,c]*j , name=f\"contrainte10_end{k}\")\n",
    "# for k in job_list :\n",
    "#     for c in qualifications:        \n",
    "#         model.addConstr(grb.quicksum(pi_k_j_c[i,k,j,c] for i in staff_names for j in jour_list) <=qk_c[k][c], name=f\"contrainte4{k}_{c}\")\n",
    "#         model.addConstr(grb.quicksum(pi_k_j_c[i,k,j,c] for i in staff_names for j in jour_list)<=wk_c[k,c] , name = f\"contrainte9_w{k,c}\")\n",
    "#         model.addConstr(rk[k]*wk_c[k,c] <= grb.quicksum(pi_k_j_c[i,k,j,c] for i in staff_names for j in jour_list)  , name = f\"contrainte8_rk{k,c}\")\n",
    "# for k in job_list:\n",
    "#     for j in jour_list:\n",
    "#         model.addConstr(grb.quicksum(pi_k_j_c[i,k,j,c] for i in staff_names for c in qualifications) -  1 <= M3*zk_j[k,j]-0.01 , name = f\"contrainte5{k}_{j}\")\n",
    "#         model.addConstr(-M3*(1-zk_j[k,j])<=grb.quicksum(pi_k_j_c[i,k,j,c] for i in staff_names for c in qualifications) -  1  , name = f\"contrainte6{k}_{j}\")\n",
    "# for k in job_list:\n",
    "#     model.addConstr(end_k[k]-due_dates[k]<=delay_k[k] , name=f\"contrainte11_delay_k{k}\")\n",
    "#     model.addConstr(start_k[k]>= end_k[k]-grb.quicksum(zk_j[k,j] for j in jour_list)+1 , name=f\"contrainte12_start_k{k}\")\n",
    "\n",
    "    "
   ]
  },
  {
   "cell_type": "code",
   "execution_count": null,
   "metadata": {},
   "outputs": [],
   "source": [
    "#Un personnel i peut être associé au projet k que s’il possède la compétence c nécessaire pour le projet :\n",
    "#3.\n",
    "constr3={f'p{i}_{k}_{j}_{c}':model.addConstr(pi_k_j_c[i,k,j,c]  + (1-pi_c[i][c]) <=1, name=f\"contrainte3{i}_{k}_{j}_{c}\")\n",
    "    for i in staff_names for k in job_list \n",
    "       for j in jour_list  for c in qualifications }\n",
    "#4.\n",
    "constr4={f'p{i}_{j}':model.addConstr(grb.quicksum(pi_k_j_c[i,k,j,c] for k in job_list for c in qualifications) <=1, name=f\"contrainte4{i}_{j}\")\n",
    "    for i in staff_names for j in jour_list}\n",
    "# 5.  \n",
    "constr5={f'2p{i}_{k}_{j}_{c}':model.addConstr(pi_k_j_c[i,k,j,c]  + (1-pi_j[i][j]) <=1, name=f\"contrainte5{i}_{k}_{j}_{c}\")\n",
    "    for i in staff_names for k in job_list \n",
    "       for j in jour_list  for c in qualifications }\n",
    "# 6.\n",
    "contr6={f'p2{k}_{c}':model.addConstr(grb.quicksum(pi_k_j_c[i,k,j,c] for i in staff_names for j in jour_list) <=qk_c[k][c], name=f\"contrainte6{k}_{c}\")\n",
    "    for k in job_list \n",
    "    for c in qualifications }"
   ]
  },
  {
   "attachments": {
    "image.png": {
     "image/png": "[encoded data removed]"
    }
   },
   "cell_type": "markdown",
   "metadata": {},
   "source": [
    "![image.png](attachment:image.png)"
   ]
  },
  {
   "cell_type": "code",
   "execution_count": null,
   "metadata": {},
   "outputs": [],
   "source": [
    "# constr8={f'wk_c{k}_{c}':model.addConstr(grb.quicksum(pi_k_j_c[i,k,j,c] for i in staff_names for j in jour_list)<=wk_c[k,c] , name = f\"contrainte8{k,c}\")\n",
    "# for k in job_list\n",
    "# for c in qualifications}\n",
    "# constr9={f'rk{k}':model.addConstr(rk[k]*wk_c[k,c] <= grb.quicksum(pi_k_j_c[i,k,j,c] for i in staff_names for j in jour_list)  , name = f\"contrainte9{k}\")\n",
    "# for k in job_list\n",
    "# for c in qualifications}"
   ]
  },
  {
   "cell_type": "code",
   "execution_count": null,
   "metadata": {},
   "outputs": [],
   "source": [
    "# 8.\n",
    "constr8={f'p_q{k}':model.addConstr(-M2*(1-rk[k])+0.01 <= grb.quicksum(pi_k_j_c[i,k,j,c] for i in staff_names for j in jour_list) -qk_c[k][c]+1, name = f\"contrainte8{k}\")\n",
    "        for k in job_list\n",
    "        for c in qualifications\n",
    "        }\n",
    "constr9={f'p_q2{k}':model.addConstr( grb.quicksum(pi_k_j_c[i,k,j,c] for i in staff_names for j in jour_list) -qk_c[k][c]+1 <=M2*rk[k], name = f\"contrainte9{k}\")\n",
    "        for k in job_list\n",
    "        for c in qualifications\n",
    "        }\n",
    "9.\n",
    "\n",
    "constr10 = {f'z{k}_{j}':model.addConstr(grb.quicksum(pi_k_j_c[i,k,j,c] for i in staff_names for c in qualifications) -  1 <= M3*zk_j[k,j]-0.01 , name = f\"contrainte10{k}_{j}\")\n",
    "        for k in job_list\n",
    "          for j in jour_list}\n",
    "\n",
    "constr11 = {f'z2{k}_{j}':model.addConstr(-M3*(1-zk_j[k,j])<=grb.quicksum(pi_k_j_c[i,k,j,c] for i in staff_names for c in qualifications) -  1  , name = f\"contrainte11{k}_{j}\")\n",
    "        for k in job_list\n",
    "          for j in jour_list}\n",
    "\n"
   ]
  },
  {
   "cell_type": "code",
   "execution_count": null,
   "metadata": {},
   "outputs": [],
   "source": [
    "# 10.\n",
    "contr12={f'end_k{k}':model.addConstr(end_k[k]>= pi_k_j_c[i,k,j,c]*j , name=f\"contrainte12end{k}\")\n",
    "for i in staff_names for j in jour_list \n",
    "for k in job_list for c in qualifications }\n",
    "contr13={f'delay_k{k}':model.addConstr(end_k[k]-due_dates[k]<=delay_k[k] , name=f\"contrainte13delay_k{k}\")\n",
    "for k in job_list }\n",
    "\n",
    "# contr14={f'start_k{k}':model.addConstr(start_k[k]>= end_k[k]-grb.quicksum(zk_j[k,j] for j in jour_list)+1 , name=f\"contrainte14start_k{k}\")\n",
    "# for k in job_list }\n",
    "\n"
   ]
  },
  {
   "cell_type": "code",
   "execution_count": null,
   "metadata": {},
   "outputs": [],
   "source": [
    "# Fonction Objectif\n",
    "model.setObjectiveN(grb.quicksum((job_gain[k]*rk[k]) - delay_k[k]*job_penality[k] for k in job_list), 0,GRB.MAXIMIZE)  \n",
    "# model.setObjectiveN(grb.quicksum(zk_j[k,j] for k in job_list for j in jour_list),1, GRB.MINIMIZE)  \n",
    "\n",
    "# Paramétrage (mode mute)\n",
    "model.params.outputflag = 0\n",
    "# Résolution du PL\n",
    "model.optimize()"
   ]
  },
  {
   "cell_type": "code",
   "execution_count": null,
   "metadata": {},
   "outputs": [],
   "source": [
    "#model.computeIIS()\n",
    "model.write(\"model.lp\")\n",
    "#  print constraints of the gurobipy.Model"
   ]
  },
  {
   "cell_type": "code",
   "execution_count": null,
   "metadata": {},
   "outputs": [
    {
     "data": {
      "text/plain": [
       "54.0"
      ]
     },
     "execution_count": 15,
     "metadata": {},
     "output_type": "execute_result"
    }
   ],
   "source": [
    "model.ObjVal"
   ]
  },
  {
   "cell_type": "code",
   "execution_count": null,
   "metadata": {},
   "outputs": [],
   "source": [
    "values= []\n",
    "for k, v in pi_k_j_c.items():\n",
    "    values.append(v.x)"
   ]
  },
  {
   "cell_type": "code",
   "execution_count": null,
   "metadata": {},
   "outputs": [
    {
     "data": {
      "text/html": [
       "<div>\n",
       "<style scoped>\n",
       "    .dataframe tbody tr th:only-of-type {\n",
       "        vertical-align: middle;\n",
       "    }\n",
       "\n",
       "    .dataframe tbody tr th {\n",
       "        vertical-align: top;\n",
       "    }\n",
       "\n",
       "    .dataframe thead th {\n",
       "        text-align: right;\n",
       "    }\n",
       "</style>\n",
       "<table border=\"1\" class=\"dataframe\">\n",
       "  <thead>\n",
       "    <tr style=\"text-align: right;\">\n",
       "      <th></th>\n",
       "      <th>0</th>\n",
       "      <th>1</th>\n",
       "      <th>2</th>\n",
       "      <th>3</th>\n",
       "      <th>4</th>\n",
       "    </tr>\n",
       "  </thead>\n",
       "  <tbody>\n",
       "    <tr>\n",
       "      <th>18</th>\n",
       "      <td>Olivia</td>\n",
       "      <td>Job2</td>\n",
       "      <td>2</td>\n",
       "      <td>A</td>\n",
       "      <td>1.0</td>\n",
       "    </tr>\n",
       "    <tr>\n",
       "      <th>22</th>\n",
       "      <td>Olivia</td>\n",
       "      <td>Job2</td>\n",
       "      <td>3</td>\n",
       "      <td>B</td>\n",
       "      <td>1.0</td>\n",
       "    </tr>\n",
       "    <tr>\n",
       "      <th>41</th>\n",
       "      <td>Olivia</td>\n",
       "      <td>Job3</td>\n",
       "      <td>4</td>\n",
       "      <td>C</td>\n",
       "      <td>1.0</td>\n",
       "    </tr>\n",
       "    <tr>\n",
       "      <th>58</th>\n",
       "      <td>Olivia</td>\n",
       "      <td>Job4</td>\n",
       "      <td>5</td>\n",
       "      <td>B</td>\n",
       "      <td>1.0</td>\n",
       "    </tr>\n",
       "    <tr>\n",
       "      <th>62</th>\n",
       "      <td>Olivia</td>\n",
       "      <td>Job5</td>\n",
       "      <td>1</td>\n",
       "      <td>C</td>\n",
       "      <td>1.0</td>\n",
       "    </tr>\n",
       "    <tr>\n",
       "      <th>97</th>\n",
       "      <td>Liam</td>\n",
       "      <td>Job2</td>\n",
       "      <td>3</td>\n",
       "      <td>B</td>\n",
       "      <td>1.0</td>\n",
       "    </tr>\n",
       "    <tr>\n",
       "      <th>108</th>\n",
       "      <td>Liam</td>\n",
       "      <td>Job3</td>\n",
       "      <td>2</td>\n",
       "      <td>A</td>\n",
       "      <td>1.0</td>\n",
       "    </tr>\n",
       "    <tr>\n",
       "      <th>130</th>\n",
       "      <td>Liam</td>\n",
       "      <td>Job4</td>\n",
       "      <td>4</td>\n",
       "      <td>B</td>\n",
       "      <td>1.0</td>\n",
       "    </tr>\n",
       "    <tr>\n",
       "      <th>191</th>\n",
       "      <td>Emma</td>\n",
       "      <td>Job3</td>\n",
       "      <td>4</td>\n",
       "      <td>C</td>\n",
       "      <td>1.0</td>\n",
       "    </tr>\n",
       "    <tr>\n",
       "      <th>203</th>\n",
       "      <td>Emma</td>\n",
       "      <td>Job4</td>\n",
       "      <td>3</td>\n",
       "      <td>C</td>\n",
       "      <td>1.0</td>\n",
       "    </tr>\n",
       "    <tr>\n",
       "      <th>212</th>\n",
       "      <td>Emma</td>\n",
       "      <td>Job5</td>\n",
       "      <td>1</td>\n",
       "      <td>C</td>\n",
       "      <td>1.0</td>\n",
       "    </tr>\n",
       "  </tbody>\n",
       "</table>\n",
       "</div>"
      ],
      "text/plain": [
       "          0     1  2  3    4\n",
       "18   Olivia  Job2  2  A  1.0\n",
       "22   Olivia  Job2  3  B  1.0\n",
       "41   Olivia  Job3  4  C  1.0\n",
       "58   Olivia  Job4  5  B  1.0\n",
       "62   Olivia  Job5  1  C  1.0\n",
       "97     Liam  Job2  3  B  1.0\n",
       "108    Liam  Job3  2  A  1.0\n",
       "130    Liam  Job4  4  B  1.0\n",
       "191    Emma  Job3  4  C  1.0\n",
       "203    Emma  Job4  3  C  1.0\n",
       "212    Emma  Job5  1  C  1.0"
      ]
     },
     "execution_count": 17,
     "metadata": {},
     "output_type": "execute_result"
    }
   ],
   "source": [
    "res = pd.DataFrame(list(pi_k_j_c.keys()))\n",
    "res[4] = values\n",
    "result = res[res[4] == 1]\n",
    "result"
   ]
  },
  {
   "cell_type": "markdown",
   "metadata": {},
   "source": [
    "## Result Table"
   ]
  },
  {
   "cell_type": "code",
   "execution_count": null,
   "metadata": {},
   "outputs": [],
   "source": [
    "def color_table(x):\n",
    "    if pd.isna(x):\n",
    "        return \"background-color: white\"\n",
    "    else:\n",
    "        if \"Job1\" in x :\n",
    "            return \"background-color: blue\"\n",
    "        elif \"Job2\" in x:\n",
    "            return \"background-color: black\"\n",
    "        elif \"Job3\" in x:\n",
    "            return \"background-color: orange\"\n",
    "        elif \"Job4\" in x:\n",
    "           return \"background-color: grey\"\n",
    "        elif \"Job5\" in x:\n",
    "           return \"background-color: green\"\n",
    "        elif \"Job6\" in x:\n",
    "              return \"background-color: yellow\"\n",
    "        elif \"Job7\" in x:\n",
    "              return \"background-color: pink\"\n",
    "        elif \"Job8\" in x:\n",
    "                return \"background-color: purple\"\n",
    "        elif \"Job9\" in x:\n",
    "                return \"background-color: brown\"\n",
    "        elif \"Job10\" in x:\n",
    "                return \"background-color: cyan\"\n",
    "        elif \"Job11\" in x:\n",
    "            return \"background-color: magenta\"\n",
    "        elif \"Job12\" in x:\n",
    "            return \"background-color: lime\"\n",
    "        else:\n",
    "           return  \"background-color: red\""
   ]
  },
  {
   "cell_type": "code",
   "execution_count": null,
   "metadata": {},
   "outputs": [
    {
     "data": {
      "text/html": [
       "<style type=\"text/css\">\n",
       "#T_61634_row0_col0, #T_61634_row2_col0 {\n",
       "  background-color: green;\n",
       "}\n",
       "#T_61634_row0_col1, #T_61634_row0_col2, #T_61634_row1_col2 {\n",
       "  background-color: black;\n",
       "}\n",
       "#T_61634_row0_col3, #T_61634_row1_col1, #T_61634_row2_col3 {\n",
       "  background-color: orange;\n",
       "}\n",
       "#T_61634_row0_col4, #T_61634_row1_col3, #T_61634_row2_col2 {\n",
       "  background-color: grey;\n",
       "}\n",
       "#T_61634_row1_col0, #T_61634_row2_col1 {\n",
       "  background-color: red;\n",
       "}\n",
       "#T_61634_row1_col4, #T_61634_row2_col4 {\n",
       "  background-color: white;\n",
       "}\n",
       "</style>\n",
       "<table id=\"T_61634\">\n",
       "  <thead>\n",
       "    <tr>\n",
       "      <th class=\"blank level0\" >&nbsp;</th>\n",
       "      <th id=\"T_61634_level0_col0\" class=\"col_heading level0 col0\" >1</th>\n",
       "      <th id=\"T_61634_level0_col1\" class=\"col_heading level0 col1\" >2</th>\n",
       "      <th id=\"T_61634_level0_col2\" class=\"col_heading level0 col2\" >3</th>\n",
       "      <th id=\"T_61634_level0_col3\" class=\"col_heading level0 col3\" >4</th>\n",
       "      <th id=\"T_61634_level0_col4\" class=\"col_heading level0 col4\" >5</th>\n",
       "    </tr>\n",
       "  </thead>\n",
       "  <tbody>\n",
       "    <tr>\n",
       "      <th id=\"T_61634_level0_row0\" class=\"row_heading level0 row0\" >Olivia</th>\n",
       "      <td id=\"T_61634_row0_col0\" class=\"data row0 col0\" >C Job5</td>\n",
       "      <td id=\"T_61634_row0_col1\" class=\"data row0 col1\" >A Job2</td>\n",
       "      <td id=\"T_61634_row0_col2\" class=\"data row0 col2\" >B Job2</td>\n",
       "      <td id=\"T_61634_row0_col3\" class=\"data row0 col3\" >C Job3</td>\n",
       "      <td id=\"T_61634_row0_col4\" class=\"data row0 col4\" >B Job4</td>\n",
       "    </tr>\n",
       "    <tr>\n",
       "      <th id=\"T_61634_level0_row1\" class=\"row_heading level0 row1\" >Liam</th>\n",
       "      <td id=\"T_61634_row1_col0\" class=\"data row1 col0\" >X</td>\n",
       "      <td id=\"T_61634_row1_col1\" class=\"data row1 col1\" >A Job3</td>\n",
       "      <td id=\"T_61634_row1_col2\" class=\"data row1 col2\" >B Job2</td>\n",
       "      <td id=\"T_61634_row1_col3\" class=\"data row1 col3\" >B Job4</td>\n",
       "      <td id=\"T_61634_row1_col4\" class=\"data row1 col4\" >nan</td>\n",
       "    </tr>\n",
       "    <tr>\n",
       "      <th id=\"T_61634_level0_row2\" class=\"row_heading level0 row2\" >Emma</th>\n",
       "      <td id=\"T_61634_row2_col0\" class=\"data row2 col0\" >C Job5</td>\n",
       "      <td id=\"T_61634_row2_col1\" class=\"data row2 col1\" >X</td>\n",
       "      <td id=\"T_61634_row2_col2\" class=\"data row2 col2\" >C Job4</td>\n",
       "      <td id=\"T_61634_row2_col3\" class=\"data row2 col3\" >C Job3</td>\n",
       "      <td id=\"T_61634_row2_col4\" class=\"data row2 col4\" >nan</td>\n",
       "    </tr>\n",
       "  </tbody>\n",
       "</table>\n"
      ],
      "text/plain": [
       "<pandas.io.formats.style.Styler at 0x24091b5a830>"
      ]
     },
     "execution_count": 19,
     "metadata": {},
     "output_type": "execute_result"
    }
   ],
   "source": [
    "df = pd.DataFrame(columns = [i for i in range(1,6)], index = staff_names)\n",
    "\n",
    "for ind, val in result.iterrows():\n",
    "    col = val[2]\n",
    "    row = val[0]\n",
    "    v = val[3] + \" \" + val[1]\n",
    "    df.loc[row,col] = v\n",
    "    # vacation\n",
    "    for staff in staff_names:\n",
    "        for day in jour_list:\n",
    "            if pi_j[staff][day] == 0:\n",
    "                df.loc[staff,day] = 'X'\n",
    "\n",
    "df.style.applymap(color_table)"
   ]
  },
  {
   "cell_type": "code",
   "execution_count": null,
   "metadata": {},
   "outputs": [
    {
     "data": {
      "text/plain": [
       "{'Job1': <gurobi.Var rk[Job1] (value 0.0)>,\n",
       " 'Job2': <gurobi.Var rk[Job2] (value 1.0)>,\n",
       " 'Job3': <gurobi.Var rk[Job3] (value 1.0)>,\n",
       " 'Job4': <gurobi.Var rk[Job4] (value 1.0)>,\n",
       " 'Job5': <gurobi.Var rk[Job5] (value 1.0)>}"
      ]
     },
     "execution_count": 20,
     "metadata": {},
     "output_type": "execute_result"
    }
   ],
   "source": [
    "rk"
   ]
  },
  {
   "cell_type": "code",
   "execution_count": null,
   "metadata": {},
   "outputs": [
    {
     "data": {
      "text/plain": [
       "{('Job1', 1): <gurobi.Var zk_j[Job1,1] (value 0.0)>,\n",
       " ('Job1', 2): <gurobi.Var zk_j[Job1,2] (value 0.0)>,\n",
       " ('Job1', 3): <gurobi.Var zk_j[Job1,3] (value 0.0)>,\n",
       " ('Job1', 4): <gurobi.Var zk_j[Job1,4] (value 0.0)>,\n",
       " ('Job1', 5): <gurobi.Var zk_j[Job1,5] (value 0.0)>,\n",
       " ('Job2', 1): <gurobi.Var zk_j[Job2,1] (value 0.0)>,\n",
       " ('Job2', 2): <gurobi.Var zk_j[Job2,2] (value 1.0)>,\n",
       " ('Job2', 3): <gurobi.Var zk_j[Job2,3] (value 1.0)>,\n",
       " ('Job2', 4): <gurobi.Var zk_j[Job2,4] (value -0.0)>,\n",
       " ('Job2', 5): <gurobi.Var zk_j[Job2,5] (value -0.0)>,\n",
       " ('Job3', 1): <gurobi.Var zk_j[Job3,1] (value -0.0)>,\n",
       " ('Job3', 2): <gurobi.Var zk_j[Job3,2] (value 1.0)>,\n",
       " ('Job3', 3): <gurobi.Var zk_j[Job3,3] (value -0.0)>,\n",
       " ('Job3', 4): <gurobi.Var zk_j[Job3,4] (value 1.0)>,\n",
       " ('Job3', 5): <gurobi.Var zk_j[Job3,5] (value -0.0)>,\n",
       " ('Job4', 1): <gurobi.Var zk_j[Job4,1] (value -0.0)>,\n",
       " ('Job4', 2): <gurobi.Var zk_j[Job4,2] (value -0.0)>,\n",
       " ('Job4', 3): <gurobi.Var zk_j[Job4,3] (value 1.0)>,\n",
       " ('Job4', 4): <gurobi.Var zk_j[Job4,4] (value 1.0)>,\n",
       " ('Job4', 5): <gurobi.Var zk_j[Job4,5] (value 1.0)>,\n",
       " ('Job5', 1): <gurobi.Var zk_j[Job5,1] (value 1.0)>,\n",
       " ('Job5', 2): <gurobi.Var zk_j[Job5,2] (value -7.771561172374882e-14)>,\n",
       " ('Job5', 3): <gurobi.Var zk_j[Job5,3] (value 0.0)>,\n",
       " ('Job5', 4): <gurobi.Var zk_j[Job5,4] (value 0.0)>,\n",
       " ('Job5', 5): <gurobi.Var zk_j[Job5,5] (value 0.0)>}"
      ]
     },
     "execution_count": 21,
     "metadata": {},
     "output_type": "execute_result"
    }
   ],
   "source": [
    "zk_j"
   ]
  },
  {
   "cell_type": "code",
   "execution_count": null,
   "metadata": {},
   "outputs": [
    {
     "data": {
      "text/plain": [
       "{'Job1': <gurobi.Var start_k[Job1] (value -0.0)>,\n",
       " 'Job2': <gurobi.Var start_k[Job2] (value -0.0)>,\n",
       " 'Job3': <gurobi.Var start_k[Job3] (value -0.0)>,\n",
       " 'Job4': <gurobi.Var start_k[Job4] (value -0.0)>,\n",
       " 'Job5': <gurobi.Var start_k[Job5] (value -0.0)>}"
      ]
     },
     "execution_count": 22,
     "metadata": {},
     "output_type": "execute_result"
    }
   ],
   "source": [
    "start_k"
   ]
  },
  {
   "cell_type": "code",
   "execution_count": null,
   "metadata": {},
   "outputs": [
    {
     "data": {
      "text/plain": [
       "{'Job1': <gurobi.Var end_k[Job1] (value 0.0)>,\n",
       " 'Job2': <gurobi.Var end_k[Job2] (value 3.0)>,\n",
       " 'Job3': <gurobi.Var end_k[Job3] (value 4.0)>,\n",
       " 'Job4': <gurobi.Var end_k[Job4] (value 5.0)>,\n",
       " 'Job5': <gurobi.Var end_k[Job5] (value 1.0)>}"
      ]
     },
     "execution_count": 23,
     "metadata": {},
     "output_type": "execute_result"
    }
   ],
   "source": [
    "end_k"
   ]
  },
  {
   "cell_type": "code",
   "execution_count": null,
   "metadata": {},
   "outputs": [
    {
     "data": {
      "text/plain": [
       "{('Job1', 1): <gurobi.Var zk_j[Job1,1] (value 0.0)>,\n",
       " ('Job1', 2): <gurobi.Var zk_j[Job1,2] (value 0.0)>,\n",
       " ('Job1', 3): <gurobi.Var zk_j[Job1,3] (value 0.0)>,\n",
       " ('Job1', 4): <gurobi.Var zk_j[Job1,4] (value 0.0)>,\n",
       " ('Job1', 5): <gurobi.Var zk_j[Job1,5] (value 0.0)>,\n",
       " ('Job2', 1): <gurobi.Var zk_j[Job2,1] (value 0.0)>,\n",
       " ('Job2', 2): <gurobi.Var zk_j[Job2,2] (value 1.0)>,\n",
       " ('Job2', 3): <gurobi.Var zk_j[Job2,3] (value 1.0)>,\n",
       " ('Job2', 4): <gurobi.Var zk_j[Job2,4] (value -0.0)>,\n",
       " ('Job2', 5): <gurobi.Var zk_j[Job2,5] (value -0.0)>,\n",
       " ('Job3', 1): <gurobi.Var zk_j[Job3,1] (value -0.0)>,\n",
       " ('Job3', 2): <gurobi.Var zk_j[Job3,2] (value 1.0)>,\n",
       " ('Job3', 3): <gurobi.Var zk_j[Job3,3] (value -0.0)>,\n",
       " ('Job3', 4): <gurobi.Var zk_j[Job3,4] (value 1.0)>,\n",
       " ('Job3', 5): <gurobi.Var zk_j[Job3,5] (value -0.0)>,\n",
       " ('Job4', 1): <gurobi.Var zk_j[Job4,1] (value -0.0)>,\n",
       " ('Job4', 2): <gurobi.Var zk_j[Job4,2] (value -0.0)>,\n",
       " ('Job4', 3): <gurobi.Var zk_j[Job4,3] (value 1.0)>,\n",
       " ('Job4', 4): <gurobi.Var zk_j[Job4,4] (value 1.0)>,\n",
       " ('Job4', 5): <gurobi.Var zk_j[Job4,5] (value 1.0)>,\n",
       " ('Job5', 1): <gurobi.Var zk_j[Job5,1] (value 1.0)>,\n",
       " ('Job5', 2): <gurobi.Var zk_j[Job5,2] (value -7.771561172374882e-14)>,\n",
       " ('Job5', 3): <gurobi.Var zk_j[Job5,3] (value 0.0)>,\n",
       " ('Job5', 4): <gurobi.Var zk_j[Job5,4] (value 0.0)>,\n",
       " ('Job5', 5): <gurobi.Var zk_j[Job5,5] (value 0.0)>}"
      ]
     },
     "execution_count": 24,
     "metadata": {},
     "output_type": "execute_result"
    }
   ],
   "source": [
    "zk_j"
   ]
  },
  {
   "cell_type": "code",
   "execution_count": null,
   "metadata": {},
   "outputs": [
    {
     "data": {
      "text/plain": [
       "{'Olivia': {1: 1, 2: 1, 3: 1, 4: 1, 5: 1},\n",
       " 'Liam': {1: 0, 2: 1, 3: 1, 4: 1, 5: 1},\n",
       " 'Emma': {1: 1, 2: 0, 3: 1, 4: 1, 5: 1}}"
      ]
     },
     "execution_count": 25,
     "metadata": {},
     "output_type": "execute_result"
    }
   ],
   "source": [
    "pi_j"
   ]
  },
  {
   "cell_type": "code",
   "execution_count": null,
   "metadata": {},
   "outputs": [
    {
     "name": "stdout",
     "output_type": "stream",
     "text": [
      "<gurobi.Var zk_j[Job5,1] (value 1.0)>\n",
      "<gurobi.Var zk_j[Job5,2] (value -7.771561172374882e-14)>\n",
      "<gurobi.Var zk_j[Job5,3] (value 0.0)>\n",
      "<gurobi.Var zk_j[Job5,4] (value 0.0)>\n",
      "<gurobi.Var zk_j[Job5,5] (value 0.0)>\n"
     ]
    }
   ],
   "source": [
    "# for k in job_list:\n",
    "for j in jour_list:\n",
    "    print(zk_j['Job5',j])\n"
   ]
  },
  {
   "cell_type": "code",
   "execution_count": null,
   "metadata": {},
   "outputs": [
    {
     "name": "stdout",
     "output_type": "stream",
     "text": [
      "<gurobi.Var pi_k_j_c[Olivia,Job1,1,A] (value 0.0)>\n",
      "<gurobi.Var pi_k_j_c[Olivia,Job1,1,B] (value 0.0)>\n",
      "<gurobi.Var pi_k_j_c[Olivia,Job1,1,C] (value 0.0)>\n",
      "<gurobi.Var pi_k_j_c[Liam,Job1,1,A] (value 0.0)>\n",
      "<gurobi.Var pi_k_j_c[Liam,Job1,1,B] (value 0.0)>\n",
      "<gurobi.Var pi_k_j_c[Liam,Job1,1,C] (value 0.0)>\n",
      "<gurobi.Var pi_k_j_c[Emma,Job1,1,A] (value 0.0)>\n",
      "<gurobi.Var pi_k_j_c[Emma,Job1,1,B] (value 0.0)>\n",
      "<gurobi.Var pi_k_j_c[Emma,Job1,1,C] (value 0.0)>\n",
      "<gurobi.Var pi_k_j_c[Olivia,Job1,2,A] (value 0.0)>\n",
      "<gurobi.Var pi_k_j_c[Olivia,Job1,2,B] (value 0.0)>\n",
      "<gurobi.Var pi_k_j_c[Olivia,Job1,2,C] (value 0.0)>\n",
      "<gurobi.Var pi_k_j_c[Liam,Job1,2,A] (value 0.0)>\n",
      "<gurobi.Var pi_k_j_c[Liam,Job1,2,B] (value 0.0)>\n",
      "<gurobi.Var pi_k_j_c[Liam,Job1,2,C] (value 0.0)>\n",
      "<gurobi.Var pi_k_j_c[Emma,Job1,2,A] (value 0.0)>\n",
      "<gurobi.Var pi_k_j_c[Emma,Job1,2,B] (value 0.0)>\n",
      "<gurobi.Var pi_k_j_c[Emma,Job1,2,C] (value 0.0)>\n",
      "<gurobi.Var pi_k_j_c[Olivia,Job1,3,A] (value 0.0)>\n",
      "<gurobi.Var pi_k_j_c[Olivia,Job1,3,B] (value 0.0)>\n",
      "<gurobi.Var pi_k_j_c[Olivia,Job1,3,C] (value 0.0)>\n",
      "<gurobi.Var pi_k_j_c[Liam,Job1,3,A] (value 0.0)>\n",
      "<gurobi.Var pi_k_j_c[Liam,Job1,3,B] (value 0.0)>\n",
      "<gurobi.Var pi_k_j_c[Liam,Job1,3,C] (value 0.0)>\n",
      "<gurobi.Var pi_k_j_c[Emma,Job1,3,A] (value 0.0)>\n",
      "<gurobi.Var pi_k_j_c[Emma,Job1,3,B] (value 0.0)>\n",
      "<gurobi.Var pi_k_j_c[Emma,Job1,3,C] (value 0.0)>\n",
      "<gurobi.Var pi_k_j_c[Olivia,Job1,4,A] (value 0.0)>\n",
      "<gurobi.Var pi_k_j_c[Olivia,Job1,4,B] (value 0.0)>\n",
      "<gurobi.Var pi_k_j_c[Olivia,Job1,4,C] (value 0.0)>\n",
      "<gurobi.Var pi_k_j_c[Liam,Job1,4,A] (value 0.0)>\n",
      "<gurobi.Var pi_k_j_c[Liam,Job1,4,B] (value 0.0)>\n",
      "<gurobi.Var pi_k_j_c[Liam,Job1,4,C] (value 0.0)>\n",
      "<gurobi.Var pi_k_j_c[Emma,Job1,4,A] (value 0.0)>\n",
      "<gurobi.Var pi_k_j_c[Emma,Job1,4,B] (value 0.0)>\n",
      "<gurobi.Var pi_k_j_c[Emma,Job1,4,C] (value 0.0)>\n",
      "<gurobi.Var pi_k_j_c[Olivia,Job1,5,A] (value 0.0)>\n",
      "<gurobi.Var pi_k_j_c[Olivia,Job1,5,B] (value 0.0)>\n",
      "<gurobi.Var pi_k_j_c[Olivia,Job1,5,C] (value 0.0)>\n",
      "<gurobi.Var pi_k_j_c[Liam,Job1,5,A] (value 0.0)>\n",
      "<gurobi.Var pi_k_j_c[Liam,Job1,5,B] (value 0.0)>\n",
      "<gurobi.Var pi_k_j_c[Liam,Job1,5,C] (value 0.0)>\n",
      "<gurobi.Var pi_k_j_c[Emma,Job1,5,A] (value 0.0)>\n",
      "<gurobi.Var pi_k_j_c[Emma,Job1,5,B] (value 0.0)>\n",
      "<gurobi.Var pi_k_j_c[Emma,Job1,5,C] (value 0.0)>\n"
     ]
    }
   ],
   "source": [
    "for j in jour_list:\n",
    "    for s in staff_names:\n",
    "        for c in  qualifications:\n",
    "            print(pi_k_j_c[s,'Job1',j,c])"
   ]
  },
  {
   "cell_type": "code",
   "execution_count": null,
   "metadata": {},
   "outputs": [
    {
     "data": {
      "text/plain": [
       "{'Job1': <gurobi.Var end_k[Job1] (value 0.0)>,\n",
       " 'Job2': <gurobi.Var end_k[Job2] (value 3.0)>,\n",
       " 'Job3': <gurobi.Var end_k[Job3] (value 4.0)>,\n",
       " 'Job4': <gurobi.Var end_k[Job4] (value 5.0)>,\n",
       " 'Job5': <gurobi.Var end_k[Job5] (value 1.0)>}"
      ]
     },
     "execution_count": 28,
     "metadata": {},
     "output_type": "execute_result"
    }
   ],
   "source": [
    "end_k"
   ]
  },
  {
   "cell_type": "code",
   "execution_count": null,
   "metadata": {},
   "outputs": [
    {
     "data": {
      "text/plain": [
       "{'Job1': <gurobi.Var delay_k[Job1] (value -0.0)>,\n",
       " 'Job2': <gurobi.Var delay_k[Job2] (value 0.0)>,\n",
       " 'Job3': <gurobi.Var delay_k[Job3] (value 0.0)>,\n",
       " 'Job4': <gurobi.Var delay_k[Job4] (value 2.0)>,\n",
       " 'Job5': <gurobi.Var delay_k[Job5] (value -0.0)>}"
      ]
     },
     "execution_count": 29,
     "metadata": {},
     "output_type": "execute_result"
    }
   ],
   "source": [
    "delay_k"
   ]
  },
  {
   "cell_type": "code",
   "execution_count": null,
   "metadata": {},
   "outputs": [],
   "source": []
  }
 ],
 "metadata": {
  "kernelspec": {
   "display_name": "env",
   "language": "python",
   "name": "python3"
  },
  "language_info": {
   "codemirror_mode": {
    "name": "ipython",
    "version": 3
   },
   "file_extension": ".py",
   "mimetype": "text/x-python",
   "name": "python",
   "nbconvert_exporter": "python",
   "pygments_lexer": "ipython3",
   "version": "3.10.8"
  },
  "vscode": {
   "interpreter": {
    "hash": "7ba4d9131b28a25e673a5eedffce26d9d813237da3453983d8ab74cee15e9ce5"
   }
  }
 },
 "nbformat": 4,
 "nbformat_minor": 2
}
