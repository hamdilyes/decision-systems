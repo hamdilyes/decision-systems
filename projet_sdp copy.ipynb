{
 "cells": [
  {
   "attachments": {},
   "cell_type": "markdown",
   "metadata": {},
   "source": [
    "# Import Libraries"
   ]
  },
  {
   "cell_type": "code",
<<<<<<< HEAD
   "execution_count": 1,
=======
   "execution_count": 24,
>>>>>>> 23f91a417552e6ca1504cbec4bcc15d2027fb83a
   "metadata": {},
   "outputs": [],
   "source": [
    "import gurobipy as grb\n",
    "import pandas as pd\n",
    "from gurobipy import GRB\n",
    "import numpy as np"
   ]
  },
  {
   "attachments": {},
   "cell_type": "markdown",
   "metadata": {},
   "source": [
    "# Model"
   ]
  },
  {
   "cell_type": "code",
<<<<<<< HEAD
   "execution_count": 2,
=======
   "execution_count": 25,
>>>>>>> 23f91a417552e6ca1504cbec4bcc15d2027fb83a
   "metadata": {},
   "outputs": [
    {
     "name": "stdout",
     "output_type": "stream",
     "text": [
      "Restricted license - for non-production use only - expires 2024-10-28\n"
     ]
    }
   ],
   "source": [
    " # Create a model\n",
    "model = grb.Model(\"Model\")"
   ]
  },
  {
   "cell_type": "markdown",
   "metadata": {},
   "source": [
    "# Get data from json"
   ]
  },
  {
   "cell_type": "code",
<<<<<<< HEAD
   "execution_count": 3,
=======
   "execution_count": 26,
>>>>>>> 23f91a417552e6ca1504cbec4bcc15d2027fb83a
   "metadata": {},
   "outputs": [
    {
     "data": {
      "text/plain": [
       "{'horizon': 5,\n",
       " 'qualifications': ['A', 'B', 'C'],\n",
       " 'staff': [{'name': 'Olivia',\n",
       "   'qualifications': ['A', 'B', 'C'],\n",
       "   'vacations': []},\n",
       "  {'name': 'Liam', 'qualifications': ['A', 'B'], 'vacations': [1]},\n",
       "  {'name': 'Emma', 'qualifications': ['C'], 'vacations': [2]}],\n",
       " 'jobs': [{'name': 'Job1',\n",
       "   'gain': 20,\n",
       "   'due_date': 3,\n",
       "   'daily_penalty': 3,\n",
       "   'working_days_per_qualification': {'A': 1, 'B': 1, 'C': 1}},\n",
       "  {'name': 'Job2',\n",
       "   'gain': 15,\n",
       "   'due_date': 3,\n",
       "   'daily_penalty': 3,\n",
       "   'working_days_per_qualification': {'A': 1, 'B': 2}},\n",
       "  {'name': 'Job3',\n",
       "   'gain': 15,\n",
       "   'due_date': 4,\n",
       "   'daily_penalty': 3,\n",
       "   'working_days_per_qualification': {'A': 1, 'C': 2}},\n",
       "  {'name': 'Job4',\n",
       "   'gain': 20,\n",
       "   'due_date': 3,\n",
       "   'daily_penalty': 3,\n",
       "   'working_days_per_qualification': {'B': 2, 'C': 1}},\n",
       "  {'name': 'Job5',\n",
       "   'gain': 10,\n",
       "   'due_date': 5,\n",
       "   'daily_penalty': 3,\n",
       "   'working_days_per_qualification': {'C': 2}}]}"
      ]
     },
<<<<<<< HEAD
     "execution_count": 3,
=======
     "execution_count": 26,
>>>>>>> 23f91a417552e6ca1504cbec4bcc15d2027fb83a
     "metadata": {},
     "output_type": "execute_result"
    }
   ],
   "source": [
    "# get the  data from the json file small.json\n",
    "import json\n",
    "with open('small.json') as f:\n",
    "    data = json.load(f)\n",
    "data"
   ]
  },
  {
   "cell_type": "markdown",
   "metadata": {},
   "source": [
    "## Constants from data"
   ]
  },
  {
   "cell_type": "code",
<<<<<<< HEAD
   "execution_count": 4,
=======
   "execution_count": 27,
>>>>>>> 23f91a417552e6ca1504cbec4bcc15d2027fb83a
   "metadata": {},
   "outputs": [],
   "source": [
    "horizon= data['horizon']\n",
    "qualifications=data['qualifications']\n",
    "staff_names=[i['name'] for i in data['staff']]\n",
    "staff_qualifications=[i['qualifications'] for i in data['staff']]\n",
    "job_list=[i['name'] for i in data['jobs']]\n",
    "jour_list=[i for i in range(1,horizon+1)]\n",
    "job_penality=[i['daily_penalty'] for i in data['jobs']] \n",
    "job_qualifications= [i['working_days_per_qualification'] for i in data['jobs']]\n",
    "job_gain=[i['gain'] for i in data['jobs']]\n",
    "due_dates=[i['due_date'] for i in data['jobs']]\n",
    "vacation_staff=[i['vacations'] for i in data['staff']]"
   ]
  },
  {
   "cell_type": "markdown",
   "metadata": {},
   "source": [
    "# Model's parameters"
   ]
  },
  {
   "attachments": {
    "image.png": {
     "image/png": "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"
    }
   },
   "cell_type": "markdown",
   "metadata": {},
   "source": [
    "![image.png](attachment:image.png)"
   ]
  },
  {
   "cell_type": "code",
<<<<<<< HEAD
   "execution_count": 5,
=======
   "execution_count": 28,
>>>>>>> 23f91a417552e6ca1504cbec4bcc15d2027fb83a
   "metadata": {},
   "outputs": [],
   "source": [
    "# create a function that converts a dictionary to a matrix\n",
    "def get_matrix(liste):\n",
    "    test=pd.DataFrame.from_dict(liste,orient='index')\n",
    "    test.fillna(0,inplace=True)\n",
    "    return test.to_dict(orient='index')"
   ]
  },
  {
   "cell_type": "code",
<<<<<<< HEAD
   "execution_count": 6,
=======
   "execution_count": 29,
>>>>>>> 23f91a417552e6ca1504cbec4bcc15d2027fb83a
   "metadata": {},
   "outputs": [],
   "source": [
    "# create dictionaries with job_list as key and job_penality, job_gain ans due_dates as values\n",
    "gammak=job_penality_dict=dict(zip(job_list,job_penality))\n",
    "gk=job_gain_dict=dict(zip(job_list,job_gain))\n",
    "lk=due_dates_dict=dict(zip(job_list,due_dates))\n",
    "\n",
    "# create a dictionary for staff qualifications\n",
    "pi_c = {}\n",
    "for i in range(len(staff_names)) :\n",
    "    k = staff_names[i]\n",
    "    pi_c[k] = {}\n",
    "    for c in qualifications:\n",
    "        if c in data['staff'][i]['qualifications']:\n",
    "            pi_c[k][c] = 1\n",
    "        else:\n",
    "            pi_c[k][c] = 0\n",
    "qk_c=get_matrix(dict(zip(job_list,job_qualifications)))\n",
    "# get pi_j\n",
    "staff_in_vacation=pd.DataFrame(index=staff_names,columns=jour_list)\n",
    "# fill the dataframe staff_in_vacation with the svalues of the dictionary\n",
    "for i in staff_names:\n",
    "    for j in jour_list:\n",
    "        staff_in_vacation.loc[i,j]=0 if j in dict(zip(staff_names,vacation_staff))[i] else 1\n",
    "pi_j=staff_in_vacation.to_dict(orient='index')"
   ]
  },
  {
   "cell_type": "markdown",
   "metadata": {},
   "source": [
    "# Decision variables"
   ]
  },
  {
   "attachments": {
    "image.png": {
     "image/png": "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"
    }
   },
   "cell_type": "markdown",
   "metadata": {},
   "source": [
    "![image.png](attachment:image.png)"
   ]
  },
  {
   "cell_type": "code",
<<<<<<< HEAD
   "execution_count": 7,
=======
   "execution_count": 30,
>>>>>>> 23f91a417552e6ca1504cbec4bcc15d2027fb83a
   "metadata": {},
   "outputs": [],
   "source": [
    "# constraint M1 and M2\n",
    "M2=1\n",
    "M1=horizon*len(qualifications)\n",
    "M3 = len(staff_names)\n",
    "M4=horizon\n",
    "M5=horizon"
   ]
  },
  {
   "cell_type": "code",
<<<<<<< HEAD
   "execution_count": 8,
=======
   "execution_count": 31,
>>>>>>> 23f91a417552e6ca1504cbec4bcc15d2027fb83a
   "metadata": {},
   "outputs": [],
   "source": [
    "# Add decision variables\n",
    "# pi_k_j_c: Le personnel i est affecté au projet k sur la compétence c pour le jour j\n",
    "pi_k_j_c = model.addVars(staff_names,job_list,jour_list,qualifications, vtype=GRB.BINARY, name=\"pi_k_j_c\")\n",
    "\n",
    "# pk_j : 1 si on travaille sur le projet k le jour j sinon 0\n",
    "zk_j = model.addVars(job_list,jour_list,vtype=GRB.BINARY, name=\"zk_j\")\n",
    "\n",
    "# pour la linéarisation de l'objectif 1\n",
    "tk=model.addVars(job_list,vtype=GRB.INTEGER, name=\"tk\")\n",
    "\n",
    "# rk : 1 si le projet k est réalisé 0 sinon\n",
    "rk = model.addVars( job_list,vtype=GRB.BINARY, name=\"rk\")\n",
    "# rk_c = model.addVars(job_list,qualifications,vtype=GRB.BINARY, name=\"rk_c\")\n",
    "start_k=model.addVars(job_list,vtype=GRB.INTEGER, name=\"start_k\")\n",
    "# deltak = model.addVars( job_list,vtype=GRB.BINARY, name=\"deltak\")\n",
    "delta_k_c = model.addVars(job_list,qualifications,vtype=GRB.BINARY, name=\"delta_k_c\")\n",
    "delta_k_j = model.addVars(job_list,jour_list,vtype=GRB.BINARY, name=\"delta_k_j\")\n",
    "\n",
    "# pi_k : 1 si le personnel i est affecté au projet k 0 sinon\n",
    "#pi_k = model.addVars( staff_names,job_list,vtype=GRB.BINARY, name=\"dk\")\n"
   ]
  },
  {
   "cell_type": "code",
   "execution_count": 32,
   "metadata": {},
   "outputs": [
    {
     "data": {
      "text/plain": [
       "{('Olivia', 'Job1', 1, 'A'): <gurobi.Var *Awaiting Model Update*>,\n",
       " ('Olivia', 'Job1', 1, 'B'): <gurobi.Var *Awaiting Model Update*>,\n",
       " ('Olivia', 'Job1', 1, 'C'): <gurobi.Var *Awaiting Model Update*>,\n",
       " ('Olivia', 'Job1', 2, 'A'): <gurobi.Var *Awaiting Model Update*>,\n",
       " ('Olivia', 'Job1', 2, 'B'): <gurobi.Var *Awaiting Model Update*>,\n",
       " ('Olivia', 'Job1', 2, 'C'): <gurobi.Var *Awaiting Model Update*>,\n",
       " ('Olivia', 'Job1', 3, 'A'): <gurobi.Var *Awaiting Model Update*>,\n",
       " ('Olivia', 'Job1', 3, 'B'): <gurobi.Var *Awaiting Model Update*>,\n",
       " ('Olivia', 'Job1', 3, 'C'): <gurobi.Var *Awaiting Model Update*>,\n",
       " ('Olivia', 'Job1', 4, 'A'): <gurobi.Var *Awaiting Model Update*>,\n",
       " ('Olivia', 'Job1', 4, 'B'): <gurobi.Var *Awaiting Model Update*>,\n",
       " ('Olivia', 'Job1', 4, 'C'): <gurobi.Var *Awaiting Model Update*>,\n",
       " ('Olivia', 'Job1', 5, 'A'): <gurobi.Var *Awaiting Model Update*>,\n",
       " ('Olivia', 'Job1', 5, 'B'): <gurobi.Var *Awaiting Model Update*>,\n",
       " ('Olivia', 'Job1', 5, 'C'): <gurobi.Var *Awaiting Model Update*>,\n",
       " ('Olivia', 'Job2', 1, 'A'): <gurobi.Var *Awaiting Model Update*>,\n",
       " ('Olivia', 'Job2', 1, 'B'): <gurobi.Var *Awaiting Model Update*>,\n",
       " ('Olivia', 'Job2', 1, 'C'): <gurobi.Var *Awaiting Model Update*>,\n",
       " ('Olivia', 'Job2', 2, 'A'): <gurobi.Var *Awaiting Model Update*>,\n",
       " ('Olivia', 'Job2', 2, 'B'): <gurobi.Var *Awaiting Model Update*>,\n",
       " ('Olivia', 'Job2', 2, 'C'): <gurobi.Var *Awaiting Model Update*>,\n",
       " ('Olivia', 'Job2', 3, 'A'): <gurobi.Var *Awaiting Model Update*>,\n",
       " ('Olivia', 'Job2', 3, 'B'): <gurobi.Var *Awaiting Model Update*>,\n",
       " ('Olivia', 'Job2', 3, 'C'): <gurobi.Var *Awaiting Model Update*>,\n",
       " ('Olivia', 'Job2', 4, 'A'): <gurobi.Var *Awaiting Model Update*>,\n",
       " ('Olivia', 'Job2', 4, 'B'): <gurobi.Var *Awaiting Model Update*>,\n",
       " ('Olivia', 'Job2', 4, 'C'): <gurobi.Var *Awaiting Model Update*>,\n",
       " ('Olivia', 'Job2', 5, 'A'): <gurobi.Var *Awaiting Model Update*>,\n",
       " ('Olivia', 'Job2', 5, 'B'): <gurobi.Var *Awaiting Model Update*>,\n",
       " ('Olivia', 'Job2', 5, 'C'): <gurobi.Var *Awaiting Model Update*>,\n",
       " ('Olivia', 'Job3', 1, 'A'): <gurobi.Var *Awaiting Model Update*>,\n",
       " ('Olivia', 'Job3', 1, 'B'): <gurobi.Var *Awaiting Model Update*>,\n",
       " ('Olivia', 'Job3', 1, 'C'): <gurobi.Var *Awaiting Model Update*>,\n",
       " ('Olivia', 'Job3', 2, 'A'): <gurobi.Var *Awaiting Model Update*>,\n",
       " ('Olivia', 'Job3', 2, 'B'): <gurobi.Var *Awaiting Model Update*>,\n",
       " ('Olivia', 'Job3', 2, 'C'): <gurobi.Var *Awaiting Model Update*>,\n",
       " ('Olivia', 'Job3', 3, 'A'): <gurobi.Var *Awaiting Model Update*>,\n",
       " ('Olivia', 'Job3', 3, 'B'): <gurobi.Var *Awaiting Model Update*>,\n",
       " ('Olivia', 'Job3', 3, 'C'): <gurobi.Var *Awaiting Model Update*>,\n",
       " ('Olivia', 'Job3', 4, 'A'): <gurobi.Var *Awaiting Model Update*>,\n",
       " ('Olivia', 'Job3', 4, 'B'): <gurobi.Var *Awaiting Model Update*>,\n",
       " ('Olivia', 'Job3', 4, 'C'): <gurobi.Var *Awaiting Model Update*>,\n",
       " ('Olivia', 'Job3', 5, 'A'): <gurobi.Var *Awaiting Model Update*>,\n",
       " ('Olivia', 'Job3', 5, 'B'): <gurobi.Var *Awaiting Model Update*>,\n",
       " ('Olivia', 'Job3', 5, 'C'): <gurobi.Var *Awaiting Model Update*>,\n",
       " ('Olivia', 'Job4', 1, 'A'): <gurobi.Var *Awaiting Model Update*>,\n",
       " ('Olivia', 'Job4', 1, 'B'): <gurobi.Var *Awaiting Model Update*>,\n",
       " ('Olivia', 'Job4', 1, 'C'): <gurobi.Var *Awaiting Model Update*>,\n",
       " ('Olivia', 'Job4', 2, 'A'): <gurobi.Var *Awaiting Model Update*>,\n",
       " ('Olivia', 'Job4', 2, 'B'): <gurobi.Var *Awaiting Model Update*>,\n",
       " ('Olivia', 'Job4', 2, 'C'): <gurobi.Var *Awaiting Model Update*>,\n",
       " ('Olivia', 'Job4', 3, 'A'): <gurobi.Var *Awaiting Model Update*>,\n",
       " ('Olivia', 'Job4', 3, 'B'): <gurobi.Var *Awaiting Model Update*>,\n",
       " ('Olivia', 'Job4', 3, 'C'): <gurobi.Var *Awaiting Model Update*>,\n",
       " ('Olivia', 'Job4', 4, 'A'): <gurobi.Var *Awaiting Model Update*>,\n",
       " ('Olivia', 'Job4', 4, 'B'): <gurobi.Var *Awaiting Model Update*>,\n",
       " ('Olivia', 'Job4', 4, 'C'): <gurobi.Var *Awaiting Model Update*>,\n",
       " ('Olivia', 'Job4', 5, 'A'): <gurobi.Var *Awaiting Model Update*>,\n",
       " ('Olivia', 'Job4', 5, 'B'): <gurobi.Var *Awaiting Model Update*>,\n",
       " ('Olivia', 'Job4', 5, 'C'): <gurobi.Var *Awaiting Model Update*>,\n",
       " ('Olivia', 'Job5', 1, 'A'): <gurobi.Var *Awaiting Model Update*>,\n",
       " ('Olivia', 'Job5', 1, 'B'): <gurobi.Var *Awaiting Model Update*>,\n",
       " ('Olivia', 'Job5', 1, 'C'): <gurobi.Var *Awaiting Model Update*>,\n",
       " ('Olivia', 'Job5', 2, 'A'): <gurobi.Var *Awaiting Model Update*>,\n",
       " ('Olivia', 'Job5', 2, 'B'): <gurobi.Var *Awaiting Model Update*>,\n",
       " ('Olivia', 'Job5', 2, 'C'): <gurobi.Var *Awaiting Model Update*>,\n",
       " ('Olivia', 'Job5', 3, 'A'): <gurobi.Var *Awaiting Model Update*>,\n",
       " ('Olivia', 'Job5', 3, 'B'): <gurobi.Var *Awaiting Model Update*>,\n",
       " ('Olivia', 'Job5', 3, 'C'): <gurobi.Var *Awaiting Model Update*>,\n",
       " ('Olivia', 'Job5', 4, 'A'): <gurobi.Var *Awaiting Model Update*>,\n",
       " ('Olivia', 'Job5', 4, 'B'): <gurobi.Var *Awaiting Model Update*>,\n",
       " ('Olivia', 'Job5', 4, 'C'): <gurobi.Var *Awaiting Model Update*>,\n",
       " ('Olivia', 'Job5', 5, 'A'): <gurobi.Var *Awaiting Model Update*>,\n",
       " ('Olivia', 'Job5', 5, 'B'): <gurobi.Var *Awaiting Model Update*>,\n",
       " ('Olivia', 'Job5', 5, 'C'): <gurobi.Var *Awaiting Model Update*>,\n",
       " ('Liam', 'Job1', 1, 'A'): <gurobi.Var *Awaiting Model Update*>,\n",
       " ('Liam', 'Job1', 1, 'B'): <gurobi.Var *Awaiting Model Update*>,\n",
       " ('Liam', 'Job1', 1, 'C'): <gurobi.Var *Awaiting Model Update*>,\n",
       " ('Liam', 'Job1', 2, 'A'): <gurobi.Var *Awaiting Model Update*>,\n",
       " ('Liam', 'Job1', 2, 'B'): <gurobi.Var *Awaiting Model Update*>,\n",
       " ('Liam', 'Job1', 2, 'C'): <gurobi.Var *Awaiting Model Update*>,\n",
       " ('Liam', 'Job1', 3, 'A'): <gurobi.Var *Awaiting Model Update*>,\n",
       " ('Liam', 'Job1', 3, 'B'): <gurobi.Var *Awaiting Model Update*>,\n",
       " ('Liam', 'Job1', 3, 'C'): <gurobi.Var *Awaiting Model Update*>,\n",
       " ('Liam', 'Job1', 4, 'A'): <gurobi.Var *Awaiting Model Update*>,\n",
       " ('Liam', 'Job1', 4, 'B'): <gurobi.Var *Awaiting Model Update*>,\n",
       " ('Liam', 'Job1', 4, 'C'): <gurobi.Var *Awaiting Model Update*>,\n",
       " ('Liam', 'Job1', 5, 'A'): <gurobi.Var *Awaiting Model Update*>,\n",
       " ('Liam', 'Job1', 5, 'B'): <gurobi.Var *Awaiting Model Update*>,\n",
       " ('Liam', 'Job1', 5, 'C'): <gurobi.Var *Awaiting Model Update*>,\n",
       " ('Liam', 'Job2', 1, 'A'): <gurobi.Var *Awaiting Model Update*>,\n",
       " ('Liam', 'Job2', 1, 'B'): <gurobi.Var *Awaiting Model Update*>,\n",
       " ('Liam', 'Job2', 1, 'C'): <gurobi.Var *Awaiting Model Update*>,\n",
       " ('Liam', 'Job2', 2, 'A'): <gurobi.Var *Awaiting Model Update*>,\n",
       " ('Liam', 'Job2', 2, 'B'): <gurobi.Var *Awaiting Model Update*>,\n",
       " ('Liam', 'Job2', 2, 'C'): <gurobi.Var *Awaiting Model Update*>,\n",
       " ('Liam', 'Job2', 3, 'A'): <gurobi.Var *Awaiting Model Update*>,\n",
       " ('Liam', 'Job2', 3, 'B'): <gurobi.Var *Awaiting Model Update*>,\n",
       " ('Liam', 'Job2', 3, 'C'): <gurobi.Var *Awaiting Model Update*>,\n",
       " ('Liam', 'Job2', 4, 'A'): <gurobi.Var *Awaiting Model Update*>,\n",
       " ('Liam', 'Job2', 4, 'B'): <gurobi.Var *Awaiting Model Update*>,\n",
       " ('Liam', 'Job2', 4, 'C'): <gurobi.Var *Awaiting Model Update*>,\n",
       " ('Liam', 'Job2', 5, 'A'): <gurobi.Var *Awaiting Model Update*>,\n",
       " ('Liam', 'Job2', 5, 'B'): <gurobi.Var *Awaiting Model Update*>,\n",
       " ('Liam', 'Job2', 5, 'C'): <gurobi.Var *Awaiting Model Update*>,\n",
       " ('Liam', 'Job3', 1, 'A'): <gurobi.Var *Awaiting Model Update*>,\n",
       " ('Liam', 'Job3', 1, 'B'): <gurobi.Var *Awaiting Model Update*>,\n",
       " ('Liam', 'Job3', 1, 'C'): <gurobi.Var *Awaiting Model Update*>,\n",
       " ('Liam', 'Job3', 2, 'A'): <gurobi.Var *Awaiting Model Update*>,\n",
       " ('Liam', 'Job3', 2, 'B'): <gurobi.Var *Awaiting Model Update*>,\n",
       " ('Liam', 'Job3', 2, 'C'): <gurobi.Var *Awaiting Model Update*>,\n",
       " ('Liam', 'Job3', 3, 'A'): <gurobi.Var *Awaiting Model Update*>,\n",
       " ('Liam', 'Job3', 3, 'B'): <gurobi.Var *Awaiting Model Update*>,\n",
       " ('Liam', 'Job3', 3, 'C'): <gurobi.Var *Awaiting Model Update*>,\n",
       " ('Liam', 'Job3', 4, 'A'): <gurobi.Var *Awaiting Model Update*>,\n",
       " ('Liam', 'Job3', 4, 'B'): <gurobi.Var *Awaiting Model Update*>,\n",
       " ('Liam', 'Job3', 4, 'C'): <gurobi.Var *Awaiting Model Update*>,\n",
       " ('Liam', 'Job3', 5, 'A'): <gurobi.Var *Awaiting Model Update*>,\n",
       " ('Liam', 'Job3', 5, 'B'): <gurobi.Var *Awaiting Model Update*>,\n",
       " ('Liam', 'Job3', 5, 'C'): <gurobi.Var *Awaiting Model Update*>,\n",
       " ('Liam', 'Job4', 1, 'A'): <gurobi.Var *Awaiting Model Update*>,\n",
       " ('Liam', 'Job4', 1, 'B'): <gurobi.Var *Awaiting Model Update*>,\n",
       " ('Liam', 'Job4', 1, 'C'): <gurobi.Var *Awaiting Model Update*>,\n",
       " ('Liam', 'Job4', 2, 'A'): <gurobi.Var *Awaiting Model Update*>,\n",
       " ('Liam', 'Job4', 2, 'B'): <gurobi.Var *Awaiting Model Update*>,\n",
       " ('Liam', 'Job4', 2, 'C'): <gurobi.Var *Awaiting Model Update*>,\n",
       " ('Liam', 'Job4', 3, 'A'): <gurobi.Var *Awaiting Model Update*>,\n",
       " ('Liam', 'Job4', 3, 'B'): <gurobi.Var *Awaiting Model Update*>,\n",
       " ('Liam', 'Job4', 3, 'C'): <gurobi.Var *Awaiting Model Update*>,\n",
       " ('Liam', 'Job4', 4, 'A'): <gurobi.Var *Awaiting Model Update*>,\n",
       " ('Liam', 'Job4', 4, 'B'): <gurobi.Var *Awaiting Model Update*>,\n",
       " ('Liam', 'Job4', 4, 'C'): <gurobi.Var *Awaiting Model Update*>,\n",
       " ('Liam', 'Job4', 5, 'A'): <gurobi.Var *Awaiting Model Update*>,\n",
       " ('Liam', 'Job4', 5, 'B'): <gurobi.Var *Awaiting Model Update*>,\n",
       " ('Liam', 'Job4', 5, 'C'): <gurobi.Var *Awaiting Model Update*>,\n",
       " ('Liam', 'Job5', 1, 'A'): <gurobi.Var *Awaiting Model Update*>,\n",
       " ('Liam', 'Job5', 1, 'B'): <gurobi.Var *Awaiting Model Update*>,\n",
       " ('Liam', 'Job5', 1, 'C'): <gurobi.Var *Awaiting Model Update*>,\n",
       " ('Liam', 'Job5', 2, 'A'): <gurobi.Var *Awaiting Model Update*>,\n",
       " ('Liam', 'Job5', 2, 'B'): <gurobi.Var *Awaiting Model Update*>,\n",
       " ('Liam', 'Job5', 2, 'C'): <gurobi.Var *Awaiting Model Update*>,\n",
       " ('Liam', 'Job5', 3, 'A'): <gurobi.Var *Awaiting Model Update*>,\n",
       " ('Liam', 'Job5', 3, 'B'): <gurobi.Var *Awaiting Model Update*>,\n",
       " ('Liam', 'Job5', 3, 'C'): <gurobi.Var *Awaiting Model Update*>,\n",
       " ('Liam', 'Job5', 4, 'A'): <gurobi.Var *Awaiting Model Update*>,\n",
       " ('Liam', 'Job5', 4, 'B'): <gurobi.Var *Awaiting Model Update*>,\n",
       " ('Liam', 'Job5', 4, 'C'): <gurobi.Var *Awaiting Model Update*>,\n",
       " ('Liam', 'Job5', 5, 'A'): <gurobi.Var *Awaiting Model Update*>,\n",
       " ('Liam', 'Job5', 5, 'B'): <gurobi.Var *Awaiting Model Update*>,\n",
       " ('Liam', 'Job5', 5, 'C'): <gurobi.Var *Awaiting Model Update*>,\n",
       " ('Emma', 'Job1', 1, 'A'): <gurobi.Var *Awaiting Model Update*>,\n",
       " ('Emma', 'Job1', 1, 'B'): <gurobi.Var *Awaiting Model Update*>,\n",
       " ('Emma', 'Job1', 1, 'C'): <gurobi.Var *Awaiting Model Update*>,\n",
       " ('Emma', 'Job1', 2, 'A'): <gurobi.Var *Awaiting Model Update*>,\n",
       " ('Emma', 'Job1', 2, 'B'): <gurobi.Var *Awaiting Model Update*>,\n",
       " ('Emma', 'Job1', 2, 'C'): <gurobi.Var *Awaiting Model Update*>,\n",
       " ('Emma', 'Job1', 3, 'A'): <gurobi.Var *Awaiting Model Update*>,\n",
       " ('Emma', 'Job1', 3, 'B'): <gurobi.Var *Awaiting Model Update*>,\n",
       " ('Emma', 'Job1', 3, 'C'): <gurobi.Var *Awaiting Model Update*>,\n",
       " ('Emma', 'Job1', 4, 'A'): <gurobi.Var *Awaiting Model Update*>,\n",
       " ('Emma', 'Job1', 4, 'B'): <gurobi.Var *Awaiting Model Update*>,\n",
       " ('Emma', 'Job1', 4, 'C'): <gurobi.Var *Awaiting Model Update*>,\n",
       " ('Emma', 'Job1', 5, 'A'): <gurobi.Var *Awaiting Model Update*>,\n",
       " ('Emma', 'Job1', 5, 'B'): <gurobi.Var *Awaiting Model Update*>,\n",
       " ('Emma', 'Job1', 5, 'C'): <gurobi.Var *Awaiting Model Update*>,\n",
       " ('Emma', 'Job2', 1, 'A'): <gurobi.Var *Awaiting Model Update*>,\n",
       " ('Emma', 'Job2', 1, 'B'): <gurobi.Var *Awaiting Model Update*>,\n",
       " ('Emma', 'Job2', 1, 'C'): <gurobi.Var *Awaiting Model Update*>,\n",
       " ('Emma', 'Job2', 2, 'A'): <gurobi.Var *Awaiting Model Update*>,\n",
       " ('Emma', 'Job2', 2, 'B'): <gurobi.Var *Awaiting Model Update*>,\n",
       " ('Emma', 'Job2', 2, 'C'): <gurobi.Var *Awaiting Model Update*>,\n",
       " ('Emma', 'Job2', 3, 'A'): <gurobi.Var *Awaiting Model Update*>,\n",
       " ('Emma', 'Job2', 3, 'B'): <gurobi.Var *Awaiting Model Update*>,\n",
       " ('Emma', 'Job2', 3, 'C'): <gurobi.Var *Awaiting Model Update*>,\n",
       " ('Emma', 'Job2', 4, 'A'): <gurobi.Var *Awaiting Model Update*>,\n",
       " ('Emma', 'Job2', 4, 'B'): <gurobi.Var *Awaiting Model Update*>,\n",
       " ('Emma', 'Job2', 4, 'C'): <gurobi.Var *Awaiting Model Update*>,\n",
       " ('Emma', 'Job2', 5, 'A'): <gurobi.Var *Awaiting Model Update*>,\n",
       " ('Emma', 'Job2', 5, 'B'): <gurobi.Var *Awaiting Model Update*>,\n",
       " ('Emma', 'Job2', 5, 'C'): <gurobi.Var *Awaiting Model Update*>,\n",
       " ('Emma', 'Job3', 1, 'A'): <gurobi.Var *Awaiting Model Update*>,\n",
       " ('Emma', 'Job3', 1, 'B'): <gurobi.Var *Awaiting Model Update*>,\n",
       " ('Emma', 'Job3', 1, 'C'): <gurobi.Var *Awaiting Model Update*>,\n",
       " ('Emma', 'Job3', 2, 'A'): <gurobi.Var *Awaiting Model Update*>,\n",
       " ('Emma', 'Job3', 2, 'B'): <gurobi.Var *Awaiting Model Update*>,\n",
       " ('Emma', 'Job3', 2, 'C'): <gurobi.Var *Awaiting Model Update*>,\n",
       " ('Emma', 'Job3', 3, 'A'): <gurobi.Var *Awaiting Model Update*>,\n",
       " ('Emma', 'Job3', 3, 'B'): <gurobi.Var *Awaiting Model Update*>,\n",
       " ('Emma', 'Job3', 3, 'C'): <gurobi.Var *Awaiting Model Update*>,\n",
       " ('Emma', 'Job3', 4, 'A'): <gurobi.Var *Awaiting Model Update*>,\n",
       " ('Emma', 'Job3', 4, 'B'): <gurobi.Var *Awaiting Model Update*>,\n",
       " ('Emma', 'Job3', 4, 'C'): <gurobi.Var *Awaiting Model Update*>,\n",
       " ('Emma', 'Job3', 5, 'A'): <gurobi.Var *Awaiting Model Update*>,\n",
       " ('Emma', 'Job3', 5, 'B'): <gurobi.Var *Awaiting Model Update*>,\n",
       " ('Emma', 'Job3', 5, 'C'): <gurobi.Var *Awaiting Model Update*>,\n",
       " ('Emma', 'Job4', 1, 'A'): <gurobi.Var *Awaiting Model Update*>,\n",
       " ('Emma', 'Job4', 1, 'B'): <gurobi.Var *Awaiting Model Update*>,\n",
       " ('Emma', 'Job4', 1, 'C'): <gurobi.Var *Awaiting Model Update*>,\n",
       " ('Emma', 'Job4', 2, 'A'): <gurobi.Var *Awaiting Model Update*>,\n",
       " ('Emma', 'Job4', 2, 'B'): <gurobi.Var *Awaiting Model Update*>,\n",
       " ('Emma', 'Job4', 2, 'C'): <gurobi.Var *Awaiting Model Update*>,\n",
       " ('Emma', 'Job4', 3, 'A'): <gurobi.Var *Awaiting Model Update*>,\n",
       " ('Emma', 'Job4', 3, 'B'): <gurobi.Var *Awaiting Model Update*>,\n",
       " ('Emma', 'Job4', 3, 'C'): <gurobi.Var *Awaiting Model Update*>,\n",
       " ('Emma', 'Job4', 4, 'A'): <gurobi.Var *Awaiting Model Update*>,\n",
       " ('Emma', 'Job4', 4, 'B'): <gurobi.Var *Awaiting Model Update*>,\n",
       " ('Emma', 'Job4', 4, 'C'): <gurobi.Var *Awaiting Model Update*>,\n",
       " ('Emma', 'Job4', 5, 'A'): <gurobi.Var *Awaiting Model Update*>,\n",
       " ('Emma', 'Job4', 5, 'B'): <gurobi.Var *Awaiting Model Update*>,\n",
       " ('Emma', 'Job4', 5, 'C'): <gurobi.Var *Awaiting Model Update*>,\n",
       " ('Emma', 'Job5', 1, 'A'): <gurobi.Var *Awaiting Model Update*>,\n",
       " ('Emma', 'Job5', 1, 'B'): <gurobi.Var *Awaiting Model Update*>,\n",
       " ('Emma', 'Job5', 1, 'C'): <gurobi.Var *Awaiting Model Update*>,\n",
       " ('Emma', 'Job5', 2, 'A'): <gurobi.Var *Awaiting Model Update*>,\n",
       " ('Emma', 'Job5', 2, 'B'): <gurobi.Var *Awaiting Model Update*>,\n",
       " ('Emma', 'Job5', 2, 'C'): <gurobi.Var *Awaiting Model Update*>,\n",
       " ('Emma', 'Job5', 3, 'A'): <gurobi.Var *Awaiting Model Update*>,\n",
       " ('Emma', 'Job5', 3, 'B'): <gurobi.Var *Awaiting Model Update*>,\n",
       " ('Emma', 'Job5', 3, 'C'): <gurobi.Var *Awaiting Model Update*>,\n",
       " ('Emma', 'Job5', 4, 'A'): <gurobi.Var *Awaiting Model Update*>,\n",
       " ('Emma', 'Job5', 4, 'B'): <gurobi.Var *Awaiting Model Update*>,\n",
       " ('Emma', 'Job5', 4, 'C'): <gurobi.Var *Awaiting Model Update*>,\n",
       " ('Emma', 'Job5', 5, 'A'): <gurobi.Var *Awaiting Model Update*>,\n",
       " ('Emma', 'Job5', 5, 'B'): <gurobi.Var *Awaiting Model Update*>,\n",
       " ('Emma', 'Job5', 5, 'C'): <gurobi.Var *Awaiting Model Update*>}"
      ]
     },
     "execution_count": 32,
     "metadata": {},
     "output_type": "execute_result"
    }
   ],
   "source": [
    "pi_k_j_c"
   ]
  },
  {
   "cell_type": "markdown",
   "metadata": {},
   "source": [
    "# Constraints"
   ]
  },
  {
   "attachments": {
    "image-2.png": {
     "image/png": "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"
    }
   },
   "cell_type": "markdown",
   "metadata": {},
   "source": [
    "![image.png](attachment:image-2.png)"
   ]
  },
  {
   "cell_type": "code",
   "execution_count": 33,
   "metadata": {},
   "outputs": [],
   "source": [
    "#Un personnel i peut être associé au projet k que s’il possède la compétence c nécessaire pour le projet :\n",
    "#3.\n",
    "constr3={f'p{i}_{k}_{j}_{c}':model.addConstr(pi_k_j_c[i,k,j,c]  + (1-pi_c[i][c]) <=1, name=f\"contrainte3{i}_{k}_{j}_{c}\")\n",
    "    for i in staff_names for k in job_list \n",
    "       for j in jour_list  for c in qualifications }\n",
    "#4.\n",
    "constr4={f'p{i}_{j}':model.addConstr(grb.quicksum(pi_k_j_c[i,k,j,c] for k in job_list for c in qualifications) <=1, name=f\"contrainte4{i}_{j}\")\n",
    "    for i in staff_names for j in jour_list}\n",
    "# 5.  \n",
    "constr5={f'2p{i}_{k}_{j}_{c}':model.addConstr(pi_k_j_c[i,k,j,c]  + (1-pi_j[i][j]) <=1, name=f\"contrainte5{i}_{k}_{j}_{c}\")\n",
    "    for i in staff_names for k in job_list \n",
    "       for j in jour_list  for c in qualifications }\n",
    "# 6.\n",
    "contr6={f'p2{k}_{c}':model.addConstr(grb.quicksum(pi_k_j_c[i,k,j,c] for i in staff_names for j in jour_list) <=qk_c[k][c], name=f\"contrainte6{k}_{c}\")\n",
    "    for k in job_list \n",
    "    for c in qualifications }\n",
    "\n"
   ]
  },
  {
   "attachments": {
    "image-2.png": {
     "image/png": "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"
    }
   },
   "cell_type": "markdown",
   "metadata": {},
   "source": [
    "![image.png](attachment:image-2.png)"
   ]
  },
  {
   "cell_type": "code",
<<<<<<< HEAD
   "execution_count": 9,
   "metadata": {},
   "outputs": [],
   "source": [
    "#Un personnel i peut être associé au projet k que s’il possède la compétence c nécessaire pour le projet :\n",
    "constr1={f'p{i}_{k}_{j}_{c}':model.addConstr(pi_k_j_c[i,k,j,c]  + (1-pi_c[i][c]) <=1, name=f\"contrainte1{i}_{k}_{j}_{c}\")\n",
    "    for i in staff_names for k in job_list \n",
    "       for j in jour_list  for c in qualifications }\n",
    "constr2={f'p{i}_{j}':model.addConstr(grb.quicksum(pi_k_j_c[i,k,j,c] for k in job_list for c in qualifications) <=1, name=f\"contrainte2{i}_{j}\")\n",
    "    for i in staff_names for j in jour_list}\n",
    "constr3={f'2p{i}_{k}_{j}_{c}':model.addConstr(pi_k_j_c[i,k,j,c]  + (1-pi_j[i][j]) <=1, name=f\"contrainte3{i}_{k}_{j}_{c}\")\n",
    "    for i in staff_names for k in job_list \n",
    "       for j in jour_list  for c in qualifications }\n",
    "constr4={f'p{i}':model.addConstr(delta_k_c[k,c] <= (1 - rk[k]) , name = f\"contrainte4{i}\")\n",
    "        for i in range(len(job_list))\n",
    "        for k in job_list\n",
    "        for c in qualifications\n",
    "        } \n",
    "\n",
    "constr5 = {f'p{k}_{c}':model.addConstr(grb.quicksum(pi_k_j_c[i,k,j,c] for i in staff_names for j in jour_list) - qk_c[k][c] + 1 <= (1 - delta_k_c[k,c]) , name = f\"contrainte5{k}_{c}\")\n",
    "        for k in job_list\n",
    "          for c in qualifications}\n",
    "\n",
    "constr6 = {f'p2{k}_{c}':model.addConstr( -delta_k_c[k,c] +0.01<= grb.quicksum(pi_k_j_c[i,k,j,c] for i in staff_names for j in jour_list) - qk_c[k][c] + 1   , name = f\"contrainte6{k}_{c}\")\n",
    "        for k in job_list\n",
    "          for c in qualifications} \n",
    "#######################    \n",
    "#######################\n",
    "#######################\n",
    "constr8={f'z{k}_{j}_{i}_{c}':model.addConstr(pi_k_j_c[i,k,j,c] <= zk_j[k,j] , name=f\"contrainte8z{k}_{j}_{i}_{c}\")\n",
    "    for i in staff_names for c in qualifications\n",
    "        for k in job_list for j in jour_list}\n",
    "contr8={f'2t{k}':model.addConstr(tk[k]>= 0, name=f\"contrainte8t{k}\")\n",
    "    for k in job_list }\n",
    "\n",
    "contr9={f't{k}':model.addConstr(tk[k]>= job_penality_dict[k]*(grb.quicksum(zk_j[k,j] for j in jour_list)-due_dates_dict[k]), name=f\"contrainte9t{k}\")\n",
    "    for k in job_list }\n",
    "\n",
    "# const11={f'z2{k}_{j}':model.addConstr( delta_k_j[k,j] - zk_j[k,j]<= 0   , name = f\"contrainte11Z{k}_{j}\")\n",
    "#         for k in job_list\n",
    "#           for j in jour_list}\n",
    "          \n",
    "# const12 = {f'delta{k}_{j}':model.addConstr(- M3*(1-delta_k_j[k,j]) <= grb.quicksum(pi_k_j_c[i,k,j,c] for i in staff_names for c in qualifications) - 1 , name = f\"contrainte12{k}_{j}\")\n",
    "#         for k in job_list\n",
    "#           for j in jour_list}\n",
    "\n",
    "# const13= {f'delta2{k}_{j}':model.addConstr(grb.quicksum(pi_k_j_c[i,k,j,c] for i in staff_names for c in qualifications) - 1 <= M3*delta_k_j[k,j], name = f\"contrainte13{k}_{j}\")\n",
    "#         for k in job_list\n",
    "#           for j in jour_list}"
   ]
  },
  {
   "cell_type": "code",
   "execution_count": 10,
   "metadata": {},
   "outputs": [
    {
     "data": {
      "text/plain": [
       "{'Job1': 20, 'Job2': 15, 'Job3': 15, 'Job4': 20, 'Job5': 10}"
      ]
     },
     "execution_count": 10,
     "metadata": {},
     "output_type": "execute_result"
=======
   "execution_count": 38,
   "metadata": {},
   "outputs": [
    {
     "ename": "KeyError",
     "evalue": "('Job1', 6)",
     "output_type": "error",
     "traceback": [
      "\u001b[1;31m---------------------------------------------------------------------------\u001b[0m",
      "\u001b[1;31mKeyError\u001b[0m                                  Traceback (most recent call last)",
      "Cell \u001b[1;32mIn[38], line 33\u001b[0m\n\u001b[0;32m     29\u001b[0m contr14\u001b[39m=\u001b[39m{\u001b[39mf\u001b[39m\u001b[39m'\u001b[39m\u001b[39mstart\u001b[39m\u001b[39m{\u001b[39;00mk\u001b[39m}\u001b[39;00m\u001b[39m'\u001b[39m:model\u001b[39m.\u001b[39maddConstr(\u001b[39m-\u001b[39mM4\u001b[39m*\u001b[39m(\u001b[39m1\u001b[39m\u001b[39m-\u001b[39mstart_k[k])\u001b[39m<\u001b[39m\u001b[39m=\u001b[39m grb\u001b[39m.\u001b[39mquicksum(zk_j[k,j] \u001b[39mfor\u001b[39;00m j \u001b[39min\u001b[39;00m jour_list)\u001b[39m-\u001b[39m\u001b[39m1\u001b[39m, name\u001b[39m=\u001b[39m\u001b[39mf\u001b[39m\u001b[39m\"\u001b[39m\u001b[39mcontrainte14s\u001b[39m\u001b[39m{\u001b[39;00mk\u001b[39m}\u001b[39;00m\u001b[39m\"\u001b[39m)\n\u001b[0;32m     30\u001b[0m     \u001b[39mfor\u001b[39;00m k \u001b[39min\u001b[39;00m job_list }\n\u001b[0;32m     31\u001b[0m contr15\u001b[39m=\u001b[39m{\u001b[39mf\u001b[39m\u001b[39m'\u001b[39m\u001b[39mstart2\u001b[39m\u001b[39m{\u001b[39;00mk\u001b[39m}\u001b[39;00m\u001b[39m'\u001b[39m:model\u001b[39m.\u001b[39maddConstr( grb\u001b[39m.\u001b[39mquicksum(zk_j[k,j] \u001b[39mfor\u001b[39;00m j \u001b[39min\u001b[39;00m jour_list)\u001b[39m-\u001b[39m\u001b[39m1\u001b[39m\u001b[39m<\u001b[39m\u001b[39m=\u001b[39mM4\u001b[39m*\u001b[39mstart_k[k]\u001b[39m-\u001b[39m\u001b[39m0.01\u001b[39m, name\u001b[39m=\u001b[39m\u001b[39mf\u001b[39m\u001b[39m\"\u001b[39m\u001b[39mcontrainte15s\u001b[39m\u001b[39m{\u001b[39;00mk\u001b[39m}\u001b[39;00m\u001b[39m\"\u001b[39m)\n\u001b[0;32m     32\u001b[0m     \u001b[39mfor\u001b[39;00m k \u001b[39min\u001b[39;00m job_list }\n\u001b[1;32m---> 33\u001b[0m contr16\u001b[39m=\u001b[39m{\u001b[39mf\u001b[39m\u001b[39m'\u001b[39m\u001b[39mgap\u001b[39m\u001b[39m{\u001b[39;00mk\u001b[39m}\u001b[39;00m\u001b[39m'\u001b[39m:model\u001b[39m.\u001b[39maddConstr( \u001b[39m1\u001b[39m\u001b[39m-\u001b[39mrk[k] \u001b[39m+\u001b[39mstart_k[k]\u001b[39m-\u001b[39m\u001b[39m2\u001b[39m\u001b[39m<\u001b[39m\u001b[39m=\u001b[39mM5\u001b[39m*\u001b[39m(\u001b[39m1\u001b[39m\u001b[39m-\u001b[39mzk_j[k,j]\u001b[39m+\u001b[39mzk_j[k,j\u001b[39m+\u001b[39m\u001b[39m1\u001b[39m])\u001b[39m-\u001b[39m\u001b[39m0.01\u001b[39m, name\u001b[39m=\u001b[39m\u001b[39mf\u001b[39m\u001b[39m\"\u001b[39m\u001b[39mcontrainte16g\u001b[39m\u001b[39m{\u001b[39;00mk\u001b[39m}\u001b[39;00m\u001b[39m\"\u001b[39m)\n\u001b[0;32m     34\u001b[0m     \u001b[39mfor\u001b[39;00m k \u001b[39min\u001b[39;00m job_list\n\u001b[0;32m     35\u001b[0m     \u001b[39mfor\u001b[39;00m j \u001b[39min\u001b[39;00m jour_list }\n\u001b[0;32m     36\u001b[0m contr17\u001b[39m=\u001b[39m{\u001b[39mf\u001b[39m\u001b[39m'\u001b[39m\u001b[39mgap2\u001b[39m\u001b[39m{\u001b[39;00mk\u001b[39m}\u001b[39;00m\u001b[39m'\u001b[39m:model\u001b[39m.\u001b[39maddConstr( M5\u001b[39m*\u001b[39m(zk_j[k,j]\u001b[39m-\u001b[39mzk_j[k,j\u001b[39m+\u001b[39m\u001b[39m1\u001b[39m])\u001b[39m<\u001b[39m\u001b[39m=\u001b[39m\u001b[39m1\u001b[39m\u001b[39m-\u001b[39mrk[k] \u001b[39m+\u001b[39mstart_k[k]\u001b[39m-\u001b[39m\u001b[39m2\u001b[39m, name\u001b[39m=\u001b[39m\u001b[39mf\u001b[39m\u001b[39m\"\u001b[39m\u001b[39mcontrainte17g\u001b[39m\u001b[39m{\u001b[39;00mk\u001b[39m}\u001b[39;00m\u001b[39m\"\u001b[39m)\n\u001b[0;32m     37\u001b[0m     \u001b[39mfor\u001b[39;00m k \u001b[39min\u001b[39;00m job_list\n\u001b[0;32m     38\u001b[0m     \u001b[39mfor\u001b[39;00m j \u001b[39min\u001b[39;00m jour_list[:\u001b[39m-\u001b[39m\u001b[39m1\u001b[39m] }\n",
      "Cell \u001b[1;32mIn[38], line 33\u001b[0m, in \u001b[0;36m<dictcomp>\u001b[1;34m(.0)\u001b[0m\n\u001b[0;32m     29\u001b[0m contr14\u001b[39m=\u001b[39m{\u001b[39mf\u001b[39m\u001b[39m'\u001b[39m\u001b[39mstart\u001b[39m\u001b[39m{\u001b[39;00mk\u001b[39m}\u001b[39;00m\u001b[39m'\u001b[39m:model\u001b[39m.\u001b[39maddConstr(\u001b[39m-\u001b[39mM4\u001b[39m*\u001b[39m(\u001b[39m1\u001b[39m\u001b[39m-\u001b[39mstart_k[k])\u001b[39m<\u001b[39m\u001b[39m=\u001b[39m grb\u001b[39m.\u001b[39mquicksum(zk_j[k,j] \u001b[39mfor\u001b[39;00m j \u001b[39min\u001b[39;00m jour_list)\u001b[39m-\u001b[39m\u001b[39m1\u001b[39m, name\u001b[39m=\u001b[39m\u001b[39mf\u001b[39m\u001b[39m\"\u001b[39m\u001b[39mcontrainte14s\u001b[39m\u001b[39m{\u001b[39;00mk\u001b[39m}\u001b[39;00m\u001b[39m\"\u001b[39m)\n\u001b[0;32m     30\u001b[0m     \u001b[39mfor\u001b[39;00m k \u001b[39min\u001b[39;00m job_list }\n\u001b[0;32m     31\u001b[0m contr15\u001b[39m=\u001b[39m{\u001b[39mf\u001b[39m\u001b[39m'\u001b[39m\u001b[39mstart2\u001b[39m\u001b[39m{\u001b[39;00mk\u001b[39m}\u001b[39;00m\u001b[39m'\u001b[39m:model\u001b[39m.\u001b[39maddConstr( grb\u001b[39m.\u001b[39mquicksum(zk_j[k,j] \u001b[39mfor\u001b[39;00m j \u001b[39min\u001b[39;00m jour_list)\u001b[39m-\u001b[39m\u001b[39m1\u001b[39m\u001b[39m<\u001b[39m\u001b[39m=\u001b[39mM4\u001b[39m*\u001b[39mstart_k[k]\u001b[39m-\u001b[39m\u001b[39m0.01\u001b[39m, name\u001b[39m=\u001b[39m\u001b[39mf\u001b[39m\u001b[39m\"\u001b[39m\u001b[39mcontrainte15s\u001b[39m\u001b[39m{\u001b[39;00mk\u001b[39m}\u001b[39;00m\u001b[39m\"\u001b[39m)\n\u001b[0;32m     32\u001b[0m     \u001b[39mfor\u001b[39;00m k \u001b[39min\u001b[39;00m job_list }\n\u001b[1;32m---> 33\u001b[0m contr16\u001b[39m=\u001b[39m{\u001b[39mf\u001b[39m\u001b[39m'\u001b[39m\u001b[39mgap\u001b[39m\u001b[39m{\u001b[39;00mk\u001b[39m}\u001b[39;00m\u001b[39m'\u001b[39m:model\u001b[39m.\u001b[39maddConstr( \u001b[39m1\u001b[39m\u001b[39m-\u001b[39mrk[k] \u001b[39m+\u001b[39mstart_k[k]\u001b[39m-\u001b[39m\u001b[39m2\u001b[39m\u001b[39m<\u001b[39m\u001b[39m=\u001b[39mM5\u001b[39m*\u001b[39m(\u001b[39m1\u001b[39m\u001b[39m-\u001b[39mzk_j[k,j]\u001b[39m+\u001b[39mzk_j[k,j\u001b[39m+\u001b[39;49m\u001b[39m1\u001b[39;49m])\u001b[39m-\u001b[39m\u001b[39m0.01\u001b[39m, name\u001b[39m=\u001b[39m\u001b[39mf\u001b[39m\u001b[39m\"\u001b[39m\u001b[39mcontrainte16g\u001b[39m\u001b[39m{\u001b[39;00mk\u001b[39m}\u001b[39;00m\u001b[39m\"\u001b[39m)\n\u001b[0;32m     34\u001b[0m     \u001b[39mfor\u001b[39;00m k \u001b[39min\u001b[39;00m job_list\n\u001b[0;32m     35\u001b[0m     \u001b[39mfor\u001b[39;00m j \u001b[39min\u001b[39;00m jour_list }\n\u001b[0;32m     36\u001b[0m contr17\u001b[39m=\u001b[39m{\u001b[39mf\u001b[39m\u001b[39m'\u001b[39m\u001b[39mgap2\u001b[39m\u001b[39m{\u001b[39;00mk\u001b[39m}\u001b[39;00m\u001b[39m'\u001b[39m:model\u001b[39m.\u001b[39maddConstr( M5\u001b[39m*\u001b[39m(zk_j[k,j]\u001b[39m-\u001b[39mzk_j[k,j\u001b[39m+\u001b[39m\u001b[39m1\u001b[39m])\u001b[39m<\u001b[39m\u001b[39m=\u001b[39m\u001b[39m1\u001b[39m\u001b[39m-\u001b[39mrk[k] \u001b[39m+\u001b[39mstart_k[k]\u001b[39m-\u001b[39m\u001b[39m2\u001b[39m, name\u001b[39m=\u001b[39m\u001b[39mf\u001b[39m\u001b[39m\"\u001b[39m\u001b[39mcontrainte17g\u001b[39m\u001b[39m{\u001b[39;00mk\u001b[39m}\u001b[39;00m\u001b[39m\"\u001b[39m)\n\u001b[0;32m     37\u001b[0m     \u001b[39mfor\u001b[39;00m k \u001b[39min\u001b[39;00m job_list\n\u001b[0;32m     38\u001b[0m     \u001b[39mfor\u001b[39;00m j \u001b[39min\u001b[39;00m jour_list[:\u001b[39m-\u001b[39m\u001b[39m1\u001b[39m] }\n",
      "\u001b[1;31mKeyError\u001b[0m: ('Job1', 6)"
     ]
>>>>>>> 23f91a417552e6ca1504cbec4bcc15d2027fb83a
    }
   ],
   "source": [
    "# 8.\n",
    "constr8={f'p_q{k}':model.addConstr(-M2*(1-rk[k])+0.01 <= grb.quicksum(pi_k_j_c[i,k,j,c] for i in staff_names for j in jour_list) -qk_c[k][c]+1, name = f\"contrainte8{k}\")\n",
    "        for k in job_list\n",
    "        for c in qualifications\n",
    "        } \n",
    "constr9={f'p_q2{k}':model.addConstr( grb.quicksum(pi_k_j_c[i,k,j,c] for i in staff_names for j in jour_list) -qk_c[k][c]+1 <=M2*rk[k], name = f\"contrainte9{k}\")\n",
    "        for k in job_list\n",
    "        for c in qualifications\n",
    "        } \n",
    "# 9.\n",
    "constr10 = {f'z{k}_{j}':model.addConstr(grb.quicksum(pi_k_j_c[i,k,j,c] for i in staff_names for c in qualifications) -  1 <= M3*zk_j[k,j]-0.01 , name = f\"contrainte10{k}_{j}\")\n",
    "        for k in job_list\n",
    "          for j in jour_list}\n",
    "\n",
    "constr11 = {f'z2{k}_{j}':model.addConstr(-M3*(1-zk_j[k,j])<=grb.quicksum(pi_k_j_c[i,k,j,c] for i in staff_names for c in qualifications) -  1  , name = f\"contrainte11{k}_{j}\")\n",
    "        for k in job_list\n",
    "          for j in jour_list}\n",
    "#######################    \n",
    "#######################\n",
    "#######################\n",
    "\n",
    "# contr12={f'2t{k}':model.addConstr(tk[k]>= 0, name=f\"contrainte12t{k}\")\n",
    "#     for k in job_list }\n",
    "\n",
    "# contr13={f't{k}':model.addConstr(tk[k]>= job_penality_dict[k]*(grb.quicksum(zk_j[k,j] for j in jour_list)-due_dates_dict[k]), name=f\"contrainte13t{k}\")\n",
    "#     for k in job_list }\n",
    "\n",
    "\n",
    "contr14={f'start{k}':model.addConstr(-M4*(1-start_k[k])<= grb.quicksum(zk_j[k,j] for j in jour_list)-1, name=f\"contrainte14s{k}\")\n",
    "    for k in job_list }\n",
    "contr15={f'start2{k}':model.addConstr( grb.quicksum(zk_j[k,j] for j in jour_list)-1<=M4*start_k[k]-0.01, name=f\"contrainte15s{k}\")\n",
    "    for k in job_list }\n",
    "contr16={f'gap{k}':model.addConstr( 1-rk[k] +start_k[k]-2<=M5*(1-zk_j[k,j]+zk_j[k,j+1])-0.01, name=f\"contrainte16g{k}\")\n",
    "    for k in job_list\n",
    "    for j in jour_list[:-1] }\n",
    "contr17={f'gap2{k}':model.addConstr( M5*(zk_j[k,j]-zk_j[k,j+1])<=1-rk[k] +start_k[k]-2, name=f\"contrainte17g{k}\")\n",
    "    for k in job_list\n",
    "    for j in jour_list[:-1] }"
   ]
  },
  {
   "cell_type": "code",
<<<<<<< HEAD
   "execution_count": 11,
=======
   "execution_count": 35,
>>>>>>> 23f91a417552e6ca1504cbec4bcc15d2027fb83a
   "metadata": {},
   "outputs": [],
   "source": [
    "# Fonction Objectif\n",
    "model.setObjective(grb.quicksum((job_gain_dict[k]*rk[k]) - tk[k] for k in job_list), GRB.MAXIMIZE)  \n",
    "# model.setObjective(grb.quicksum((tk[k]) for k in job_list), GRB.MINIMIZE)  \n",
    "\n",
    "# Paramétrage (mode mute)\n",
    "model.params.outputflag = 0\n",
    "# Résolution du PL\n",
    "model.optimize()"
   ]
  },
  {
   "cell_type": "code",
<<<<<<< HEAD
   "execution_count": 12,
=======
   "execution_count": 36,
>>>>>>> 23f91a417552e6ca1504cbec4bcc15d2027fb83a
   "metadata": {},
   "outputs": [],
   "source": [
    "#model.computeIIS()\n",
    "model.write(\"model.lp\")\n",
    "#  print constraints of the gurobipy.Model"
   ]
  },
  {
   "cell_type": "code",
<<<<<<< HEAD
   "execution_count": 13,
   "metadata": {},
   "outputs": [
    {
     "data": {
      "text/plain": [
       "70.0"
      ]
     },
     "execution_count": 13,
     "metadata": {},
     "output_type": "execute_result"
=======
   "execution_count": 37,
   "metadata": {},
   "outputs": [
    {
     "ename": "AttributeError",
     "evalue": "Unable to retrieve attribute 'ObjVal'",
     "output_type": "error",
     "traceback": [
      "\u001b[1;31m---------------------------------------------------------------------------\u001b[0m",
      "\u001b[1;31mAttributeError\u001b[0m                            Traceback (most recent call last)",
      "Cell \u001b[1;32mIn[37], line 1\u001b[0m\n\u001b[1;32m----> 1\u001b[0m model\u001b[39m.\u001b[39;49mObjVal\n",
      "File \u001b[1;32msrc\\gurobipy\\model.pxi:354\u001b[0m, in \u001b[0;36mgurobipy.Model.__getattr__\u001b[1;34m()\u001b[0m\n",
      "File \u001b[1;32msrc\\gurobipy\\model.pxi:1918\u001b[0m, in \u001b[0;36mgurobipy.Model.getAttr\u001b[1;34m()\u001b[0m\n",
      "File \u001b[1;32msrc\\gurobipy\\attrutil.pxi:100\u001b[0m, in \u001b[0;36mgurobipy.__getattr\u001b[1;34m()\u001b[0m\n",
      "\u001b[1;31mAttributeError\u001b[0m: Unable to retrieve attribute 'ObjVal'"
     ]
>>>>>>> 23f91a417552e6ca1504cbec4bcc15d2027fb83a
    }
   ],
   "source": [
    "model.ObjVal"
   ]
  },
  {
   "cell_type": "code",
<<<<<<< HEAD
   "execution_count": 14,
=======
   "execution_count": null,
>>>>>>> 23f91a417552e6ca1504cbec4bcc15d2027fb83a
   "metadata": {},
   "outputs": [],
   "source": [
    "values= []\n",
    "for k, v in pi_k_j_c.items():\n",
    "    values.append(v.x)"
   ]
  },
  {
   "cell_type": "code",
<<<<<<< HEAD
   "execution_count": 15,
=======
   "execution_count": null,
>>>>>>> 23f91a417552e6ca1504cbec4bcc15d2027fb83a
   "metadata": {},
   "outputs": [
    {
     "data": {
      "text/plain": [
       "{'Job1': <gurobi.Var rk[Job1] (value 0.0)>,\n",
       " 'Job2': <gurobi.Var rk[Job2] (value 1.0)>,\n",
       " 'Job3': <gurobi.Var rk[Job3] (value 1.0)>,\n",
       " 'Job4': <gurobi.Var rk[Job4] (value 1.0)>,\n",
       " 'Job5': <gurobi.Var rk[Job5] (value 1.0)>}"
      ]
     },
<<<<<<< HEAD
     "execution_count": 15,
=======
     "execution_count": 16,
>>>>>>> 23f91a417552e6ca1504cbec4bcc15d2027fb83a
     "metadata": {},
     "output_type": "execute_result"
    }
   ],
   "source": [
    "rk"
   ]
  },
  {
   "cell_type": "code",
<<<<<<< HEAD
   "execution_count": 16,
=======
   "execution_count": null,
>>>>>>> 23f91a417552e6ca1504cbec4bcc15d2027fb83a
   "metadata": {},
   "outputs": [
    {
     "data": {
      "text/html": [
       "<div>\n",
       "<style scoped>\n",
       "    .dataframe tbody tr th:only-of-type {\n",
       "        vertical-align: middle;\n",
       "    }\n",
       "\n",
       "    .dataframe tbody tr th {\n",
       "        vertical-align: top;\n",
       "    }\n",
       "\n",
       "    .dataframe thead th {\n",
       "        text-align: right;\n",
       "    }\n",
       "</style>\n",
       "<table border=\"1\" class=\"dataframe\">\n",
       "  <thead>\n",
       "    <tr style=\"text-align: right;\">\n",
       "      <th></th>\n",
       "      <th>0</th>\n",
       "      <th>1</th>\n",
       "      <th>2</th>\n",
       "      <th>3</th>\n",
       "      <th>4</th>\n",
       "    </tr>\n",
       "  </thead>\n",
       "  <tbody>\n",
       "    <tr>\n",
       "      <th>19</th>\n",
       "      <td>Olivia</td>\n",
       "      <td>Job2</td>\n",
       "      <td>2</td>\n",
       "      <td>B</td>\n",
       "      <td>1.0</td>\n",
       "    </tr>\n",
       "    <tr>\n",
       "      <th>39</th>\n",
       "      <td>Olivia</td>\n",
       "      <td>Job3</td>\n",
       "      <td>4</td>\n",
       "      <td>A</td>\n",
       "      <td>1.0</td>\n",
       "    </tr>\n",
       "    <tr>\n",
       "      <th>46</th>\n",
       "      <td>Olivia</td>\n",
       "      <td>Job4</td>\n",
       "      <td>1</td>\n",
       "      <td>B</td>\n",
       "      <td>1.0</td>\n",
       "    </tr>\n",
       "    <tr>\n",
       "      <th>53</th>\n",
       "      <td>Olivia</td>\n",
       "      <td>Job4</td>\n",
       "      <td>3</td>\n",
       "      <td>C</td>\n",
       "      <td>1.0</td>\n",
       "    </tr>\n",
       "    <tr>\n",
       "      <th>58</th>\n",
       "      <td>Olivia</td>\n",
       "      <td>Job4</td>\n",
       "      <td>5</td>\n",
       "      <td>B</td>\n",
       "      <td>1.0</td>\n",
       "    </tr>\n",
       "    <tr>\n",
       "      <th>93</th>\n",
       "      <td>Liam</td>\n",
       "      <td>Job2</td>\n",
       "      <td>2</td>\n",
       "      <td>A</td>\n",
       "      <td>1.0</td>\n",
       "    </tr>\n",
       "    <tr>\n",
       "      <th>100</th>\n",
       "      <td>Liam</td>\n",
       "      <td>Job2</td>\n",
       "      <td>4</td>\n",
       "      <td>B</td>\n",
       "      <td>1.0</td>\n",
       "    </tr>\n",
       "    <tr>\n",
       "      <th>191</th>\n",
       "      <td>Emma</td>\n",
       "      <td>Job3</td>\n",
       "      <td>4</td>\n",
       "      <td>C</td>\n",
       "      <td>1.0</td>\n",
       "    </tr>\n",
       "    <tr>\n",
       "      <th>194</th>\n",
       "      <td>Emma</td>\n",
       "      <td>Job3</td>\n",
       "      <td>5</td>\n",
       "      <td>C</td>\n",
       "      <td>1.0</td>\n",
       "    </tr>\n",
       "    <tr>\n",
       "      <th>212</th>\n",
       "      <td>Emma</td>\n",
       "      <td>Job5</td>\n",
       "      <td>1</td>\n",
       "      <td>C</td>\n",
       "      <td>1.0</td>\n",
       "    </tr>\n",
       "    <tr>\n",
       "      <th>218</th>\n",
       "      <td>Emma</td>\n",
       "      <td>Job5</td>\n",
       "      <td>3</td>\n",
       "      <td>C</td>\n",
       "      <td>1.0</td>\n",
       "    </tr>\n",
       "  </tbody>\n",
       "</table>\n",
       "</div>"
      ],
      "text/plain": [
       "          0     1  2  3    4\n",
       "19   Olivia  Job2  2  B  1.0\n",
       "39   Olivia  Job3  4  A  1.0\n",
       "46   Olivia  Job4  1  B  1.0\n",
       "53   Olivia  Job4  3  C  1.0\n",
       "58   Olivia  Job4  5  B  1.0\n",
       "93     Liam  Job2  2  A  1.0\n",
       "100    Liam  Job2  4  B  1.0\n",
       "191    Emma  Job3  4  C  1.0\n",
       "194    Emma  Job3  5  C  1.0\n",
       "212    Emma  Job5  1  C  1.0\n",
       "218    Emma  Job5  3  C  1.0"
      ]
     },
<<<<<<< HEAD
     "execution_count": 16,
=======
     "execution_count": 17,
>>>>>>> 23f91a417552e6ca1504cbec4bcc15d2027fb83a
     "metadata": {},
     "output_type": "execute_result"
    }
   ],
   "source": [
    "res = pd.DataFrame(list(pi_k_j_c.keys()))\n",
    "res[4] = values\n",
    "result = res[res[4] == 1]\n",
    "result"
   ]
  },
  {
   "cell_type": "markdown",
   "metadata": {},
   "source": [
    "## Result Table"
   ]
  },
  {
   "cell_type": "code",
<<<<<<< HEAD
   "execution_count": 17,
=======
   "execution_count": null,
>>>>>>> 23f91a417552e6ca1504cbec4bcc15d2027fb83a
   "metadata": {},
   "outputs": [],
   "source": [
    "def color_table(x):\n",
    "    if pd.isna(x):\n",
    "        return \"background-color: white\"\n",
    "    else:\n",
    "        if \"Job1\" in x :\n",
    "            return \"background-color: blue\"\n",
    "        elif \"Job2\" in x:\n",
    "            return \"background-color: black\"\n",
    "        elif \"Job3\" in x:\n",
    "            return \"background-color: orange\"\n",
    "        elif \"Job4\" in x:\n",
    "           return \"background-color: grey\"\n",
    "        elif \"Job5\" in x:\n",
    "           return \"background-color: green\"\n",
    "        else:\n",
    "           return  \"background-color: red\""
   ]
  },
  {
   "cell_type": "code",
<<<<<<< HEAD
   "execution_count": 18,
=======
   "execution_count": null,
>>>>>>> 23f91a417552e6ca1504cbec4bcc15d2027fb83a
   "metadata": {},
   "outputs": [
    {
     "data": {
      "text/html": [
       "<style type=\"text/css\">\n",
<<<<<<< HEAD
       "#T_b91dd_row0_col0, #T_b91dd_row0_col3, #T_b91dd_row1_col3 {\n",
       "  background-color: black;\n",
       "}\n",
       "#T_b91dd_row0_col1, #T_b91dd_row1_col1, #T_b91dd_row2_col4 {\n",
       "  background-color: orange;\n",
       "}\n",
       "#T_b91dd_row0_col2, #T_b91dd_row1_col2, #T_b91dd_row2_col2 {\n",
       "  background-color: blue;\n",
       "}\n",
       "#T_b91dd_row0_col4, #T_b91dd_row1_col4, #T_b91dd_row2_col0 {\n",
       "  background-color: grey;\n",
       "}\n",
       "#T_b91dd_row1_col0, #T_b91dd_row2_col1 {\n",
       "  background-color: red;\n",
       "}\n",
       "#T_b91dd_row2_col3 {\n",
       "  background-color: green;\n",
       "}\n",
       "</style>\n",
       "<table id=\"T_b91dd\">\n",
       "  <thead>\n",
       "    <tr>\n",
       "      <th class=\"blank level0\" >&nbsp;</th>\n",
       "      <th id=\"T_b91dd_level0_col0\" class=\"col_heading level0 col0\" >1</th>\n",
       "      <th id=\"T_b91dd_level0_col1\" class=\"col_heading level0 col1\" >2</th>\n",
       "      <th id=\"T_b91dd_level0_col2\" class=\"col_heading level0 col2\" >3</th>\n",
       "      <th id=\"T_b91dd_level0_col3\" class=\"col_heading level0 col3\" >4</th>\n",
       "      <th id=\"T_b91dd_level0_col4\" class=\"col_heading level0 col4\" >5</th>\n",
=======
       "#T_6a4d2_row0_col0, #T_6a4d2_row0_col2, #T_6a4d2_row0_col4 {\n",
       "  background-color: grey;\n",
       "}\n",
       "#T_6a4d2_row0_col1, #T_6a4d2_row1_col1, #T_6a4d2_row1_col3 {\n",
       "  background-color: black;\n",
       "}\n",
       "#T_6a4d2_row0_col3, #T_6a4d2_row2_col3, #T_6a4d2_row2_col4 {\n",
       "  background-color: orange;\n",
       "}\n",
       "#T_6a4d2_row1_col0, #T_6a4d2_row2_col1 {\n",
       "  background-color: red;\n",
       "}\n",
       "#T_6a4d2_row1_col2, #T_6a4d2_row1_col4 {\n",
       "  background-color: white;\n",
       "}\n",
       "#T_6a4d2_row2_col0, #T_6a4d2_row2_col2 {\n",
       "  background-color: green;\n",
       "}\n",
       "</style>\n",
       "<table id=\"T_6a4d2\">\n",
       "  <thead>\n",
       "    <tr>\n",
       "      <th class=\"blank level0\" >&nbsp;</th>\n",
       "      <th id=\"T_6a4d2_level0_col0\" class=\"col_heading level0 col0\" >1</th>\n",
       "      <th id=\"T_6a4d2_level0_col1\" class=\"col_heading level0 col1\" >2</th>\n",
       "      <th id=\"T_6a4d2_level0_col2\" class=\"col_heading level0 col2\" >3</th>\n",
       "      <th id=\"T_6a4d2_level0_col3\" class=\"col_heading level0 col3\" >4</th>\n",
       "      <th id=\"T_6a4d2_level0_col4\" class=\"col_heading level0 col4\" >5</th>\n",
>>>>>>> 23f91a417552e6ca1504cbec4bcc15d2027fb83a
       "    </tr>\n",
       "  </thead>\n",
       "  <tbody>\n",
       "    <tr>\n",
<<<<<<< HEAD
       "      <th id=\"T_b91dd_level0_row0\" class=\"row_heading level0 row0\" >Olivia</th>\n",
       "      <td id=\"T_b91dd_row0_col0\" class=\"data row0 col0\" >B Job2</td>\n",
       "      <td id=\"T_b91dd_row0_col1\" class=\"data row0 col1\" >C Job3</td>\n",
       "      <td id=\"T_b91dd_row0_col2\" class=\"data row0 col2\" >A Job1</td>\n",
       "      <td id=\"T_b91dd_row0_col3\" class=\"data row0 col3\" >A Job2</td>\n",
       "      <td id=\"T_b91dd_row0_col4\" class=\"data row0 col4\" >B Job4</td>\n",
       "    </tr>\n",
       "    <tr>\n",
       "      <th id=\"T_b91dd_level0_row1\" class=\"row_heading level0 row1\" >Liam</th>\n",
       "      <td id=\"T_b91dd_row1_col0\" class=\"data row1 col0\" >X</td>\n",
       "      <td id=\"T_b91dd_row1_col1\" class=\"data row1 col1\" >A Job3</td>\n",
       "      <td id=\"T_b91dd_row1_col2\" class=\"data row1 col2\" >B Job1</td>\n",
       "      <td id=\"T_b91dd_row1_col3\" class=\"data row1 col3\" >B Job2</td>\n",
       "      <td id=\"T_b91dd_row1_col4\" class=\"data row1 col4\" >B Job4</td>\n",
       "    </tr>\n",
       "    <tr>\n",
       "      <th id=\"T_b91dd_level0_row2\" class=\"row_heading level0 row2\" >Emma</th>\n",
       "      <td id=\"T_b91dd_row2_col0\" class=\"data row2 col0\" >C Job4</td>\n",
       "      <td id=\"T_b91dd_row2_col1\" class=\"data row2 col1\" >X</td>\n",
       "      <td id=\"T_b91dd_row2_col2\" class=\"data row2 col2\" >C Job1</td>\n",
       "      <td id=\"T_b91dd_row2_col3\" class=\"data row2 col3\" >C Job5</td>\n",
       "      <td id=\"T_b91dd_row2_col4\" class=\"data row2 col4\" >C Job3</td>\n",
=======
       "      <th id=\"T_6a4d2_level0_row0\" class=\"row_heading level0 row0\" >Olivia</th>\n",
       "      <td id=\"T_6a4d2_row0_col0\" class=\"data row0 col0\" >B Job4</td>\n",
       "      <td id=\"T_6a4d2_row0_col1\" class=\"data row0 col1\" >B Job2</td>\n",
       "      <td id=\"T_6a4d2_row0_col2\" class=\"data row0 col2\" >C Job4</td>\n",
       "      <td id=\"T_6a4d2_row0_col3\" class=\"data row0 col3\" >A Job3</td>\n",
       "      <td id=\"T_6a4d2_row0_col4\" class=\"data row0 col4\" >B Job4</td>\n",
       "    </tr>\n",
       "    <tr>\n",
       "      <th id=\"T_6a4d2_level0_row1\" class=\"row_heading level0 row1\" >Liam</th>\n",
       "      <td id=\"T_6a4d2_row1_col0\" class=\"data row1 col0\" >X</td>\n",
       "      <td id=\"T_6a4d2_row1_col1\" class=\"data row1 col1\" >A Job2</td>\n",
       "      <td id=\"T_6a4d2_row1_col2\" class=\"data row1 col2\" >nan</td>\n",
       "      <td id=\"T_6a4d2_row1_col3\" class=\"data row1 col3\" >B Job2</td>\n",
       "      <td id=\"T_6a4d2_row1_col4\" class=\"data row1 col4\" >nan</td>\n",
       "    </tr>\n",
       "    <tr>\n",
       "      <th id=\"T_6a4d2_level0_row2\" class=\"row_heading level0 row2\" >Emma</th>\n",
       "      <td id=\"T_6a4d2_row2_col0\" class=\"data row2 col0\" >C Job5</td>\n",
       "      <td id=\"T_6a4d2_row2_col1\" class=\"data row2 col1\" >X</td>\n",
       "      <td id=\"T_6a4d2_row2_col2\" class=\"data row2 col2\" >C Job5</td>\n",
       "      <td id=\"T_6a4d2_row2_col3\" class=\"data row2 col3\" >C Job3</td>\n",
       "      <td id=\"T_6a4d2_row2_col4\" class=\"data row2 col4\" >C Job3</td>\n",
>>>>>>> 23f91a417552e6ca1504cbec4bcc15d2027fb83a
       "    </tr>\n",
       "  </tbody>\n",
       "</table>\n"
      ],
      "text/plain": [
<<<<<<< HEAD
       "<pandas.io.formats.style.Styler at 0x26e8c4464f0>"
      ]
     },
     "execution_count": 18,
=======
       "<pandas.io.formats.style.Styler at 0x14e0d0f6d10>"
      ]
     },
     "execution_count": 19,
>>>>>>> 23f91a417552e6ca1504cbec4bcc15d2027fb83a
     "metadata": {},
     "output_type": "execute_result"
    }
   ],
   "source": [
    "df = pd.DataFrame(columns = [i for i in range(1,6)], index = staff_names)\n",
    "\n",
    "for ind, val in result.iterrows():\n",
    "    col = val[2]\n",
    "    row = val[0]\n",
    "    v = val[3] + \" \" + val[1]\n",
    "    df.loc[row,col] = v\n",
    "    # vacation\n",
    "    for staff in staff_names:\n",
    "        for day in jour_list:\n",
    "            if pi_j[staff][day] == 0:\n",
    "                df.loc[staff,day] = 'X'\n",
    "\n",
    "df.style.applymap(color_table)"
   ]
  },
  {
   "cell_type": "code",
<<<<<<< HEAD
   "execution_count": 19,
=======
   "execution_count": null,
   "metadata": {},
   "outputs": [
    {
     "data": {
      "text/plain": [
       "{'Job1': <gurobi.Var start_k[Job1] (value 0.0)>,\n",
       " 'Job2': <gurobi.Var start_k[Job2] (value 1.0)>,\n",
       " 'Job3': <gurobi.Var start_k[Job3] (value 1.0)>,\n",
       " 'Job4': <gurobi.Var start_k[Job4] (value 1.0)>,\n",
       " 'Job5': <gurobi.Var start_k[Job5] (value 1.0)>}"
      ]
     },
     "execution_count": 23,
     "metadata": {},
     "output_type": "execute_result"
    }
   ],
   "source": [
    "start_k"
   ]
  },
  {
   "cell_type": "code",
   "execution_count": null,
>>>>>>> 23f91a417552e6ca1504cbec4bcc15d2027fb83a
   "metadata": {},
   "outputs": [
    {
     "name": "stdout",
     "output_type": "stream",
     "text": [
      "<gurobi.Var pi_k_j_c[Olivia,Job1,1,A] (value 0.0)>\n",
      "<gurobi.Var pi_k_j_c[Olivia,Job1,1,B] (value 0.0)>\n",
      "<gurobi.Var pi_k_j_c[Olivia,Job1,1,C] (value 0.0)>\n",
      "<gurobi.Var pi_k_j_c[Liam,Job1,1,A] (value 0.0)>\n",
      "<gurobi.Var pi_k_j_c[Liam,Job1,1,B] (value 0.0)>\n",
      "<gurobi.Var pi_k_j_c[Liam,Job1,1,C] (value 0.0)>\n",
      "<gurobi.Var pi_k_j_c[Emma,Job1,1,A] (value 0.0)>\n",
      "<gurobi.Var pi_k_j_c[Emma,Job1,1,B] (value 0.0)>\n",
      "<gurobi.Var pi_k_j_c[Emma,Job1,1,C] (value 0.0)>\n"
     ]
    }
   ],
   "source": [
    "for s in staff_names:\n",
    "    for c in  qualifications:\n",
    "        print(pi_k_j_c[s,'Job1',1,c])"
   ]
  },
  {
   "cell_type": "code",
<<<<<<< HEAD
   "execution_count": 20,
=======
   "execution_count": null,
>>>>>>> 23f91a417552e6ca1504cbec4bcc15d2027fb83a
   "metadata": {},
   "outputs": [
    {
     "data": {
      "text/plain": [
       "{('Job1', 1): <gurobi.Var zk_j[Job1,1] (value 0.0)>,\n",
       " ('Job1', 2): <gurobi.Var zk_j[Job1,2] (value 0.0)>,\n",
       " ('Job1', 3): <gurobi.Var zk_j[Job1,3] (value 0.0)>,\n",
       " ('Job1', 4): <gurobi.Var zk_j[Job1,4] (value 0.0)>,\n",
       " ('Job1', 5): <gurobi.Var zk_j[Job1,5] (value 0.0)>,\n",
       " ('Job2', 1): <gurobi.Var zk_j[Job2,1] (value 0.0)>,\n",
       " ('Job2', 2): <gurobi.Var zk_j[Job2,2] (value 1.0)>,\n",
       " ('Job2', 3): <gurobi.Var zk_j[Job2,3] (value 0.0)>,\n",
       " ('Job2', 4): <gurobi.Var zk_j[Job2,4] (value 1.0)>,\n",
       " ('Job2', 5): <gurobi.Var zk_j[Job2,5] (value 0.0)>,\n",
       " ('Job3', 1): <gurobi.Var zk_j[Job3,1] (value 0.0)>,\n",
       " ('Job3', 2): <gurobi.Var zk_j[Job3,2] (value 0.0)>,\n",
       " ('Job3', 3): <gurobi.Var zk_j[Job3,3] (value 0.0)>,\n",
       " ('Job3', 4): <gurobi.Var zk_j[Job3,4] (value 1.0)>,\n",
       " ('Job3', 5): <gurobi.Var zk_j[Job3,5] (value 1.0)>,\n",
       " ('Job4', 1): <gurobi.Var zk_j[Job4,1] (value 1.0)>,\n",
       " ('Job4', 2): <gurobi.Var zk_j[Job4,2] (value 0.0)>,\n",
       " ('Job4', 3): <gurobi.Var zk_j[Job4,3] (value 1.0)>,\n",
       " ('Job4', 4): <gurobi.Var zk_j[Job4,4] (value 0.0)>,\n",
       " ('Job4', 5): <gurobi.Var zk_j[Job4,5] (value 1.0)>,\n",
       " ('Job5', 1): <gurobi.Var zk_j[Job5,1] (value 1.0)>,\n",
       " ('Job5', 2): <gurobi.Var zk_j[Job5,2] (value 0.0)>,\n",
       " ('Job5', 3): <gurobi.Var zk_j[Job5,3] (value 1.0)>,\n",
       " ('Job5', 4): <gurobi.Var zk_j[Job5,4] (value 0.0)>,\n",
       " ('Job5', 5): <gurobi.Var zk_j[Job5,5] (value 0.0)>}"
      ]
     },
<<<<<<< HEAD
     "execution_count": 20,
=======
     "execution_count": 22,
>>>>>>> 23f91a417552e6ca1504cbec4bcc15d2027fb83a
     "metadata": {},
     "output_type": "execute_result"
    }
   ],
   "source": [
    "zk_j"
   ]
  },
  {
   "cell_type": "code",
   "execution_count": null,
   "metadata": {},
   "outputs": [],
   "source": []
  }
 ],
 "metadata": {
  "kernelspec": {
   "display_name": "base",
   "language": "python",
   "name": "python3"
  },
  "language_info": {
   "codemirror_mode": {
    "name": "ipython",
    "version": 3
   },
   "file_extension": ".py",
   "mimetype": "text/x-python",
   "name": "python",
   "nbconvert_exporter": "python",
   "pygments_lexer": "ipython3",
   "version": "3.9.13"
  },
  "vscode": {
   "interpreter": {
    "hash": "992fe7c5fc85bbb99cdbb1a7127f4f04531c143f133625dff1af063a39de0f81"
   }
  }
 },
 "nbformat": 4,
 "nbformat_minor": 2
}
