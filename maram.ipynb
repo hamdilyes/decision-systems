{
 "cells": [
  {
   "attachments": {},
   "cell_type": "markdown",
   "metadata": {},
   "source": [
    "# Import Libraries"
   ]
  },
  {
   "cell_type": "code",
   "execution_count": 30,
   "metadata": {},
   "outputs": [],
   "source": [
    "import gurobipy as grb\n",
    "import pandas as pd\n",
    "from gurobipy import GRB\n",
    "import numpy as np"
   ]
  },
  {
   "attachments": {},
   "cell_type": "markdown",
   "metadata": {},
   "source": [
    "# Model"
   ]
  },
  {
   "cell_type": "code",
   "execution_count": 31,
   "metadata": {},
   "outputs": [],
   "source": [
    " # Create a model\n",
    "model = grb.Model(\"Model\")"
   ]
  },
  {
   "cell_type": "markdown",
   "metadata": {},
   "source": [
    "# Get data from json"
   ]
  },
  {
   "cell_type": "code",
   "execution_count": 32,
   "metadata": {},
   "outputs": [
    {
     "data": {
      "text/plain": [
       "{'horizon': 5,\n",
       " 'qualifications': ['A', 'B', 'C'],\n",
       " 'staff': [{'name': 'Olivia',\n",
       "   'qualifications': ['A', 'B', 'C'],\n",
       "   'vacations': []},\n",
       "  {'name': 'Liam', 'qualifications': ['A', 'B'], 'vacations': [1]},\n",
       "  {'name': 'Emma', 'qualifications': ['C'], 'vacations': [2]}],\n",
       " 'jobs': [{'name': 'Job1',\n",
       "   'gain': 20,\n",
       "   'due_date': 3,\n",
       "   'daily_penalty': 3,\n",
       "   'working_days_per_qualification': {'A': 1, 'B': 1, 'C': 1}},\n",
       "  {'name': 'Job2',\n",
       "   'gain': 15,\n",
       "   'due_date': 3,\n",
       "   'daily_penalty': 3,\n",
       "   'working_days_per_qualification': {'A': 1, 'B': 2}},\n",
       "  {'name': 'Job3',\n",
       "   'gain': 15,\n",
       "   'due_date': 4,\n",
       "   'daily_penalty': 3,\n",
       "   'working_days_per_qualification': {'A': 1, 'C': 2}},\n",
       "  {'name': 'Job4',\n",
       "   'gain': 20,\n",
       "   'due_date': 3,\n",
       "   'daily_penalty': 3,\n",
       "   'working_days_per_qualification': {'B': 2, 'C': 1}},\n",
       "  {'name': 'Job5',\n",
       "   'gain': 10,\n",
       "   'due_date': 5,\n",
       "   'daily_penalty': 3,\n",
       "   'working_days_per_qualification': {'C': 2}}]}"
      ]
     },
     "execution_count": 32,
     "metadata": {},
     "output_type": "execute_result"
    }
   ],
   "source": [
    "# get the  data from the json file small.json\n",
    "import json\n",
    "with open('small.json') as f:\n",
    "    data = json.load(f)\n",
    "data"
   ]
  },
  {
   "cell_type": "markdown",
   "metadata": {},
   "source": [
    "## Constants from data"
   ]
  },
  {
   "cell_type": "code",
   "execution_count": 33,
   "metadata": {},
   "outputs": [],
   "source": [
    "horizon= data['horizon']\n",
    "qualifications=data['qualifications']\n",
    "staff_names=[i['name'] for i in data['staff']]\n",
    "staff_qualifications=[i['qualifications'] for i in data['staff']]\n",
    "job_list=[i['name'] for i in data['jobs']]\n",
    "jour_list=[i for i in range(1,horizon+1)]\n",
    "job_penality=[i['daily_penalty'] for i in data['jobs']] \n",
    "job_qualifications= [i['working_days_per_qualification'] for i in data['jobs']]\n",
    "job_gain=[i['gain'] for i in data['jobs']]\n",
    "due_dates=[i['due_date'] for i in data['jobs']]\n",
    "vacation_staff=[i['vacations'] for i in data['staff']]"
   ]
  },
  {
   "cell_type": "markdown",
   "metadata": {},
   "source": [
    "# Model's parameters"
   ]
  },
  {
   "attachments": {
    "image.png": {
     "image/png": "[encoded data removed]"
    }
   },
   "cell_type": "markdown",
   "metadata": {},
   "source": [
    "![image.png](attachment:image.png)"
   ]
  },
  {
   "cell_type": "code",
   "execution_count": 34,
   "metadata": {},
   "outputs": [],
   "source": [
    "# create a function that converts a dictionary to a matrix\n",
    "def get_matrix(liste):\n",
    "    test=pd.DataFrame.from_dict(liste,orient='index')\n",
    "    test.fillna(0,inplace=True)\n",
    "    return test.to_dict(orient='index')"
   ]
  },
  {
   "cell_type": "code",
   "execution_count": 35,
   "metadata": {},
   "outputs": [],
   "source": [
    "# create dictionaries with job_list as key and job_penality, job_gain ans due_dates as values\n",
    "gammak=job_penality_dict=dict(zip(job_list,job_penality))\n",
    "gk=job_gain_dict=dict(zip(job_list,job_gain))\n",
    "lk=due_dates_dict=dict(zip(job_list,due_dates))\n",
    "\n",
    "# create a dictionary for staff qualifications\n",
    "pi_c = {}\n",
    "for i in range(len(staff_names)) :\n",
    "    k = staff_names[i]\n",
    "    pi_c[k] = {}\n",
    "    for c in qualifications:\n",
    "        if c in data['staff'][i]['qualifications']:\n",
    "            pi_c[k][c] = 1\n",
    "        else:\n",
    "            pi_c[k][c] = 0\n",
    "qk_c=get_matrix(dict(zip(job_list,job_qualifications)))\n",
    "# get pi_j\n",
    "staff_in_vacation=pd.DataFrame(index=staff_names,columns=jour_list)\n",
    "# fill the dataframe staff_in_vacation with the svalues of the dictionary\n",
    "for i in staff_names:\n",
    "    for j in jour_list:\n",
    "        staff_in_vacation.loc[i,j]=0 if j in dict(zip(staff_names,vacation_staff))[i] else 1\n",
    "pi_j=staff_in_vacation.to_dict(orient='index')"
   ]
  },
  {
   "cell_type": "markdown",
   "metadata": {},
   "source": [
    "# Decision variables"
   ]
  },
  {
   "attachments": {
    "image.png": {
     "image/png": "[encoded data removed]"
    }
   },
   "cell_type": "markdown",
   "metadata": {},
   "source": [
    "![image.png](attachment:image.png)"
   ]
  },
  {
   "cell_type": "code",
   "execution_count": 36,
   "metadata": {},
   "outputs": [],
   "source": [
    "# constraint M1 and M2\n",
    "M2=1\n",
    "M1=horizon*len(qualifications)\n",
    "M3 = len(staff_names)\n",
    "M4=horizon\n",
    "M5=horizon"
   ]
  },
  {
   "cell_type": "code",
   "execution_count": 37,
   "metadata": {},
   "outputs": [],
   "source": [
    "# Add decision variables\n",
    "# pi_k_j_c: Le personnel i est affecté au projet k sur la compétence c pour le jour j\n",
    "pi_k_j_c = model.addVars(staff_names,job_list,jour_list,qualifications, vtype=GRB.BINARY, name=\"pi_k_j_c\")\n",
    "\n",
    "# pk_j : 1 si on travaille sur le projet k le jour j sinon 0\n",
    "zk_j = model.addVars(job_list,jour_list,vtype=GRB.BINARY, name=\"zk_j\")\n",
    "\n",
    "# pour la linéarisation de l'objectif 1\n",
    "tk=model.addVars(job_list,vtype=GRB.INTEGER, name=\"tk\")\n",
    "\n",
    "# rk : 1 si le projet k est réalisé 0 sinon\n",
    "rk = model.addVars( job_list,vtype=GRB.BINARY, name=\"rk\")\n",
    "\n",
    "# end_k : date de fin du projet k\n",
    "end_k=model.addVars(job_list,vtype=GRB.INTEGER, name=\"end_k\")\n",
    "# delay_k: le nombre de jours en retard du projet k\n",
    "delay_k=model.addVars(job_list,vtype=GRB.INTEGER, name=\"delay_k\")\n",
    "# start_k le jour auquel on commence le projet k\n",
    "start_k=model.addVars(job_list,vtype=GRB.INTEGER, name=\"start_k\")"
   ]
  },
  {
   "cell_type": "code",
   "execution_count": 38,
   "metadata": {},
   "outputs": [
    {
     "data": {
      "text/plain": [
       "{('Olivia', 'Job1', 1, 'A'): <gurobi.Var *Awaiting Model Update*>,\n",
       " ('Olivia', 'Job1', 1, 'B'): <gurobi.Var *Awaiting Model Update*>,\n",
       " ('Olivia', 'Job1', 1, 'C'): <gurobi.Var *Awaiting Model Update*>,\n",
       " ('Olivia', 'Job1', 2, 'A'): <gurobi.Var *Awaiting Model Update*>,\n",
       " ('Olivia', 'Job1', 2, 'B'): <gurobi.Var *Awaiting Model Update*>,\n",
       " ('Olivia', 'Job1', 2, 'C'): <gurobi.Var *Awaiting Model Update*>,\n",
       " ('Olivia', 'Job1', 3, 'A'): <gurobi.Var *Awaiting Model Update*>,\n",
       " ('Olivia', 'Job1', 3, 'B'): <gurobi.Var *Awaiting Model Update*>,\n",
       " ('Olivia', 'Job1', 3, 'C'): <gurobi.Var *Awaiting Model Update*>,\n",
       " ('Olivia', 'Job1', 4, 'A'): <gurobi.Var *Awaiting Model Update*>,\n",
       " ('Olivia', 'Job1', 4, 'B'): <gurobi.Var *Awaiting Model Update*>,\n",
       " ('Olivia', 'Job1', 4, 'C'): <gurobi.Var *Awaiting Model Update*>,\n",
       " ('Olivia', 'Job1', 5, 'A'): <gurobi.Var *Awaiting Model Update*>,\n",
       " ('Olivia', 'Job1', 5, 'B'): <gurobi.Var *Awaiting Model Update*>,\n",
       " ('Olivia', 'Job1', 5, 'C'): <gurobi.Var *Awaiting Model Update*>,\n",
       " ('Olivia', 'Job1', 6, 'A'): <gurobi.Var *Awaiting Model Update*>,\n",
       " ('Olivia', 'Job1', 6, 'B'): <gurobi.Var *Awaiting Model Update*>,\n",
       " ('Olivia', 'Job1', 6, 'C'): <gurobi.Var *Awaiting Model Update*>,\n",
       " ('Olivia', 'Job2', 1, 'A'): <gurobi.Var *Awaiting Model Update*>,\n",
       " ('Olivia', 'Job2', 1, 'B'): <gurobi.Var *Awaiting Model Update*>,\n",
       " ('Olivia', 'Job2', 1, 'C'): <gurobi.Var *Awaiting Model Update*>,\n",
       " ('Olivia', 'Job2', 2, 'A'): <gurobi.Var *Awaiting Model Update*>,\n",
       " ('Olivia', 'Job2', 2, 'B'): <gurobi.Var *Awaiting Model Update*>,\n",
       " ('Olivia', 'Job2', 2, 'C'): <gurobi.Var *Awaiting Model Update*>,\n",
       " ('Olivia', 'Job2', 3, 'A'): <gurobi.Var *Awaiting Model Update*>,\n",
       " ('Olivia', 'Job2', 3, 'B'): <gurobi.Var *Awaiting Model Update*>,\n",
       " ('Olivia', 'Job2', 3, 'C'): <gurobi.Var *Awaiting Model Update*>,\n",
       " ('Olivia', 'Job2', 4, 'A'): <gurobi.Var *Awaiting Model Update*>,\n",
       " ('Olivia', 'Job2', 4, 'B'): <gurobi.Var *Awaiting Model Update*>,\n",
       " ('Olivia', 'Job2', 4, 'C'): <gurobi.Var *Awaiting Model Update*>,\n",
       " ('Olivia', 'Job2', 5, 'A'): <gurobi.Var *Awaiting Model Update*>,\n",
       " ('Olivia', 'Job2', 5, 'B'): <gurobi.Var *Awaiting Model Update*>,\n",
       " ('Olivia', 'Job2', 5, 'C'): <gurobi.Var *Awaiting Model Update*>,\n",
       " ('Olivia', 'Job2', 6, 'A'): <gurobi.Var *Awaiting Model Update*>,\n",
       " ('Olivia', 'Job2', 6, 'B'): <gurobi.Var *Awaiting Model Update*>,\n",
       " ('Olivia', 'Job2', 6, 'C'): <gurobi.Var *Awaiting Model Update*>,\n",
       " ('Olivia', 'Job3', 1, 'A'): <gurobi.Var *Awaiting Model Update*>,\n",
       " ('Olivia', 'Job3', 1, 'B'): <gurobi.Var *Awaiting Model Update*>,\n",
       " ('Olivia', 'Job3', 1, 'C'): <gurobi.Var *Awaiting Model Update*>,\n",
       " ('Olivia', 'Job3', 2, 'A'): <gurobi.Var *Awaiting Model Update*>,\n",
       " ('Olivia', 'Job3', 2, 'B'): <gurobi.Var *Awaiting Model Update*>,\n",
       " ('Olivia', 'Job3', 2, 'C'): <gurobi.Var *Awaiting Model Update*>,\n",
       " ('Olivia', 'Job3', 3, 'A'): <gurobi.Var *Awaiting Model Update*>,\n",
       " ('Olivia', 'Job3', 3, 'B'): <gurobi.Var *Awaiting Model Update*>,\n",
       " ('Olivia', 'Job3', 3, 'C'): <gurobi.Var *Awaiting Model Update*>,\n",
       " ('Olivia', 'Job3', 4, 'A'): <gurobi.Var *Awaiting Model Update*>,\n",
       " ('Olivia', 'Job3', 4, 'B'): <gurobi.Var *Awaiting Model Update*>,\n",
       " ('Olivia', 'Job3', 4, 'C'): <gurobi.Var *Awaiting Model Update*>,\n",
       " ('Olivia', 'Job3', 5, 'A'): <gurobi.Var *Awaiting Model Update*>,\n",
       " ('Olivia', 'Job3', 5, 'B'): <gurobi.Var *Awaiting Model Update*>,\n",
       " ('Olivia', 'Job3', 5, 'C'): <gurobi.Var *Awaiting Model Update*>,\n",
       " ('Olivia', 'Job3', 6, 'A'): <gurobi.Var *Awaiting Model Update*>,\n",
       " ('Olivia', 'Job3', 6, 'B'): <gurobi.Var *Awaiting Model Update*>,\n",
       " ('Olivia', 'Job3', 6, 'C'): <gurobi.Var *Awaiting Model Update*>,\n",
       " ('Olivia', 'Job4', 1, 'A'): <gurobi.Var *Awaiting Model Update*>,\n",
       " ('Olivia', 'Job4', 1, 'B'): <gurobi.Var *Awaiting Model Update*>,\n",
       " ('Olivia', 'Job4', 1, 'C'): <gurobi.Var *Awaiting Model Update*>,\n",
       " ('Olivia', 'Job4', 2, 'A'): <gurobi.Var *Awaiting Model Update*>,\n",
       " ('Olivia', 'Job4', 2, 'B'): <gurobi.Var *Awaiting Model Update*>,\n",
       " ('Olivia', 'Job4', 2, 'C'): <gurobi.Var *Awaiting Model Update*>,\n",
       " ('Olivia', 'Job4', 3, 'A'): <gurobi.Var *Awaiting Model Update*>,\n",
       " ('Olivia', 'Job4', 3, 'B'): <gurobi.Var *Awaiting Model Update*>,\n",
       " ('Olivia', 'Job4', 3, 'C'): <gurobi.Var *Awaiting Model Update*>,\n",
       " ('Olivia', 'Job4', 4, 'A'): <gurobi.Var *Awaiting Model Update*>,\n",
       " ('Olivia', 'Job4', 4, 'B'): <gurobi.Var *Awaiting Model Update*>,\n",
       " ('Olivia', 'Job4', 4, 'C'): <gurobi.Var *Awaiting Model Update*>,\n",
       " ('Olivia', 'Job4', 5, 'A'): <gurobi.Var *Awaiting Model Update*>,\n",
       " ('Olivia', 'Job4', 5, 'B'): <gurobi.Var *Awaiting Model Update*>,\n",
       " ('Olivia', 'Job4', 5, 'C'): <gurobi.Var *Awaiting Model Update*>,\n",
       " ('Olivia', 'Job4', 6, 'A'): <gurobi.Var *Awaiting Model Update*>,\n",
       " ('Olivia', 'Job4', 6, 'B'): <gurobi.Var *Awaiting Model Update*>,\n",
       " ('Olivia', 'Job4', 6, 'C'): <gurobi.Var *Awaiting Model Update*>,\n",
       " ('Olivia', 'Job5', 1, 'A'): <gurobi.Var *Awaiting Model Update*>,\n",
       " ('Olivia', 'Job5', 1, 'B'): <gurobi.Var *Awaiting Model Update*>,\n",
       " ('Olivia', 'Job5', 1, 'C'): <gurobi.Var *Awaiting Model Update*>,\n",
       " ('Olivia', 'Job5', 2, 'A'): <gurobi.Var *Awaiting Model Update*>,\n",
       " ('Olivia', 'Job5', 2, 'B'): <gurobi.Var *Awaiting Model Update*>,\n",
       " ('Olivia', 'Job5', 2, 'C'): <gurobi.Var *Awaiting Model Update*>,\n",
       " ('Olivia', 'Job5', 3, 'A'): <gurobi.Var *Awaiting Model Update*>,\n",
       " ('Olivia', 'Job5', 3, 'B'): <gurobi.Var *Awaiting Model Update*>,\n",
       " ('Olivia', 'Job5', 3, 'C'): <gurobi.Var *Awaiting Model Update*>,\n",
       " ('Olivia', 'Job5', 4, 'A'): <gurobi.Var *Awaiting Model Update*>,\n",
       " ('Olivia', 'Job5', 4, 'B'): <gurobi.Var *Awaiting Model Update*>,\n",
       " ('Olivia', 'Job5', 4, 'C'): <gurobi.Var *Awaiting Model Update*>,\n",
       " ('Olivia', 'Job5', 5, 'A'): <gurobi.Var *Awaiting Model Update*>,\n",
       " ('Olivia', 'Job5', 5, 'B'): <gurobi.Var *Awaiting Model Update*>,\n",
       " ('Olivia', 'Job5', 5, 'C'): <gurobi.Var *Awaiting Model Update*>,\n",
       " ('Olivia', 'Job5', 6, 'A'): <gurobi.Var *Awaiting Model Update*>,\n",
       " ('Olivia', 'Job5', 6, 'B'): <gurobi.Var *Awaiting Model Update*>,\n",
       " ('Olivia', 'Job5', 6, 'C'): <gurobi.Var *Awaiting Model Update*>,\n",
       " ('Liam', 'Job1', 1, 'A'): <gurobi.Var *Awaiting Model Update*>,\n",
       " ('Liam', 'Job1', 1, 'B'): <gurobi.Var *Awaiting Model Update*>,\n",
       " ('Liam', 'Job1', 1, 'C'): <gurobi.Var *Awaiting Model Update*>,\n",
       " ('Liam', 'Job1', 2, 'A'): <gurobi.Var *Awaiting Model Update*>,\n",
       " ('Liam', 'Job1', 2, 'B'): <gurobi.Var *Awaiting Model Update*>,\n",
       " ('Liam', 'Job1', 2, 'C'): <gurobi.Var *Awaiting Model Update*>,\n",
       " ('Liam', 'Job1', 3, 'A'): <gurobi.Var *Awaiting Model Update*>,\n",
       " ('Liam', 'Job1', 3, 'B'): <gurobi.Var *Awaiting Model Update*>,\n",
       " ('Liam', 'Job1', 3, 'C'): <gurobi.Var *Awaiting Model Update*>,\n",
       " ('Liam', 'Job1', 4, 'A'): <gurobi.Var *Awaiting Model Update*>,\n",
       " ('Liam', 'Job1', 4, 'B'): <gurobi.Var *Awaiting Model Update*>,\n",
       " ('Liam', 'Job1', 4, 'C'): <gurobi.Var *Awaiting Model Update*>,\n",
       " ('Liam', 'Job1', 5, 'A'): <gurobi.Var *Awaiting Model Update*>,\n",
       " ('Liam', 'Job1', 5, 'B'): <gurobi.Var *Awaiting Model Update*>,\n",
       " ('Liam', 'Job1', 5, 'C'): <gurobi.Var *Awaiting Model Update*>,\n",
       " ('Liam', 'Job1', 6, 'A'): <gurobi.Var *Awaiting Model Update*>,\n",
       " ('Liam', 'Job1', 6, 'B'): <gurobi.Var *Awaiting Model Update*>,\n",
       " ('Liam', 'Job1', 6, 'C'): <gurobi.Var *Awaiting Model Update*>,\n",
       " ('Liam', 'Job2', 1, 'A'): <gurobi.Var *Awaiting Model Update*>,\n",
       " ('Liam', 'Job2', 1, 'B'): <gurobi.Var *Awaiting Model Update*>,\n",
       " ('Liam', 'Job2', 1, 'C'): <gurobi.Var *Awaiting Model Update*>,\n",
       " ('Liam', 'Job2', 2, 'A'): <gurobi.Var *Awaiting Model Update*>,\n",
       " ('Liam', 'Job2', 2, 'B'): <gurobi.Var *Awaiting Model Update*>,\n",
       " ('Liam', 'Job2', 2, 'C'): <gurobi.Var *Awaiting Model Update*>,\n",
       " ('Liam', 'Job2', 3, 'A'): <gurobi.Var *Awaiting Model Update*>,\n",
       " ('Liam', 'Job2', 3, 'B'): <gurobi.Var *Awaiting Model Update*>,\n",
       " ('Liam', 'Job2', 3, 'C'): <gurobi.Var *Awaiting Model Update*>,\n",
       " ('Liam', 'Job2', 4, 'A'): <gurobi.Var *Awaiting Model Update*>,\n",
       " ('Liam', 'Job2', 4, 'B'): <gurobi.Var *Awaiting Model Update*>,\n",
       " ('Liam', 'Job2', 4, 'C'): <gurobi.Var *Awaiting Model Update*>,\n",
       " ('Liam', 'Job2', 5, 'A'): <gurobi.Var *Awaiting Model Update*>,\n",
       " ('Liam', 'Job2', 5, 'B'): <gurobi.Var *Awaiting Model Update*>,\n",
       " ('Liam', 'Job2', 5, 'C'): <gurobi.Var *Awaiting Model Update*>,\n",
       " ('Liam', 'Job2', 6, 'A'): <gurobi.Var *Awaiting Model Update*>,\n",
       " ('Liam', 'Job2', 6, 'B'): <gurobi.Var *Awaiting Model Update*>,\n",
       " ('Liam', 'Job2', 6, 'C'): <gurobi.Var *Awaiting Model Update*>,\n",
       " ('Liam', 'Job3', 1, 'A'): <gurobi.Var *Awaiting Model Update*>,\n",
       " ('Liam', 'Job3', 1, 'B'): <gurobi.Var *Awaiting Model Update*>,\n",
       " ('Liam', 'Job3', 1, 'C'): <gurobi.Var *Awaiting Model Update*>,\n",
       " ('Liam', 'Job3', 2, 'A'): <gurobi.Var *Awaiting Model Update*>,\n",
       " ('Liam', 'Job3', 2, 'B'): <gurobi.Var *Awaiting Model Update*>,\n",
       " ('Liam', 'Job3', 2, 'C'): <gurobi.Var *Awaiting Model Update*>,\n",
       " ('Liam', 'Job3', 3, 'A'): <gurobi.Var *Awaiting Model Update*>,\n",
       " ('Liam', 'Job3', 3, 'B'): <gurobi.Var *Awaiting Model Update*>,\n",
       " ('Liam', 'Job3', 3, 'C'): <gurobi.Var *Awaiting Model Update*>,\n",
       " ('Liam', 'Job3', 4, 'A'): <gurobi.Var *Awaiting Model Update*>,\n",
       " ('Liam', 'Job3', 4, 'B'): <gurobi.Var *Awaiting Model Update*>,\n",
       " ('Liam', 'Job3', 4, 'C'): <gurobi.Var *Awaiting Model Update*>,\n",
       " ('Liam', 'Job3', 5, 'A'): <gurobi.Var *Awaiting Model Update*>,\n",
       " ('Liam', 'Job3', 5, 'B'): <gurobi.Var *Awaiting Model Update*>,\n",
       " ('Liam', 'Job3', 5, 'C'): <gurobi.Var *Awaiting Model Update*>,\n",
       " ('Liam', 'Job3', 6, 'A'): <gurobi.Var *Awaiting Model Update*>,\n",
       " ('Liam', 'Job3', 6, 'B'): <gurobi.Var *Awaiting Model Update*>,\n",
       " ('Liam', 'Job3', 6, 'C'): <gurobi.Var *Awaiting Model Update*>,\n",
       " ('Liam', 'Job4', 1, 'A'): <gurobi.Var *Awaiting Model Update*>,\n",
       " ('Liam', 'Job4', 1, 'B'): <gurobi.Var *Awaiting Model Update*>,\n",
       " ('Liam', 'Job4', 1, 'C'): <gurobi.Var *Awaiting Model Update*>,\n",
       " ('Liam', 'Job4', 2, 'A'): <gurobi.Var *Awaiting Model Update*>,\n",
       " ('Liam', 'Job4', 2, 'B'): <gurobi.Var *Awaiting Model Update*>,\n",
       " ('Liam', 'Job4', 2, 'C'): <gurobi.Var *Awaiting Model Update*>,\n",
       " ('Liam', 'Job4', 3, 'A'): <gurobi.Var *Awaiting Model Update*>,\n",
       " ('Liam', 'Job4', 3, 'B'): <gurobi.Var *Awaiting Model Update*>,\n",
       " ('Liam', 'Job4', 3, 'C'): <gurobi.Var *Awaiting Model Update*>,\n",
       " ('Liam', 'Job4', 4, 'A'): <gurobi.Var *Awaiting Model Update*>,\n",
       " ('Liam', 'Job4', 4, 'B'): <gurobi.Var *Awaiting Model Update*>,\n",
       " ('Liam', 'Job4', 4, 'C'): <gurobi.Var *Awaiting Model Update*>,\n",
       " ('Liam', 'Job4', 5, 'A'): <gurobi.Var *Awaiting Model Update*>,\n",
       " ('Liam', 'Job4', 5, 'B'): <gurobi.Var *Awaiting Model Update*>,\n",
       " ('Liam', 'Job4', 5, 'C'): <gurobi.Var *Awaiting Model Update*>,\n",
       " ('Liam', 'Job4', 6, 'A'): <gurobi.Var *Awaiting Model Update*>,\n",
       " ('Liam', 'Job4', 6, 'B'): <gurobi.Var *Awaiting Model Update*>,\n",
       " ('Liam', 'Job4', 6, 'C'): <gurobi.Var *Awaiting Model Update*>,\n",
       " ('Liam', 'Job5', 1, 'A'): <gurobi.Var *Awaiting Model Update*>,\n",
       " ('Liam', 'Job5', 1, 'B'): <gurobi.Var *Awaiting Model Update*>,\n",
       " ('Liam', 'Job5', 1, 'C'): <gurobi.Var *Awaiting Model Update*>,\n",
       " ('Liam', 'Job5', 2, 'A'): <gurobi.Var *Awaiting Model Update*>,\n",
       " ('Liam', 'Job5', 2, 'B'): <gurobi.Var *Awaiting Model Update*>,\n",
       " ('Liam', 'Job5', 2, 'C'): <gurobi.Var *Awaiting Model Update*>,\n",
       " ('Liam', 'Job5', 3, 'A'): <gurobi.Var *Awaiting Model Update*>,\n",
       " ('Liam', 'Job5', 3, 'B'): <gurobi.Var *Awaiting Model Update*>,\n",
       " ('Liam', 'Job5', 3, 'C'): <gurobi.Var *Awaiting Model Update*>,\n",
       " ('Liam', 'Job5', 4, 'A'): <gurobi.Var *Awaiting Model Update*>,\n",
       " ('Liam', 'Job5', 4, 'B'): <gurobi.Var *Awaiting Model Update*>,\n",
       " ('Liam', 'Job5', 4, 'C'): <gurobi.Var *Awaiting Model Update*>,\n",
       " ('Liam', 'Job5', 5, 'A'): <gurobi.Var *Awaiting Model Update*>,\n",
       " ('Liam', 'Job5', 5, 'B'): <gurobi.Var *Awaiting Model Update*>,\n",
       " ('Liam', 'Job5', 5, 'C'): <gurobi.Var *Awaiting Model Update*>,\n",
       " ('Liam', 'Job5', 6, 'A'): <gurobi.Var *Awaiting Model Update*>,\n",
       " ('Liam', 'Job5', 6, 'B'): <gurobi.Var *Awaiting Model Update*>,\n",
       " ('Liam', 'Job5', 6, 'C'): <gurobi.Var *Awaiting Model Update*>,\n",
       " ('Emma', 'Job1', 1, 'A'): <gurobi.Var *Awaiting Model Update*>,\n",
       " ('Emma', 'Job1', 1, 'B'): <gurobi.Var *Awaiting Model Update*>,\n",
       " ('Emma', 'Job1', 1, 'C'): <gurobi.Var *Awaiting Model Update*>,\n",
       " ('Emma', 'Job1', 2, 'A'): <gurobi.Var *Awaiting Model Update*>,\n",
       " ('Emma', 'Job1', 2, 'B'): <gurobi.Var *Awaiting Model Update*>,\n",
       " ('Emma', 'Job1', 2, 'C'): <gurobi.Var *Awaiting Model Update*>,\n",
       " ('Emma', 'Job1', 3, 'A'): <gurobi.Var *Awaiting Model Update*>,\n",
       " ('Emma', 'Job1', 3, 'B'): <gurobi.Var *Awaiting Model Update*>,\n",
       " ('Emma', 'Job1', 3, 'C'): <gurobi.Var *Awaiting Model Update*>,\n",
       " ('Emma', 'Job1', 4, 'A'): <gurobi.Var *Awaiting Model Update*>,\n",
       " ('Emma', 'Job1', 4, 'B'): <gurobi.Var *Awaiting Model Update*>,\n",
       " ('Emma', 'Job1', 4, 'C'): <gurobi.Var *Awaiting Model Update*>,\n",
       " ('Emma', 'Job1', 5, 'A'): <gurobi.Var *Awaiting Model Update*>,\n",
       " ('Emma', 'Job1', 5, 'B'): <gurobi.Var *Awaiting Model Update*>,\n",
       " ('Emma', 'Job1', 5, 'C'): <gurobi.Var *Awaiting Model Update*>,\n",
       " ('Emma', 'Job1', 6, 'A'): <gurobi.Var *Awaiting Model Update*>,\n",
       " ('Emma', 'Job1', 6, 'B'): <gurobi.Var *Awaiting Model Update*>,\n",
       " ('Emma', 'Job1', 6, 'C'): <gurobi.Var *Awaiting Model Update*>,\n",
       " ('Emma', 'Job2', 1, 'A'): <gurobi.Var *Awaiting Model Update*>,\n",
       " ('Emma', 'Job2', 1, 'B'): <gurobi.Var *Awaiting Model Update*>,\n",
       " ('Emma', 'Job2', 1, 'C'): <gurobi.Var *Awaiting Model Update*>,\n",
       " ('Emma', 'Job2', 2, 'A'): <gurobi.Var *Awaiting Model Update*>,\n",
       " ('Emma', 'Job2', 2, 'B'): <gurobi.Var *Awaiting Model Update*>,\n",
       " ('Emma', 'Job2', 2, 'C'): <gurobi.Var *Awaiting Model Update*>,\n",
       " ('Emma', 'Job2', 3, 'A'): <gurobi.Var *Awaiting Model Update*>,\n",
       " ('Emma', 'Job2', 3, 'B'): <gurobi.Var *Awaiting Model Update*>,\n",
       " ('Emma', 'Job2', 3, 'C'): <gurobi.Var *Awaiting Model Update*>,\n",
       " ('Emma', 'Job2', 4, 'A'): <gurobi.Var *Awaiting Model Update*>,\n",
       " ('Emma', 'Job2', 4, 'B'): <gurobi.Var *Awaiting Model Update*>,\n",
       " ('Emma', 'Job2', 4, 'C'): <gurobi.Var *Awaiting Model Update*>,\n",
       " ('Emma', 'Job2', 5, 'A'): <gurobi.Var *Awaiting Model Update*>,\n",
       " ('Emma', 'Job2', 5, 'B'): <gurobi.Var *Awaiting Model Update*>,\n",
       " ('Emma', 'Job2', 5, 'C'): <gurobi.Var *Awaiting Model Update*>,\n",
       " ('Emma', 'Job2', 6, 'A'): <gurobi.Var *Awaiting Model Update*>,\n",
       " ('Emma', 'Job2', 6, 'B'): <gurobi.Var *Awaiting Model Update*>,\n",
       " ('Emma', 'Job2', 6, 'C'): <gurobi.Var *Awaiting Model Update*>,\n",
       " ('Emma', 'Job3', 1, 'A'): <gurobi.Var *Awaiting Model Update*>,\n",
       " ('Emma', 'Job3', 1, 'B'): <gurobi.Var *Awaiting Model Update*>,\n",
       " ('Emma', 'Job3', 1, 'C'): <gurobi.Var *Awaiting Model Update*>,\n",
       " ('Emma', 'Job3', 2, 'A'): <gurobi.Var *Awaiting Model Update*>,\n",
       " ('Emma', 'Job3', 2, 'B'): <gurobi.Var *Awaiting Model Update*>,\n",
       " ('Emma', 'Job3', 2, 'C'): <gurobi.Var *Awaiting Model Update*>,\n",
       " ('Emma', 'Job3', 3, 'A'): <gurobi.Var *Awaiting Model Update*>,\n",
       " ('Emma', 'Job3', 3, 'B'): <gurobi.Var *Awaiting Model Update*>,\n",
       " ('Emma', 'Job3', 3, 'C'): <gurobi.Var *Awaiting Model Update*>,\n",
       " ('Emma', 'Job3', 4, 'A'): <gurobi.Var *Awaiting Model Update*>,\n",
       " ('Emma', 'Job3', 4, 'B'): <gurobi.Var *Awaiting Model Update*>,\n",
       " ('Emma', 'Job3', 4, 'C'): <gurobi.Var *Awaiting Model Update*>,\n",
       " ('Emma', 'Job3', 5, 'A'): <gurobi.Var *Awaiting Model Update*>,\n",
       " ('Emma', 'Job3', 5, 'B'): <gurobi.Var *Awaiting Model Update*>,\n",
       " ('Emma', 'Job3', 5, 'C'): <gurobi.Var *Awaiting Model Update*>,\n",
       " ('Emma', 'Job3', 6, 'A'): <gurobi.Var *Awaiting Model Update*>,\n",
       " ('Emma', 'Job3', 6, 'B'): <gurobi.Var *Awaiting Model Update*>,\n",
       " ('Emma', 'Job3', 6, 'C'): <gurobi.Var *Awaiting Model Update*>,\n",
       " ('Emma', 'Job4', 1, 'A'): <gurobi.Var *Awaiting Model Update*>,\n",
       " ('Emma', 'Job4', 1, 'B'): <gurobi.Var *Awaiting Model Update*>,\n",
       " ('Emma', 'Job4', 1, 'C'): <gurobi.Var *Awaiting Model Update*>,\n",
       " ('Emma', 'Job4', 2, 'A'): <gurobi.Var *Awaiting Model Update*>,\n",
       " ('Emma', 'Job4', 2, 'B'): <gurobi.Var *Awaiting Model Update*>,\n",
       " ('Emma', 'Job4', 2, 'C'): <gurobi.Var *Awaiting Model Update*>,\n",
       " ('Emma', 'Job4', 3, 'A'): <gurobi.Var *Awaiting Model Update*>,\n",
       " ('Emma', 'Job4', 3, 'B'): <gurobi.Var *Awaiting Model Update*>,\n",
       " ('Emma', 'Job4', 3, 'C'): <gurobi.Var *Awaiting Model Update*>,\n",
       " ('Emma', 'Job4', 4, 'A'): <gurobi.Var *Awaiting Model Update*>,\n",
       " ('Emma', 'Job4', 4, 'B'): <gurobi.Var *Awaiting Model Update*>,\n",
       " ('Emma', 'Job4', 4, 'C'): <gurobi.Var *Awaiting Model Update*>,\n",
       " ('Emma', 'Job4', 5, 'A'): <gurobi.Var *Awaiting Model Update*>,\n",
       " ('Emma', 'Job4', 5, 'B'): <gurobi.Var *Awaiting Model Update*>,\n",
       " ('Emma', 'Job4', 5, 'C'): <gurobi.Var *Awaiting Model Update*>,\n",
       " ('Emma', 'Job4', 6, 'A'): <gurobi.Var *Awaiting Model Update*>,\n",
       " ('Emma', 'Job4', 6, 'B'): <gurobi.Var *Awaiting Model Update*>,\n",
       " ('Emma', 'Job4', 6, 'C'): <gurobi.Var *Awaiting Model Update*>,\n",
       " ('Emma', 'Job5', 1, 'A'): <gurobi.Var *Awaiting Model Update*>,\n",
       " ('Emma', 'Job5', 1, 'B'): <gurobi.Var *Awaiting Model Update*>,\n",
       " ('Emma', 'Job5', 1, 'C'): <gurobi.Var *Awaiting Model Update*>,\n",
       " ('Emma', 'Job5', 2, 'A'): <gurobi.Var *Awaiting Model Update*>,\n",
       " ('Emma', 'Job5', 2, 'B'): <gurobi.Var *Awaiting Model Update*>,\n",
       " ('Emma', 'Job5', 2, 'C'): <gurobi.Var *Awaiting Model Update*>,\n",
       " ('Emma', 'Job5', 3, 'A'): <gurobi.Var *Awaiting Model Update*>,\n",
       " ('Emma', 'Job5', 3, 'B'): <gurobi.Var *Awaiting Model Update*>,\n",
       " ('Emma', 'Job5', 3, 'C'): <gurobi.Var *Awaiting Model Update*>,\n",
       " ('Emma', 'Job5', 4, 'A'): <gurobi.Var *Awaiting Model Update*>,\n",
       " ('Emma', 'Job5', 4, 'B'): <gurobi.Var *Awaiting Model Update*>,\n",
       " ('Emma', 'Job5', 4, 'C'): <gurobi.Var *Awaiting Model Update*>,\n",
       " ('Emma', 'Job5', 5, 'A'): <gurobi.Var *Awaiting Model Update*>,\n",
       " ('Emma', 'Job5', 5, 'B'): <gurobi.Var *Awaiting Model Update*>,\n",
       " ('Emma', 'Job5', 5, 'C'): <gurobi.Var *Awaiting Model Update*>,\n",
       " ('Emma', 'Job5', 6, 'A'): <gurobi.Var *Awaiting Model Update*>,\n",
       " ('Emma', 'Job5', 6, 'B'): <gurobi.Var *Awaiting Model Update*>,\n",
       " ('Emma', 'Job5', 6, 'C'): <gurobi.Var *Awaiting Model Update*>}"
      ]
     },
     "execution_count": 38,
     "metadata": {},
     "output_type": "execute_result"
    }
   ],
   "source": [
    "pi_k_j_c"
   ]
  },
  {
   "cell_type": "markdown",
   "metadata": {},
   "source": [
    "# Constraints"
   ]
  },
  {
   "cell_type": "code",
   "execution_count": 39,
   "metadata": {},
   "outputs": [],
   "source": [
    "#Un personnel i peut être associé au projet k que s’il possède la compétence c nécessaire pour le projet :\n",
    "#3.\n",
    "constr3={f'p{i}_{k}_{j}_{c}':model.addConstr(pi_k_j_c[i,k,j,c]  + (1-pi_c[i][c]) <=1, name=f\"contrainte3{i}_{k}_{j}_{c}\")\n",
    "    for i in staff_names for k in job_list \n",
    "       for j in jour_list  for c in qualifications }\n",
    "#4.\n",
    "constr4={f'p{i}_{j}':model.addConstr(grb.quicksum(pi_k_j_c[i,k,j,c] for k in job_list for c in qualifications) <=1, name=f\"contrainte4{i}_{j}\")\n",
    "    for i in staff_names for j in jour_list}\n",
    "# 5.  \n",
    "constr5={f'2p{i}_{k}_{j}_{c}':model.addConstr(pi_k_j_c[i,k,j,c]  + (1-pi_j[i][j]) <=1, name=f\"contrainte5{i}_{k}_{j}_{c}\")\n",
    "    for i in staff_names for k in job_list \n",
    "       for j in jour_list  for c in qualifications }\n",
    "# 6.\n",
    "contr6={f'p2{k}_{c}':model.addConstr(grb.quicksum(pi_k_j_c[i,k,j,c] for i in staff_names for j in jour_list) <=qk_c[k][c], name=f\"contrainte6{k}_{c}\")\n",
    "    for k in job_list \n",
    "    for c in qualifications }"
   ]
  },
  {
   "cell_type": "code",
   "execution_count": 40,
   "metadata": {},
   "outputs": [],
   "source": [
    "# 9.\n",
    "constr8={f'p_q{k}':model.addConstr(-M2*(1-rk[k])+0.01 <= grb.quicksum(pi_k_j_c[i,k,j,c] for i in staff_names for j in jour_list) -qk_c[k][c]+1, name = f\"contrainte8{k}\")\n",
    "        for k in job_list\n",
    "        for c in qualifications\n",
    "        }\n",
    "constr9={f'p_q2{k}':model.addConstr( grb.quicksum(pi_k_j_c[i,k,j,c] for i in staff_names for j in jour_list) -qk_c[k][c]+1 <=M2*rk[k], name = f\"contrainte9{k}\")\n",
    "        for k in job_list\n",
    "        for c in qualifications\n",
    "        }\n",
    "# 10.\n",
    "constr10 = {f'z{k}_{j}':model.addConstr(grb.quicksum(pi_k_j_c[i,k,j,c] for i in staff_names for c in qualifications) -  1 <= M3*zk_j[k,j]-0.01 , name = f\"contrainte10{k}_{j}\")\n",
    "        for k in job_list\n",
    "          for j in jour_list}\n",
    "\n",
    "constr11 = {f'z2{k}_{j}':model.addConstr(-M3*(1-zk_j[k,j])<=grb.quicksum(pi_k_j_c[i,k,j,c] for i in staff_names for c in qualifications) -  1  , name = f\"contrainte11{k}_{j}\")\n",
    "        for k in job_list\n",
    "          for j in jour_list}"
   ]
  },
  {
   "cell_type": "code",
   "execution_count": 41,
   "metadata": {},
   "outputs": [],
   "source": [
    "# 10.\n",
    "contr12={f'end_k{k}':model.addConstr(end_k[k]>= pi_k_j_c[i,k,j,c]*j , name=f\"contrainte12end{k}\")\n",
    "for i in staff_names for j in jour_list \n",
    "for k in job_list for c in qualifications }\n",
    "contr13={f'delay_k{k}':model.addConstr(end_k[k]-due_dates_dict[k]<=delay_k[k] , name=f\"contrainte13delay_k{k}\")\n",
    "for k in job_list }\n",
    "\n",
    "contr14={f'start_k{k}':model.addConstr(start_k[k]>= end_k[k]-grb.quicksum(zk_j[k,j] for j in jour_list)+1 , name=f\"contrainte14start_k{k}\")\n",
    "for k in job_list }\n",
    "# contr15={f'start_k2{k}':model.addConstr(start_k[k]<= end_k[k] , name=f\"contrainte15start_k{k}\")\n",
    "# for k in job_list}"
   ]
  },
  {
   "cell_type": "code",
   "execution_count": 42,
   "metadata": {},
   "outputs": [],
   "source": [
    "# Fonction Objectif\n",
    "model.setObjective(grb.quicksum((job_gain_dict[k]*rk[k]) - delay_k[k]*job_penality_dict[k] for k in job_list), GRB.MAXIMIZE)  \n",
    "# model.setObjective(grb.quicksum((zk_j[k] for j in jour_list) for k in job_list), GRB.MINIMIZE)  \n",
    "\n",
    "# Paramétrage (mode mute)\n",
    "model.params.outputflag = 0\n",
    "# Résolution du PL\n",
    "model.optimize()"
   ]
  },
  {
   "cell_type": "code",
   "execution_count": 43,
   "metadata": {},
   "outputs": [],
   "source": [
    "#model.computeIIS()\n",
    "model.write(\"model.lp\")\n",
    "#  print constraints of the gurobipy.Model"
   ]
  },
  {
   "cell_type": "code",
   "execution_count": 44,
   "metadata": {},
   "outputs": [
    {
     "data": {
      "text/plain": [
       "71.0"
      ]
     },
     "execution_count": 44,
     "metadata": {},
     "output_type": "execute_result"
    }
   ],
   "source": [
    "model.ObjVal"
   ]
  },
  {
   "cell_type": "code",
   "execution_count": 45,
   "metadata": {},
   "outputs": [],
   "source": [
    "values= []\n",
    "for k, v in pi_k_j_c.items():\n",
    "    values.append(v.x)"
   ]
  },
  {
   "cell_type": "code",
   "execution_count": 46,
   "metadata": {},
   "outputs": [
    {
     "data": {
      "text/plain": [
       "{'Job1': <gurobi.Var rk[Job1] (value 1.0)>,\n",
       " 'Job2': <gurobi.Var rk[Job2] (value 1.0)>,\n",
       " 'Job3': <gurobi.Var rk[Job3] (value 1.0)>,\n",
       " 'Job4': <gurobi.Var rk[Job4] (value 1.0)>,\n",
       " 'Job5': <gurobi.Var rk[Job5] (value 1.0)>}"
      ]
     },
     "execution_count": 46,
     "metadata": {},
     "output_type": "execute_result"
    }
   ],
   "source": [
    "rk"
   ]
  },
  {
   "cell_type": "code",
   "execution_count": 47,
   "metadata": {},
   "outputs": [
    {
     "data": {
      "text/html": [
       "<div>\n",
       "<style scoped>\n",
       "    .dataframe tbody tr th:only-of-type {\n",
       "        vertical-align: middle;\n",
       "    }\n",
       "\n",
       "    .dataframe tbody tr th {\n",
       "        vertical-align: top;\n",
       "    }\n",
       "\n",
       "    .dataframe thead th {\n",
       "        text-align: right;\n",
       "    }\n",
       "</style>\n",
       "<table border=\"1\" class=\"dataframe\">\n",
       "  <thead>\n",
       "    <tr style=\"text-align: right;\">\n",
       "      <th></th>\n",
       "      <th>0</th>\n",
       "      <th>1</th>\n",
       "      <th>2</th>\n",
       "      <th>3</th>\n",
       "      <th>4</th>\n",
       "    </tr>\n",
       "  </thead>\n",
       "  <tbody>\n",
       "    <tr>\n",
       "      <th>6</th>\n",
       "      <td>Olivia</td>\n",
       "      <td>Job1</td>\n",
       "      <td>3</td>\n",
       "      <td>A</td>\n",
       "      <td>1.0</td>\n",
       "    </tr>\n",
       "    <tr>\n",
       "      <th>34</th>\n",
       "      <td>Olivia</td>\n",
       "      <td>Job2</td>\n",
       "      <td>6</td>\n",
       "      <td>B</td>\n",
       "      <td>1.0</td>\n",
       "    </tr>\n",
       "    <tr>\n",
       "      <th>47</th>\n",
       "      <td>Olivia</td>\n",
       "      <td>Job3</td>\n",
       "      <td>4</td>\n",
       "      <td>C</td>\n",
       "      <td>1.0</td>\n",
       "    </tr>\n",
       "    <tr>\n",
       "      <th>55</th>\n",
       "      <td>Olivia</td>\n",
       "      <td>Job4</td>\n",
       "      <td>1</td>\n",
       "      <td>B</td>\n",
       "      <td>1.0</td>\n",
       "    </tr>\n",
       "    <tr>\n",
       "      <th>58</th>\n",
       "      <td>Olivia</td>\n",
       "      <td>Job4</td>\n",
       "      <td>2</td>\n",
       "      <td>B</td>\n",
       "      <td>1.0</td>\n",
       "    </tr>\n",
       "    <tr>\n",
       "      <th>86</th>\n",
       "      <td>Olivia</td>\n",
       "      <td>Job5</td>\n",
       "      <td>5</td>\n",
       "      <td>C</td>\n",
       "      <td>1.0</td>\n",
       "    </tr>\n",
       "    <tr>\n",
       "      <th>94</th>\n",
       "      <td>Liam</td>\n",
       "      <td>Job1</td>\n",
       "      <td>2</td>\n",
       "      <td>B</td>\n",
       "      <td>1.0</td>\n",
       "    </tr>\n",
       "    <tr>\n",
       "      <th>114</th>\n",
       "      <td>Liam</td>\n",
       "      <td>Job2</td>\n",
       "      <td>3</td>\n",
       "      <td>A</td>\n",
       "      <td>1.0</td>\n",
       "    </tr>\n",
       "    <tr>\n",
       "      <th>124</th>\n",
       "      <td>Liam</td>\n",
       "      <td>Job2</td>\n",
       "      <td>6</td>\n",
       "      <td>B</td>\n",
       "      <td>1.0</td>\n",
       "    </tr>\n",
       "    <tr>\n",
       "      <th>135</th>\n",
       "      <td>Liam</td>\n",
       "      <td>Job3</td>\n",
       "      <td>4</td>\n",
       "      <td>A</td>\n",
       "      <td>1.0</td>\n",
       "    </tr>\n",
       "    <tr>\n",
       "      <th>182</th>\n",
       "      <td>Emma</td>\n",
       "      <td>Job1</td>\n",
       "      <td>1</td>\n",
       "      <td>C</td>\n",
       "      <td>1.0</td>\n",
       "    </tr>\n",
       "    <tr>\n",
       "      <th>227</th>\n",
       "      <td>Emma</td>\n",
       "      <td>Job3</td>\n",
       "      <td>4</td>\n",
       "      <td>C</td>\n",
       "      <td>1.0</td>\n",
       "    </tr>\n",
       "    <tr>\n",
       "      <th>242</th>\n",
       "      <td>Emma</td>\n",
       "      <td>Job4</td>\n",
       "      <td>3</td>\n",
       "      <td>C</td>\n",
       "      <td>1.0</td>\n",
       "    </tr>\n",
       "    <tr>\n",
       "      <th>266</th>\n",
       "      <td>Emma</td>\n",
       "      <td>Job5</td>\n",
       "      <td>5</td>\n",
       "      <td>C</td>\n",
       "      <td>1.0</td>\n",
       "    </tr>\n",
       "  </tbody>\n",
       "</table>\n",
       "</div>"
      ],
      "text/plain": [
       "          0     1  2  3    4\n",
       "6    Olivia  Job1  3  A  1.0\n",
       "34   Olivia  Job2  6  B  1.0\n",
       "47   Olivia  Job3  4  C  1.0\n",
       "55   Olivia  Job4  1  B  1.0\n",
       "58   Olivia  Job4  2  B  1.0\n",
       "86   Olivia  Job5  5  C  1.0\n",
       "94     Liam  Job1  2  B  1.0\n",
       "114    Liam  Job2  3  A  1.0\n",
       "124    Liam  Job2  6  B  1.0\n",
       "135    Liam  Job3  4  A  1.0\n",
       "182    Emma  Job1  1  C  1.0\n",
       "227    Emma  Job3  4  C  1.0\n",
       "242    Emma  Job4  3  C  1.0\n",
       "266    Emma  Job5  5  C  1.0"
      ]
     },
     "execution_count": 47,
     "metadata": {},
     "output_type": "execute_result"
    }
   ],
   "source": [
    "res = pd.DataFrame(list(pi_k_j_c.keys()))\n",
    "res[4] = values\n",
    "result = res[res[4] == 1]\n",
    "result"
   ]
  },
  {
   "cell_type": "markdown",
   "metadata": {},
   "source": [
    "## Result Table"
   ]
  },
  {
   "cell_type": "code",
   "execution_count": 48,
   "metadata": {},
   "outputs": [],
   "source": [
    "def color_table(x):\n",
    "    if pd.isna(x):\n",
    "        return \"background-color: white\"\n",
    "    else:\n",
    "        if \"Job1\" in x :\n",
    "            return \"background-color: blue\"\n",
    "        elif \"Job2\" in x:\n",
    "            return \"background-color: black\"\n",
    "        elif \"Job3\" in x:\n",
    "            return \"background-color: orange\"\n",
    "        elif \"Job4\" in x:\n",
    "           return \"background-color: grey\"\n",
    "        elif \"Job5\" in x:\n",
    "           return \"background-color: green\"\n",
    "        else:\n",
    "           return  \"background-color: red\""
   ]
  },
  {
   "cell_type": "code",
   "execution_count": 49,
   "metadata": {},
   "outputs": [
    {
     "data": {
      "text/html": [
       "<style type=\"text/css\">\n",
       "#T_645cd_row0_col0, #T_645cd_row0_col1, #T_645cd_row2_col2 {\n",
       "  background-color: grey;\n",
       "}\n",
       "#T_645cd_row0_col2, #T_645cd_row1_col1, #T_645cd_row2_col0 {\n",
       "  background-color: blue;\n",
       "}\n",
       "#T_645cd_row0_col3, #T_645cd_row1_col3, #T_645cd_row2_col3 {\n",
       "  background-color: orange;\n",
       "}\n",
       "#T_645cd_row0_col4, #T_645cd_row2_col4 {\n",
       "  background-color: green;\n",
       "}\n",
       "#T_645cd_row0_col5, #T_645cd_row1_col2, #T_645cd_row1_col5 {\n",
       "  background-color: black;\n",
       "}\n",
       "#T_645cd_row1_col0, #T_645cd_row2_col1 {\n",
       "  background-color: red;\n",
       "}\n",
       "#T_645cd_row1_col4, #T_645cd_row2_col5 {\n",
       "  background-color: white;\n",
       "}\n",
       "</style>\n",
       "<table id=\"T_645cd\">\n",
       "  <thead>\n",
       "    <tr>\n",
       "      <th class=\"blank level0\" >&nbsp;</th>\n",
       "      <th id=\"T_645cd_level0_col0\" class=\"col_heading level0 col0\" >1</th>\n",
       "      <th id=\"T_645cd_level0_col1\" class=\"col_heading level0 col1\" >2</th>\n",
       "      <th id=\"T_645cd_level0_col2\" class=\"col_heading level0 col2\" >3</th>\n",
       "      <th id=\"T_645cd_level0_col3\" class=\"col_heading level0 col3\" >4</th>\n",
       "      <th id=\"T_645cd_level0_col4\" class=\"col_heading level0 col4\" >5</th>\n",
       "      <th id=\"T_645cd_level0_col5\" class=\"col_heading level0 col5\" >6</th>\n",
       "    </tr>\n",
       "  </thead>\n",
       "  <tbody>\n",
       "    <tr>\n",
       "      <th id=\"T_645cd_level0_row0\" class=\"row_heading level0 row0\" >Olivia</th>\n",
       "      <td id=\"T_645cd_row0_col0\" class=\"data row0 col0\" >B Job4</td>\n",
       "      <td id=\"T_645cd_row0_col1\" class=\"data row0 col1\" >B Job4</td>\n",
       "      <td id=\"T_645cd_row0_col2\" class=\"data row0 col2\" >A Job1</td>\n",
       "      <td id=\"T_645cd_row0_col3\" class=\"data row0 col3\" >C Job3</td>\n",
       "      <td id=\"T_645cd_row0_col4\" class=\"data row0 col4\" >C Job5</td>\n",
       "      <td id=\"T_645cd_row0_col5\" class=\"data row0 col5\" >B Job2</td>\n",
       "    </tr>\n",
       "    <tr>\n",
       "      <th id=\"T_645cd_level0_row1\" class=\"row_heading level0 row1\" >Liam</th>\n",
       "      <td id=\"T_645cd_row1_col0\" class=\"data row1 col0\" >X</td>\n",
       "      <td id=\"T_645cd_row1_col1\" class=\"data row1 col1\" >B Job1</td>\n",
       "      <td id=\"T_645cd_row1_col2\" class=\"data row1 col2\" >A Job2</td>\n",
       "      <td id=\"T_645cd_row1_col3\" class=\"data row1 col3\" >A Job3</td>\n",
       "      <td id=\"T_645cd_row1_col4\" class=\"data row1 col4\" >nan</td>\n",
       "      <td id=\"T_645cd_row1_col5\" class=\"data row1 col5\" >B Job2</td>\n",
       "    </tr>\n",
       "    <tr>\n",
       "      <th id=\"T_645cd_level0_row2\" class=\"row_heading level0 row2\" >Emma</th>\n",
       "      <td id=\"T_645cd_row2_col0\" class=\"data row2 col0\" >C Job1</td>\n",
       "      <td id=\"T_645cd_row2_col1\" class=\"data row2 col1\" >X</td>\n",
       "      <td id=\"T_645cd_row2_col2\" class=\"data row2 col2\" >C Job4</td>\n",
       "      <td id=\"T_645cd_row2_col3\" class=\"data row2 col3\" >C Job3</td>\n",
       "      <td id=\"T_645cd_row2_col4\" class=\"data row2 col4\" >C Job5</td>\n",
       "      <td id=\"T_645cd_row2_col5\" class=\"data row2 col5\" >nan</td>\n",
       "    </tr>\n",
       "  </tbody>\n",
       "</table>\n"
      ],
      "text/plain": [
       "<pandas.io.formats.style.Styler at 0x230183a6b80>"
      ]
     },
     "execution_count": 49,
     "metadata": {},
     "output_type": "execute_result"
    }
   ],
   "source": [
    "df = pd.DataFrame(columns = [i for i in range(1,6)], index = staff_names)\n",
    "\n",
    "for ind, val in result.iterrows():\n",
    "    col = val[2]\n",
    "    row = val[0]\n",
    "    v = val[3] + \" \" + val[1]\n",
    "    df.loc[row,col] = v\n",
    "    # vacation\n",
    "    for staff in staff_names:\n",
    "        for day in jour_list:\n",
    "            if pi_j[staff][day] == 0:\n",
    "                df.loc[staff,day] = 'X'\n",
    "\n",
    "df.style.applymap(color_table)"
   ]
  },
  {
   "cell_type": "code",
   "execution_count": 50,
   "metadata": {},
   "outputs": [
    {
     "data": {
      "text/plain": [
       "{'Job1': <gurobi.Var start_k[Job1] (value 1.0)>,\n",
       " 'Job2': <gurobi.Var start_k[Job2] (value 5.0)>,\n",
       " 'Job3': <gurobi.Var start_k[Job3] (value 4.0)>,\n",
       " 'Job4': <gurobi.Var start_k[Job4] (value 1.0)>,\n",
       " 'Job5': <gurobi.Var start_k[Job5] (value 6.0)>}"
      ]
     },
     "execution_count": 50,
     "metadata": {},
     "output_type": "execute_result"
    }
   ],
   "source": [
    "start_k"
   ]
  },
  {
   "cell_type": "code",
   "execution_count": 51,
   "metadata": {},
   "outputs": [
    {
     "data": {
      "text/plain": [
       "{'Job1': <gurobi.Var end_k[Job1] (value 3.0)>,\n",
       " 'Job2': <gurobi.Var end_k[Job2] (value 6.0)>,\n",
       " 'Job3': <gurobi.Var end_k[Job3] (value 4.0)>,\n",
       " 'Job4': <gurobi.Var end_k[Job4] (value 3.0)>,\n",
       " 'Job5': <gurobi.Var end_k[Job5] (value 5.0)>}"
      ]
     },
     "execution_count": 51,
     "metadata": {},
     "output_type": "execute_result"
    }
   ],
   "source": [
    "end_k"
   ]
  },
  {
   "cell_type": "code",
   "execution_count": 52,
   "metadata": {},
   "outputs": [
    {
     "data": {
      "text/plain": [
       "{'Job1': <gurobi.Var delay_k[Job1] (value -0.0)>,\n",
       " 'Job2': <gurobi.Var delay_k[Job2] (value 3.0)>,\n",
       " 'Job3': <gurobi.Var delay_k[Job3] (value -0.0)>,\n",
       " 'Job4': <gurobi.Var delay_k[Job4] (value -0.0)>,\n",
       " 'Job5': <gurobi.Var delay_k[Job5] (value 0.0)>}"
      ]
     },
     "execution_count": 52,
     "metadata": {},
     "output_type": "execute_result"
    }
   ],
   "source": [
    "delay_k"
   ]
  },
  {
   "cell_type": "code",
   "execution_count": 53,
   "metadata": {},
   "outputs": [
    {
     "data": {
      "text/plain": [
       "{('Job1', 1): <gurobi.Var zk_j[Job1,1] (value 1.0)>,\n",
       " ('Job1', 2): <gurobi.Var zk_j[Job1,2] (value 1.0)>,\n",
       " ('Job1', 3): <gurobi.Var zk_j[Job1,3] (value 1.0)>,\n",
       " ('Job1', 4): <gurobi.Var zk_j[Job1,4] (value -0.0)>,\n",
       " ('Job1', 5): <gurobi.Var zk_j[Job1,5] (value -0.0)>,\n",
       " ('Job1', 6): <gurobi.Var zk_j[Job1,6] (value -0.0)>,\n",
       " ('Job2', 1): <gurobi.Var zk_j[Job2,1] (value 0.0)>,\n",
       " ('Job2', 2): <gurobi.Var zk_j[Job2,2] (value -0.0)>,\n",
       " ('Job2', 3): <gurobi.Var zk_j[Job2,3] (value 1.0)>,\n",
       " ('Job2', 4): <gurobi.Var zk_j[Job2,4] (value -0.0)>,\n",
       " ('Job2', 5): <gurobi.Var zk_j[Job2,5] (value -0.0)>,\n",
       " ('Job2', 6): <gurobi.Var zk_j[Job2,6] (value 1.0)>,\n",
       " ('Job3', 1): <gurobi.Var zk_j[Job3,1] (value -0.0)>,\n",
       " ('Job3', 2): <gurobi.Var zk_j[Job3,2] (value -0.0)>,\n",
       " ('Job3', 3): <gurobi.Var zk_j[Job3,3] (value -0.0)>,\n",
       " ('Job3', 4): <gurobi.Var zk_j[Job3,4] (value 1.0)>,\n",
       " ('Job3', 5): <gurobi.Var zk_j[Job3,5] (value -0.0)>,\n",
       " ('Job3', 6): <gurobi.Var zk_j[Job3,6] (value -0.0)>,\n",
       " ('Job4', 1): <gurobi.Var zk_j[Job4,1] (value 1.0)>,\n",
       " ('Job4', 2): <gurobi.Var zk_j[Job4,2] (value 1.0)>,\n",
       " ('Job4', 3): <gurobi.Var zk_j[Job4,3] (value 1.0)>,\n",
       " ('Job4', 4): <gurobi.Var zk_j[Job4,4] (value -0.0)>,\n",
       " ('Job4', 5): <gurobi.Var zk_j[Job4,5] (value -0.0)>,\n",
       " ('Job4', 6): <gurobi.Var zk_j[Job4,6] (value -0.0)>,\n",
       " ('Job5', 1): <gurobi.Var zk_j[Job5,1] (value 0.0)>,\n",
       " ('Job5', 2): <gurobi.Var zk_j[Job5,2] (value 0.0)>,\n",
       " ('Job5', 3): <gurobi.Var zk_j[Job5,3] (value 0.0)>,\n",
       " ('Job5', 4): <gurobi.Var zk_j[Job5,4] (value 0.0)>,\n",
       " ('Job5', 5): <gurobi.Var zk_j[Job5,5] (value 1.0)>,\n",
       " ('Job5', 6): <gurobi.Var zk_j[Job5,6] (value 0.0)>}"
      ]
     },
     "execution_count": 53,
     "metadata": {},
     "output_type": "execute_result"
    }
   ],
   "source": [
    "zk_j"
   ]
  },
  {
   "cell_type": "code",
   "execution_count": 54,
   "metadata": {},
   "outputs": [
    {
     "name": "stdout",
     "output_type": "stream",
     "text": [
      "<gurobi.Var zk_j[Job5,1] (value 0.0)>\n",
      "<gurobi.Var zk_j[Job5,2] (value 0.0)>\n",
      "<gurobi.Var zk_j[Job5,3] (value 0.0)>\n",
      "<gurobi.Var zk_j[Job5,4] (value 0.0)>\n",
      "<gurobi.Var zk_j[Job5,5] (value 1.0)>\n",
      "<gurobi.Var zk_j[Job5,6] (value 0.0)>\n"
     ]
    }
   ],
   "source": [
    "# for k in job_list:\n",
    "for j in jour_list:\n",
    "    print(zk_j['Job5',j])\n"
   ]
  },
  {
   "cell_type": "code",
   "execution_count": 55,
   "metadata": {},
   "outputs": [
    {
     "name": "stdout",
     "output_type": "stream",
     "text": [
      "<gurobi.Var pi_k_j_c[Olivia,Job1,1,A] (value -0.0)>\n",
      "<gurobi.Var pi_k_j_c[Olivia,Job1,1,B] (value -0.0)>\n",
      "<gurobi.Var pi_k_j_c[Olivia,Job1,1,C] (value -0.0)>\n",
      "<gurobi.Var pi_k_j_c[Liam,Job1,1,A] (value 0.0)>\n",
      "<gurobi.Var pi_k_j_c[Liam,Job1,1,B] (value 0.0)>\n",
      "<gurobi.Var pi_k_j_c[Liam,Job1,1,C] (value 0.0)>\n",
      "<gurobi.Var pi_k_j_c[Emma,Job1,1,A] (value 0.0)>\n",
      "<gurobi.Var pi_k_j_c[Emma,Job1,1,B] (value 0.0)>\n",
      "<gurobi.Var pi_k_j_c[Emma,Job1,1,C] (value 1.0)>\n",
      "<gurobi.Var pi_k_j_c[Olivia,Job1,2,A] (value -0.0)>\n",
      "<gurobi.Var pi_k_j_c[Olivia,Job1,2,B] (value -0.0)>\n",
      "<gurobi.Var pi_k_j_c[Olivia,Job1,2,C] (value -0.0)>\n",
      "<gurobi.Var pi_k_j_c[Liam,Job1,2,A] (value -0.0)>\n",
      "<gurobi.Var pi_k_j_c[Liam,Job1,2,B] (value 1.0)>\n",
      "<gurobi.Var pi_k_j_c[Liam,Job1,2,C] (value 0.0)>\n",
      "<gurobi.Var pi_k_j_c[Emma,Job1,2,A] (value 0.0)>\n",
      "<gurobi.Var pi_k_j_c[Emma,Job1,2,B] (value 0.0)>\n",
      "<gurobi.Var pi_k_j_c[Emma,Job1,2,C] (value 0.0)>\n",
      "<gurobi.Var pi_k_j_c[Olivia,Job1,3,A] (value 1.0)>\n",
      "<gurobi.Var pi_k_j_c[Olivia,Job1,3,B] (value -0.0)>\n",
      "<gurobi.Var pi_k_j_c[Olivia,Job1,3,C] (value -0.0)>\n",
      "<gurobi.Var pi_k_j_c[Liam,Job1,3,A] (value -0.0)>\n",
      "<gurobi.Var pi_k_j_c[Liam,Job1,3,B] (value -0.0)>\n",
      "<gurobi.Var pi_k_j_c[Liam,Job1,3,C] (value 0.0)>\n",
      "<gurobi.Var pi_k_j_c[Emma,Job1,3,A] (value 0.0)>\n",
      "<gurobi.Var pi_k_j_c[Emma,Job1,3,B] (value 0.0)>\n",
      "<gurobi.Var pi_k_j_c[Emma,Job1,3,C] (value -0.0)>\n",
      "<gurobi.Var pi_k_j_c[Olivia,Job1,4,A] (value -0.0)>\n",
      "<gurobi.Var pi_k_j_c[Olivia,Job1,4,B] (value -0.0)>\n",
      "<gurobi.Var pi_k_j_c[Olivia,Job1,4,C] (value -0.0)>\n",
      "<gurobi.Var pi_k_j_c[Liam,Job1,4,A] (value -0.0)>\n",
      "<gurobi.Var pi_k_j_c[Liam,Job1,4,B] (value -0.0)>\n",
      "<gurobi.Var pi_k_j_c[Liam,Job1,4,C] (value 0.0)>\n",
      "<gurobi.Var pi_k_j_c[Emma,Job1,4,A] (value 0.0)>\n",
      "<gurobi.Var pi_k_j_c[Emma,Job1,4,B] (value 0.0)>\n",
      "<gurobi.Var pi_k_j_c[Emma,Job1,4,C] (value -0.0)>\n",
      "<gurobi.Var pi_k_j_c[Olivia,Job1,5,A] (value -0.0)>\n",
      "<gurobi.Var pi_k_j_c[Olivia,Job1,5,B] (value -0.0)>\n",
      "<gurobi.Var pi_k_j_c[Olivia,Job1,5,C] (value -0.0)>\n",
      "<gurobi.Var pi_k_j_c[Liam,Job1,5,A] (value -0.0)>\n",
      "<gurobi.Var pi_k_j_c[Liam,Job1,5,B] (value -0.0)>\n",
      "<gurobi.Var pi_k_j_c[Liam,Job1,5,C] (value 0.0)>\n",
      "<gurobi.Var pi_k_j_c[Emma,Job1,5,A] (value 0.0)>\n",
      "<gurobi.Var pi_k_j_c[Emma,Job1,5,B] (value 0.0)>\n",
      "<gurobi.Var pi_k_j_c[Emma,Job1,5,C] (value -0.0)>\n",
      "<gurobi.Var pi_k_j_c[Olivia,Job1,6,A] (value -0.0)>\n",
      "<gurobi.Var pi_k_j_c[Olivia,Job1,6,B] (value -0.0)>\n",
      "<gurobi.Var pi_k_j_c[Olivia,Job1,6,C] (value -0.0)>\n",
      "<gurobi.Var pi_k_j_c[Liam,Job1,6,A] (value -0.0)>\n",
      "<gurobi.Var pi_k_j_c[Liam,Job1,6,B] (value -0.0)>\n",
      "<gurobi.Var pi_k_j_c[Liam,Job1,6,C] (value 0.0)>\n",
      "<gurobi.Var pi_k_j_c[Emma,Job1,6,A] (value 0.0)>\n",
      "<gurobi.Var pi_k_j_c[Emma,Job1,6,B] (value 0.0)>\n",
      "<gurobi.Var pi_k_j_c[Emma,Job1,6,C] (value -0.0)>\n"
     ]
    }
   ],
   "source": [
    "for j in jour_list:\n",
    "    for s in staff_names:\n",
    "        for c in  qualifications:\n",
    "            print(pi_k_j_c[s,'Job1',j,c])"
   ]
  },
  {
   "cell_type": "code",
   "execution_count": 56,
   "metadata": {},
   "outputs": [
    {
     "data": {
      "text/plain": [
       "{'Job1': <gurobi.Var end_k[Job1] (value 3.0)>,\n",
       " 'Job2': <gurobi.Var end_k[Job2] (value 6.0)>,\n",
       " 'Job3': <gurobi.Var end_k[Job3] (value 4.0)>,\n",
       " 'Job4': <gurobi.Var end_k[Job4] (value 3.0)>,\n",
       " 'Job5': <gurobi.Var end_k[Job5] (value 5.0)>}"
      ]
     },
     "execution_count": 56,
     "metadata": {},
     "output_type": "execute_result"
    }
   ],
   "source": [
    "end_k"
   ]
  },
  {
   "cell_type": "code",
   "execution_count": 57,
   "metadata": {},
   "outputs": [
    {
     "data": {
      "text/plain": [
       "{'Job1': <gurobi.Var delay_k[Job1] (value -0.0)>,\n",
       " 'Job2': <gurobi.Var delay_k[Job2] (value 3.0)>,\n",
       " 'Job3': <gurobi.Var delay_k[Job3] (value -0.0)>,\n",
       " 'Job4': <gurobi.Var delay_k[Job4] (value -0.0)>,\n",
       " 'Job5': <gurobi.Var delay_k[Job5] (value 0.0)>}"
      ]
     },
     "execution_count": 57,
     "metadata": {},
     "output_type": "execute_result"
    }
   ],
   "source": [
    "delay_k"
   ]
  },
  {
   "cell_type": "code",
   "execution_count": 58,
   "metadata": {},
   "outputs": [
    {
     "data": {
      "text/plain": [
       "{'Job1': 3, 'Job2': 3, 'Job3': 4, 'Job4': 3, 'Job5': 5}"
      ]
     },
     "execution_count": 58,
     "metadata": {},
     "output_type": "execute_result"
    }
   ],
   "source": [
    "due_dates_dict"
   ]
  },
  {
   "cell_type": "code",
   "execution_count": null,
   "metadata": {},
   "outputs": [],
   "source": []
  }
 ],
 "metadata": {
  "kernelspec": {
   "display_name": "base",
   "language": "python",
   "name": "python3"
  },
  "language_info": {
   "codemirror_mode": {
    "name": "ipython",
    "version": 3
   },
   "file_extension": ".py",
   "mimetype": "text/x-python",
   "name": "python",
   "nbconvert_exporter": "python",
   "pygments_lexer": "ipython3",
   "version": "3.9.13 (main, Aug 25 2022, 23:51:50) [MSC v.1916 64 bit (AMD64)]"
  },
  "vscode": {
   "interpreter": {
    "hash": "992fe7c5fc85bbb99cdbb1a7127f4f04531c143f133625dff1af063a39de0f81"
   }
  }
 },
 "nbformat": 4,
 "nbformat_minor": 2
}
