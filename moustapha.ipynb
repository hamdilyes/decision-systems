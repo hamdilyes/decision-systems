{
 "cells": [
  {
   "cell_type": "markdown",
   "metadata": {},
   "source": [
    "# Import Libraries"
   ]
  },
  {
   "cell_type": "code",
   "execution_count": 1,
   "metadata": {},
   "outputs": [],
   "source": [
    "import gurobipy as grb\n",
    "import pandas as pd\n",
    "from gurobipy import GRB\n",
    "import numpy as np"
   ]
  },
  {
   "cell_type": "markdown",
   "metadata": {},
   "source": [
    "# Model"
   ]
  },
  {
   "cell_type": "code",
   "execution_count": 2,
   "metadata": {},
   "outputs": [
    {
     "name": "stdout",
     "output_type": "stream",
     "text": [
      "Set parameter Username\n",
      "Academic license - for non-commercial use only - expires 2023-12-10\n"
     ]
    }
   ],
   "source": [
    " # Create a model\n",
    "model = grb.Model(\"Model\")"
   ]
  },
  {
   "cell_type": "markdown",
   "metadata": {},
   "source": [
    "# Get data from json"
   ]
  },
  {
   "cell_type": "code",
   "execution_count": 3,
   "metadata": {},
   "outputs": [],
   "source": [
    "# get the  data from the json file small.json\n",
    "import json\n",
    "with open('small.json') as f:\n",
    "    data = json.load(f)\n",
    "# data"
   ]
  },
  {
   "cell_type": "markdown",
   "metadata": {},
   "source": [
    "## Constants from data"
   ]
  },
  {
   "cell_type": "code",
   "execution_count": 4,
   "metadata": {},
   "outputs": [],
   "source": [
    "horizon= data['horizon']\n",
    "qualifications=data['qualifications']\n",
    "staff_names=[i['name'] for i in data['staff']]\n",
    "staff_qualifications=[i['qualifications'] for i in data['staff']]\n",
    "job_list=[i['name'] for i in data['jobs']]\n",
    "jour_list=[i for i in range(1,horizon+1)]\n",
    "job_penality=[i['daily_penalty'] for i in data['jobs']] \n",
    "job_qualifications= [i['working_days_per_qualification'] for i in data['jobs']]\n",
    "job_gain=[i['gain'] for i in data['jobs']]\n",
    "due_dates=[i['due_date'] for i in data['jobs']]\n",
    "vacation_staff=[i['vacations'] for i in data['staff']]"
   ]
  },
  {
   "cell_type": "markdown",
   "metadata": {},
   "source": [
    "# Model's parameters"
   ]
  },
  {
   "cell_type": "markdown",
   "metadata": {},
   "source": [
    "#### Objective 1\n",
    "H : days\n",
    "\n",
    "Q : qualifications\n",
    "\n",
    "S : staff\n",
    "\n",
    "J : jobs\n",
    "\n",
    "qi : qualifications of i\n",
    "\n",
    "qj : qualifications of j\n",
    "\n",
    "vi : vacation days of i\n",
    "\n",
    "njk : required work load for j with k\n",
    "\n",
    "cj : daily penalty of j\n",
    "\n",
    "gj : gain of j\n",
    "\n",
    "dj : due date of j\n",
    "\n",
    "yj : is j completely done\n",
    "\n",
    "lj : delay in days for j\n",
    "\n",
    "ej : end date of j\n",
    "\n",
    "pi_j_k_t : work is done by i with k for j on t"
   ]
  },
  {
   "cell_type": "markdown",
   "metadata": {},
   "source": [
    "#### Objective 2\n",
    "aij : j is assigned to i\n",
    "\n",
    "ni : number of jobs i works on\n",
    "\n",
    "max_i : max of ni"
   ]
  },
  {
   "cell_type": "markdown",
   "metadata": {},
   "source": [
    "### Objective 3\n",
    "sj : start date for j\n",
    "\n",
    "nj : length in days for j\n",
    "\n",
    "max_j : maximum of nj"
   ]
  },
  {
   "cell_type": "code",
   "execution_count": 5,
   "metadata": {},
   "outputs": [],
   "source": [
    "H = [i for i in range(1,horizon+1)]\n",
    "Q = qualifications\n",
    "S = staff_names\n",
    "J = job_list\n",
    "# Parameters for each staff\n",
    "\n",
    "qi = {}\n",
    "for i in range(len(staff_names)) :\n",
    "    k = staff_names[i]\n",
    "    qi[k] = []\n",
    "    for c in qualifications:\n",
    "        if c in data['staff'][i]['qualifications']:\n",
    "            qi[k].append(c)\n",
    "vi={}\n",
    "for ind,i in enumerate(staff_names):\n",
    "    vi[i] = []\n",
    "    for j in jour_list:\n",
    "        if j in vacation_staff[ind]:\n",
    "            vi[i].append(j)\n",
    "#vi=staff_in_vacation.to_dict(orient='index')\n",
    "\n",
    "# Parameters for each job\n",
    "qj = dict()\n",
    "for ind, j in enumerate(job_list):\n",
    "    qj[j] = list(job_qualifications[ind].keys())\n",
    "njk = dict(zip(job_list,job_qualifications))\n",
    "cj=job_penality_dict=dict(zip(job_list,job_penality))\n",
    "gj=job_gain_dict=dict(zip(job_list,job_gain))\n",
    "dj = dict(zip(job_list,due_dates))\n"
   ]
  },
  {
   "cell_type": "markdown",
   "metadata": {},
   "source": [
    "# Decision variables"
   ]
  },
  {
   "cell_type": "code",
   "execution_count": 6,
   "metadata": {},
   "outputs": [],
   "source": [
    "# Objective 1\n",
    "pijkt = model.addVars(staff_names,job_list,qualifications,jour_list, vtype=GRB.BINARY, name=\"pijkt\")\n",
    "\n",
    "yj = model.addVars(job_list, vtype=GRB.BINARY, name=\"yj\")\n",
    "lj = model.addVars(job_list, vtype=GRB.INTEGER, name=\"lj\")\n",
    "ej = model.addVars(job_list, vtype=GRB.INTEGER, name=\"ej\")\n",
    "\n",
    "# Objective 2\n",
    "max_i = model.addVar(vtype=GRB.INTEGER, name=\"max_i\")\n",
    "ni = model.addVars(S, vtype=GRB.INTEGER, name=\"ni\")\n",
    "aij = model.addVars(S, J, vtype=GRB.BINARY, name=\"aij\")\n",
    "\n",
    "# Objective 3\n",
    "sj = model.addVars(J, vtype=GRB.INTEGER, name=\"sj\")\n",
    "nj = model.addVars(J, vtype=GRB.INTEGER, name=\"nj\")\n",
    "max_j = model.addVar(vtype=GRB.INTEGER, name=\"max_j\")"
   ]
  },
  {
   "cell_type": "markdown",
   "metadata": {},
   "source": [
    "# Constraints"
   ]
  },
  {
   "cell_type": "markdown",
   "metadata": {},
   "source": [
    "### Objective 1"
   ]
  },
  {
   "cell_type": "code",
   "execution_count": 7,
   "metadata": {},
   "outputs": [],
   "source": [
    "constr1 = {f'constr1{i}_{t}':model.addConstr( grb.quicksum(pijkt[i,j,k,t] for j in J for k in Q) <= 1 , name=f\"constr1{i}_{t}\")\n",
    "  for i in S\n",
    "  for t in H}\n",
    "\n",
    "constr2 = {f'constr2{i}_{t}':model.addConstr( grb.quicksum(pijkt[i,j,k,t] for j in J for k in Q) == 0 , name=f\"constr2{i}_{t}\")\n",
    "  for i in S\n",
    "  for t in vi[i]}\n",
    "\n",
    "constr3 = {f'constr3{i}_{j}_{k}_{t}':model.addConstr( pijkt[i,j,k,t] == 0 , name=f\"constr3{i}_{j}_{k}_{t}\")\n",
    "  for i in S\n",
    "  for j in J\n",
    "  for k in Q if k not in qj[j] or k not in qi[i]\n",
    "  for t in H}\n",
    "\n",
    "constr4 = {f'constr4{j}_{k}': model.addConstr( yj[j]*njk[j][k] <= grb.quicksum(pijkt[i,j,k,t] for i in S for t in H) , name=f\"constr4{j}_{k}\")\n",
    "  for j in J\n",
    "  for k in qj[j]}\n",
    "\n",
    "constr5 = {f'constr5{j}_{k}': model.addConstr( grb.quicksum(pijkt[i,j,k,t] for i in S for t in H) <= njk[j][k] , name=f\"constr5{j}_{k}\")\n",
    "  for j in J\n",
    "  for k in qj[j]}\n",
    "\n",
    "constr6 = {f'constr6{i}_{j}_{k}_{t}':model.addConstr( pijkt[i,j,k,t]*t <= ej[j] , name=f\"constr6{i}_{j}_{k}_{t}\")\n",
    "  for i in S\n",
    "  for j in J\n",
    "  for k in Q\n",
    "  for t in H}\n",
    "\n",
    "constr7 = {f'constr7{j}' : model.addConstr( ej[j] - dj[j] <= lj[j] , name =f\"constr7{j}\")\n",
    "  for j in J}\n",
    "\n",
    "constr8 = {f'constr8{j}' : model.addConstr( 1 <= ej[j] , name =f\"constr8{j}\")\n",
    "  for j in J}\n",
    "\n",
    "constr9 = {f'constr9{j}' : model.addConstr( ej[j] <= H[-1] , name =f\"constr9{j}\")\n",
    "  for j in J}"
   ]
  },
  {
   "cell_type": "markdown",
   "metadata": {},
   "source": [
    "### Objective 2"
   ]
  },
  {
   "cell_type": "code",
   "execution_count": 8,
   "metadata": {},
   "outputs": [],
   "source": [
    "# assigned jobs to a staff member i is aij[i, j]\n",
    "constr10 = {f'constr10{i}_{j}_{k}_{t}' : model.addConstr( pijkt[i,j,k,t] <= aij[i, j] , name = f\"constr10{i}_{j}_{k}_{t}\")\n",
    "    for i in S\n",
    "    for j in J\n",
    "    for k in Q\n",
    "    for t in H}\n",
    "\n",
    "# number of jobs assigned to a staff member i is ni[i]\n",
    "constr11 = {f'constr11{i}' : model.addConstr( grb.quicksum(aij[i, j] for j in J) <= ni[i] , name = f\"constr11{i}\")\n",
    "    for i in S}\n",
    "\n",
    "# max_i max number of jobs assigned to a staff member\n",
    "# for all staff i, number of jobs assigned to i is less than or equal to max_i\n",
    "constr12 = {f'constr12{i}' : model.addConstr( ni[i] <= max_i , name = f\"constr12{i}\")\n",
    "    for i in S}"
   ]
  },
  {
   "cell_type": "markdown",
   "metadata": {},
   "source": [
    "### Objective 3"
   ]
  },
  {
   "cell_type": "code",
   "execution_count": 9,
   "metadata": {},
   "outputs": [],
   "source": [
    "# start date is at least 1\n",
    "constr14 = {f'constr14_{j}' : model.addConstr( 1 <= sj[j] , name = f\"constr14_{j}\")\n",
    "    for j in J}\n",
    "\n",
    "# start date of j is sj[j]\n",
    "constr15 = {f'constr15{i}_{j}_{k}_{t}' : model.addConstr( sj[j] <= t*pijkt[i,j,k,t] + H[-1]*(1-pijkt[i,j,k,t]) , name = f\"constr15{i}_{j}_{k}_{t}\")\n",
    "    for i in S\n",
    "    for j in J\n",
    "    for k in Q\n",
    "    for t in H}\n",
    "\n",
    "# length of a job j is nj[j]\n",
    "constr16 = {f'constr16{j}' : model.addConstr( ej[j] + 1 - sj[j] <= nj[j] , name = f\"constr16{j}\")\n",
    "    for j in J}\n",
    "\n",
    "# max_j max of nj[j]\n",
    "constr17 = {f'constr17{j}' : model.addConstr( nj[j] <= max_j , name = f\"constr17{j}\")\n",
    "    for j in J}"
   ]
  },
  {
   "cell_type": "markdown",
   "metadata": {},
   "source": [
    "# Objectives"
   ]
  },
  {
   "cell_type": "code",
   "execution_count": 19,
   "metadata": {},
   "outputs": [
    {
     "name": "stdout",
     "output_type": "stream",
     "text": [
      "Set parameter OutputFlag to value 1\n",
      "Gurobi Optimizer version 10.0.0 build v10.0.0rc2 (mac64[rosetta2])\n",
      "\n",
      "CPU model: Apple M1\n",
      "Thread count: 8 physical cores, 8 logical processors, using up to 8 threads\n",
      "\n",
      "Optimize a model with 873 rows, 270 columns and 2069 nonzeros\n",
      "Model fingerprint: 0xe5bdd0c1\n",
      "Variable types: 0 continuous, 270 integer (245 binary)\n",
      "Coefficient statistics:\n",
      "  Matrix range     [1e+00, 5e+00]\n",
      "  Objective range  [1e+00, 2e+01]\n",
      "  Bounds range     [1e+00, 1e+00]\n",
      "  RHS range        [1e+00, 5e+00]\n",
      "\n",
      "---------------------------------------------------------------------------\n",
      "Multi-objectives: starting optimization with 3 objectives (2 combined) ...\n",
      "---------------------------------------------------------------------------\n",
      "\n",
      "Multi-objectives: applying initial presolve ...\n",
      "---------------------------------------------------------------------------\n",
      "\n",
      "Presolve removed 703 rows and 135 columns\n",
      "Presolve time: 0.00s\n",
      "Presolved: 170 rows and 135 columns\n",
      "---------------------------------------------------------------------------\n",
      "\n",
      "Multi-objectives: optimize objective 1 () ...\n",
      "---------------------------------------------------------------------------\n",
      "\n",
      "Found heuristic solution: objective -0.0000000\n",
      "Presolve removed 121 rows and 36 columns\n",
      "Presolve time: 0.00s\n",
      "Presolved: 49 rows, 99 columns, 328 nonzeros\n",
      "Variable types: 0 continuous, 99 integer (95 binary)\n",
      "Found heuristic solution: objective 20.0000000\n",
      "\n",
      "Root relaxation: objective 7.200000e+01, 83 iterations, 0.00 seconds (0.00 work units)\n",
      "\n",
      "    Nodes    |    Current Node    |     Objective Bounds      |     Work\n",
      " Expl Unexpl |  Obj  Depth IntInf | Incumbent    BestBd   Gap | It/Node Time\n",
      "\n",
      "     0     0   72.00000    0    8   20.00000   72.00000   260%     -    0s\n",
      "H    0     0                      57.0000000   72.00000  26.3%     -    0s\n",
      "H    0     0                      59.0000000   72.00000  22.0%     -    0s\n",
      "H    0     0                      65.0000000   72.00000  10.8%     -    0s\n",
      "     0     0   67.04478    0   26   65.00000   67.04478  3.15%     -    0s\n",
      "     0     0     cutoff    0        65.00000   65.00000  0.00%     -    0s\n",
      "\n",
      "Cutting planes:\n",
      "  Gomory: 1\n",
      "  MIR: 2\n",
      "  Zero half: 1\n",
      "  RLT: 2\n",
      "\n",
      "Explored 1 nodes (139 simplex iterations) in 0.05 seconds (0.00 work units)\n",
      "Thread count was 8 (of 8 available processors)\n",
      "\n",
      "Solution count 5: 65 59 57 ... -0\n",
      "\n",
      "Optimal solution found (tolerance 1.00e-04)\n",
      "Best objective 6.500000000000e+01, best bound 6.500000000000e+01, gap 0.0000%\n",
      "---------------------------------------------------------------------------\n",
      "\n",
      "Multi-objectives: optimize objective 2 (weighted) ...\n",
      "---------------------------------------------------------------------------\n",
      "\n",
      "\n",
      "Loaded user MIP start with objective -10\n",
      "\n",
      "Presolve removed 13 rows and 13 columns\n",
      "Presolve time: 0.00s\n",
      "Presolved: 158 rows, 122 columns, 643 nonzeros\n",
      "Variable types: 0 continuous, 122 integer (107 binary)\n",
      "Found heuristic solution: objective -8.0000000\n",
      "\n",
      "Root relaxation: objective -2.250000e+00, 182 iterations, 0.00 seconds (0.00 work units)\n",
      "\n",
      "    Nodes    |    Current Node    |     Objective Bounds      |     Work\n",
      " Expl Unexpl |  Obj  Depth IntInf | Incumbent    BestBd   Gap | It/Node Time\n",
      "\n",
      "     0     0   -2.25000    0   42   -8.00000   -2.25000  71.9%     -    0s\n",
      "H    0     0                      -7.0000000   -2.25000  67.9%     -    0s\n",
      "H    0     0                      -6.0000000   -3.00000  50.0%     -    0s\n",
      "     0     0   -3.00000    0   72   -6.00000   -3.00000  50.0%     -    0s\n",
      "H    0     0                      -5.0000000   -3.00000  40.0%     -    0s\n",
      "     0     0   -3.00000    0   60   -5.00000   -3.00000  40.0%     -    0s\n",
      "     0     0   -3.00000    0   68   -5.00000   -3.00000  40.0%     -    0s\n",
      "     0     0   -3.00000    0   56   -5.00000   -3.00000  40.0%     -    0s\n",
      "     0     0   -3.00000    0   61   -5.00000   -3.00000  40.0%     -    0s\n",
      "     0     0   -3.00000    0   66   -5.00000   -3.00000  40.0%     -    0s\n",
      "     0     0   -4.00000    0   55   -5.00000   -4.00000  20.0%     -    0s\n",
      "     0     0   -4.00000    0   64   -5.00000   -4.00000  20.0%     -    0s\n",
      "     0     0   -4.00000    0   14   -5.00000   -4.00000  20.0%     -    0s\n",
      "     0     0   -4.00000    0   63   -5.00000   -4.00000  20.0%     -    0s\n",
      "     0     0   -4.00000    0   69   -5.00000   -4.00000  20.0%     -    0s\n",
      "     0     0   -4.00000    0   59   -5.00000   -4.00000  20.0%     -    0s\n",
      "     0     0   -4.00000    0   59   -5.00000   -4.00000  20.0%     -    0s\n",
      "     0     0   -4.00000    0   26   -5.00000   -4.00000  20.0%     -    0s\n",
      "     0     0   -4.00000    0   25   -5.00000   -4.00000  20.0%     -    0s\n",
      "\n",
      "Cutting planes:\n",
      "  Learned: 5\n",
      "  Cover: 5\n",
      "  Implied bound: 1\n",
      "  Clique: 4\n",
      "  MIR: 9\n",
      "  Flow cover: 1\n",
      "  Inf proof: 1\n",
      "  Zero half: 4\n",
      "  RLT: 2\n",
      "  Relax-and-lift: 2\n",
      "\n",
      "Explored 1 nodes (1698 simplex iterations) in 0.17 seconds (0.05 work units)\n",
      "Thread count was 8 (of 8 available processors)\n",
      "\n",
      "Solution count 5: -5 -6 -7 ... -10\n",
      "No other solutions better than -5\n",
      "\n",
      "Optimal solution found (tolerance 1.00e-04)\n",
      "Best objective -5.000000000000e+00, best bound -5.000000000000e+00, gap 0.0000%\n",
      "\n",
      "---------------------------------------------------------------------------\n",
      "Multi-objectives: solved in 0.17 seconds (0.05 work units), solution count 9\n",
      "\n"
     ]
    }
   ],
   "source": [
    "# Objective 1\n",
    "# model.setObjective( grb.quicksum((gj[j]*yj[j] - lj[j]*cj[j]) for j in J) , GRB.MAXIMIZE)\n",
    "\n",
    "# Objective 1 & 2\n",
    "# model.setObjective( grb.quicksum((gj[j]*yj[j] - lj[j]*cj[j]) for j in J) - max_i , GRB.MAXIMIZE)\n",
    "\n",
    "# Objective 1 & 2 & 3\n",
    "# model.setObjective( grb.quicksum((gj[j]*yj[j] - lj[j]*cj[j]) for j in J) - max_i - max_j , GRB.MAXIMIZE)\n",
    "\n",
    "# setObjectiveN\n",
    "model.ModelSense = GRB.MAXIMIZE\n",
    "model.setObjectiveN( grb.quicksum((gj[j]*yj[j] - lj[j]*cj[j]) for j in J) , 0, 3)\n",
    "model.setObjectiveN( - max_i , 1, 1)\n",
    "model.setObjectiveN( - max_j , 2, 1)\n",
    "\n",
    "# Paramétrage (mode mute)\n",
    "model.params.outputflag = 1\n",
    "# Résolution du PL\n",
    "model.optimize()"
   ]
  },
  {
   "cell_type": "code",
   "execution_count": 11,
   "metadata": {},
   "outputs": [],
   "source": [
    "#model.computeIIS()\n",
    "model.write(\"model.lp\")"
   ]
  },
  {
   "cell_type": "code",
   "execution_count": 23,
   "metadata": {},
   "outputs": [
    {
     "name": "stdout",
     "output_type": "stream",
     "text": [
      "Problem has 3 objectives\n",
      "Gurobi found 9 solutions\n"
     ]
    }
   ],
   "source": [
    "# Query number of multiple objectives, and number of solutions\n",
    "nSolutions  = model.SolCount\n",
    "nObjectives = model.NumObj\n",
    "print('Problem has', nObjectives, 'objectives')\n",
    "print('Gurobi found', nSolutions, 'solutions')"
   ]
  },
  {
   "cell_type": "code",
   "execution_count": 26,
   "metadata": {},
   "outputs": [
    {
     "name": "stdout",
     "output_type": "stream",
     "text": [
      "Solution 0 :  65.0  -3.0  -2.0\n",
      "\n",
      "Solution 1 :  65.0  -3.0  -3.0\n",
      "\n",
      "Solution 2 :  65.0  -4.0  -3.0\n",
      "\n",
      "Solution 3 :  65.0  -4.0  -4.0\n",
      "\n",
      "Solution 4 :  65.0  -5.0  -5.0\n",
      "\n",
      "Solution 5 :  59.0  -5.0  -5.0\n",
      "\n",
      "Solution 6 :  57.0  -5.0  -5.0\n",
      "\n",
      "Solution 7 :  20.0  -5.0  -5.0\n",
      "\n",
      "Solution 8 :  0.0  -2000000000.0  -2000000000.0\n",
      "\n"
     ]
    }
   ],
   "source": [
    "solutions = []\n",
    "for s in range(nSolutions):\n",
    "  # Set which solution we will query from now on\n",
    "    model.params.SolutionNumber = s\n",
    "\n",
    "  # Print objective value of this solution in each objective\n",
    "    print('Solution', s, ':', end='')\n",
    "    for o in range(nObjectives):\n",
    "        # Set which objective we will query\n",
    "        model.params.ObjNumber = o\n",
    "        # Query the o-th objective value\n",
    "        print(' ',model.ObjNVal, end='')\n",
    "    print('\\n')"
   ]
  },
  {
   "cell_type": "code",
   "execution_count": 52,
   "metadata": {},
   "outputs": [
    {
     "data": {
      "text/plain": [
       "59.0"
      ]
     },
     "execution_count": 52,
     "metadata": {},
     "output_type": "execute_result"
    }
   ],
   "source": [
    "# Choix de la solution et de la fonction objective\n",
    "model.params.SolutionNumber = 5\n",
    "model.params.ObjNumber = 0\n",
    "model.ObjNVal"
   ]
  },
  {
   "cell_type": "code",
   "execution_count": 48,
   "metadata": {},
   "outputs": [],
   "source": [
    "\n",
    "values= []\n",
    "for k, v in pijkt.items():\n",
    "    values.append(v.Xn)"
   ]
  },
  {
   "cell_type": "code",
   "execution_count": 49,
   "metadata": {},
   "outputs": [
    {
     "data": {
      "text/html": [
       "<div>\n",
       "<style scoped>\n",
       "    .dataframe tbody tr th:only-of-type {\n",
       "        vertical-align: middle;\n",
       "    }\n",
       "\n",
       "    .dataframe tbody tr th {\n",
       "        vertical-align: top;\n",
       "    }\n",
       "\n",
       "    .dataframe thead th {\n",
       "        text-align: right;\n",
       "    }\n",
       "</style>\n",
       "<table border=\"1\" class=\"dataframe\">\n",
       "  <thead>\n",
       "    <tr style=\"text-align: right;\">\n",
       "      <th></th>\n",
       "      <th>0</th>\n",
       "      <th>1</th>\n",
       "      <th>2</th>\n",
       "      <th>3</th>\n",
       "      <th>4</th>\n",
       "    </tr>\n",
       "  </thead>\n",
       "  <tbody>\n",
       "    <tr>\n",
       "      <th>2</th>\n",
       "      <td>Olivia</td>\n",
       "      <td>Job1</td>\n",
       "      <td>A</td>\n",
       "      <td>3</td>\n",
       "      <td>1.0</td>\n",
       "    </tr>\n",
       "    <tr>\n",
       "      <th>43</th>\n",
       "      <td>Olivia</td>\n",
       "      <td>Job3</td>\n",
       "      <td>C</td>\n",
       "      <td>4</td>\n",
       "      <td>1.0</td>\n",
       "    </tr>\n",
       "    <tr>\n",
       "      <th>50</th>\n",
       "      <td>Olivia</td>\n",
       "      <td>Job4</td>\n",
       "      <td>B</td>\n",
       "      <td>1</td>\n",
       "      <td>1.0</td>\n",
       "    </tr>\n",
       "    <tr>\n",
       "      <th>51</th>\n",
       "      <td>Olivia</td>\n",
       "      <td>Job4</td>\n",
       "      <td>B</td>\n",
       "      <td>2</td>\n",
       "      <td>1.0</td>\n",
       "    </tr>\n",
       "    <tr>\n",
       "      <th>74</th>\n",
       "      <td>Olivia</td>\n",
       "      <td>Job5</td>\n",
       "      <td>C</td>\n",
       "      <td>5</td>\n",
       "      <td>1.0</td>\n",
       "    </tr>\n",
       "    <tr>\n",
       "      <th>84</th>\n",
       "      <td>Liam</td>\n",
       "      <td>Job1</td>\n",
       "      <td>B</td>\n",
       "      <td>5</td>\n",
       "      <td>1.0</td>\n",
       "    </tr>\n",
       "    <tr>\n",
       "      <th>91</th>\n",
       "      <td>Liam</td>\n",
       "      <td>Job2</td>\n",
       "      <td>A</td>\n",
       "      <td>2</td>\n",
       "      <td>1.0</td>\n",
       "    </tr>\n",
       "    <tr>\n",
       "      <th>97</th>\n",
       "      <td>Liam</td>\n",
       "      <td>Job2</td>\n",
       "      <td>B</td>\n",
       "      <td>3</td>\n",
       "      <td>1.0</td>\n",
       "    </tr>\n",
       "    <tr>\n",
       "      <th>108</th>\n",
       "      <td>Liam</td>\n",
       "      <td>Job3</td>\n",
       "      <td>A</td>\n",
       "      <td>4</td>\n",
       "      <td>1.0</td>\n",
       "    </tr>\n",
       "    <tr>\n",
       "      <th>160</th>\n",
       "      <td>Emma</td>\n",
       "      <td>Job1</td>\n",
       "      <td>C</td>\n",
       "      <td>1</td>\n",
       "      <td>1.0</td>\n",
       "    </tr>\n",
       "    <tr>\n",
       "      <th>193</th>\n",
       "      <td>Emma</td>\n",
       "      <td>Job3</td>\n",
       "      <td>C</td>\n",
       "      <td>4</td>\n",
       "      <td>1.0</td>\n",
       "    </tr>\n",
       "    <tr>\n",
       "      <th>207</th>\n",
       "      <td>Emma</td>\n",
       "      <td>Job4</td>\n",
       "      <td>C</td>\n",
       "      <td>3</td>\n",
       "      <td>1.0</td>\n",
       "    </tr>\n",
       "    <tr>\n",
       "      <th>224</th>\n",
       "      <td>Emma</td>\n",
       "      <td>Job5</td>\n",
       "      <td>C</td>\n",
       "      <td>5</td>\n",
       "      <td>1.0</td>\n",
       "    </tr>\n",
       "  </tbody>\n",
       "</table>\n",
       "</div>"
      ],
      "text/plain": [
       "          0     1  2  3    4\n",
       "2    Olivia  Job1  A  3  1.0\n",
       "43   Olivia  Job3  C  4  1.0\n",
       "50   Olivia  Job4  B  1  1.0\n",
       "51   Olivia  Job4  B  2  1.0\n",
       "74   Olivia  Job5  C  5  1.0\n",
       "84     Liam  Job1  B  5  1.0\n",
       "91     Liam  Job2  A  2  1.0\n",
       "97     Liam  Job2  B  3  1.0\n",
       "108    Liam  Job3  A  4  1.0\n",
       "160    Emma  Job1  C  1  1.0\n",
       "193    Emma  Job3  C  4  1.0\n",
       "207    Emma  Job4  C  3  1.0\n",
       "224    Emma  Job5  C  5  1.0"
      ]
     },
     "execution_count": 49,
     "metadata": {},
     "output_type": "execute_result"
    }
   ],
   "source": [
    "res = pd.DataFrame(list(pijkt.keys()))\n",
    "res[4] = values\n",
    "result = res[res[4] == 1]\n",
    "result"
   ]
  },
  {
   "cell_type": "markdown",
   "metadata": {},
   "source": [
    "## Result Table"
   ]
  },
  {
   "cell_type": "code",
   "execution_count": 50,
   "metadata": {},
   "outputs": [],
   "source": [
    "def color_table(x):\n",
    "    if pd.isna(x):\n",
    "        return \"background-color: white\"\n",
    "    else:\n",
    "        if \"Job1\" in x :\n",
    "            return \"background-color: blue\"\n",
    "        elif \"Job2\" in x:\n",
    "            return \"background-color: pink\"\n",
    "        elif \"Job3\" in x:\n",
    "            return \"background-color: orange\"\n",
    "        elif \"Job4\" in x:\n",
    "           return \"background-color: yellow\"\n",
    "        elif \"Job5\" in x:\n",
    "           return \"background-color: green\"\n",
    "        else:\n",
    "           return  \"background-color: red\""
   ]
  },
  {
   "cell_type": "code",
   "execution_count": 51,
   "metadata": {},
   "outputs": [
    {
     "data": {
      "text/html": [
       "<style type=\"text/css\">\n",
       "#T_aa88d_row0_col0, #T_aa88d_row0_col1, #T_aa88d_row2_col2 {\n",
       "  background-color: yellow;\n",
       "}\n",
       "#T_aa88d_row0_col2, #T_aa88d_row1_col4, #T_aa88d_row2_col0 {\n",
       "  background-color: blue;\n",
       "}\n",
       "#T_aa88d_row0_col3, #T_aa88d_row1_col3, #T_aa88d_row2_col3 {\n",
       "  background-color: orange;\n",
       "}\n",
       "#T_aa88d_row0_col4, #T_aa88d_row2_col4 {\n",
       "  background-color: green;\n",
       "}\n",
       "#T_aa88d_row1_col0, #T_aa88d_row2_col1 {\n",
       "  background-color: red;\n",
       "}\n",
       "#T_aa88d_row1_col1, #T_aa88d_row1_col2 {\n",
       "  background-color: pink;\n",
       "}\n",
       "</style>\n",
       "<table id=\"T_aa88d\">\n",
       "  <thead>\n",
       "    <tr>\n",
       "      <th class=\"blank level0\" >&nbsp;</th>\n",
       "      <th id=\"T_aa88d_level0_col0\" class=\"col_heading level0 col0\" >1</th>\n",
       "      <th id=\"T_aa88d_level0_col1\" class=\"col_heading level0 col1\" >2</th>\n",
       "      <th id=\"T_aa88d_level0_col2\" class=\"col_heading level0 col2\" >3</th>\n",
       "      <th id=\"T_aa88d_level0_col3\" class=\"col_heading level0 col3\" >4</th>\n",
       "      <th id=\"T_aa88d_level0_col4\" class=\"col_heading level0 col4\" >5</th>\n",
       "    </tr>\n",
       "  </thead>\n",
       "  <tbody>\n",
       "    <tr>\n",
       "      <th id=\"T_aa88d_level0_row0\" class=\"row_heading level0 row0\" >Olivia</th>\n",
       "      <td id=\"T_aa88d_row0_col0\" class=\"data row0 col0\" >Job4 B</td>\n",
       "      <td id=\"T_aa88d_row0_col1\" class=\"data row0 col1\" >Job4 B</td>\n",
       "      <td id=\"T_aa88d_row0_col2\" class=\"data row0 col2\" >Job1 A</td>\n",
       "      <td id=\"T_aa88d_row0_col3\" class=\"data row0 col3\" >Job3 C</td>\n",
       "      <td id=\"T_aa88d_row0_col4\" class=\"data row0 col4\" >Job5 C</td>\n",
       "    </tr>\n",
       "    <tr>\n",
       "      <th id=\"T_aa88d_level0_row1\" class=\"row_heading level0 row1\" >Liam</th>\n",
       "      <td id=\"T_aa88d_row1_col0\" class=\"data row1 col0\" >X</td>\n",
       "      <td id=\"T_aa88d_row1_col1\" class=\"data row1 col1\" >Job2 A</td>\n",
       "      <td id=\"T_aa88d_row1_col2\" class=\"data row1 col2\" >Job2 B</td>\n",
       "      <td id=\"T_aa88d_row1_col3\" class=\"data row1 col3\" >Job3 A</td>\n",
       "      <td id=\"T_aa88d_row1_col4\" class=\"data row1 col4\" >Job1 B</td>\n",
       "    </tr>\n",
       "    <tr>\n",
       "      <th id=\"T_aa88d_level0_row2\" class=\"row_heading level0 row2\" >Emma</th>\n",
       "      <td id=\"T_aa88d_row2_col0\" class=\"data row2 col0\" >Job1 C</td>\n",
       "      <td id=\"T_aa88d_row2_col1\" class=\"data row2 col1\" >X</td>\n",
       "      <td id=\"T_aa88d_row2_col2\" class=\"data row2 col2\" >Job4 C</td>\n",
       "      <td id=\"T_aa88d_row2_col3\" class=\"data row2 col3\" >Job3 C</td>\n",
       "      <td id=\"T_aa88d_row2_col4\" class=\"data row2 col4\" >Job5 C</td>\n",
       "    </tr>\n",
       "  </tbody>\n",
       "</table>\n"
      ],
      "text/plain": [
       "<pandas.io.formats.style.Styler at 0x7fb2f804df70>"
      ]
     },
     "execution_count": 51,
     "metadata": {},
     "output_type": "execute_result"
    }
   ],
   "source": [
    "df = pd.DataFrame(columns = [i for i in range(1,6)], index = staff_names)\n",
    "\n",
    "for ind, val in result.iterrows():\n",
    "    col = val[3]\n",
    "    row = val[0]\n",
    "    v = val[1] + \" \" + val[2]\n",
    "    df.loc[row,col] = v\n",
    "    # vacation\n",
    "    for staff in staff_names:\n",
    "        for day in jour_list:\n",
    "            if day in vi[staff]:\n",
    "                df.loc[staff,day] = 'X'\n",
    "df.style.applymap(color_table)"
   ]
  },
  {
   "cell_type": "code",
   "execution_count": 17,
   "metadata": {},
   "outputs": [
    {
     "data": {
      "text/plain": [
       "{'Job1': <gurobi.Var sj[Job1] (value 1.0)>,\n",
       " 'Job2': <gurobi.Var sj[Job2] (value 2.0)>,\n",
       " 'Job3': <gurobi.Var sj[Job3] (value 3.0)>,\n",
       " 'Job4': <gurobi.Var sj[Job4] (value 2.0)>,\n",
       " 'Job5': <gurobi.Var sj[Job5] (value 4.0)>}"
      ]
     },
     "execution_count": 17,
     "metadata": {},
     "output_type": "execute_result"
    }
   ],
   "source": [
    "\n",
    "# start date\n",
    "sj"
   ]
  },
  {
   "cell_type": "code",
   "execution_count": 794,
   "metadata": {},
   "outputs": [
    {
     "data": {
      "text/plain": [
       "{'Job1': <gurobi.Var ej[Job1] (value 2.0)>,\n",
       " 'Job2': <gurobi.Var ej[Job2] (value 1.0)>,\n",
       " 'Job3': <gurobi.Var ej[Job3] (value 4.0)>,\n",
       " 'Job4': <gurobi.Var ej[Job4] (value 3.0)>,\n",
       " 'Job5': <gurobi.Var ej[Job5] (value 5.0)>}"
      ]
     },
     "execution_count": 794,
     "metadata": {},
     "output_type": "execute_result"
    }
   ],
   "source": [
    "# end date\n",
    "ej"
   ]
  },
  {
   "cell_type": "code",
   "execution_count": 795,
   "metadata": {},
   "outputs": [
    {
     "data": {
      "text/plain": [
       "{'Job1': <gurobi.Var nj[Job1] (value 2.0)>,\n",
       " 'Job2': <gurobi.Var nj[Job2] (value 2.0)>,\n",
       " 'Job3': <gurobi.Var nj[Job3] (value 2.0)>,\n",
       " 'Job4': <gurobi.Var nj[Job4] (value 2.0)>,\n",
       " 'Job5': <gurobi.Var nj[Job5] (value 2.0)>}"
      ]
     },
     "execution_count": 795,
     "metadata": {},
     "output_type": "execute_result"
    }
   ],
   "source": [
    "# length\n",
    "nj"
   ]
  },
  {
   "cell_type": "code",
   "execution_count": null,
   "metadata": {},
   "outputs": [],
   "source": []
  }
 ],
 "metadata": {
  "kernelspec": {
   "display_name": "Python 3 (ipykernel)",
   "language": "python",
   "name": "python3"
  },
  "language_info": {
   "codemirror_mode": {
    "name": "ipython",
    "version": 3
   },
   "file_extension": ".py",
   "mimetype": "text/x-python",
   "name": "python",
   "nbconvert_exporter": "python",
   "pygments_lexer": "ipython3",
   "version": "3.9.7"
  },
  "vscode": {
   "interpreter": {
    "hash": "992fe7c5fc85bbb99cdbb1a7127f4f04531c143f133625dff1af063a39de0f81"
   }
  }
 },
 "nbformat": 4,
 "nbformat_minor": 2
}
