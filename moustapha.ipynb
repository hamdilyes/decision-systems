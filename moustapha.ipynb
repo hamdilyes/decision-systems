{
 "cells": [
  {
   "cell_type": "markdown",
   "metadata": {},
   "source": [
    "# Import Libraries"
   ]
  },
  {
   "cell_type": "code",
   "execution_count": 53,
   "metadata": {},
   "outputs": [],
   "source": [
    "import gurobipy as grb\n",
    "import pandas as pd\n",
    "from gurobipy import GRB\n",
    "import numpy as np"
   ]
  },
  {
   "cell_type": "markdown",
   "metadata": {},
   "source": [
    "# Model"
   ]
  },
  {
   "cell_type": "code",
   "execution_count": 54,
   "metadata": {},
   "outputs": [],
   "source": [
    " # Create a model\n",
    "model = grb.Model(\"Model\")"
   ]
  },
  {
   "cell_type": "markdown",
   "metadata": {},
   "source": [
    "# Get data from json"
   ]
  },
  {
   "cell_type": "code",
   "execution_count": 55,
   "metadata": {},
   "outputs": [],
   "source": [
    "# get the  data from the json file small.json\n",
    "import json\n",
    "with open('medium.json') as f:\n",
    "    data = json.load(f)\n",
    "# data"
   ]
  },
  {
   "cell_type": "markdown",
   "metadata": {},
   "source": [
    "## Constants from data"
   ]
  },
  {
   "cell_type": "code",
   "execution_count": 56,
   "metadata": {},
   "outputs": [],
   "source": [
    "horizon= data['horizon']\n",
    "qualifications=data['qualifications']\n",
    "staff_names=[i['name'] for i in data['staff']]\n",
    "staff_qualifications=[i['qualifications'] for i in data['staff']]\n",
    "job_list=[i['name'] for i in data['jobs']]\n",
    "jour_list=[i for i in range(1,horizon+1)]\n",
    "job_penality=[i['daily_penalty'] for i in data['jobs']] \n",
    "job_qualifications= [i['working_days_per_qualification'] for i in data['jobs']]\n",
    "job_gain=[i['gain'] for i in data['jobs']]\n",
    "due_dates=[i['due_date'] for i in data['jobs']]\n",
    "vacation_staff=[i['vacations'] for i in data['staff']]"
   ]
  },
  {
   "cell_type": "code",
   "execution_count": 57,
   "metadata": {},
   "outputs": [
    {
     "data": {
      "text/plain": [
       "{'horizon': 22,\n",
       " 'qualifications': ['F', 'G', 'A', 'D', 'J', 'C', 'H', 'E', 'B', 'I'],\n",
       " 'staff': [{'name': 'Olivia',\n",
       "   'qualifications': ['A', 'B', 'C'],\n",
       "   'vacations': [1, 2]},\n",
       "  {'name': 'Liam', 'qualifications': ['A', 'D', 'E'], 'vacations': [1, 2]},\n",
       "  {'name': 'Emma', 'qualifications': ['B', 'H'], 'vacations': [8, 9]},\n",
       "  {'name': 'Noah',\n",
       "   'qualifications': ['G', 'D', 'J', 'C', 'H', 'I'],\n",
       "   'vacations': []},\n",
       "  {'name': 'Amelia',\n",
       "   'qualifications': ['F', 'G', 'J', 'E'],\n",
       "   'vacations': [16, 15]}],\n",
       " 'jobs': [{'name': 'Job1',\n",
       "   'gain': 15,\n",
       "   'due_date': 20,\n",
       "   'daily_penalty': 3,\n",
       "   'working_days_per_qualification': {'A': 4, 'B': 4}},\n",
       "  {'name': 'Job2',\n",
       "   'gain': 30,\n",
       "   'due_date': 16,\n",
       "   'daily_penalty': 3,\n",
       "   'working_days_per_qualification': {'A': 4, 'B': 2, 'C': 1, 'D': 4}},\n",
       "  {'name': 'Job3',\n",
       "   'gain': 30,\n",
       "   'due_date': 12,\n",
       "   'daily_penalty': 3,\n",
       "   'working_days_per_qualification': {'A': 4, 'C': 1}},\n",
       "  {'name': 'Job4',\n",
       "   'gain': 30,\n",
       "   'due_date': 18,\n",
       "   'daily_penalty': 3,\n",
       "   'working_days_per_qualification': {'A': 6}},\n",
       "  {'name': 'Job5',\n",
       "   'gain': 70,\n",
       "   'due_date': 10,\n",
       "   'daily_penalty': 3,\n",
       "   'working_days_per_qualification': {'B': 3, 'C': 4, 'D': 8}},\n",
       "  {'name': 'Job6',\n",
       "   'gain': 40,\n",
       "   'due_date': 16,\n",
       "   'daily_penalty': 3,\n",
       "   'working_days_per_qualification': {'D': 4, 'E': 5}},\n",
       "  {'name': 'Job7',\n",
       "   'gain': 20,\n",
       "   'due_date': 20,\n",
       "   'daily_penalty': 3,\n",
       "   'working_days_per_qualification': {'D': 5, 'E': 5, 'F': 1}},\n",
       "  {'name': 'Job8',\n",
       "   'gain': 10,\n",
       "   'due_date': 22,\n",
       "   'daily_penalty': 3,\n",
       "   'working_days_per_qualification': {'E': 3, 'F': 6}},\n",
       "  {'name': 'Job9',\n",
       "   'gain': 25,\n",
       "   'due_date': 18,\n",
       "   'daily_penalty': 3,\n",
       "   'working_days_per_qualification': {'E': 4, 'G': 3, 'H': 2}},\n",
       "  {'name': 'Job10',\n",
       "   'gain': 20,\n",
       "   'due_date': 18,\n",
       "   'daily_penalty': 3,\n",
       "   'working_days_per_qualification': {'F': 6}},\n",
       "  {'name': 'Job11',\n",
       "   'gain': 25,\n",
       "   'due_date': 18,\n",
       "   'daily_penalty': 3,\n",
       "   'working_days_per_qualification': {'F': 6, 'G': 2, 'H': 1}},\n",
       "  {'name': 'Job12',\n",
       "   'gain': 45,\n",
       "   'due_date': 12,\n",
       "   'daily_penalty': 3,\n",
       "   'working_days_per_qualification': {'H': 6, 'J': 3}},\n",
       "  {'name': 'Job13',\n",
       "   'gain': 40,\n",
       "   'due_date': 14,\n",
       "   'daily_penalty': 3,\n",
       "   'working_days_per_qualification': {'I': 4, 'J': 8}},\n",
       "  {'name': 'Job14',\n",
       "   'gain': 60,\n",
       "   'due_date': 12,\n",
       "   'daily_penalty': 3,\n",
       "   'working_days_per_qualification': {'G': 4, 'J': 4}},\n",
       "  {'name': 'Job15',\n",
       "   'gain': 50,\n",
       "   'due_date': 16,\n",
       "   'daily_penalty': 3,\n",
       "   'working_days_per_qualification': {'G': 4, 'H': 4}}]}"
      ]
     },
     "execution_count": 57,
     "metadata": {},
     "output_type": "execute_result"
    }
   ],
   "source": [
    "data"
   ]
  },
  {
   "cell_type": "markdown",
   "metadata": {},
   "source": [
    "# Model's parameters"
   ]
  },
  {
   "cell_type": "markdown",
   "metadata": {},
   "source": [
    "#### Objective 1\n",
    "H : days\n",
    "\n",
    "Q : qualifications\n",
    "\n",
    "S : staff\n",
    "\n",
    "J : jobs\n",
    "\n",
    "qi : qualifications of i\n",
    "\n",
    "qj : qualifications of j\n",
    "\n",
    "vi : vacation days of i\n",
    "\n",
    "njk : required work load for j with k\n",
    "\n",
    "cj : daily penalty of j\n",
    "\n",
    "gj : gain of j\n",
    "\n",
    "dj : due date of j\n",
    "\n",
    "yj : is j completely done\n",
    "\n",
    "lj : delay in days for j\n",
    "\n",
    "ej : end date of j\n",
    "\n",
    "pi_j_k_t : work is done by i with k for j on t"
   ]
  },
  {
   "cell_type": "markdown",
   "metadata": {},
   "source": [
    "#### Objective 2\n",
    "aij : j is assigned to i\n",
    "\n",
    "ni : number of jobs i works on\n",
    "\n",
    "max_i : max of ni"
   ]
  },
  {
   "cell_type": "markdown",
   "metadata": {},
   "source": [
    "### Objective 3\n",
    "sj : start date for j\n",
    "\n",
    "nj : length in days for j\n",
    "\n",
    "max_j : maximum of nj"
   ]
  },
  {
   "cell_type": "code",
   "execution_count": 58,
   "metadata": {},
   "outputs": [],
   "source": [
    "H = [i for i in range(1,horizon+1)]\n",
    "Q = qualifications\n",
    "S = staff_names\n",
    "J = job_list\n",
    "# Parameters for each staff\n",
    "\n",
    "qi = {}\n",
    "for i in range(len(staff_names)) :\n",
    "    k = staff_names[i]\n",
    "    qi[k] = []\n",
    "    for c in qualifications:\n",
    "        if c in data['staff'][i]['qualifications']:\n",
    "            qi[k].append(c)\n",
    "vi={}\n",
    "for ind,i in enumerate(staff_names):\n",
    "    vi[i] = []\n",
    "    for j in jour_list:\n",
    "        if j in vacation_staff[ind]:\n",
    "            vi[i].append(j)\n",
    "#vi=staff_in_vacation.to_dict(orient='index')\n",
    "\n",
    "# Parameters for each job\n",
    "qj = dict()\n",
    "for ind, j in enumerate(job_list):\n",
    "    qj[j] = list(job_qualifications[ind].keys())\n",
    "njk = dict(zip(job_list,job_qualifications))\n",
    "cj=job_penality_dict=dict(zip(job_list,job_penality))\n",
    "gj=job_gain_dict=dict(zip(job_list,job_gain))\n",
    "dj = dict(zip(job_list,due_dates))\n"
   ]
  },
  {
   "cell_type": "markdown",
   "metadata": {},
   "source": [
    "# Decision variables"
   ]
  },
  {
   "cell_type": "code",
   "execution_count": 59,
   "metadata": {},
   "outputs": [],
   "source": [
    "# Objective 1\n",
    "pijkt = model.addVars(staff_names,job_list,qualifications,jour_list, vtype=GRB.BINARY, name=\"pijkt\")\n",
    "\n",
    "yj = model.addVars(job_list, vtype=GRB.BINARY, name=\"yj\")\n",
    "lj = model.addVars(job_list, vtype=GRB.INTEGER, name=\"lj\")\n",
    "ej = model.addVars(job_list, vtype=GRB.INTEGER, name=\"ej\")\n",
    "\n",
    "# Objective 2\n",
    "max_i = model.addVar(vtype=GRB.INTEGER, name=\"max_i\")\n",
    "ni = model.addVars(S, vtype=GRB.INTEGER, name=\"ni\")\n",
    "aij = model.addVars(S, J, vtype=GRB.BINARY, name=\"aij\")\n",
    "\n",
    "# Objective 3\n",
    "sj = model.addVars(J, vtype=GRB.INTEGER, name=\"sj\")\n",
    "nj = model.addVars(J, vtype=GRB.INTEGER, name=\"nj\")\n",
    "max_j = model.addVar(vtype=GRB.INTEGER, name=\"max_j\")"
   ]
  },
  {
   "cell_type": "markdown",
   "metadata": {},
   "source": [
    "# Constraints"
   ]
  },
  {
   "cell_type": "markdown",
   "metadata": {},
   "source": [
    "### Objective 1"
   ]
  },
  {
   "cell_type": "code",
   "execution_count": 60,
   "metadata": {},
   "outputs": [],
   "source": [
    "constr1 = {f'constr1{i}_{t}':model.addConstr( grb.quicksum(pijkt[i,j,k,t] for j in J for k in Q) <= 1 , name=f\"constr1{i}_{t}\")\n",
    "  for i in S\n",
    "  for t in H}\n",
    "\n",
    "constr2 = {f'constr2{i}_{t}':model.addConstr( grb.quicksum(pijkt[i,j,k,t] for j in J for k in Q) == 0 , name=f\"constr2{i}_{t}\")\n",
    "  for i in S\n",
    "  for t in vi[i]}\n",
    "\n",
    "constr3 = {f'constr3{i}_{j}_{k}_{t}':model.addConstr( pijkt[i,j,k,t] == 0 , name=f\"constr3{i}_{j}_{k}_{t}\")\n",
    "  for i in S\n",
    "  for j in J\n",
    "  for k in Q if k not in qj[j] or k not in qi[i]\n",
    "  for t in H}\n",
    "\n",
    "constr4 = {f'constr4{j}_{k}': model.addConstr( yj[j]*njk[j][k] <= grb.quicksum(pijkt[i,j,k,t] for i in S for t in H) , name=f\"constr4{j}_{k}\")\n",
    "  for j in J\n",
    "  for k in qj[j]}\n",
    "\n",
    "constr5 = {f'constr5{j}_{k}': model.addConstr( grb.quicksum(pijkt[i,j,k,t] for i in S for t in H) <= njk[j][k] , name=f\"constr5{j}_{k}\")\n",
    "  for j in J\n",
    "  for k in qj[j]}\n",
    "\n",
    "constr6 = {f'constr6{i}_{j}_{k}_{t}':model.addConstr( pijkt[i,j,k,t]*t <= ej[j] , name=f\"constr6{i}_{j}_{k}_{t}\")\n",
    "  for i in S\n",
    "  for j in J\n",
    "  for k in Q\n",
    "  for t in H}\n",
    "\n",
    "constr7 = {f'constr7{j}' : model.addConstr( ej[j] - dj[j] <= lj[j] , name =f\"constr7{j}\")\n",
    "  for j in J}\n",
    "\n",
    "constr8 = {f'constr8{j}' : model.addConstr( 1 <= ej[j] , name =f\"constr8{j}\")\n",
    "  for j in J}\n",
    "\n",
    "constr9 = {f'constr9{j}' : model.addConstr( ej[j] <= H[-1] , name =f\"constr9{j}\")\n",
    "  for j in J}"
   ]
  },
  {
   "cell_type": "markdown",
   "metadata": {},
   "source": [
    "### Objective 2"
   ]
  },
  {
   "cell_type": "code",
   "execution_count": 61,
   "metadata": {},
   "outputs": [],
   "source": [
    "# assigned jobs to a staff member i is aij[i, j]\n",
    "constr10 = {f'constr10{i}_{j}_{k}_{t}' : model.addConstr( pijkt[i,j,k,t] <= aij[i, j] , name = f\"constr10{i}_{j}_{k}_{t}\")\n",
    "    for i in S\n",
    "    for j in J\n",
    "    for k in Q\n",
    "    for t in H}\n",
    "\n",
    "# number of jobs assigned to a staff member i is ni[i]\n",
    "constr11 = {f'constr11{i}' : model.addConstr( grb.quicksum(aij[i, j] for j in J) <= ni[i] , name = f\"constr11{i}\")\n",
    "    for i in S}\n",
    "\n",
    "# max_i max number of jobs assigned to a staff member\n",
    "# for all staff i, number of jobs assigned to i is less than or equal to max_i\n",
    "constr12 = {f'constr12{i}' : model.addConstr( ni[i] <= max_i , name = f\"constr12{i}\")\n",
    "    for i in S}"
   ]
  },
  {
   "cell_type": "markdown",
   "metadata": {},
   "source": [
    "### Objective 3"
   ]
  },
  {
   "cell_type": "code",
   "execution_count": 62,
   "metadata": {},
   "outputs": [],
   "source": [
    "# start date is at least 1\n",
    "constr14 = {f'constr14_{j}' : model.addConstr( 1 <= sj[j] , name = f\"constr14_{j}\")\n",
    "    for j in J}\n",
    "\n",
    "# start date of j is sj[j]\n",
    "constr15 = {f'constr15{i}_{j}_{k}_{t}' : model.addConstr( sj[j] <= t*pijkt[i,j,k,t] + H[-1]*(1-pijkt[i,j,k,t]) , name = f\"constr15{i}_{j}_{k}_{t}\")\n",
    "    for i in S\n",
    "    for j in J\n",
    "    for k in Q\n",
    "    for t in H}\n",
    "\n",
    "# length of a job j is nj[j]\n",
    "constr16 = {f'constr16{j}' : model.addConstr( ej[j] + 1 - sj[j] <= nj[j] , name = f\"constr16{j}\")\n",
    "    for j in J}\n",
    "\n",
    "# max_j max of nj[j]\n",
    "constr17 = {f'constr17{j}' : model.addConstr( nj[j] <= max_j , name = f\"constr17{j}\")\n",
    "    for j in J}"
   ]
  },
  {
   "cell_type": "markdown",
   "metadata": {},
   "source": [
    "# Objectives"
   ]
  },
  {
   "cell_type": "code",
   "execution_count": 98,
   "metadata": {},
   "outputs": [
    {
     "name": "stdout",
     "output_type": "stream",
     "text": [
      "Gurobi Optimizer version 10.0.0 build v10.0.0rc2 (mac64[rosetta2])\n",
      "\n",
      "CPU model: Apple M1\n",
      "Thread count: 8 physical cores, 8 logical processors, using up to 8 threads\n",
      "\n",
      "Optimize a model with 64900 rows, 16657 columns and 138818 nonzeros\n",
      "Model fingerprint: 0xc7362fe2\n",
      "Variable types: 0 continuous, 16657 integer (16590 binary)\n",
      "Coefficient statistics:\n",
      "  Matrix range     [1e+00, 2e+01]\n",
      "  Objective range  [1e+00, 7e+01]\n",
      "  Bounds range     [1e+00, 1e+00]\n",
      "  RHS range        [1e+00, 2e+01]\n",
      "\n",
      "---------------------------------------------------------------------------\n",
      "Multi-objectives: starting optimization with 3 objectives (1 combined) ...\n",
      "---------------------------------------------------------------------------\n",
      "---------------------------------------------------------------------------\n",
      "\n",
      "Multi-objectives: optimize objective 1 (weighted) ...\n",
      "---------------------------------------------------------------------------\n",
      "\n",
      "Optimize a model with 64900 rows, 16657 columns and 138818 nonzeros\n",
      "Model fingerprint: 0x3f887c5b\n",
      "Variable types: 0 continuous, 16657 integer (16590 binary)\n",
      "Coefficient statistics:\n",
      "  Matrix range     [1e+00, 2e+01]\n",
      "  Objective range  [1e+00, 7e+01]\n",
      "  Bounds range     [1e+00, 1e+00]\n",
      "  RHS range        [1e+00, 2e+01]\n",
      "Found heuristic solution: objective -1.0000000\n",
      "Presolve removed 62288 rows and 15256 columns\n",
      "Presolve time: 0.09s\n",
      "Presolved: 2612 rows, 1401 columns, 10167 nonzeros\n",
      "Variable types: 0 continuous, 1401 integer (1355 binary)\n",
      "Found heuristic solution: objective -0.0000000\n",
      "\n",
      "Root relaxation: objective 4.437760e+02, 3327 iterations, 0.16 seconds (0.38 work units)\n",
      "\n",
      "    Nodes    |    Current Node    |     Objective Bounds      |     Work\n",
      " Expl Unexpl |  Obj  Depth IntInf | Incumbent    BestBd   Gap | It/Node Time\n",
      "\n",
      "     0     0  443.77597    0  546   -0.00000  443.77597      -     -    0s\n",
      "H    0     0                      25.0000000  443.77597  1675%     -    0s\n",
      "H    0     0                      56.0000000  443.77597   692%     -    0s\n",
      "H    0     0                     163.0000000  443.77597   172%     -    0s\n",
      "     0     0  434.83783    0  341  163.00000  434.83783   167%     -    0s\n",
      "H    0     0                     240.0000000  434.83783  81.2%     -    0s\n",
      "     0     0  434.03039    0  315  240.00000  434.03039  80.8%     -    0s\n",
      "     0     0  429.68866    0  325  240.00000  429.68866  79.0%     -    0s\n",
      "     0     0  428.46241    0  308  240.00000  428.46241  78.5%     -    0s\n",
      "     0     0  428.46241    0  300  240.00000  428.46241  78.5%     -    0s\n",
      "     0     0  425.12998    0  291  240.00000  425.12998  77.1%     -    0s\n",
      "     0     0  422.74539    0  378  240.00000  422.74539  76.1%     -    0s\n",
      "     0     0  422.44022    0  346  240.00000  422.44022  76.0%     -    0s\n",
      "     0     0  422.07674    0  318  240.00000  422.07674  75.9%     -    0s\n",
      "     0     0  422.03428    0  330  240.00000  422.03428  75.8%     -    0s\n",
      "     0     0  422.02043    0  326  240.00000  422.02043  75.8%     -    0s\n",
      "     0     0  422.01724    0  341  240.00000  422.01724  75.8%     -    0s\n",
      "     0     0  420.59378    0  348  240.00000  420.59378  75.2%     -    0s\n",
      "H    0     0                     287.0000000  420.59378  46.5%     -    1s\n",
      "     0     0  419.39027    0  326  287.00000  419.39027  46.1%     -    1s\n",
      "H    0     0                     288.0000000  419.29601  45.6%     -    1s\n",
      "     0     0  419.29601    0  317  288.00000  419.29601  45.6%     -    1s\n",
      "     0     0  419.28740    0  313  288.00000  419.28740  45.6%     -    1s\n",
      "     0     0  418.35269    0  307  288.00000  418.35269  45.3%     -    1s\n",
      "H    0     0                     303.0000000  418.35269  38.1%     -    1s\n",
      "     0     0  418.16758    0  322  303.00000  418.16758  38.0%     -    1s\n",
      "     0     0  418.15823    0  323  303.00000  418.15823  38.0%     -    1s\n",
      "     0     0  417.79193    0  333  303.00000  417.79193  37.9%     -    1s\n",
      "H    0     0                     321.0000000  417.79193  30.2%     -    1s\n",
      "     0     0  417.72442    0  355  321.00000  417.72442  30.1%     -    1s\n",
      "     0     0  417.69539    0  346  321.00000  417.69539  30.1%     -    1s\n",
      "     0     0  417.69414    0  346  321.00000  417.69414  30.1%     -    1s\n",
      "     0     0  417.32974    0  345  321.00000  417.32974  30.0%     -    1s\n",
      "H    0     0                     325.0000000  417.32974  28.4%     -    1s\n",
      "     0     0  417.07724    0  347  325.00000  417.07724  28.3%     -    1s\n",
      "     0     0  417.04381    0  345  325.00000  417.04381  28.3%     -    1s\n",
      "     0     0  417.02364    0  340  325.00000  417.02364  28.3%     -    1s\n",
      "     0     0  417.01980    0  344  325.00000  417.01980  28.3%     -    1s\n",
      "     0     0  416.55989    0  399  325.00000  416.55989  28.2%     -    1s\n",
      "H    0     0                     330.0000000  416.55989  26.2%     -    1s\n",
      "     0     0  416.51157    0  362  330.00000  416.51157  26.2%     -    1s\n",
      "     0     0  416.48656    0  361  330.00000  416.48656  26.2%     -    1s\n",
      "     0     0  416.47929    0  358  330.00000  416.47929  26.2%     -    1s\n",
      "     0     0  416.18019    0  352  330.00000  416.18019  26.1%     -    1s\n",
      "     0     0  415.99204    0  328  330.00000  415.99204  26.1%     -    1s\n",
      "     0     0  415.97121    0  345  330.00000  415.97121  26.1%     -    1s\n",
      "     0     0  415.96272    0  342  330.00000  415.96272  26.0%     -    1s\n",
      "     0     0  415.80304    0  406  330.00000  415.80304  26.0%     -    1s\n",
      "H    0     0                     332.0000000  415.80304  25.2%     -    1s\n",
      "     0     0  415.78922    0  367  332.00000  415.78922  25.2%     -    1s\n",
      "     0     0  415.71719    0  406  332.00000  415.71719  25.2%     -    1s\n",
      "     0     0  415.71719    0  406  332.00000  415.71719  25.2%     -    1s\n",
      "H    0     0                     369.0000000  415.71719  12.7%     -    2s\n",
      "H    0     0                     389.0000000  415.71719  6.87%     -    3s\n",
      "H    0     2                     392.0000000  415.71719  6.05%     -    3s\n",
      "     0     2  415.71719    0  405  392.00000  415.71719  6.05%     -    3s\n",
      "   317   278  405.71041   40  259  392.00000  414.51388  5.74%   310    5s\n",
      "H  795   616                     394.0000000  414.26927  5.14%   254    7s\n",
      "  1389   971  401.42722   19  311  394.00000  413.48630  4.95%   259   10s\n",
      "  1503   993  396.84662   23  373  394.00000  411.94381  4.55%   252   15s\n",
      "  1581  1049  409.86306   20  322  394.00000  411.57877  4.46%   299   20s\n",
      "  1933  1141  410.94572   18  388  394.00000  411.14557  4.35%   349   25s\n",
      "  2695  1295     cutoff   26       394.00000  410.54826  4.20%   371   30s\n",
      "H 3302  1315                     395.0000000  409.47126  3.66%   378   34s\n",
      "  3376  1318  403.05213   32  252  395.00000  409.32979  3.63%   377   35s\n",
      "  4272  1431 infeasible   22       395.00000  408.47549  3.41%   408   40s\n",
      "* 4425  1366              85     396.0000000  408.36850  3.12%   405   40s\n",
      "H 4627  1310                     397.0000000  408.18224  2.82%   410   42s\n",
      "  4956  1418     cutoff   43       397.00000  407.80268  2.72%   419   45s\n",
      "  5971  1699  405.64968   39  280  397.00000  406.80926  2.47%   427   50s\n",
      "  6457  1788  400.39262   38  213  397.00000  406.34941  2.36%   433   55s\n",
      "  7120  1912  403.34175   37  305  397.00000  405.82755  2.22%   435   60s\n",
      "  8447  2023  403.50512   34  201  397.00000  405.07731  2.03%   435   66s\n",
      "  9495  2144  401.44774   28  311  397.00000  404.44642  1.88%   439   70s\n",
      " 10718  2273  399.54263   38  338  397.00000  403.75918  1.70%   442   76s\n",
      " 11753  2330  399.16766   35  204  397.00000  403.29218  1.58%   440   84s\n",
      " 12141  2287  400.69569   40  240  397.00000  403.15121  1.55%   440   87s\n",
      " 13225  2216 infeasible   43       397.00000  402.55558  1.40%   440   91s\n",
      " 14604  2518  401.69634   28  218  397.00000  402.01918  1.26%   434   96s\n",
      "*15544  2164              99     398.0000000  402.00000  1.01%   422   96s\n",
      " 16581  1798     cutoff   25       398.00000  401.44794  0.87%   417  101s\n",
      " 18344  2084     cutoff   60       398.00000  401.00000  0.75%   397  105s\n",
      " 21803  2514  399.82879   40  130  398.00000  400.11017  0.53%   358  111s\n",
      "*23642   983              69     399.0000000  400.04999  0.26%   336  111s\n",
      "\n",
      "Cutting planes:\n",
      "  Learned: 81\n",
      "  Gomory: 38\n",
      "  Cover: 48\n",
      "  Implied bound: 48\n",
      "  Projected implied bound: 7\n",
      "  Clique: 3\n",
      "  MIR: 487\n",
      "  StrongCG: 31\n",
      "  Flow cover: 1252\n"
     ]
    },
    {
     "name": "stdout",
     "output_type": "stream",
     "text": [
      "  Inf proof: 7\n",
      "  Zero half: 18\n",
      "  RLT: 33\n",
      "  Relax-and-lift: 494\n",
      "\n",
      "Explored 24909 nodes (8050574 simplex iterations) in 111.26 seconds (243.82 work units)\n",
      "Thread count was 8 (of 8 available processors)\n",
      "\n",
      "Solution count 10: 399 398 397 ... 332\n",
      "\n",
      "Optimal solution found (tolerance 1.00e-04)\n",
      "Best objective 3.990000000000e+02, best bound 3.990000000000e+02, gap 0.0000%\n",
      "\n",
      "---------------------------------------------------------------------------\n",
      "Multi-objectives: solved in 111.31 seconds (243.82 work units), solution count 10\n",
      "\n"
     ]
    }
   ],
   "source": [
    "# Objective 1\n",
    "# model.setObjective( grb.quicksum((gj[j]*yj[j] - lj[j]*cj[j]) for j in J) , GRB.MAXIMIZE)\n",
    "\n",
    "# Objective 1 & 2\n",
    "# model.setObjective( grb.quicksum((gj[j]*yj[j] - lj[j]*cj[j]) for j in J) - max_i , GRB.MAXIMIZE)\n",
    "\n",
    "# Objective 1 & 2 & 3\n",
    "# model.setObjective( grb.quicksum((gj[j]*yj[j] - lj[j]*cj[j]) for j in J) - max_i - max_j , GRB.MAXIMIZE)\n",
    "\n",
    "# setObjectiveN\n",
    "model.ModelSense = GRB.MAXIMIZE\n",
    "model.setObjectiveN( grb.quicksum((gj[j]*yj[j] - lj[j]*cj[j]) for j in J) , 0, 1)\n",
    "model.setObjectiveN( - max_i , 1, 1)\n",
    "model.setObjectiveN( - max_j , 2, 1)\n",
    "\n",
    "# Paramétrage (mode mute)\n",
    "model.params.outputflag = 1\n",
    "# Résolution du PL\n",
    "model.optimize()"
   ]
  },
  {
   "cell_type": "code",
   "execution_count": 99,
   "metadata": {},
   "outputs": [],
   "source": [
    "#model.computeIIS()\n",
    "model.write(\"model.lp\")"
   ]
  },
  {
   "cell_type": "code",
   "execution_count": 100,
   "metadata": {},
   "outputs": [
    {
     "name": "stdout",
     "output_type": "stream",
     "text": [
      "Problem has 3 objectives\n",
      "Gurobi found 10 solutions\n"
     ]
    }
   ],
   "source": [
    "# Query number of multiple objectives, and number of solutions\n",
    "nSolutions  = model.SolCount\n",
    "nObjectives = model.NumObj\n",
    "print('Problem has', nObjectives, 'objectives')\n",
    "print('Gurobi found', nSolutions, 'solutions')"
   ]
  },
  {
   "cell_type": "code",
   "execution_count": 101,
   "metadata": {},
   "outputs": [
    {
     "name": "stdout",
     "output_type": "stream",
     "text": [
      "Solution 0 :  413.0  -6.0  -8.0\n",
      "\n",
      "Solution 1 :  411.0  -6.0  -7.0\n",
      "\n",
      "Solution 2 :  411.0  -6.0  -8.0\n",
      "\n",
      "Solution 3 :  411.0  -6.0  -9.0\n",
      "\n",
      "Solution 4 :  409.0  -6.0  -8.0\n",
      "\n",
      "Solution 5 :  407.0  -5.0  -8.0\n",
      "\n",
      "Solution 6 :  409.0  -6.0  -11.0\n",
      "\n",
      "Solution 7 :  406.0  -6.0  -11.0\n",
      "\n",
      "Solution 8 :  387.0  -6.0  -12.0\n",
      "\n",
      "Solution 9 :  347.0  -5.0  -10.0\n",
      "\n"
     ]
    }
   ],
   "source": [
    "solutions = []\n",
    "for s in range(nSolutions):\n",
    "  # Set which solution we will query from now on\n",
    "    model.params.SolutionNumber = s\n",
    "\n",
    "  # Print objective value of this solution in each objective\n",
    "    print('Solution', s, ':', end='')\n",
    "    for o in range(nObjectives):\n",
    "        # Set which objective we will query\n",
    "        model.params.ObjNumber = o\n",
    "        # Query the o-th objective value\n",
    "        print(' ',model.ObjNVal, end='')\n",
    "    print('\\n')"
   ]
  },
  {
   "cell_type": "code",
   "execution_count": 67,
   "metadata": {},
   "outputs": [
    {
     "data": {
      "text/plain": [
       "413.0"
      ]
     },
     "execution_count": 67,
     "metadata": {},
     "output_type": "execute_result"
    }
   ],
   "source": [
    "# Choix de la solution et de la fonction objective\n",
    "model.params.SolutionNumber = 0\n",
    "model.params.ObjNumber = 0\n",
    "model.ObjNVal"
   ]
  },
  {
   "cell_type": "code",
   "execution_count": 68,
   "metadata": {},
   "outputs": [],
   "source": [
    "\n",
    "values= []\n",
    "for k, v in pijkt.items():\n",
    "    values.append(v.Xn)"
   ]
  },
  {
   "cell_type": "code",
   "execution_count": 69,
   "metadata": {},
   "outputs": [
    {
     "data": {
      "text/html": [
       "<div>\n",
       "<style scoped>\n",
       "    .dataframe tbody tr th:only-of-type {\n",
       "        vertical-align: middle;\n",
       "    }\n",
       "\n",
       "    .dataframe tbody tr th {\n",
       "        vertical-align: top;\n",
       "    }\n",
       "\n",
       "    .dataframe thead th {\n",
       "        text-align: right;\n",
       "    }\n",
       "</style>\n",
       "<table border=\"1\" class=\"dataframe\">\n",
       "  <thead>\n",
       "    <tr style=\"text-align: right;\">\n",
       "      <th></th>\n",
       "      <th>0</th>\n",
       "      <th>1</th>\n",
       "      <th>2</th>\n",
       "      <th>3</th>\n",
       "      <th>4</th>\n",
       "    </tr>\n",
       "  </thead>\n",
       "  <tbody>\n",
       "    <tr>\n",
       "      <th>61</th>\n",
       "      <td>Olivia</td>\n",
       "      <td>Job1</td>\n",
       "      <td>A</td>\n",
       "      <td>18</td>\n",
       "      <td>1.0</td>\n",
       "    </tr>\n",
       "    <tr>\n",
       "      <th>62</th>\n",
       "      <td>Olivia</td>\n",
       "      <td>Job1</td>\n",
       "      <td>A</td>\n",
       "      <td>19</td>\n",
       "      <td>1.0</td>\n",
       "    </tr>\n",
       "    <tr>\n",
       "      <th>63</th>\n",
       "      <td>Olivia</td>\n",
       "      <td>Job1</td>\n",
       "      <td>A</td>\n",
       "      <td>20</td>\n",
       "      <td>1.0</td>\n",
       "    </tr>\n",
       "    <tr>\n",
       "      <th>64</th>\n",
       "      <td>Olivia</td>\n",
       "      <td>Job1</td>\n",
       "      <td>A</td>\n",
       "      <td>21</td>\n",
       "      <td>1.0</td>\n",
       "    </tr>\n",
       "    <tr>\n",
       "      <th>489</th>\n",
       "      <td>Olivia</td>\n",
       "      <td>Job3</td>\n",
       "      <td>A</td>\n",
       "      <td>6</td>\n",
       "      <td>1.0</td>\n",
       "    </tr>\n",
       "    <tr>\n",
       "      <th>...</th>\n",
       "      <td>...</td>\n",
       "      <td>...</td>\n",
       "      <td>...</td>\n",
       "      <td>...</td>\n",
       "      <td>...</td>\n",
       "    </tr>\n",
       "    <tr>\n",
       "      <th>15941</th>\n",
       "      <td>Amelia</td>\n",
       "      <td>Job13</td>\n",
       "      <td>J</td>\n",
       "      <td>14</td>\n",
       "      <td>1.0</td>\n",
       "    </tr>\n",
       "    <tr>\n",
       "      <th>16082</th>\n",
       "      <td>Amelia</td>\n",
       "      <td>Job14</td>\n",
       "      <td>G</td>\n",
       "      <td>1</td>\n",
       "      <td>1.0</td>\n",
       "    </tr>\n",
       "    <tr>\n",
       "      <th>16087</th>\n",
       "      <td>Amelia</td>\n",
       "      <td>Job14</td>\n",
       "      <td>G</td>\n",
       "      <td>6</td>\n",
       "      <td>1.0</td>\n",
       "    </tr>\n",
       "    <tr>\n",
       "      <th>16149</th>\n",
       "      <td>Amelia</td>\n",
       "      <td>Job14</td>\n",
       "      <td>J</td>\n",
       "      <td>2</td>\n",
       "      <td>1.0</td>\n",
       "    </tr>\n",
       "    <tr>\n",
       "      <th>16150</th>\n",
       "      <td>Amelia</td>\n",
       "      <td>Job14</td>\n",
       "      <td>J</td>\n",
       "      <td>3</td>\n",
       "      <td>1.0</td>\n",
       "    </tr>\n",
       "  </tbody>\n",
       "</table>\n",
       "<p>100 rows × 5 columns</p>\n",
       "</div>"
      ],
      "text/plain": [
       "            0      1  2   3    4\n",
       "61     Olivia   Job1  A  18  1.0\n",
       "62     Olivia   Job1  A  19  1.0\n",
       "63     Olivia   Job1  A  20  1.0\n",
       "64     Olivia   Job1  A  21  1.0\n",
       "489    Olivia   Job3  A   6  1.0\n",
       "...       ...    ... ..  ..  ...\n",
       "15941  Amelia  Job13  J  14  1.0\n",
       "16082  Amelia  Job14  G   1  1.0\n",
       "16087  Amelia  Job14  G   6  1.0\n",
       "16149  Amelia  Job14  J   2  1.0\n",
       "16150  Amelia  Job14  J   3  1.0\n",
       "\n",
       "[100 rows x 5 columns]"
      ]
     },
     "execution_count": 69,
     "metadata": {},
     "output_type": "execute_result"
    }
   ],
   "source": [
    "res = pd.DataFrame(list(pijkt.keys()))\n",
    "res[4] = values\n",
    "result = res[res[4] == 1]\n",
    "result"
   ]
  },
  {
   "cell_type": "code",
   "execution_count": 97,
   "metadata": {},
   "outputs": [],
   "source": [
    "import matplotlib.pyplot as plt\n",
    "from matplotlib import colors as mcolors\n",
    "\n",
    "\n",
    "colors = dict(mcolors.BASE_COLORS, **mcolors.CSS4_COLORS)\n",
    "\n",
    "# Sort colors by hue, saturation, value and name.\n",
    "by_hsv = sorted((tuple(mcolors.rgb_to_hsv(mcolors.to_rgba(color)[:3])), name)\n",
    "                for name, color in colors.items())\n",
    "sorted_names = [name for hsv, name in by_hsv]"
   ]
  },
  {
   "cell_type": "code",
   "execution_count": 77,
   "metadata": {},
   "outputs": [
    {
     "data": {
      "text/plain": [
       "{'Job1': 'bisque',\n",
       " 'Job2': 'firebrick',\n",
       " 'Job3': 'lavender',\n",
       " 'Job4': 'lightpink',\n",
       " 'Job5': 'mediumblue',\n",
       " 'Job6': 'lightcoral',\n",
       " 'Job7': 'lightslategray',\n",
       " 'Job8': 'gainsboro',\n",
       " 'Job9': 'indianred',\n",
       " 'Job10': 'rebeccapurple',\n",
       " 'Job11': 'lavender',\n",
       " 'Job12': 'palevioletred',\n",
       " 'Job13': 'fuchsia',\n",
       " 'Job14': 'ivory',\n",
       " 'Job15': 'crimson'}"
      ]
     },
     "execution_count": 77,
     "metadata": {},
     "output_type": "execute_result"
    }
   ],
   "source": [
    "color_list = np.random.choice(sorted_names,15)\n",
    "color_dict = dict(zip(job_list,color_list))\n",
    "color_dict"
   ]
  },
  {
   "cell_type": "markdown",
   "metadata": {},
   "source": [
    "## Result Table"
   ]
  },
  {
   "cell_type": "code",
   "execution_count": 94,
   "metadata": {},
   "outputs": [],
   "source": [
    "def color_table(x):\n",
    "    \n",
    "    if pd.isna(x):\n",
    "        return \"background-color: white\"\n",
    "    \n",
    "    else:\n",
    "        x = x.split(\" \")[0]\n",
    "        if x in color_dict.keys():\n",
    "            color = color_dict[x]\n",
    "            return \"background-color: \" + color\n",
    "        else:\n",
    "           return  \"background-color: red\""
   ]
  },
  {
   "cell_type": "code",
   "execution_count": null,
   "metadata": {},
   "outputs": [],
   "source": []
  },
  {
   "cell_type": "code",
   "execution_count": 95,
   "metadata": {},
   "outputs": [
    {
     "data": {
      "text/html": [
       "<style type=\"text/css\">\n",
       "#T_5ccd4_row0_col0, #T_5ccd4_row0_col1, #T_5ccd4_row1_col0, #T_5ccd4_row1_col1, #T_5ccd4_row2_col7, #T_5ccd4_row2_col8, #T_5ccd4_row4_col14, #T_5ccd4_row4_col15 {\n",
       "  background-color: red;\n",
       "}\n",
       "#T_5ccd4_row0_col2, #T_5ccd4_row0_col3, #T_5ccd4_row0_col4, #T_5ccd4_row0_col6, #T_5ccd4_row1_col2, #T_5ccd4_row1_col3, #T_5ccd4_row1_col4, #T_5ccd4_row1_col5, #T_5ccd4_row1_col6, #T_5ccd4_row1_col7, #T_5ccd4_row2_col0, #T_5ccd4_row2_col1, #T_5ccd4_row2_col2, #T_5ccd4_row3_col3, #T_5ccd4_row3_col4 {\n",
       "  background-color: mediumblue;\n",
       "}\n",
       "#T_5ccd4_row0_col5, #T_5ccd4_row0_col7, #T_5ccd4_row0_col8, #T_5ccd4_row0_col10, #T_5ccd4_row0_col11 {\n",
       "  background-color: lavender;\n",
       "}\n",
       "#T_5ccd4_row0_col9, #T_5ccd4_row0_col12, #T_5ccd4_row0_col13, #T_5ccd4_row0_col14, #T_5ccd4_row0_col15, #T_5ccd4_row0_col16 {\n",
       "  background-color: lightpink;\n",
       "}\n",
       "#T_5ccd4_row0_col17, #T_5ccd4_row0_col18, #T_5ccd4_row0_col19, #T_5ccd4_row0_col20, #T_5ccd4_row2_col17, #T_5ccd4_row2_col18, #T_5ccd4_row2_col19, #T_5ccd4_row2_col20 {\n",
       "  background-color: bisque;\n",
       "}\n",
       "#T_5ccd4_row0_col21, #T_5ccd4_row2_col21 {\n",
       "  background-color: white;\n",
       "}\n",
       "#T_5ccd4_row1_col8, #T_5ccd4_row1_col9, #T_5ccd4_row1_col10, #T_5ccd4_row1_col11, #T_5ccd4_row1_col12, #T_5ccd4_row1_col13, #T_5ccd4_row1_col14, #T_5ccd4_row1_col15, #T_5ccd4_row4_col8 {\n",
       "  background-color: lightcoral;\n",
       "}\n",
       "#T_5ccd4_row1_col16, #T_5ccd4_row1_col17, #T_5ccd4_row2_col15, #T_5ccd4_row2_col16, #T_5ccd4_row3_col16, #T_5ccd4_row3_col17, #T_5ccd4_row3_col18, #T_5ccd4_row4_col16, #T_5ccd4_row4_col17 {\n",
       "  background-color: indianred;\n",
       "}\n",
       "#T_5ccd4_row1_col18, #T_5ccd4_row1_col19, #T_5ccd4_row1_col20, #T_5ccd4_row1_col21, #T_5ccd4_row3_col19, #T_5ccd4_row3_col20, #T_5ccd4_row3_col21, #T_5ccd4_row4_col18, #T_5ccd4_row4_col19, #T_5ccd4_row4_col20, #T_5ccd4_row4_col21 {\n",
       "  background-color: lightslategray;\n",
       "}\n",
       "#T_5ccd4_row2_col3, #T_5ccd4_row2_col4, #T_5ccd4_row2_col5, #T_5ccd4_row2_col6, #T_5ccd4_row2_col9, #T_5ccd4_row2_col10, #T_5ccd4_row4_col3, #T_5ccd4_row4_col4, #T_5ccd4_row4_col9 {\n",
       "  background-color: palevioletred;\n",
       "}\n",
       "#T_5ccd4_row2_col11, #T_5ccd4_row2_col12, #T_5ccd4_row2_col13, #T_5ccd4_row2_col14, #T_5ccd4_row3_col8, #T_5ccd4_row3_col13, #T_5ccd4_row3_col14, #T_5ccd4_row3_col15 {\n",
       "  background-color: crimson;\n",
       "}\n",
       "#T_5ccd4_row3_col0, #T_5ccd4_row3_col1, #T_5ccd4_row3_col2, #T_5ccd4_row3_col5, #T_5ccd4_row4_col0, #T_5ccd4_row4_col1, #T_5ccd4_row4_col2, #T_5ccd4_row4_col5 {\n",
       "  background-color: ivory;\n",
       "}\n",
       "#T_5ccd4_row3_col6, #T_5ccd4_row3_col7, #T_5ccd4_row3_col9, #T_5ccd4_row3_col10, #T_5ccd4_row3_col11, #T_5ccd4_row3_col12, #T_5ccd4_row4_col6, #T_5ccd4_row4_col7, #T_5ccd4_row4_col10, #T_5ccd4_row4_col11, #T_5ccd4_row4_col12, #T_5ccd4_row4_col13 {\n",
       "  background-color: fuchsia;\n",
       "}\n",
       "</style>\n",
       "<table id=\"T_5ccd4\">\n",
       "  <thead>\n",
       "    <tr>\n",
       "      <th class=\"blank level0\" >&nbsp;</th>\n",
       "      <th id=\"T_5ccd4_level0_col0\" class=\"col_heading level0 col0\" >1</th>\n",
       "      <th id=\"T_5ccd4_level0_col1\" class=\"col_heading level0 col1\" >2</th>\n",
       "      <th id=\"T_5ccd4_level0_col2\" class=\"col_heading level0 col2\" >3</th>\n",
       "      <th id=\"T_5ccd4_level0_col3\" class=\"col_heading level0 col3\" >4</th>\n",
       "      <th id=\"T_5ccd4_level0_col4\" class=\"col_heading level0 col4\" >5</th>\n",
       "      <th id=\"T_5ccd4_level0_col5\" class=\"col_heading level0 col5\" >6</th>\n",
       "      <th id=\"T_5ccd4_level0_col6\" class=\"col_heading level0 col6\" >7</th>\n",
       "      <th id=\"T_5ccd4_level0_col7\" class=\"col_heading level0 col7\" >8</th>\n",
       "      <th id=\"T_5ccd4_level0_col8\" class=\"col_heading level0 col8\" >9</th>\n",
       "      <th id=\"T_5ccd4_level0_col9\" class=\"col_heading level0 col9\" >10</th>\n",
       "      <th id=\"T_5ccd4_level0_col10\" class=\"col_heading level0 col10\" >11</th>\n",
       "      <th id=\"T_5ccd4_level0_col11\" class=\"col_heading level0 col11\" >12</th>\n",
       "      <th id=\"T_5ccd4_level0_col12\" class=\"col_heading level0 col12\" >13</th>\n",
       "      <th id=\"T_5ccd4_level0_col13\" class=\"col_heading level0 col13\" >14</th>\n",
       "      <th id=\"T_5ccd4_level0_col14\" class=\"col_heading level0 col14\" >15</th>\n",
       "      <th id=\"T_5ccd4_level0_col15\" class=\"col_heading level0 col15\" >16</th>\n",
       "      <th id=\"T_5ccd4_level0_col16\" class=\"col_heading level0 col16\" >17</th>\n",
       "      <th id=\"T_5ccd4_level0_col17\" class=\"col_heading level0 col17\" >18</th>\n",
       "      <th id=\"T_5ccd4_level0_col18\" class=\"col_heading level0 col18\" >19</th>\n",
       "      <th id=\"T_5ccd4_level0_col19\" class=\"col_heading level0 col19\" >20</th>\n",
       "      <th id=\"T_5ccd4_level0_col20\" class=\"col_heading level0 col20\" >21</th>\n",
       "      <th id=\"T_5ccd4_level0_col21\" class=\"col_heading level0 col21\" >22</th>\n",
       "    </tr>\n",
       "  </thead>\n",
       "  <tbody>\n",
       "    <tr>\n",
       "      <th id=\"T_5ccd4_level0_row0\" class=\"row_heading level0 row0\" >Olivia</th>\n",
       "      <td id=\"T_5ccd4_row0_col0\" class=\"data row0 col0\" >X</td>\n",
       "      <td id=\"T_5ccd4_row0_col1\" class=\"data row0 col1\" >X</td>\n",
       "      <td id=\"T_5ccd4_row0_col2\" class=\"data row0 col2\" >Job5 C</td>\n",
       "      <td id=\"T_5ccd4_row0_col3\" class=\"data row0 col3\" >Job5 C</td>\n",
       "      <td id=\"T_5ccd4_row0_col4\" class=\"data row0 col4\" >Job5 C</td>\n",
       "      <td id=\"T_5ccd4_row0_col5\" class=\"data row0 col5\" >Job3 A</td>\n",
       "      <td id=\"T_5ccd4_row0_col6\" class=\"data row0 col6\" >Job5 C</td>\n",
       "      <td id=\"T_5ccd4_row0_col7\" class=\"data row0 col7\" >Job3 A</td>\n",
       "      <td id=\"T_5ccd4_row0_col8\" class=\"data row0 col8\" >Job3 A</td>\n",
       "      <td id=\"T_5ccd4_row0_col9\" class=\"data row0 col9\" >Job4 A</td>\n",
       "      <td id=\"T_5ccd4_row0_col10\" class=\"data row0 col10\" >Job3 C</td>\n",
       "      <td id=\"T_5ccd4_row0_col11\" class=\"data row0 col11\" >Job3 A</td>\n",
       "      <td id=\"T_5ccd4_row0_col12\" class=\"data row0 col12\" >Job4 A</td>\n",
       "      <td id=\"T_5ccd4_row0_col13\" class=\"data row0 col13\" >Job4 A</td>\n",
       "      <td id=\"T_5ccd4_row0_col14\" class=\"data row0 col14\" >Job4 A</td>\n",
       "      <td id=\"T_5ccd4_row0_col15\" class=\"data row0 col15\" >Job4 A</td>\n",
       "      <td id=\"T_5ccd4_row0_col16\" class=\"data row0 col16\" >Job4 A</td>\n",
       "      <td id=\"T_5ccd4_row0_col17\" class=\"data row0 col17\" >Job1 A</td>\n",
       "      <td id=\"T_5ccd4_row0_col18\" class=\"data row0 col18\" >Job1 A</td>\n",
       "      <td id=\"T_5ccd4_row0_col19\" class=\"data row0 col19\" >Job1 A</td>\n",
       "      <td id=\"T_5ccd4_row0_col20\" class=\"data row0 col20\" >Job1 A</td>\n",
       "      <td id=\"T_5ccd4_row0_col21\" class=\"data row0 col21\" >nan</td>\n",
       "    </tr>\n",
       "    <tr>\n",
       "      <th id=\"T_5ccd4_level0_row1\" class=\"row_heading level0 row1\" >Liam</th>\n",
       "      <td id=\"T_5ccd4_row1_col0\" class=\"data row1 col0\" >X</td>\n",
       "      <td id=\"T_5ccd4_row1_col1\" class=\"data row1 col1\" >X</td>\n",
       "      <td id=\"T_5ccd4_row1_col2\" class=\"data row1 col2\" >Job5 D</td>\n",
       "      <td id=\"T_5ccd4_row1_col3\" class=\"data row1 col3\" >Job5 D</td>\n",
       "      <td id=\"T_5ccd4_row1_col4\" class=\"data row1 col4\" >Job5 D</td>\n",
       "      <td id=\"T_5ccd4_row1_col5\" class=\"data row1 col5\" >Job5 D</td>\n",
       "      <td id=\"T_5ccd4_row1_col6\" class=\"data row1 col6\" >Job5 D</td>\n",
       "      <td id=\"T_5ccd4_row1_col7\" class=\"data row1 col7\" >Job5 D</td>\n",
       "      <td id=\"T_5ccd4_row1_col8\" class=\"data row1 col8\" >Job6 E</td>\n",
       "      <td id=\"T_5ccd4_row1_col9\" class=\"data row1 col9\" >Job6 E</td>\n",
       "      <td id=\"T_5ccd4_row1_col10\" class=\"data row1 col10\" >Job6 D</td>\n",
       "      <td id=\"T_5ccd4_row1_col11\" class=\"data row1 col11\" >Job6 D</td>\n",
       "      <td id=\"T_5ccd4_row1_col12\" class=\"data row1 col12\" >Job6 E</td>\n",
       "      <td id=\"T_5ccd4_row1_col13\" class=\"data row1 col13\" >Job6 D</td>\n",
       "      <td id=\"T_5ccd4_row1_col14\" class=\"data row1 col14\" >Job6 D</td>\n",
       "      <td id=\"T_5ccd4_row1_col15\" class=\"data row1 col15\" >Job6 E</td>\n",
       "      <td id=\"T_5ccd4_row1_col16\" class=\"data row1 col16\" >Job9 E</td>\n",
       "      <td id=\"T_5ccd4_row1_col17\" class=\"data row1 col17\" >Job9 E</td>\n",
       "      <td id=\"T_5ccd4_row1_col18\" class=\"data row1 col18\" >Job7 D</td>\n",
       "      <td id=\"T_5ccd4_row1_col19\" class=\"data row1 col19\" >Job7 E</td>\n",
       "      <td id=\"T_5ccd4_row1_col20\" class=\"data row1 col20\" >Job7 D</td>\n",
       "      <td id=\"T_5ccd4_row1_col21\" class=\"data row1 col21\" >Job7 E</td>\n",
       "    </tr>\n",
       "    <tr>\n",
       "      <th id=\"T_5ccd4_level0_row2\" class=\"row_heading level0 row2\" >Emma</th>\n",
       "      <td id=\"T_5ccd4_row2_col0\" class=\"data row2 col0\" >Job5 B</td>\n",
       "      <td id=\"T_5ccd4_row2_col1\" class=\"data row2 col1\" >Job5 B</td>\n",
       "      <td id=\"T_5ccd4_row2_col2\" class=\"data row2 col2\" >Job5 B</td>\n",
       "      <td id=\"T_5ccd4_row2_col3\" class=\"data row2 col3\" >Job12 H</td>\n",
       "      <td id=\"T_5ccd4_row2_col4\" class=\"data row2 col4\" >Job12 H</td>\n",
       "      <td id=\"T_5ccd4_row2_col5\" class=\"data row2 col5\" >Job12 H</td>\n",
       "      <td id=\"T_5ccd4_row2_col6\" class=\"data row2 col6\" >Job12 H</td>\n",
       "      <td id=\"T_5ccd4_row2_col7\" class=\"data row2 col7\" >X</td>\n",
       "      <td id=\"T_5ccd4_row2_col8\" class=\"data row2 col8\" >X</td>\n",
       "      <td id=\"T_5ccd4_row2_col9\" class=\"data row2 col9\" >Job12 H</td>\n",
       "      <td id=\"T_5ccd4_row2_col10\" class=\"data row2 col10\" >Job12 H</td>\n",
       "      <td id=\"T_5ccd4_row2_col11\" class=\"data row2 col11\" >Job15 H</td>\n",
       "      <td id=\"T_5ccd4_row2_col12\" class=\"data row2 col12\" >Job15 H</td>\n",
       "      <td id=\"T_5ccd4_row2_col13\" class=\"data row2 col13\" >Job15 H</td>\n",
       "      <td id=\"T_5ccd4_row2_col14\" class=\"data row2 col14\" >Job15 H</td>\n",
       "      <td id=\"T_5ccd4_row2_col15\" class=\"data row2 col15\" >Job9 H</td>\n",
       "      <td id=\"T_5ccd4_row2_col16\" class=\"data row2 col16\" >Job9 H</td>\n",
       "      <td id=\"T_5ccd4_row2_col17\" class=\"data row2 col17\" >Job1 B</td>\n",
       "      <td id=\"T_5ccd4_row2_col18\" class=\"data row2 col18\" >Job1 B</td>\n",
       "      <td id=\"T_5ccd4_row2_col19\" class=\"data row2 col19\" >Job1 B</td>\n",
       "      <td id=\"T_5ccd4_row2_col20\" class=\"data row2 col20\" >Job1 B</td>\n",
       "      <td id=\"T_5ccd4_row2_col21\" class=\"data row2 col21\" >nan</td>\n",
       "    </tr>\n",
       "    <tr>\n",
       "      <th id=\"T_5ccd4_level0_row3\" class=\"row_heading level0 row3\" >Noah</th>\n",
       "      <td id=\"T_5ccd4_row3_col0\" class=\"data row3 col0\" >Job14 G</td>\n",
       "      <td id=\"T_5ccd4_row3_col1\" class=\"data row3 col1\" >Job14 G</td>\n",
       "      <td id=\"T_5ccd4_row3_col2\" class=\"data row3 col2\" >Job14 J</td>\n",
       "      <td id=\"T_5ccd4_row3_col3\" class=\"data row3 col3\" >Job5 D</td>\n",
       "      <td id=\"T_5ccd4_row3_col4\" class=\"data row3 col4\" >Job5 D</td>\n",
       "      <td id=\"T_5ccd4_row3_col5\" class=\"data row3 col5\" >Job14 J</td>\n",
       "      <td id=\"T_5ccd4_row3_col6\" class=\"data row3 col6\" >Job13 I</td>\n",
       "      <td id=\"T_5ccd4_row3_col7\" class=\"data row3 col7\" >Job13 I</td>\n",
       "      <td id=\"T_5ccd4_row3_col8\" class=\"data row3 col8\" >Job15 G</td>\n",
       "      <td id=\"T_5ccd4_row3_col9\" class=\"data row3 col9\" >Job13 I</td>\n",
       "      <td id=\"T_5ccd4_row3_col10\" class=\"data row3 col10\" >Job13 J</td>\n",
       "      <td id=\"T_5ccd4_row3_col11\" class=\"data row3 col11\" >Job13 I</td>\n",
       "      <td id=\"T_5ccd4_row3_col12\" class=\"data row3 col12\" >Job13 J</td>\n",
       "      <td id=\"T_5ccd4_row3_col13\" class=\"data row3 col13\" >Job15 G</td>\n",
       "      <td id=\"T_5ccd4_row3_col14\" class=\"data row3 col14\" >Job15 G</td>\n",
       "      <td id=\"T_5ccd4_row3_col15\" class=\"data row3 col15\" >Job15 G</td>\n",
       "      <td id=\"T_5ccd4_row3_col16\" class=\"data row3 col16\" >Job9 G</td>\n",
       "      <td id=\"T_5ccd4_row3_col17\" class=\"data row3 col17\" >Job9 G</td>\n",
       "      <td id=\"T_5ccd4_row3_col18\" class=\"data row3 col18\" >Job9 G</td>\n",
       "      <td id=\"T_5ccd4_row3_col19\" class=\"data row3 col19\" >Job7 D</td>\n",
       "      <td id=\"T_5ccd4_row3_col20\" class=\"data row3 col20\" >Job7 D</td>\n",
       "      <td id=\"T_5ccd4_row3_col21\" class=\"data row3 col21\" >Job7 D</td>\n",
       "    </tr>\n",
       "    <tr>\n",
       "      <th id=\"T_5ccd4_level0_row4\" class=\"row_heading level0 row4\" >Amelia</th>\n",
       "      <td id=\"T_5ccd4_row4_col0\" class=\"data row4 col0\" >Job14 G</td>\n",
       "      <td id=\"T_5ccd4_row4_col1\" class=\"data row4 col1\" >Job14 J</td>\n",
       "      <td id=\"T_5ccd4_row4_col2\" class=\"data row4 col2\" >Job14 J</td>\n",
       "      <td id=\"T_5ccd4_row4_col3\" class=\"data row4 col3\" >Job12 J</td>\n",
       "      <td id=\"T_5ccd4_row4_col4\" class=\"data row4 col4\" >Job12 J</td>\n",
       "      <td id=\"T_5ccd4_row4_col5\" class=\"data row4 col5\" >Job14 G</td>\n",
       "      <td id=\"T_5ccd4_row4_col6\" class=\"data row4 col6\" >Job13 J</td>\n",
       "      <td id=\"T_5ccd4_row4_col7\" class=\"data row4 col7\" >Job13 J</td>\n",
       "      <td id=\"T_5ccd4_row4_col8\" class=\"data row4 col8\" >Job6 E</td>\n",
       "      <td id=\"T_5ccd4_row4_col9\" class=\"data row4 col9\" >Job12 J</td>\n",
       "      <td id=\"T_5ccd4_row4_col10\" class=\"data row4 col10\" >Job13 J</td>\n",
       "      <td id=\"T_5ccd4_row4_col11\" class=\"data row4 col11\" >Job13 J</td>\n",
       "      <td id=\"T_5ccd4_row4_col12\" class=\"data row4 col12\" >Job13 J</td>\n",
       "      <td id=\"T_5ccd4_row4_col13\" class=\"data row4 col13\" >Job13 J</td>\n",
       "      <td id=\"T_5ccd4_row4_col14\" class=\"data row4 col14\" >X</td>\n",
       "      <td id=\"T_5ccd4_row4_col15\" class=\"data row4 col15\" >X</td>\n",
       "      <td id=\"T_5ccd4_row4_col16\" class=\"data row4 col16\" >Job9 E</td>\n",
       "      <td id=\"T_5ccd4_row4_col17\" class=\"data row4 col17\" >Job9 E</td>\n",
       "      <td id=\"T_5ccd4_row4_col18\" class=\"data row4 col18\" >Job7 E</td>\n",
       "      <td id=\"T_5ccd4_row4_col19\" class=\"data row4 col19\" >Job7 E</td>\n",
       "      <td id=\"T_5ccd4_row4_col20\" class=\"data row4 col20\" >Job7 F</td>\n",
       "      <td id=\"T_5ccd4_row4_col21\" class=\"data row4 col21\" >Job7 E</td>\n",
       "    </tr>\n",
       "  </tbody>\n",
       "</table>\n"
      ],
      "text/plain": [
       "<pandas.io.formats.style.Styler at 0x7fb3091357f0>"
      ]
     },
     "execution_count": 95,
     "metadata": {},
     "output_type": "execute_result"
    }
   ],
   "source": [
    "df = pd.DataFrame(columns = [i for i in range(1,23)], index = staff_names)\n",
    "\n",
    "for ind, val in result.iterrows():\n",
    "    col = val[3]\n",
    "    row = val[0]\n",
    "    v = val[1] + \" \" + val[2]\n",
    "    df.loc[row,col] = v\n",
    "    # vacation\n",
    "    for staff in staff_names:\n",
    "        for day in jour_list:\n",
    "            if day in vi[staff]:\n",
    "                df.loc[staff,day] = 'X'\n",
    "df.style.applymap(color_table)"
   ]
  },
  {
   "cell_type": "code",
   "execution_count": 96,
   "metadata": {},
   "outputs": [
    {
     "data": {
      "text/plain": [
       "{'Job1': <gurobi.Var yj[Job1] (value 1.0)>,\n",
       " 'Job2': <gurobi.Var yj[Job2] (value -0.0)>,\n",
       " 'Job3': <gurobi.Var yj[Job3] (value 1.0)>,\n",
       " 'Job4': <gurobi.Var yj[Job4] (value 1.0)>,\n",
       " 'Job5': <gurobi.Var yj[Job5] (value 1.0)>,\n",
       " 'Job6': <gurobi.Var yj[Job6] (value 1.0)>,\n",
       " 'Job7': <gurobi.Var yj[Job7] (value 1.0)>,\n",
       " 'Job8': <gurobi.Var yj[Job8] (value -0.0)>,\n",
       " 'Job9': <gurobi.Var yj[Job9] (value 1.0)>,\n",
       " 'Job10': <gurobi.Var yj[Job10] (value 0.0)>,\n",
       " 'Job11': <gurobi.Var yj[Job11] (value -0.0)>,\n",
       " 'Job12': <gurobi.Var yj[Job12] (value 1.0)>,\n",
       " 'Job13': <gurobi.Var yj[Job13] (value 1.0)>,\n",
       " 'Job14': <gurobi.Var yj[Job14] (value 1.0)>,\n",
       " 'Job15': <gurobi.Var yj[Job15] (value 1.0)>}"
      ]
     },
     "execution_count": 96,
     "metadata": {},
     "output_type": "execute_result"
    }
   ],
   "source": [
    "yj"
   ]
  },
  {
   "cell_type": "code",
   "execution_count": 17,
   "metadata": {},
   "outputs": [
    {
     "data": {
      "text/plain": [
       "{'Job1': <gurobi.Var sj[Job1] (value 1.0)>,\n",
       " 'Job2': <gurobi.Var sj[Job2] (value 2.0)>,\n",
       " 'Job3': <gurobi.Var sj[Job3] (value 3.0)>,\n",
       " 'Job4': <gurobi.Var sj[Job4] (value 2.0)>,\n",
       " 'Job5': <gurobi.Var sj[Job5] (value 4.0)>}"
      ]
     },
     "execution_count": 17,
     "metadata": {},
     "output_type": "execute_result"
    }
   ],
   "source": [
    "\n",
    "# start date\n",
    "sj"
   ]
  },
  {
   "cell_type": "code",
   "execution_count": 794,
   "metadata": {},
   "outputs": [
    {
     "data": {
      "text/plain": [
       "{'Job1': <gurobi.Var ej[Job1] (value 2.0)>,\n",
       " 'Job2': <gurobi.Var ej[Job2] (value 1.0)>,\n",
       " 'Job3': <gurobi.Var ej[Job3] (value 4.0)>,\n",
       " 'Job4': <gurobi.Var ej[Job4] (value 3.0)>,\n",
       " 'Job5': <gurobi.Var ej[Job5] (value 5.0)>}"
      ]
     },
     "execution_count": 794,
     "metadata": {},
     "output_type": "execute_result"
    }
   ],
   "source": [
    "# end date\n",
    "ej"
   ]
  },
  {
   "cell_type": "code",
   "execution_count": 795,
   "metadata": {},
   "outputs": [
    {
     "data": {
      "text/plain": [
       "{'Job1': <gurobi.Var nj[Job1] (value 2.0)>,\n",
       " 'Job2': <gurobi.Var nj[Job2] (value 2.0)>,\n",
       " 'Job3': <gurobi.Var nj[Job3] (value 2.0)>,\n",
       " 'Job4': <gurobi.Var nj[Job4] (value 2.0)>,\n",
       " 'Job5': <gurobi.Var nj[Job5] (value 2.0)>}"
      ]
     },
     "execution_count": 795,
     "metadata": {},
     "output_type": "execute_result"
    }
   ],
   "source": [
    "# length\n",
    "nj"
   ]
  },
  {
   "cell_type": "code",
   "execution_count": null,
   "metadata": {},
   "outputs": [],
   "source": []
  }
 ],
 "metadata": {
  "kernelspec": {
   "display_name": "Python 3 (ipykernel)",
   "language": "python",
   "name": "python3"
  },
  "language_info": {
   "codemirror_mode": {
    "name": "ipython",
    "version": 3
   },
   "file_extension": ".py",
   "mimetype": "text/x-python",
   "name": "python",
   "nbconvert_exporter": "python",
   "pygments_lexer": "ipython3",
   "version": "3.9.7"
  },
  "vscode": {
   "interpreter": {
    "hash": "992fe7c5fc85bbb99cdbb1a7127f4f04531c143f133625dff1af063a39de0f81"
   }
  }
 },
 "nbformat": 4,
 "nbformat_minor": 2
}
